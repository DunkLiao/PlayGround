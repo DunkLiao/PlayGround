{
 "cells": [
  {
   "cell_type": "markdown",
   "metadata": {},
   "source": [
    "<img src=\"http://2.bp.blogspot.com/-H2m-BFydExw/Wkc9gJQE8GI/AAAAAAAAcZI/pJhLUIEj9zMe2fmVsQuK2UWFbrVagaongCK4BGAYYCw/s0/%25E6%2588%2590%25E5%258A%259F%25E9%2581%258E%25E7%25A8%258B.png\"\n",
    "style=\"width:100px;height:100px;float:left\"><br/><br/><br/><br/><br/>  \n",
    "### 專案名稱: python測試  \n",
    "### 功能描述: 字典測試\n",
    "### 版權所有: Dunk  \n",
    "### 程式撰寫: Dunk  \n",
    "### 參考網址: https://www.runoob.com/python3/python3-dictionary.html\n",
    "### 撰寫日期：2020/02/18\n",
    "### 改版日期:  \n",
    "### 改版備註:  "
   ]
  },
  {
   "cell_type": "code",
   "execution_count": 4,
   "metadata": {},
   "outputs": [
    {
     "name": "stdout",
     "output_type": "stream",
     "text": [
      "{'name': ['jack', 'lou', 'alice'], 'salary': [10000, 3000, 5000]}\n",
      "['jack', 'lou', 'alice']\n",
      "[10000, 3000, 5000]\n",
      "{98.6: 37, 'abc': 123}\n"
     ]
    }
   ],
   "source": [
    "'''測試字典'''\n",
    "import pprint\n",
    "my_dic = {'name':['jack','lou','alice'],'salary':[10000,3000,5000]}\n",
    "pprint.pprint(my_dic)\n",
    "#取欄位值\n",
    "pprint.pprint(my_dic['name'])\n",
    "pprint.pprint(my_dic['salary'])\n",
    "dict1 = { 'abc': 456 }\n",
    "dict2 = { 'abc': 123, 98.6: 37 }\n",
    "pprint.pprint(dict2)"
   ]
  },
  {
   "cell_type": "code",
   "execution_count": 7,
   "metadata": {},
   "outputs": [
    {
     "name": "stdout",
     "output_type": "stream",
     "text": [
      "發生異常\n",
      "('nickname',)\n"
     ]
    }
   ],
   "source": [
    "'''尋找不到key值會發生錯誤'''\n",
    "my_dic = {'name':['jack','lou','alice'],'salary':[10000,3000,5000]}\n",
    "try:\n",
    "    pprint.pprint(my_dic['nickname'])\n",
    "except KeyError as e:\n",
    "    print('發生異常')\n",
    "    print(e.args)    "
   ]
  },
  {
   "cell_type": "code",
   "execution_count": 20,
   "metadata": {},
   "outputs": [
    {
     "name": "stdout",
     "output_type": "stream",
     "text": [
      "['jack', 'lou', 'alice', 'micky']\n",
      "[10000, 3000, 5000, 12000]\n",
      "{'salary': [10000, 3000, 5000, 12000]}\n",
      "{}\n",
      "{}\n",
      "發生錯誤!(\"name 'my_dic' is not defined\",)\n"
     ]
    }
   ],
   "source": [
    "'''修改字典'''\n",
    "my_dic = {'name':['jack','lou','alice'],'salary':[10000,3000,5000]}\n",
    " \n",
    "my_dic['name'] = ['jack','lou','alice','micky']\n",
    "my_dic['salary'] = [10000,3000,5000,12000]\n",
    "pprint.pprint(my_dic['name'])\n",
    "pprint.pprint(my_dic['salary'])\n",
    "#刪除指定key值(欄位)\n",
    "my_dic.pop('name',my_dic)\n",
    "my_dic.pop('name2',my_dic)\n",
    "pprint.pprint(my_dic)\n",
    "#刪除欄位\n",
    "del my_dic['salary']\n",
    "pprint.pprint(my_dic)\n",
    "#清空\n",
    "my_dic.clear()\n",
    "pprint.pprint(my_dic)\n",
    "#刪除字典\n",
    "del my_dic\n",
    "try:    \n",
    "    pprint.pprint(my_dic)\n",
    "except NameError as e:\n",
    "    print('發生錯誤!{0}'.format(e.args))\n"
   ]
  }
 ],
 "metadata": {
  "kernelspec": {
   "display_name": "Python 3",
   "language": "python",
   "name": "python3"
  },
  "language_info": {
   "codemirror_mode": {
    "name": "ipython",
    "version": 3
   },
   "file_extension": ".py",
   "mimetype": "text/x-python",
   "name": "python",
   "nbconvert_exporter": "python",
   "pygments_lexer": "ipython3",
   "version": "3.5.4"
  }
 },
 "nbformat": 4,
 "nbformat_minor": 2
}
