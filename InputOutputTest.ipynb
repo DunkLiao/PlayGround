{
 "cells": [
  {
   "cell_type": "markdown",
   "metadata": {},
   "source": [
    "<img src=\"http://2.bp.blogspot.com/-H2m-BFydExw/Wkc9gJQE8GI/AAAAAAAAcZI/pJhLUIEj9zMe2fmVsQuK2UWFbrVagaongCK4BGAYYCw/s0/%25E6%2588%2590%25E5%258A%259F%25E9%2581%258E%25E7%25A8%258B.png\"\n",
    "style=\"width:100px;height:100px;float:left\"><br/><br/><br/><br/><br/>  \n",
    "### 專案名稱: python測試  \n",
    "### 功能描述: 輸入輸出測試\n",
    "### 版權所有: Dunk  \n",
    "### 程式撰寫: Dunk  \n",
    "### 參考網址: https://www.runoob.com/python3/python3-inputoutput.html\n",
    "### 撰寫日期：2020/02/19\n",
    "### 改版日期:  \n",
    "### 改版備註:  "
   ]
  },
  {
   "cell_type": "markdown",
   "metadata": {},
   "source": [
    "Python两种输出值的方式: 表达式语句和 print() 函数。\n",
    "\n",
    "第三种方式是使用文件对象的 write() 方法，标准输出文件可以用 sys.stdout 引用。\n",
    "\n",
    "如果你希望输出的形式更加多样，可以使用 str.format() 函数来格式化输出值。\n",
    "\n",
    "如果你希望将输出的值转成字符串，可以使用 repr() 或 str() 函数来实现。\n",
    "\n",
    "str()： 函数返回一个用户易读的表达形式。\n",
    "repr()： 产生一个解释器易读的表达形式。"
   ]
  },
  {
   "cell_type": "code",
   "execution_count": 8,
   "metadata": {},
   "outputs": [
    {
     "name": "stdout",
     "output_type": "stream",
     "text": [
      "Hello World\n",
      "'Hello World'\n",
      "{'name': 'Jack', 'age': 40}\n",
      " 1   1    1\n",
      " 2   4    8\n",
      " 3   9   27\n",
      " 4  16   64\n",
      " 5  25  125\n",
      " 6  36  216\n",
      " 7  49  343\n",
      " 8  64  512\n",
      " 9  81  729\n",
      "10 100 1000\n"
     ]
    }
   ],
   "source": [
    "'''測試輸入輸出'''\n",
    "test_str = 'Hello World'\n",
    "print(str(test_str))\n",
    "print(repr(test_str))\n",
    "print(repr(dict(name='Jack',age=40)))\n",
    "#指定格式\n",
    "for x in range(1, 11):\n",
    "    print('{0:2d} {1:3d} {2:4d}'.format(x, x*x, x*x*x))"
   ]
  },
  {
   "cell_type": "code",
   "execution_count": 16,
   "metadata": {},
   "outputs": [
    {
     "name": "stdout",
     "output_type": "stream",
     "text": [
      "00123\n",
      "123456\n",
      "  123\n",
      "123  \n",
      " 123 \n"
     ]
    }
   ],
   "source": [
    "'''字元填補'''\n",
    "#左側補零\n",
    "print('123'.zfill(5))\n",
    "#超過指定長度時會回傳原字串\n",
    "print('123456'.zfill(5))\n",
    "\n",
    "#左補空白\n",
    "print('123'.rjust(5))\n",
    "#右補空白\n",
    "print('123'.ljust(5))\n",
    "#置中，左右補空白\n",
    "print('123'.center(5))"
   ]
  },
  {
   "cell_type": "code",
   "execution_count": 19,
   "metadata": {},
   "outputs": [
    {
     "name": "stdout",
     "output_type": "stream",
     "text": [
      "菜鸟教程： \"www.runoob.com!\"\n",
      "菜鸟教程网址： www.runoob.com\n",
      "站点列表 Google, Runoob, 和 Taobao。\n"
     ]
    }
   ],
   "source": [
    "'''format'''\n",
    "print('{}： \"{}!\"'.format('菜鸟教程', 'www.runoob.com'))\n",
    "#指定欄位名稱\n",
    "print('{name}网址： {site}'.format(name='菜鸟教程', site='www.runoob.com'))\n",
    "#位置與欄位混合使用\n",
    "print('站点列表 {0}, {1}, 和 {other}。'.format('Google', 'Runoob', other='Taobao'))"
   ]
  },
  {
   "cell_type": "code",
   "execution_count": 34,
   "metadata": {},
   "outputs": [
    {
     "name": "stdout",
     "output_type": "stream",
     "text": [
      "3.141592653589793\n",
      "3.141592653589793\n",
      "3.142\n",
      "Taobao     ==>          3\n",
      "Taobao     ==>          3\n",
      "Taobao     ==> !!!!!!!!!3\n",
      "Taobao     ==> 3         \n",
      "Taobao     ==> 3@@@@@@@@@\n",
      "Taobao     ==>     3     \n",
      "Taobao     ==> %%%%3%%%%%\n",
      "Google     ==>          1\n",
      "Google     ==>          1\n",
      "Google     ==> !!!!!!!!!1\n",
      "Google     ==> 1         \n",
      "Google     ==> 1@@@@@@@@@\n",
      "Google     ==>     1     \n",
      "Google     ==> %%%%1%%%%%\n",
      "Runoob     ==>          2\n",
      "Runoob     ==>          2\n",
      "Runoob     ==> !!!!!!!!!2\n",
      "Runoob     ==> 2         \n",
      "Runoob     ==> 2@@@@@@@@@\n",
      "Runoob     ==>     2     \n",
      "Runoob     ==> %%%%2%%%%%\n",
      "Runoob: 2; Google: 1; Taobao: 3\n",
      "Runoob: 2; Google: 1; Taobao: 3\n"
     ]
    }
   ],
   "source": [
    "'''format續'''\n",
    "# a (使用 ascii()), !s (使用 str()) 和 !r (使用 repr()) 可以用于在格式化某个值之前对其进行转化:\n",
    "import math\n",
    "print('{}'.format(math.pi))\n",
    "print('{!r}'.format(math.pi))\n",
    "#設定格式\n",
    "print('{:.3f}'.format(math.pi))\n",
    "# 在 : 后传入一个整数, 可以保证该域至少有这么多的宽度。 用于美化表格时很有用。\n",
    "table = {'Google': 1, 'Runoob': 2, 'Taobao': 3}\n",
    "\n",
    "for name, number in table.items():\n",
    "    #預設左靠\n",
    "    print('{0:10} ==> {1:10d}'.format(name, number))\n",
    "    #左靠\n",
    "    print('{0:10} ==> {1:>10d}'.format(name, number))\n",
    "    #左靠補符號\n",
    "    print('{0:10} ==> {1:!>10d}'.format(name, number))\n",
    "    #右靠\n",
    "    print('{0:10} ==> {1:<10d}'.format(name, number))\n",
    "    #右靠補符號\n",
    "    print('{0:10} ==> {1:@<10d}'.format(name, number))\n",
    "    #置中\n",
    "    print('{0:10} ==> {1:^10d}'.format(name, number))\n",
    "    #置中補符號\n",
    "    print('{0:10} ==> {1:%^10d}'.format(name, number))\n",
    "\n",
    "# 如果你有一个很长的格式化字符串, 而你不想将它们分开, 那么在格式化时通过变量名而非位置会是很好的事情。\n",
    "# 最简单的就是传入一个字典, 然后使用方括号 [] 来访问键值 :\n",
    "table = {'Google': 1, 'Runoob': 2, 'Taobao': 3}\n",
    "print('Runoob: {0[Runoob]:d}; Google: {0[Google]:d}; Taobao: {0[Taobao]:d}'.format(table))\n",
    "print('Runoob: {Runoob:d}; Google: {Google:d}; Taobao: {Taobao:d}'.format(**table))    "
   ]
  },
  {
   "cell_type": "code",
   "execution_count": 35,
   "metadata": {},
   "outputs": [
    {
     "name": "stdout",
     "output_type": "stream",
     "text": [
      "常量 PI 的值近似为：3.142。\n"
     ]
    }
   ],
   "source": [
    "'''舊格式化寫法'''\n",
    "import math\n",
    "print('常量 PI 的值近似为：%5.3f。' % math.pi)"
   ]
  },
  {
   "cell_type": "code",
   "execution_count": 36,
   "metadata": {},
   "outputs": [
    {
     "name": "stdout",
     "output_type": "stream",
     "text": [
      "請輸入：abc\n",
      "你輸入的內容是:  abc\n"
     ]
    }
   ],
   "source": [
    "'''讀取鍵盤輸入'''\n",
    "str = input(\"請輸入：\");\n",
    "print (\"你輸入的內容是: \", str)"
   ]
  },
  {
   "cell_type": "markdown",
   "metadata": {},
   "source": [
    "<p><h1>讀寫文件</h1></p>\n",
    "<img src=\"https://www.runoob.com/wp-content/uploads/2013/11/2112205-861c05b2bdbc9c28.png\"/>\n",
    "<table class=\"reference\">\n",
    "<thead>\n",
    "<tr>\n",
    "<th style=\"text-align:center\">模式</th>\n",
    "<th style=\"text-align:center\">r</th>\n",
    "<th style=\"text-align:center\">r+</th>\n",
    "<th style=\"text-align:center\">w</th>\n",
    "<th style=\"text-align:center\">w+</th>\n",
    "<th style=\"text-align:center\">a</th>\n",
    "<th style=\"text-align:center\">a+</th>\n",
    "</tr>\n",
    "</thead>\n",
    "<tbody>\n",
    "<tr>\n",
    "<td style=\"text-align:center\">读</td>\n",
    "<td style=\"text-align:center\">+</td>\n",
    "<td style=\"text-align:center\">+</td>\n",
    "<td style=\"text-align:center\"></td>\n",
    "<td style=\"text-align:center\">+</td>\n",
    "<td style=\"text-align:center\"></td>\n",
    "<td style=\"text-align:center\">+</td>\n",
    "</tr>\n",
    "<tr>\n",
    "<td style=\"text-align:center\">写</td>\n",
    "<td style=\"text-align:center\"></td>\n",
    "<td style=\"text-align:center\">+</td>\n",
    "<td style=\"text-align:center\">+</td>\n",
    "<td style=\"text-align:center\">+</td>\n",
    "<td style=\"text-align:center\">+</td>\n",
    "<td style=\"text-align:center\">+</td>\n",
    "</tr>\n",
    "<tr>\n",
    "<td style=\"text-align:center\">创建</td>\n",
    "<td style=\"text-align:center\"></td>\n",
    "<td style=\"text-align:center\"></td>\n",
    "<td style=\"text-align:center\">+</td>\n",
    "<td style=\"text-align:center\">+</td>\n",
    "<td style=\"text-align:center\">+</td>\n",
    "<td style=\"text-align:center\">+</td>\n",
    "</tr>\n",
    "<tr>\n",
    "<td style=\"text-align:center\">覆盖</td>\n",
    "<td style=\"text-align:center\"></td>\n",
    "<td style=\"text-align:center\"></td>\n",
    "<td style=\"text-align:center\">+</td>\n",
    "<td style=\"text-align:center\">+</td>\n",
    "<td style=\"text-align:center\"></td>\n",
    "<td style=\"text-align:center\"></td>\n",
    "</tr>\n",
    "<tr>\n",
    "<td style=\"text-align:center\">指针在开始</td>\n",
    "<td style=\"text-align:center\">+</td>\n",
    "<td style=\"text-align:center\">+</td>\n",
    "<td style=\"text-align:center\">+</td>\n",
    "<td style=\"text-align:center\">+</td>\n",
    "<td style=\"text-align:center\"></td>\n",
    "<td style=\"text-align:center\"></td>\n",
    "</tr>\n",
    "<tr>\n",
    "<td style=\"text-align:center\">指针在结尾</td>\n",
    "<td style=\"text-align:center\"></td>\n",
    "<td style=\"text-align:center\"></td>\n",
    "<td style=\"text-align:center\"></td>\n",
    "<td style=\"text-align:center\"></td>\n",
    "<td style=\"text-align:center\">+</td>\n",
    "<td style=\"text-align:center\">+</td>\n",
    "</tr>\n",
    "</tbody>\n",
    "</table>"
   ]
  },
  {
   "cell_type": "code",
   "execution_count": 68,
   "metadata": {},
   "outputs": [
    {
     "name": "stdout",
     "output_type": "stream",
     "text": [
      "這是測試文件\n",
      "這是第二行\n",
      "---------------------\n",
      "這是測試文件\n",
      "\n",
      "['這是測試文件\\n', '這是第二行']\n",
      "5\n",
      "b'5'\n",
      "13\n",
      "b'd'\n",
      "14\n"
     ]
    }
   ],
   "source": [
    "'''讀寫檔測試'''\n",
    "test_path = r\"D:\\foo.txt\"\n",
    "#寫檔\n",
    "with open(test_path, \"w\") as f :\n",
    "    f.write( \"這是測試文件\\n這是第二行\" )    \n",
    "    f.close()\n",
    "    \n",
    "#讀取文檔\n",
    "with open(test_path, \"r\") as f:\n",
    "    str = f.read()\n",
    "    print(str)\n",
    "\n",
    "print('---------------------')\n",
    "\n",
    "#讀取一行\n",
    "with open(test_path, \"r\") as f:    \n",
    "    #讀一行\n",
    "    str = f.readline()\n",
    "    print(str)\n",
    "\n",
    "#讀取多行\n",
    "with open(test_path, \"r\") as f:    \n",
    "    print(f.readlines())\n",
    "\n",
    "#移動指針(seek)\n",
    "f = open(r\"D:\\foo2.txt\", 'wb+')\n",
    "f.write(b'0123456789abcdef')\n",
    "print(f.seek(5))\n",
    "print(f.read(1))\n",
    "# 移动到文件的倒数第三字节\n",
    "print(f.seek(-3, 2))\n",
    "print(f.read(1))\n",
    "#列出目前指針位置\n",
    "print(f.tell())\n",
    "f.close()"
   ]
  },
  {
   "cell_type": "code",
   "execution_count": 76,
   "metadata": {},
   "outputs": [],
   "source": [
    "# pickle 模块\n",
    "# python的pickle模块实现了基本的数据序列和反序列化。\n",
    "# 通过pickle模块的序列化操作我们能够将程序中运行的对象信息保存到文件中去，永久存储。\n",
    "# 通过pickle模块的反序列化操作，我们能够从文件中创建上一次程序保存的对象。\n",
    "import pickle\n",
    "\n",
    "# 使用pickle模块将数据对象保存到文件\n",
    "data1 = {'a': [1, 2.0, 3, 4+6j],\n",
    "         'b': ('string', u'Unicode string'),\n",
    "         'c': None}\n",
    "\n",
    "selfref_list = [1, 2, 3]\n",
    "selfref_list.append(selfref_list)\n",
    "\n",
    "output = open('data.pkl', 'wb')\n",
    "\n",
    "# Pickle dictionary using protocol 0.\n",
    "pickle.dump(data1, output)\n",
    "\n",
    "# Pickle the list using the highest protocol available.\n",
    "pickle.dump(selfref_list, output, -1)\n",
    "\n",
    "output.close()"
   ]
  },
  {
   "cell_type": "code",
   "execution_count": 77,
   "metadata": {},
   "outputs": [
    {
     "name": "stdout",
     "output_type": "stream",
     "text": [
      "{'a': [1, 2.0, 3, (4+6j)], 'b': ('string', 'Unicode string'), 'c': None}\n",
      "[1, 2, 3, <Recursion on list with id=140301704>]\n"
     ]
    }
   ],
   "source": [
    "import pprint, pickle\n",
    "#使用pickle模块从文件中重构python对象\n",
    "pkl_file = open('data.pkl', 'rb')\n",
    "\n",
    "data1 = pickle.load(pkl_file)\n",
    "pprint.pprint(data1)\n",
    "\n",
    "data2 = pickle.load(pkl_file)\n",
    "pprint.pprint(data2)\n",
    "\n",
    "pkl_file.close()"
   ]
  }
 ],
 "metadata": {
  "kernelspec": {
   "display_name": "Python 3",
   "language": "python",
   "name": "python3"
  },
  "language_info": {
   "codemirror_mode": {
    "name": "ipython",
    "version": 3
   },
   "file_extension": ".py",
   "mimetype": "text/x-python",
   "name": "python",
   "nbconvert_exporter": "python",
   "pygments_lexer": "ipython3",
   "version": "3.5.4"
  }
 },
 "nbformat": 4,
 "nbformat_minor": 2
}
