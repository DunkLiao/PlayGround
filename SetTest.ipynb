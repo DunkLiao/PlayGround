{
 "cells": [
  {
   "cell_type": "markdown",
   "metadata": {},
   "source": [
    "<img src=\"http://2.bp.blogspot.com/-H2m-BFydExw/Wkc9gJQE8GI/AAAAAAAAcZI/pJhLUIEj9zMe2fmVsQuK2UWFbrVagaongCK4BGAYYCw/s0/%25E6%2588%2590%25E5%258A%259F%25E9%2581%258E%25E7%25A8%258B.png\"\n",
    "style=\"width:100px;height:100px;float:left\"><br/><br/><br/><br/><br/>  \n",
    "### 專案名稱: python測試  \n",
    "### 功能描述: 集合測試\n",
    "### 版權所有: Dunk  \n",
    "### 程式撰寫: Dunk  \n",
    "### 參考網址: https://www.runoob.com/python3/python3-set.html\n",
    "### 撰寫日期：2020/02/18\n",
    "### 改版日期:  \n",
    "### 改版備註:  "
   ]
  },
  {
   "cell_type": "code",
   "execution_count": 13,
   "metadata": {},
   "outputs": [
    {
     "name": "stdout",
     "output_type": "stream",
     "text": [
      "{'apple', 'orange', 'banana', 'pear'}\n",
      "False\n",
      "True\n",
      "{'apple', 'orange', 'banana', 1, 'pear'}\n",
      "{1, 'pear', 2, 3, 4, 'apple', 'banana', 'orange'}\n",
      "發生錯誤!('apple2',)\n",
      "{1, 'pear', 2, 3, 4, 'banana', 'orange'}\n",
      "{1, 'pear', 2, 3, 4, 'banana', 'orange'}\n",
      "7\n"
     ]
    }
   ],
   "source": [
    "# 集合（set）是一个无序的不重复元素序列。\n",
    "# 可以使用大括号 { } 或者 set() 函数创建集合，注意：创建一个空集合必须用 set() 而不是 { }，因为 { } 是用来创建一个空字典。\n",
    "# 创建格式：\n",
    "# parame = {value01,value02,...}\n",
    "# 或者\n",
    "# set(value)\n",
    "asket = {'apple', 'orange', 'apple', 'pear', 'orange', 'banana'}\n",
    "print(asket)\n",
    "\n",
    "#判斷是否在集合\n",
    "print('appli' in asket)\n",
    "print('apple' in asket)\n",
    "\n",
    "#添加\n",
    "asket.add(1)\n",
    "print(asket)\n",
    "#update也可以添加元素，且参数可以是列表，元组，字典等，语法格式如下：\n",
    "asket.update({2,3,4})\n",
    "print(asket)\n",
    "\n",
    "#移除元素\n",
    "#不存在會發生錯誤\n",
    "try:\n",
    "    asket.remove(\"apple\")\n",
    "    asket.remove(\"apple2\")\n",
    "except KeyError as e:\n",
    "    print(\"發生錯誤!{0}\".format(e.args))\n",
    "print(asket)\n",
    "#不存在不會發生錯誤\n",
    "asket.discard(\"apple3\")\n",
    "print(asket)\n",
    "\n",
    "#計算長度\n",
    "print(len(asket))"
   ]
  }
 ],
 "metadata": {
  "kernelspec": {
   "display_name": "Python 3",
   "language": "python",
   "name": "python3"
  },
  "language_info": {
   "codemirror_mode": {
    "name": "ipython",
    "version": 3
   },
   "file_extension": ".py",
   "mimetype": "text/x-python",
   "name": "python",
   "nbconvert_exporter": "python",
   "pygments_lexer": "ipython3",
   "version": "3.5.4"
  }
 },
 "nbformat": 4,
 "nbformat_minor": 2
}
