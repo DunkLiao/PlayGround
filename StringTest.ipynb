{
 "cells": [
  {
   "cell_type": "markdown",
   "metadata": {},
   "source": [
    "<img src=\"http://2.bp.blogspot.com/-H2m-BFydExw/Wkc9gJQE8GI/AAAAAAAAcZI/pJhLUIEj9zMe2fmVsQuK2UWFbrVagaongCK4BGAYYCw/s0/%25E6%2588%2590%25E5%258A%259F%25E9%2581%258E%25E7%25A8%258B.png\"\n",
    "style=\"width:100px;height:100px;float:left\"><br/><br/><br/><br/><br/>  \n",
    "### 專案名稱: python測試  \n",
    "### 功能描述: 字串測試\n",
    "### 版權所有: Dunk  \n",
    "### 程式撰寫: Dunk  \n",
    "### 參考網址: https://www.runoob.com/python3/python3-string.html\n",
    "### 撰寫日期：2020/02/17\n",
    "### 改版日期:  \n",
    "### 改版備註:  "
   ]
  },
  {
   "cell_type": "code",
   "execution_count": 7,
   "metadata": {},
   "outputs": [
    {
     "name": "stdout",
     "output_type": "stream",
     "text": [
      "e\n",
      "nasuS\n",
      "My word Hello\n"
     ]
    }
   ],
   "source": [
    "'''字串測試'''\n",
    "var1 = \"Hello World\"\n",
    "var2 = \"Susan\"\n",
    "print(var1[1])\n",
    "#倒序\n",
    "print(var2[-1::-1])\n",
    "#串接\n",
    "print(\"My word \"+var1[:5])"
   ]
  },
  {
   "cell_type": "code",
   "execution_count": 8,
   "metadata": {},
   "outputs": [
    {
     "name": "stdout",
     "output_type": "stream",
     "text": [
      "a + b 输出结果： HelloPython\n",
      "a * 2 输出结果： HelloHello\n",
      "a[1] 输出结果： e\n",
      "a[1:4] 输出结果： ell\n",
      "H 在变量 a 中\n",
      "M 不在变量 a 中\n",
      "\\n\n",
      "\\n\n"
     ]
    }
   ],
   "source": [
    "a = \"Hello\"\n",
    "b = \"Python\"\n",
    " \n",
    "print(\"a + b 输出结果：\", a + b)\n",
    "print(\"a * 2 输出结果：\", a * 2)\n",
    "print(\"a[1] 输出结果：\", a[1])\n",
    "print(\"a[1:4] 输出结果：\", a[1:4])\n",
    " \n",
    "if( \"H\" in a) :\n",
    "    print(\"H 在变量 a 中\")\n",
    "else :\n",
    "    print(\"H 不在变量 a 中\")\n",
    " \n",
    "if( \"M\" not in a) :\n",
    "    print(\"M 不在变量 a 中\")\n",
    "else :\n",
    "    print(\"M 在变量 a 中\")\n",
    " \n",
    "print (r'\\n')\n",
    "print (R'\\n')"
   ]
  },
  {
   "cell_type": "code",
   "execution_count": 15,
   "metadata": {},
   "outputs": [
    {
     "name": "stdout",
     "output_type": "stream",
     "text": [
      "我是Lin，今年10歲\n",
      " 我是誰\t\n",
      "你好\n",
      "這是我\n",
      "\n"
     ]
    }
   ],
   "source": [
    "'''格式化'''\n",
    "print('我是%s，今年%d歲' %('Lin',10))\n",
    "#跨行字串\n",
    "test_str = \"\"\" 我是誰\\t\n",
    "你好\n",
    "這是我\n",
    "\"\"\"\n",
    "print(test_str)"
   ]
  },
  {
   "cell_type": "code",
   "execution_count": 27,
   "metadata": {},
   "outputs": [
    {
     "name": "stdout",
     "output_type": "stream",
     "text": [
      "Jean is my name\n",
      "i like jean\n",
      "my twiter is jacky666\n",
      "MY ROLE                       \n",
      "                       MY ROLE\n",
      "           MY ROLE            \n",
      "MY ROLE-----------------------\n",
      "-----------------------MY ROLE\n",
      "-----------MY ROLE------------\n"
     ]
    }
   ],
   "source": [
    "'''f-string'''\n",
    "# name = 'Runoob'\n",
    "# print(f'Hello {name}')\n",
    "# x = 1\n",
    "# print(f'{x+1=}')\n",
    "# w = {'name': 'Runoob', 'url': 'www.runoob.com'}\n",
    "# print(f'{w[\"name\"]}: {w[\"url\"]}')\n",
    "# '''format'''\n",
    "print('{name} is my name'.format(name='Jean'))\n",
    "#用陣列及字典\n",
    "WORDS = ['mick', 'jean', 'twice']\n",
    "print('i like {0[1]}'.format(WORDS))\n",
    "PERSON = {'name':'jacky', 'twitter':'jacky666'}\n",
    "print('my twiter is {person[twitter]}'.format(person=PERSON))\n",
    "#靠齊\n",
    "TEST_STR = 'MY ROLE'\n",
    "print('{:<30}'.format(TEST_STR))\n",
    "print('{:>30}'.format(TEST_STR))\n",
    "print('{:^30}'.format(TEST_STR))\n",
    "print('{:-<30}'.format(TEST_STR))\n",
    "print('{:->30}'.format(TEST_STR))\n",
    "print('{:-^30}'.format(TEST_STR))"
   ]
  },
  {
   "cell_type": "code",
   "execution_count": 19,
   "metadata": {},
   "outputs": [
    {
     "name": "stdout",
     "output_type": "stream",
     "text": [
      "C:\\Users\\134719.EIP\\Desktop\\BS.xls\n",
      "aba\n"
     ]
    }
   ],
   "source": [
    "#檔案路徑前面要加r\n",
    "work_book_path = r'C:\\Users\\134719.EIP\\Desktop\\BS.xls'\n",
    "print(work_book_path)\n",
    "#u表示unicode\n",
    "aa = u'aba'\n",
    "print(aa)"
   ]
  }
 ],
 "metadata": {
  "kernelspec": {
   "display_name": "Python 3",
   "language": "python",
   "name": "python3"
  },
  "language_info": {
   "codemirror_mode": {
    "name": "ipython",
    "version": 3
   },
   "file_extension": ".py",
   "mimetype": "text/x-python",
   "name": "python",
   "nbconvert_exporter": "python",
   "pygments_lexer": "ipython3",
   "version": "3.5.4"
  }
 },
 "nbformat": 4,
 "nbformat_minor": 2
}
