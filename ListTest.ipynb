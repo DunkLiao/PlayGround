{
 "cells": [
  {
   "cell_type": "markdown",
   "metadata": {},
   "source": [
    "<img src=\"http://2.bp.blogspot.com/-H2m-BFydExw/Wkc9gJQE8GI/AAAAAAAAcZI/pJhLUIEj9zMe2fmVsQuK2UWFbrVagaongCK4BGAYYCw/s0/%25E6%2588%2590%25E5%258A%259F%25E9%2581%258E%25E7%25A8%258B.png\"\n",
    "style=\"width:100px;height:100px;float:left\"><br/><br/><br/><br/><br/>  \n",
    "### 專案名稱: python測試  \n",
    "### 功能描述: 列表測試\n",
    "### 版權所有: Dunk  \n",
    "### 程式撰寫: Dunk  \n",
    "### 參考網址: https://www.runoob.com/python3/python3-list.html\n",
    "### 撰寫日期：2020/02/17\n",
    "### 改版日期:  \n",
    "### 改版備註:  "
   ]
  },
  {
   "cell_type": "markdown",
   "metadata": {},
   "source": [
    "<h2>Python列表函数&方法</h2>\n",
    "<p>Python包含以下函数:</p>\n",
    "<table class=\"reference\">\n",
    "<tbody><tr>\n",
    "<th style=\"width:5%\">序号</th><th style=\"width:95%\">函数</th></tr>\n",
    "\n",
    "<tr><td>1</td><td>len(list)<br>列表元素个数</td></tr>\n",
    "<tr><td>2</td><td>max(list)<br>返回列表元素最大值</td></tr>\n",
    "<tr><td>3</td><td>min(list)<br>返回列表元素最小值</td></tr>\n",
    "<tr><td>4</td><td>list(seq)<br>将元组转换为列表</td></tr>\n",
    "</tbody></table>\n",
    "<p>Python包含以下方法:</p>\n",
    "<table class=\"reference\">\n",
    "<tbody><tr>\n",
    "<th style=\"width:5%\">序号</th><th style=\"width:95%\">方法</th></tr>\n",
    "<tr><td>1</td><td>list.append(obj)<br>在列表末尾添加新的对象</td></tr>\n",
    "<tr><td>2</td><td>list.count(obj)<br>统计某个元素在列表中出现的次数</td></tr>\n",
    "<tr><td>3</td><td>list.extend(seq)<br>在列表末尾一次性追加另一个序列中的多个值（用新列表扩展原来的列表）</td></tr>\n",
    "<tr><td>4</td><td>list.index(obj)<br>从列表中找出某个值第一个匹配项的索引位置</td></tr>\n",
    "<tr><td>5</td><td>list.insert(index, obj)<br>将对象插入列表</td></tr>\n",
    "<tr><td>6</td><td>list.pop([index=-1])<br>移除列表中的一个元素（默认最后一个元素），并且返回该元素的值</td></tr>\n",
    "<tr><td>7</td><td>list.remove(obj)<br>移除列表中某个值的第一个匹配项</td></tr>\n",
    "<tr><td>8</td><td>list.reverse()<br>反向列表中元素</td></tr>\n",
    "<tr><td>9</td><td>\tlist.sort( key=None, reverse=False)<br>对原列表进行排序</td></tr>\n",
    "<tr><td>10</td><td>list.clear()<br>清空列表</td></tr>\n",
    "<tr><td>11</td><td>list.copy()<br>复制列表</td></tr>\n",
    "</tbody></table>\t"
   ]
  },
  {
   "cell_type": "code",
   "execution_count": 3,
   "metadata": {},
   "outputs": [
    {
     "name": "stdout",
     "output_type": "stream",
     "text": [
      "list1[0]:  1\n",
      "list2[1:5]:  ['b', 'c', 'd', 'e']\n"
     ]
    }
   ],
   "source": [
    "'''測試列表'''\n",
    "list1 = [1,2,3,4,5]\n",
    "list2 = ['a','b','c','d','e']\n",
    "print (\"list1[0]: \", list1[0])\n",
    "print (\"list2[1:5]: \", list2[1:5])"
   ]
  },
  {
   "cell_type": "code",
   "execution_count": 7,
   "metadata": {},
   "outputs": [
    {
     "name": "stdout",
     "output_type": "stream",
     "text": [
      "['a', 'b', 'c', 'd', 'e']\n",
      "['a', 'b', 'c', 'z', 'e']\n",
      "['a', 'b', 'c', 'e']\n",
      "1 2 3 ['jack', 'jean', 'derick']\n",
      "[['a', 'b', 'c', 'd', 'e'], ['jack', 'jean', 'derick']]\n"
     ]
    }
   ],
   "source": [
    "'''更新資料'''\n",
    "list2 = ['a','b','c','d','e']\n",
    "print(list2)\n",
    "list2[3] = \"z\"\n",
    "print(list2)\n",
    "#刪除元素\n",
    "del list2[3]\n",
    "print(list2)\n",
    "#跌代\n",
    "for x in [1, 2, 3]: \n",
    "    print(x, end=\" \")\n",
    "    \n",
    "# 嵌套列表\n",
    "list2 = ['a','b','c','d','e']\n",
    "list3 = ['jack','jean','derick']\n",
    "list4 = [list2,list3]\n",
    "print(list3)\n",
    "print(list4)"
   ]
  }
 ],
 "metadata": {
  "kernelspec": {
   "display_name": "Python 3",
   "language": "python",
   "name": "python3"
  },
  "language_info": {
   "codemirror_mode": {
    "name": "ipython",
    "version": 3
   },
   "file_extension": ".py",
   "mimetype": "text/x-python",
   "name": "python",
   "nbconvert_exporter": "python",
   "pygments_lexer": "ipython3",
   "version": "3.5.4"
  }
 },
 "nbformat": 4,
 "nbformat_minor": 2
}
