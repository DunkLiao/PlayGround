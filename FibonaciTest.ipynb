{
 "cells": [
  {
   "cell_type": "markdown",
   "metadata": {},
   "source": [
    "<img src=\"http://2.bp.blogspot.com/-H2m-BFydExw/Wkc9gJQE8GI/AAAAAAAAcZI/pJhLUIEj9zMe2fmVsQuK2UWFbrVagaongCK4BGAYYCw/s0/%25E6%2588%2590%25E5%258A%259F%25E9%2581%258E%25E7%25A8%258B.png\"\n",
    "style=\"width:100px;height:100px;float:left\"><br/><br/><br/><br/><br/>  \n",
    "### 專案名稱: python測試  \n",
    "### 功能描述: 費式數列測試\n",
    "### 版權所有: Dunk  \n",
    "### 程式撰寫: Dunk  \n",
    "### 參考網址: https://www.runoob.com/python3/python3-step1.html\n",
    "### 撰寫日期：2020/02/17\n",
    "### 改版日期:  \n",
    "### 改版備註:  "
   ]
  },
  {
   "cell_type": "code",
   "execution_count": 4,
   "metadata": {},
   "outputs": [
    {
     "name": "stdout",
     "output_type": "stream",
     "text": [
      "1\n",
      "1\n",
      "2\n",
      "3\n",
      "5\n",
      "8\n",
      "1,1,2,3,5,8,"
     ]
    }
   ],
   "source": [
    "'''費式數列'''\n",
    "def Fabonai(n):\n",
    "    a = 0\n",
    "    b = 1\n",
    "    while b<n:\n",
    "        print(b)\n",
    "        a,b = b,a+b\n",
    "Fabonai(10)\n",
    "\n",
    "def FabonaiWithDot(n):\n",
    "    a = 0\n",
    "    b = 1\n",
    "    while b<n:\n",
    "        print(b,end=',')\n",
    "        a,b = b,a+b\n",
    "FabonaiWithDot(10)"
   ]
  }
 ],
 "metadata": {
  "kernelspec": {
   "display_name": "Python 3",
   "language": "python",
   "name": "python3"
  },
  "language_info": {
   "codemirror_mode": {
    "name": "ipython",
    "version": 3
   },
   "file_extension": ".py",
   "mimetype": "text/x-python",
   "name": "python",
   "nbconvert_exporter": "python",
   "pygments_lexer": "ipython3",
   "version": "3.5.4"
  }
 },
 "nbformat": 4,
 "nbformat_minor": 2
}
