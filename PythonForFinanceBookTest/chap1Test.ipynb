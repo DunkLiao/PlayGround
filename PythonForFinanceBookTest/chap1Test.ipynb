{
 "cells": [
  {
   "cell_type": "markdown",
   "metadata": {},
   "source": [
    "### 專案名稱: PythonForFinanace書籍練習\n",
    "### 功能描述: chap1測試\n",
    "### 版權所有: Dunk  \n",
    "### 程式撰寫: Dunk  \n",
    "### 撰寫日期：2020/03/11\n",
    "### 改版日期:  \n",
    "### 改版備註: 2020/03/12 繼續練習"
   ]
  },
  {
   "cell_type": "code",
   "execution_count": 70,
   "metadata": {},
   "outputs": [
    {
     "data": {
      "text/plain": [
       "['__add__',\n",
       " '__class__',\n",
       " '__contains__',\n",
       " '__delattr__',\n",
       " '__dir__',\n",
       " '__doc__',\n",
       " '__eq__',\n",
       " '__format__',\n",
       " '__ge__',\n",
       " '__getattribute__',\n",
       " '__getitem__',\n",
       " '__getnewargs__',\n",
       " '__gt__',\n",
       " '__hash__',\n",
       " '__init__',\n",
       " '__init_subclass__',\n",
       " '__iter__',\n",
       " '__le__',\n",
       " '__len__',\n",
       " '__lt__',\n",
       " '__mod__',\n",
       " '__mul__',\n",
       " '__ne__',\n",
       " '__new__',\n",
       " '__reduce__',\n",
       " '__reduce_ex__',\n",
       " '__repr__',\n",
       " '__rmod__',\n",
       " '__rmul__',\n",
       " '__setattr__',\n",
       " '__sizeof__',\n",
       " '__str__',\n",
       " '__subclasshook__',\n",
       " 'capitalize',\n",
       " 'casefold',\n",
       " 'center',\n",
       " 'count',\n",
       " 'encode',\n",
       " 'endswith',\n",
       " 'expandtabs',\n",
       " 'find',\n",
       " 'format',\n",
       " 'format_map',\n",
       " 'index',\n",
       " 'isalnum',\n",
       " 'isalpha',\n",
       " 'isascii',\n",
       " 'isdecimal',\n",
       " 'isdigit',\n",
       " 'isidentifier',\n",
       " 'islower',\n",
       " 'isnumeric',\n",
       " 'isprintable',\n",
       " 'isspace',\n",
       " 'istitle',\n",
       " 'isupper',\n",
       " 'join',\n",
       " 'ljust',\n",
       " 'lower',\n",
       " 'lstrip',\n",
       " 'maketrans',\n",
       " 'partition',\n",
       " 'replace',\n",
       " 'rfind',\n",
       " 'rindex',\n",
       " 'rjust',\n",
       " 'rpartition',\n",
       " 'rsplit',\n",
       " 'rstrip',\n",
       " 'split',\n",
       " 'splitlines',\n",
       " 'startswith',\n",
       " 'strip',\n",
       " 'swapcase',\n",
       " 'title',\n",
       " 'translate',\n",
       " 'upper',\n",
       " 'zfill']"
      ]
     },
     "execution_count": 70,
     "metadata": {},
     "output_type": "execute_result"
    }
   ],
   "source": [
    "# 查詢內建函式\n",
    "dir('__builtin__')"
   ]
  },
  {
   "cell_type": "markdown",
   "metadata": {},
   "source": [
    "#### The formula used is given here:\n",
    "#### $FV = PV(1+R)^{n}...(1)$\n",
    "- FV is the future value\n",
    "- PV is the present value\n",
    "- R is the period deposit rate while n is the number of periods."
   ]
  },
  {
   "cell_type": "code",
   "execution_count": 71,
   "metadata": {},
   "outputs": [],
   "source": [
    "# 撰寫函式\n",
    "def fv_f(fv,r,n):\n",
    "    \"\"\"\n",
    "    Objective: estimate present value\n",
    "                     fv\n",
    "    formula  : pv=-------------\n",
    "                   (1+r)^n\n",
    "          fv: fture value\n",
    "          r : discount periodic rate\n",
    "    n : number of periods\n",
    "\n",
    "    Example #1  >>>pv_f(100,0.1,1)\n",
    "                   90.9090909090909\n",
    "    \n",
    "    Example #2: >>>pv_f(r=0.1,fv=100,n=1)\n",
    "                    90.9090909090909\n",
    "    \"\"\"\n",
    "    return fv/(1+r)**n"
   ]
  },
  {
   "cell_type": "code",
   "execution_count": 72,
   "metadata": {},
   "outputs": [
    {
     "name": "stdout",
     "output_type": "stream",
     "text": [
      "67.29713331080575\n",
      "82.64462809917354\n"
     ]
    }
   ],
   "source": [
    "# 測試函式\n",
    "print(fv_f(100,0.02,20))\n",
    "print(fv_f(100,0.1,2))"
   ]
  },
  {
   "cell_type": "code",
   "execution_count": 73,
   "metadata": {},
   "outputs": [
    {
     "name": "stdout",
     "output_type": "stream",
     "text": [
      "Help on function fv_f in module __main__:\n",
      "\n",
      "fv_f(fv, r, n)\n",
      "    Objective: estimate present value\n",
      "                     fv\n",
      "    formula  : pv=-------------\n",
      "                   (1+r)^n\n",
      "          fv: fture value\n",
      "          r : discount periodic rate\n",
      "    n : number of periods\n",
      "    \n",
      "    Example #1  >>>pv_f(100,0.1,1)\n",
      "                   90.9090909090909\n",
      "    \n",
      "    Example #2: >>>pv_f(r=0.1,fv=100,n=1)\n",
      "                    90.9090909090909\n",
      "\n"
     ]
    }
   ],
   "source": [
    "#查詢函式定義\n",
    "help(fv_f)\n",
    "?fv_f\n",
    "??fv_f"
   ]
  },
  {
   "cell_type": "markdown",
   "metadata": {},
   "source": [
    "### Net Present Value (NPV)\n",
    "#### $PV=$$\\frac{FV}{(1+R)^n}...(2)$\n",
    "- PV is the present value\n",
    "- FV is the future value\n",
    "- R is the period discount rate\n",
    "- n is the number of periods.\n",
    "\n",
    ">此方法的理論是將投資的未來現金流量，全部折現成投資始日的價值，稱為該投資的淨現金流量，或稱為淨現值（NPV, Net Present Value）。\n",
    "假設投資的淨現值為正數，代表該投資的結果可以增加企業的價值;反之，如果投資評估的淨現值為負數，代表此投資會減少企業的價值，不應該接受。\n",
    "\n",
    ">淨現值（NPV）通過計算每個投資期間的成本（負現金流）和收益（正現金流）來確定。期限通常為一年，但可以按季度，半年或數月來衡量。在計算每個時期的現金流量後，每個時期的現值（PV）是通過以定期收益率（市場規定的收益率）貼現其未來價值（見公式）來實現的。\n",
    "\n",
    ">當然淨現值為正數仍不代表該接受此投資建議，或許存在其他淨現值更高的投資機會。在多項投資案並陳時，應選擇淨現值最高的投資案。淨現值是多數企業進行投資評估時的依據，因為它將投資期間的所有現金流量納入考慮，並且以折現後的金額做計算。"
   ]
  },
  {
   "cell_type": "code",
   "execution_count": 74,
   "metadata": {},
   "outputs": [],
   "source": [
    "def pv_f(fv,r,n):\n",
    "    \"\"\"\n",
    "    Objective: estimate present value\n",
    "                     fv\n",
    "    formula  : pv=-------------\n",
    "                   (1+r)^n\n",
    "          fv: fture value\n",
    "          r : discount periodic rate\n",
    "          n : number of periods\n",
    "\n",
    "    Example #1  >>>pv_f(100,0.1,1)\n",
    "                   90.9090909090909\n",
    "    \n",
    "    Example #2: >>>pv_f(r=0.1,fv=100,n=1)\n",
    "                    90.9090909090909\n",
    "    \"\"\"\n",
    "    return fv/(1+r)**n"
   ]
  },
  {
   "cell_type": "markdown",
   "metadata": {},
   "source": [
    "#### we just want to write annpv_f() function which applies the preceding equation n times, where n is the number of cash flows. The complete NPV program is given here:"
   ]
  },
  {
   "cell_type": "code",
   "execution_count": 75,
   "metadata": {},
   "outputs": [],
   "source": [
    "def npv_f(rate, cashflows):\n",
    "       total = 0.0\n",
    "       for i in range(0,len(cashflows)):\n",
    "             total += cashflows[i] / (1 + rate)**i\n",
    "       return total\n",
    "\n",
    "# 使用跌代\n",
    "def npv_f_enumerate(rate, cashflows):\n",
    "      total = 0.0\n",
    "      for i, cashflow in enumerate(cashflows):\n",
    "               total += cashflow / (1 + rate)**i\n",
    "      return total"
   ]
  },
  {
   "cell_type": "code",
   "execution_count": 76,
   "metadata": {},
   "outputs": [
    {
     "name": "stdout",
     "output_type": "stream",
     "text": [
      "14.158224763725372\n",
      "14.158224763725372\n"
     ]
    }
   ],
   "source": [
    "r=0.035\n",
    "cashflows=[-100,-30,10,40,50,45,20]\n",
    "print(npv_f(r,cashflows))\n",
    "print(npv_f_enumerate(r,cashflows))"
   ]
  },
  {
   "cell_type": "code",
   "execution_count": 77,
   "metadata": {},
   "outputs": [
    {
     "name": "stdout",
     "output_type": "stream",
     "text": [
      "14.158224763725372\n"
     ]
    }
   ],
   "source": [
    "# for excel\n",
    "def npv_Excel(rate, cashflows):\n",
    "       total = 0.0\n",
    "       for i, cashflow in enumerate(cashflows):\n",
    "                total += cashflow / (1 + rate)**(i+1)\n",
    "       return total\n",
    "\n",
    "r=0.035\n",
    "cashflows=[-100,-30,10,40,50,45,20]\n",
    "print(npv_Excel(r,cashflows[1:7])+cashflows[0])"
   ]
  },
  {
   "cell_type": "code",
   "execution_count": 78,
   "metadata": {},
   "outputs": [
    {
     "name": "stdout",
     "output_type": "stream",
     "text": [
      "0.07163900000005098\n",
      "0.33673299999790873\n"
     ]
    }
   ],
   "source": [
    "# find out which discount rate makes NPV equal zero\n",
    "cashFlows=(550,-500,-500,-500,1000)\n",
    "r=0\n",
    "while(r<1.0):\n",
    "     r+=0.000001\n",
    "     npv=npv_f(r,cashFlows)\n",
    "     if(abs(npv)<=0.0001):\n",
    "            print(r)"
   ]
  },
  {
   "cell_type": "markdown",
   "metadata": {},
   "source": [
    "### Data input"
   ]
  },
  {
   "cell_type": "code",
   "execution_count": 79,
   "metadata": {},
   "outputs": [],
   "source": [
    "#讀取檔案\n",
    "with open(\"D:/changelog.txt\",\"r\") as f:\n",
    "    x=f.read()"
   ]
  },
  {
   "cell_type": "code",
   "execution_count": 80,
   "metadata": {},
   "outputs": [
    {
     "name": "stdout",
     "output_type": "stream",
     "text": [
      "嚜燙plat (Simple Program Launching and Termination)\n",
      "Copyright (c) 2014-2015 Jody Holmes (Skwire Empire)\n",
      "http://skwire.dcmembers.com/fp/?page=splat\n",
      "\n",
      "+ added\n",
      "* changed\n",
      "- deleted\n",
      "! bug fixed\n",
      "\n",
      "v1.1.8 - 2015-08-10\n",
      "    + Added ability to create a profile shortcut in your startup folder.\n",
      "      (Thanks, AtmanActive)\n",
      "    ! Context menu did not work for reordering profiles.  (Thanks, AtmanActive)\n",
      "\n",
      "v1.1.7 - 2015-04-15\n",
      "    + Added a few more wait intervals.\n",
      "\n",
      "v1.1.6 - 2015-03-28\n",
      "    ! Reordering entries in a profile wasn't saved when drag and drop was used.\n",
      "      (Thanks, AtmanActive)\n",
      "\n",
      "v1.1.5 - 2015-02-11\n",
      "    + Added \"Save log on exit\" option.  (Thanks, BGM & Ganamyde)\n",
      "    + File and folder fields in the Add/Edit dialog now support drag and drop.\n",
      "      (Thanks, BGM)\n",
      "\n",
      "v1.1.4 - 2015-02-07\n",
      "    + Added \"Auto-size list columns\" option.  (Thanks, miva2)\n",
      "\n",
      "v1.1.3 - 2015-02-03\n",
      "    + Added \"Notes\" column to the Entries list.  (Thanks, BGM)\n",
      "\n",
      "v1.1.2 - 2015-02-01\n",
      "    * Changed \"Filename\" column to \"Target\".\n",
      "    ! Changed URL target icon.\n",
      "\n",
      "v1.1.1 - 2015-01-31\n",
      "    * Launch priority now reported in the Launch Log.\n",
      "    ! Entries listview column order not saved properly.  (Thanks, Ganamyde)\n",
      "\n",
      "v1.1.0 - 2015-01-27\n",
      "    + Added new System action with the following items: Hibernate, Lock\n",
      "      workstation, Logoff, Power down, Reboot, Reboot (force), Shutdown,\n",
      "      Shutdown (force), Suspend, and Turn monitor off.\n",
      "    + Added priority options to the Run action.\n",
      "    + Added \"Auto-scroll log\" option.\n",
      "    * Changed \"Start/stop services\" action to \"Services\"\n",
      "\n",
      "v1.0.9 - 2015-01-20\n",
      "    + Added ability to set a hotkey that pops up a menu of your profiles at the\n",
      "      mouse cursor for easy profile launching.\n",
      "\n",
      "v1.0.8 - 2015-01-17\n",
      "    + Added ability to play a few default system sounds to the Audio action.\n",
      "    * If a working directory is not specified for a Run action, it is now\n",
      "      automatically derived from the target's path.  (Thanks, Ganamyde)\n",
      "    * The action dropdown is now in alphabetical order.\n",
      "\n",
      "v1.0.7 - 2015-01-14\n",
      "    ! Application icon loading issue on Cyrillic systems.  (Thanks, rm)\n",
      "    ! Ctrl+A issue on Cyrillic systems.  (Thanks, rm)\n",
      "\n",
      "v1.0.6 - 2015-01-14\n",
      "    * Revamped the Play audio file action.  Added a \"stop playback\" option.\n",
      "      (Thanks, Ath & hamradio)\n",
      "\n",
      "v1.0.5 - 2015-01-14\n",
      "    + Added \"Launch state\" option to the Run action.  (Thanks, Ganamyde)\n",
      "    * More detail in the Launch Log for Run events.\n",
      "    ! Editing a \"Run (even if running)\" event didn't pre-set the radio button\n",
      "      properly.  (Thanks, Ganamyde)\n",
      "\n",
      "v1.0.4 - 2015-01-14\n",
      "    + Ctrl+Enter now launches the selected profile when the Splat window is\n",
      "      focused.  (Thanks, tomos)\n",
      "    + Shift+Enter now runs any selected entries.  Useful for testing.  (Thanks, \n",
      "      tomos)\n",
      "    + Environment vars are now supported in the arguments and working directory\n",
      "      fields.  (Thanks, lujomu)\n",
      "    + Added \"Play audio file\" action.  (Thanks, lujomu)\n",
      "    * The Profiles index file is now saved more often.  (Thanks, TaoPhoenix)\n",
      "    ! Application icons should now work if environment variables are used in the\n",
      "      path.  (Thanks, lujomu)\n",
      "\n",
      "v1.0.3 - 2015-01-13\n",
      "    + Added an entry to the Profiles menu that can create a shortcut on the\n",
      "      desktop which directly runs a Splat profile.  Profiles launched in this\n",
      "      manner will display the tray icon for the duration of the profile and then\n",
      "      exit.  The full Splat interface will NOT be displayed.\n",
      "    + Added support for environment variables.  (Thanks, lujomu)\n",
      "    + Added 'Clear log before each profile launch' option.\n",
      "    + Added ability to specify a window's title or partial title when closing a\n",
      "      program.  This can help with the reliability of the close action.\n",
      "    + Added ability to run a profile within a profile.\n",
      "    + Added optional, Alt+F4 close method to the Close action.\n",
      "    + Added a real, honest-to-goodness help file.  Really.\n",
      "    * Consolidated some of the \"Close application\" settings.\n",
      "    * Tray icon now displays a triangular blue run icon when a profile is\n",
      "      running.\n",
      "    ! Moving a profile didn't update the tray profile menu.\n",
      "    ! Undo/Redo were broken.\n",
      "\n",
      "v1.0.2 - 2015-01-05\n",
      "    + Added an option to both Run actions that makes the Splat wait for the\n",
      "      launched process' ID to close before running the next item.  If you're\n",
      "      familiar with AutoHotkey, this is the RunWait command.\n",
      "\n",
      "v1.0.1 - 2015-01-02\n",
      "    ! Renaming a profile didn't update the tray profile menu.\n",
      "    \n",
      "v1.0.0 - 2014-12-31\n",
      "    + Initial release for NANY 2015.\n",
      "\n",
      "\n"
     ]
    }
   ],
   "source": [
    "print(x)"
   ]
  },
  {
   "cell_type": "code",
   "execution_count": 81,
   "metadata": {},
   "outputs": [
    {
     "data": {
      "text/html": [
       "<div>\n",
       "<style scoped>\n",
       "    .dataframe tbody tr th:only-of-type {\n",
       "        vertical-align: middle;\n",
       "    }\n",
       "\n",
       "    .dataframe tbody tr th {\n",
       "        vertical-align: top;\n",
       "    }\n",
       "\n",
       "    .dataframe thead th {\n",
       "        text-align: right;\n",
       "    }\n",
       "</style>\n",
       "<table border=\"1\" class=\"dataframe\">\n",
       "  <thead>\n",
       "    <tr style=\"text-align: right;\">\n",
       "      <th></th>\n",
       "      <th>Date</th>\n",
       "      <th>Open</th>\n",
       "      <th>High</th>\n",
       "      <th>Low</th>\n",
       "      <th>Close</th>\n",
       "      <th>Adj Close</th>\n",
       "      <th>Volume</th>\n",
       "    </tr>\n",
       "  </thead>\n",
       "  <tbody>\n",
       "    <tr>\n",
       "      <th>0</th>\n",
       "      <td>2019-03-12</td>\n",
       "      <td>138.520004</td>\n",
       "      <td>139.699997</td>\n",
       "      <td>137.860001</td>\n",
       "      <td>138.279999</td>\n",
       "      <td>132.109131</td>\n",
       "      <td>3954700</td>\n",
       "    </tr>\n",
       "    <tr>\n",
       "      <th>1</th>\n",
       "      <td>2019-03-13</td>\n",
       "      <td>138.050003</td>\n",
       "      <td>139.320007</td>\n",
       "      <td>137.850006</td>\n",
       "      <td>138.559998</td>\n",
       "      <td>132.376633</td>\n",
       "      <td>3173200</td>\n",
       "    </tr>\n",
       "    <tr>\n",
       "      <th>2</th>\n",
       "      <td>2019-03-14</td>\n",
       "      <td>138.509995</td>\n",
       "      <td>138.940002</td>\n",
       "      <td>138.059998</td>\n",
       "      <td>138.789993</td>\n",
       "      <td>132.596375</td>\n",
       "      <td>2738600</td>\n",
       "    </tr>\n",
       "    <tr>\n",
       "      <th>3</th>\n",
       "      <td>2019-03-15</td>\n",
       "      <td>139.369995</td>\n",
       "      <td>140.330002</td>\n",
       "      <td>139.229996</td>\n",
       "      <td>139.429993</td>\n",
       "      <td>133.207825</td>\n",
       "      <td>7153700</td>\n",
       "    </tr>\n",
       "    <tr>\n",
       "      <th>4</th>\n",
       "      <td>2019-03-18</td>\n",
       "      <td>139.830002</td>\n",
       "      <td>140.369995</td>\n",
       "      <td>138.720001</td>\n",
       "      <td>140.210007</td>\n",
       "      <td>133.953018</td>\n",
       "      <td>3268500</td>\n",
       "    </tr>\n",
       "  </tbody>\n",
       "</table>\n",
       "</div>"
      ],
      "text/plain": [
       "         Date        Open        High         Low       Close   Adj Close  \\\n",
       "0  2019-03-12  138.520004  139.699997  137.860001  138.279999  132.109131   \n",
       "1  2019-03-13  138.050003  139.320007  137.850006  138.559998  132.376633   \n",
       "2  2019-03-14  138.509995  138.940002  138.059998  138.789993  132.596375   \n",
       "3  2019-03-15  139.369995  140.330002  139.229996  139.429993  133.207825   \n",
       "4  2019-03-18  139.830002  140.369995  138.720001  140.210007  133.953018   \n",
       "\n",
       "    Volume  \n",
       "0  3954700  \n",
       "1  3173200  \n",
       "2  2738600  \n",
       "3  7153700  \n",
       "4  3268500  "
      ]
     },
     "execution_count": 81,
     "metadata": {},
     "output_type": "execute_result"
    }
   ],
   "source": [
    "# 下載ibm歷史資料\n",
    "# https://finance.yahoo.com/quote/IBM/history?p=IBM\n",
    "# 放到/data/IBM.csv\n",
    "import os\n",
    "import pandas as pd\n",
    "import pprint\n",
    "# 設定 data_path\n",
    "dir_data = './data/'\n",
    "ibm_data = os.path.join(dir_data, 'IBM.csv')\n",
    "x = pd.read_csv(ibm_data)\n",
    "x.head()"
   ]
  },
  {
   "cell_type": "code",
   "execution_count": 82,
   "metadata": {},
   "outputs": [
    {
     "data": {
      "text/html": [
       "<div>\n",
       "<style scoped>\n",
       "    .dataframe tbody tr th:only-of-type {\n",
       "        vertical-align: middle;\n",
       "    }\n",
       "\n",
       "    .dataframe tbody tr th {\n",
       "        vertical-align: top;\n",
       "    }\n",
       "\n",
       "    .dataframe thead th {\n",
       "        text-align: right;\n",
       "    }\n",
       "</style>\n",
       "<table border=\"1\" class=\"dataframe\">\n",
       "  <thead>\n",
       "    <tr style=\"text-align: right;\">\n",
       "      <th></th>\n",
       "      <th>Date</th>\n",
       "      <th>Open</th>\n",
       "      <th>High</th>\n",
       "      <th>Low</th>\n",
       "      <th>Close</th>\n",
       "      <th>Adj Close</th>\n",
       "      <th>Volume</th>\n",
       "    </tr>\n",
       "  </thead>\n",
       "  <tbody>\n",
       "    <tr>\n",
       "      <th>0</th>\n",
       "      <td>1962-01-01</td>\n",
       "      <td>7.713333</td>\n",
       "      <td>7.713333</td>\n",
       "      <td>7.003334</td>\n",
       "      <td>7.226666</td>\n",
       "      <td>2.077531</td>\n",
       "      <td>8760000</td>\n",
       "    </tr>\n",
       "    <tr>\n",
       "      <th>1</th>\n",
       "      <td>1962-02-01</td>\n",
       "      <td>7.300000</td>\n",
       "      <td>7.480000</td>\n",
       "      <td>7.093333</td>\n",
       "      <td>7.160000</td>\n",
       "      <td>2.058365</td>\n",
       "      <td>5737600</td>\n",
       "    </tr>\n",
       "    <tr>\n",
       "      <th>2</th>\n",
       "      <td>1962-03-01</td>\n",
       "      <td>7.186666</td>\n",
       "      <td>7.413333</td>\n",
       "      <td>7.070000</td>\n",
       "      <td>7.103333</td>\n",
       "      <td>2.042352</td>\n",
       "      <td>5344000</td>\n",
       "    </tr>\n",
       "    <tr>\n",
       "      <th>3</th>\n",
       "      <td>1962-04-01</td>\n",
       "      <td>7.100000</td>\n",
       "      <td>7.100000</td>\n",
       "      <td>6.000000</td>\n",
       "      <td>6.053333</td>\n",
       "      <td>1.740458</td>\n",
       "      <td>12851200</td>\n",
       "    </tr>\n",
       "    <tr>\n",
       "      <th>4</th>\n",
       "      <td>1962-05-01</td>\n",
       "      <td>6.053333</td>\n",
       "      <td>6.530000</td>\n",
       "      <td>4.733333</td>\n",
       "      <td>5.233333</td>\n",
       "      <td>1.504689</td>\n",
       "      <td>49307200</td>\n",
       "    </tr>\n",
       "  </tbody>\n",
       "</table>\n",
       "</div>"
      ],
      "text/plain": [
       "         Date      Open      High       Low     Close  Adj Close    Volume\n",
       "0  1962-01-01  7.713333  7.713333  7.003334  7.226666   2.077531   8760000\n",
       "1  1962-02-01  7.300000  7.480000  7.093333  7.160000   2.058365   5737600\n",
       "2  1962-03-01  7.186666  7.413333  7.070000  7.103333   2.042352   5344000\n",
       "3  1962-04-01  7.100000  7.100000  6.000000  6.053333   1.740458  12851200\n",
       "4  1962-05-01  6.053333  6.530000  4.733333  5.233333   1.504689  49307200"
      ]
     },
     "execution_count": 82,
     "metadata": {},
     "output_type": "execute_result"
    }
   ],
   "source": [
    "# 直接從網頁讀取\n",
    "url='http://canisius.edu/~yany/data/ibm.csv'\n",
    "x=pd.read_csv(url)\n",
    "x.head()"
   ]
  },
  {
   "cell_type": "code",
   "execution_count": 83,
   "metadata": {},
   "outputs": [
    {
     "name": "stdout",
     "output_type": "stream",
     "text": [
      "    現金異動代號  現金異動名稱\n",
      "0  1009023      贖回\n",
      "1  1009024      申購\n",
      "2  2001003     經理費\n",
      "3  2001002     保管費\n",
      "4  1009034  申購差額退款\n",
      "5  1009019      匯費\n",
      "6  1009020     手續費\n",
      "7  1009016    會計師費\n",
      "Index(['現金異動代號', '現金異動名稱'], dtype='object')\n"
     ]
    },
    {
     "data": {
      "text/html": [
       "<div>\n",
       "<style scoped>\n",
       "    .dataframe tbody tr th:only-of-type {\n",
       "        vertical-align: middle;\n",
       "    }\n",
       "\n",
       "    .dataframe tbody tr th {\n",
       "        vertical-align: top;\n",
       "    }\n",
       "\n",
       "    .dataframe thead th {\n",
       "        text-align: right;\n",
       "    }\n",
       "</style>\n",
       "<table border=\"1\" class=\"dataframe\">\n",
       "  <thead>\n",
       "    <tr style=\"text-align: right;\">\n",
       "      <th></th>\n",
       "      <th>Column Type</th>\n",
       "      <th>Count</th>\n",
       "    </tr>\n",
       "  </thead>\n",
       "  <tbody>\n",
       "    <tr>\n",
       "      <th>0</th>\n",
       "      <td>int64</td>\n",
       "      <td>1</td>\n",
       "    </tr>\n",
       "    <tr>\n",
       "      <th>1</th>\n",
       "      <td>object</td>\n",
       "      <td>1</td>\n",
       "    </tr>\n",
       "  </tbody>\n",
       "</table>\n",
       "</div>"
      ],
      "text/plain": [
       "  Column Type  Count\n",
       "0       int64      1\n",
       "1      object      1"
      ]
     },
     "execution_count": 83,
     "metadata": {},
     "output_type": "execute_result"
    }
   ],
   "source": [
    "# 讀取xlsx檔案\n",
    "xlsx_data = os.path.join(dir_data, 'stockReturns.xlsx')\n",
    "infile=pd.ExcelFile(xlsx_data)\n",
    "x=infile.parse(0)\n",
    "print(x)\n",
    "print(x.columns)\n",
    "# 秀出資料欄位的類型與數量\n",
    "dtype_df = x.dtypes.reset_index()\n",
    "dtype_df.columns = [\"Count\", \"Column Type\"]\n",
    "dtype_df = dtype_df.groupby(\"Column Type\").aggregate('count').reset_index()\n",
    "dtype_df"
   ]
  },
  {
   "cell_type": "code",
   "execution_count": 84,
   "metadata": {},
   "outputs": [
    {
     "data": {
      "text/html": [
       "<div>\n",
       "<style scoped>\n",
       "    .dataframe tbody tr th:only-of-type {\n",
       "        vertical-align: middle;\n",
       "    }\n",
       "\n",
       "    .dataframe tbody tr th {\n",
       "        vertical-align: top;\n",
       "    }\n",
       "\n",
       "    .dataframe thead th {\n",
       "        text-align: right;\n",
       "    }\n",
       "</style>\n",
       "<table border=\"1\" class=\"dataframe\">\n",
       "  <thead>\n",
       "    <tr style=\"text-align: right;\">\n",
       "      <th></th>\n",
       "      <th>MKT_RF</th>\n",
       "      <th>SMB</th>\n",
       "      <th>HML</th>\n",
       "      <th>RF</th>\n",
       "    </tr>\n",
       "  </thead>\n",
       "  <tbody>\n",
       "    <tr>\n",
       "      <th>192608</th>\n",
       "      <td>0.0264</td>\n",
       "      <td>-0.0140</td>\n",
       "      <td>0.0419</td>\n",
       "      <td>0.0025</td>\n",
       "    </tr>\n",
       "    <tr>\n",
       "      <th>192609</th>\n",
       "      <td>0.0036</td>\n",
       "      <td>-0.0132</td>\n",
       "      <td>0.0001</td>\n",
       "      <td>0.0023</td>\n",
       "    </tr>\n",
       "  </tbody>\n",
       "</table>\n",
       "</div>"
      ],
      "text/plain": [
       "        MKT_RF     SMB     HML      RF\n",
       "192608  0.0264 -0.0140  0.0419  0.0025\n",
       "192609  0.0036 -0.0132  0.0001  0.0023"
      ]
     },
     "execution_count": 84,
     "metadata": {},
     "output_type": "execute_result"
    }
   ],
   "source": [
    "# load the dataset with an extension of .pkl or .pickle:\n",
    "# http://www3.canisius.edu/~yany/python/ffMonthly.pkl\n",
    "import pandas as pd\n",
    "pkl_data = os.path.join(dir_data, 'ffMonthly.pkl')\n",
    "x=pd.read_pickle(pkl_data)\n",
    "x[1:3]\n"
   ]
  },
  {
   "cell_type": "code",
   "execution_count": 85,
   "metadata": {},
   "outputs": [
    {
     "name": "stdout",
     "output_type": "stream",
     "text": [
      "B-\n"
     ]
    }
   ],
   "source": [
    "# 測試if else\n",
    "grade=74\n",
    "if grade>=90:\n",
    "    print('A')\n",
    "elif grade >=85:\n",
    "    print('A-')\n",
    "elif grade >=80:\n",
    "    print('B+')\n",
    "elif grade >=75:\n",
    "    print('B')\n",
    "elif grade >=70:\n",
    "    print('B-')\n",
    "elif grade>=65:\n",
    "    print('C+')\n",
    "else:\n",
    "    print('D')"
   ]
  },
  {
   "cell_type": "code",
   "execution_count": 86,
   "metadata": {},
   "outputs": [],
   "source": [
    "# 測試 np array\n",
    "import numpy as np\n",
    "a=np.zeros(10)                      # array with 10 zeros \n",
    "b=np.zeros((3,2),dtype=float)       # 3 by 2 with zeros \n",
    "c=np.ones((4,3),float)              # 4 by 3 with all ones \n",
    "d=np.array(range(10),float)         # 0,1, 2,3 .. up to 9 \n",
    "e1=np.identity(4)                   # identity 4 by 4 matrix \n",
    "e2=np.eye(4)                        # same as above \n",
    "e3=np.eye(4,k=1)                    # 1 start from k \n",
    "f=np.arange(1,20,3,float)           # from 1 to 19 interval 3 \n",
    "g=np.array([[2,2,2],[3,3,3]])       # 2 by 3 \n",
    "h=np.zeros_like(g)                  # all zeros \n",
    "i=np.ones_like(g)                   # all ones"
   ]
  },
  {
   "cell_type": "code",
   "execution_count": 87,
   "metadata": {},
   "outputs": [
    {
     "name": "stdout",
     "output_type": "stream",
     "text": [
      "[0. 0. 0. 0. 0. 0. 0. 0. 0. 0.]\n",
      "[[0. 0.]\n",
      " [0. 0.]\n",
      " [0. 0.]]\n",
      "[[1. 1. 1.]\n",
      " [1. 1. 1.]\n",
      " [1. 1. 1.]\n",
      " [1. 1. 1.]]\n",
      "[0. 1. 2. 3. 4. 5. 6. 7. 8. 9.]\n",
      "[[1. 0. 0. 0.]\n",
      " [0. 1. 0. 0.]\n",
      " [0. 0. 1. 0.]\n",
      " [0. 0. 0. 1.]]\n",
      "[[1. 0. 0. 0.]\n",
      " [0. 1. 0. 0.]\n",
      " [0. 0. 1. 0.]\n",
      " [0. 0. 0. 1.]]\n",
      "[[0. 1. 0. 0.]\n",
      " [0. 0. 1. 0.]\n",
      " [0. 0. 0. 1.]\n",
      " [0. 0. 0. 0.]]\n",
      "[ 1.  4.  7. 10. 13. 16. 19.]\n",
      "[[2 2 2]\n",
      " [3 3 3]]\n",
      "[[0 0 0]\n",
      " [0 0 0]]\n",
      "[[1 1 1]\n",
      " [1 1 1]]\n"
     ]
    }
   ],
   "source": [
    "print(a)\n",
    "print(b)\n",
    "print(c)\n",
    "print(d)\n",
    "print(e1)\n",
    "print(e2)\n",
    "print(e3)\n",
    "print(f)\n",
    "print(g)\n",
    "print(h)\n",
    "print(i)"
   ]
  },
  {
   "cell_type": "markdown",
   "metadata": {},
   "source": [
    "#### Matrix manipulation is important when we deal with various matrices:\n",
    "#### $ C= A+B...(3) $\n",
    "#### The condition for equation (3) is that matrices A and B should have the same dimensions. For the product of two matrices, we have the following equation:\n",
    "#### $ C= A*B...(4) $\n",
    "#### Here,A is an n by k matrix (n rows and k columns), while B is a k by m matrix. Remember that the second dimension of the first matrix should be the same as the first dimension of the second matrix. In this case, it is k. If we assume that the individual data items in C, A, and B are Ci,j (the ith row and the jth column), Ai,j, and Bi,j, we have the following relationship between them:\n",
    "#### $ C_{i,j} = \\sum_{i=1}^{n}\\sum_{j=1}^{m}\\sum_{p=1}^{k}a_{i,p}b_{p,j}...(5) $"
   ]
  },
  {
   "cell_type": "code",
   "execution_count": 88,
   "metadata": {},
   "outputs": [
    {
     "name": "stdout",
     "output_type": "stream",
     "text": [
      "[[19. 23.]\n",
      " [43. 53.]]\n"
     ]
    }
   ],
   "source": [
    "a=np.array([[1,2,3],[4,5,6]],float)    # 2 by 3\n",
    "b=np.array([[1,2],[3,3],[4,5]],float)  # 3 by 2\n",
    "np.dot(a,b)                            # 2 by 2\n",
    "print(np.dot(a,b))"
   ]
  },
  {
   "cell_type": "markdown",
   "metadata": {},
   "source": [
    "#### Assume that we have n values of x1, x2, … and xn. There exist two types of means: arithmetic mean and geometric mean; see their genetic definitions here:\n",
    "#### $ Arithmetic\\,mean=  \\frac{\\sum_{i=1}^{n}x_{i}}{n}...(6)$\n",
    "#### $ Geometric\\,mean=  ((\\prod_{i=1}^{n}{x_{i}})^{\\frac{1}{n}}...(7)$"
   ]
  },
  {
   "cell_type": "code",
   "execution_count": 89,
   "metadata": {},
   "outputs": [
    {
     "name": "stdout",
     "output_type": "stream",
     "text": [
      "3.0\n",
      "2.8845\n"
     ]
    }
   ],
   "source": [
    "# Arithmetic mean\n",
    "print((2+3+4)/3.)\n",
    "\n",
    "# Geometric mean\n",
    "geo_mean=(2*3*4)**(1./3)\n",
    "print(round(geo_mean,4))"
   ]
  },
  {
   "cell_type": "markdown",
   "metadata": {},
   "source": [
    "#### For returns, the arithmetic mean's definition remains the same, while the geometric mean of returns is defined differently; see the following equations:\n",
    "#### $ Arithmetic\\,mean=  \\frac{\\sum_{i=1}^{n}R_{i}}{n}...(8)$\n",
    "#### $ Geometric\\,mean=  [(\\prod_{i=1}^{n}({1+R_{i}})]^{\\frac{1}{n}}-1...(9)$"
   ]
  },
  {
   "cell_type": "code",
   "execution_count": 90,
   "metadata": {},
   "outputs": [
    {
     "name": "stdout",
     "output_type": "stream",
     "text": [
      "0.04333333333333334\n",
      "0.04216388706767926\n"
     ]
    }
   ],
   "source": [
    "import numpy as np\n",
    "ret=np.array([0.1,0.05,-0.02])\n",
    "print(np.mean(ret))\n",
    "print(pow(np.prod(ret+1),1./len(ret))-1)"
   ]
  },
  {
   "cell_type": "markdown",
   "metadata": {},
   "source": [
    "### Data output"
   ]
  },
  {
   "cell_type": "code",
   "execution_count": 91,
   "metadata": {},
   "outputs": [],
   "source": [
    "#寫檔\n",
    "dir_data = './data/'\n",
    "file_path = os.path.join(dir_data, 'out.txt')\n",
    "with open(file_path,\"w\") as f:\n",
    "    x=\"This is great\"\n",
    "    f.write(x)"
   ]
  },
  {
   "cell_type": "markdown",
   "metadata": {},
   "source": [
    "#### 1. Where can you download and install Python?\n",
    "> for official website\n",
    "#### 2. Is Python case-sensitive?\n",
    "> YES\n",
    "#### 3. How do you assign a set of values to pv in the format of a tuple. Could we change its values after the assignment?\n",
    ">can't change\n",
    "><code>\n",
    "    test_list1 = ('a','b','c')\n",
    "    test_list2 = ['x','y','z']\n",
    "    test_tuple = tuple(test_list2)\n",
    "></code>"
   ]
  },
  {
   "cell_type": "markdown",
   "metadata": {},
   "source": [
    "#### 4. Estimate the area of a circle if the diameter is 9.7 using Python."
   ]
  },
  {
   "cell_type": "code",
   "execution_count": 106,
   "metadata": {},
   "outputs": [
    {
     "data": {
      "text/plain": [
       "295.5924527762636"
      ]
     },
     "execution_count": 106,
     "metadata": {},
     "output_type": "execute_result"
    }
   ],
   "source": [
    "import math\n",
    "def get_circle_area(raid):\n",
    "    return math.pi*(raid)**2\n",
    "# 測試\n",
    "get_circle_area(9.7)"
   ]
  },
  {
   "cell_type": "markdown",
   "metadata": {},
   "source": [
    "#### 5. How do you assign a value to a new variable?"
   ]
  },
  {
   "cell_type": "code",
   "execution_count": 107,
   "metadata": {},
   "outputs": [
    {
     "name": "stdout",
     "output_type": "stream",
     "text": [
      "10\n"
     ]
    }
   ],
   "source": [
    "a = 10\n",
    "print(a)"
   ]
  },
  {
   "cell_type": "markdown",
   "metadata": {},
   "source": [
    "#### 6. How can you find some sample examples related to Python?\n",
    "> from google"
   ]
  },
  {
   "cell_type": "markdown",
   "metadata": {},
   "source": [
    "#### 7.How do you launch Python's help function?"
   ]
  },
  {
   "cell_type": "code",
   "execution_count": null,
   "metadata": {},
   "outputs": [
    {
     "name": "stdout",
     "output_type": "stream",
     "text": [
      "\n",
      "Welcome to Python 3.7's help utility!\n",
      "\n",
      "If this is your first time using Python, you should definitely check out\n",
      "the tutorial on the Internet at https://docs.python.org/3.7/tutorial/.\n",
      "\n",
      "Enter the name of any module, keyword, or topic to get help on writing\n",
      "Python programs and using Python modules.  To quit this help utility and\n",
      "return to the interpreter, just type \"quit\".\n",
      "\n",
      "To get a list of available modules, keywords, symbols, or topics, type\n",
      "\"modules\", \"keywords\", \"symbols\", or \"topics\".  Each module also comes\n",
      "with a one-line summary of what it does; to list the modules whose name\n",
      "or summary contain a given string such as \"spam\", type \"modules spam\".\n",
      "\n",
      "help> aaa\n",
      "No Python documentation found for 'aaa'.\n",
      "Use help() to get the interactive help utility.\n",
      "Use help(str) for help on the str class.\n",
      "\n",
      "help> ??print\n",
      "No Python documentation found for '??print'.\n",
      "Use help() to get the interactive help utility.\n",
      "Use help(str) for help on the str class.\n",
      "\n",
      "help> print\n",
      "Help on built-in function print in module builtins:\n",
      "\n",
      "print(...)\n",
      "    print(value, ..., sep=' ', end='\\n', file=sys.stdout, flush=False)\n",
      "    \n",
      "    Prints the values to a stream, or to sys.stdout by default.\n",
      "    Optional keyword arguments:\n",
      "    file:  a file-like object (stream); defaults to the current sys.stdout.\n",
      "    sep:   string inserted between values, default a space.\n",
      "    end:   string appended after the last value, default a newline.\n",
      "    flush: whether to forcibly flush the stream.\n",
      "\n"
     ]
    }
   ],
   "source": [
    "help()"
   ]
  }
 ],
 "metadata": {
  "kernelspec": {
   "display_name": "Python 3",
   "language": "python",
   "name": "python3"
  },
  "language_info": {
   "codemirror_mode": {
    "name": "ipython",
    "version": 3
   },
   "file_extension": ".py",
   "mimetype": "text/x-python",
   "name": "python",
   "nbconvert_exporter": "python",
   "pygments_lexer": "ipython3",
   "version": "3.7.6"
  }
 },
 "nbformat": 4,
 "nbformat_minor": 2
}
