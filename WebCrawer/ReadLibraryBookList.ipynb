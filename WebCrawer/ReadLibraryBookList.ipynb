{
 "cells": [
  {
   "cell_type": "markdown",
   "metadata": {},
   "source": [
    "### 專案名稱: 網頁爬蟲練習\n",
    "### 功能描述: 讀取新北市圖書館每月新書書單下載\n",
    "### [每月新書書單下載](https://www.library.ntpc.gov.tw/MainPortal/htmlcnt/d52c990f855d4044b245496b02ca5654 \"每月新書書單下載\")\n",
    "### 版權所有: Dunk  \n",
    "### 程式撰寫: Dunk  \n",
    "### 撰寫日期：2020/05/22\n",
    "### 改版日期:  \n",
    "### 改版備註:"
   ]
  },
  {
   "cell_type": "markdown",
   "metadata": {},
   "source": [
    "#### 匯入所需套件"
   ]
  },
  {
   "cell_type": "code",
   "execution_count": 5,
   "metadata": {},
   "outputs": [],
   "source": [
    "import requests\n",
    "import pandas as pd\n",
    "from bs4 import BeautifulSoup\n",
    "import warnings\n",
    "warnings.filterwarnings('ignore')\n",
    "import re\n",
    "import numpy as np"
   ]
  },
  {
   "cell_type": "code",
   "execution_count": null,
   "metadata": {},
   "outputs": [],
   "source": [
    "# 讀取網址:新北市圖書館每月新書書單下載\n",
    "consdb_url = \"https://www.library.ntpc.gov.tw/MainPortal/htmlcnt/d52c990f855d4044b245496b02ca5654\"\n",
    "consdb_content = requests.get(\"{0}\".format(consdb_url),verify=False)\n",
    "soup = BeautifulSoup(consdb_content.content, 'html.parser')\n",
    "pattern = re.compile(\"\\S+(?=(xlsx|xls))\")\n",
    "\n",
    "# 抓取超連結\n",
    "value_array = []\n",
    "for link in soup.find_all('a'):\n",
    "     if pattern.match(str(link.get('href'))):\n",
    "        value_array.append(link['href'])\n",
    "\n",
    "#下載檔案\n",
    "for value_url in value_array:\n",
    "    file_name = value_url[value_url.rfind(\"/\")+1:]    \n",
    "    myfile = requests.get(value_url)\n",
    "    with open(file_name, 'wb')as f:\n",
    "        f.write(myfile.content)"
   ]
  }
 ],
 "metadata": {
  "kernelspec": {
   "display_name": "Python 3",
   "language": "python",
   "name": "python3"
  },
  "language_info": {
   "codemirror_mode": {
    "name": "ipython",
    "version": 3
   },
   "file_extension": ".py",
   "mimetype": "text/x-python",
   "name": "python",
   "nbconvert_exporter": "python",
   "pygments_lexer": "ipython3",
   "version": "3.7.6"
  }
 },
 "nbformat": 4,
 "nbformat_minor": 4
}
