{
 "cells": [
  {
   "cell_type": "markdown",
   "metadata": {},
   "source": [
    "### 專案名稱: 網頁爬蟲練習\n",
    "### 功能描述: 讀取CSF題庫\n",
    "### [CSF題庫](https://cloud.csf.org.tw/ \"CSF題庫\")\n",
    "### 版權所有: Dunk  \n",
    "### 程式撰寫: Dunk  \n",
    "### 撰寫日期：2020/09/23\n",
    "### 改版日期:  \n",
    "### 改版備註:"
   ]
  },
  {
   "cell_type": "code",
   "execution_count": 1,
   "metadata": {},
   "outputs": [
    {
     "name": "stdout",
     "output_type": "stream",
     "text": [
      "請輸入代號(i.e 1490507)1490507\n"
     ]
    }
   ],
   "source": [
    "import requests\n",
    "\n",
    "url = \"https://cloud.csf.org.tw/on_report.aspx\"\n",
    "\n",
    "serno = input(\"請輸入代號(i.e 1490507)\")\n",
    "file_name = serno +\".html\"\n",
    "querystring = {\"pID\":serno}\n",
    "\n",
    "headers = {\n",
    "    'authority': \"cloud.csf.org.tw\",\n",
    "    'cache-control': \"max-age=0,no-cache\",\n",
    "    'upgrade-insecure-requests': \"1\",\n",
    "    'user-agent': \"Mozilla/5.0 (Windows NT 10.0; Win64; x64) AppleWebKit/537.36 (KHTML, like Gecko) Chrome/84.0.4147.89 Safari/537.36\",\n",
    "    'accept': \"text/html,application/xhtml+xml,application/xml;q=0.9,image/webp,image/apng,*/*;q=0.8,application/signed-exchange;v=b3;q=0.9\",\n",
    "    'sec-fetch-site': \"none\",\n",
    "    'sec-fetch-mode': \"navigate\",\n",
    "    'sec-fetch-user': \"?1\",\n",
    "    'sec-fetch-dest': \"document\",\n",
    "    'accept-language': \"zh-TW,zh;q=0.9,en-US;q=0.8,en;q=0.7\",\n",
    "    'cookie': \"_ga=GA1.3.1219605579.1600152054; ASP.NET_SessionId=ww2p4ll0bep1tehbcbmzrk4m; _gid=GA1.3.1081003500.1600851588,_ga=GA1.3.1219605579.1600152054; ASP.NET_SessionId=ww2p4ll0bep1tehbcbmzrk4m; _gid=GA1.3.1081003500.1600851588; ASP.NET_SessionId=aorzwl1vrbgzcpjvcmhsol2l\",\n",
    "    'Postman-Token': \"d82e0e33-e2f0-4bc8-9f88-239f9855b893,f319ef0d-97f9-4d45-95d9-3ed2e39e63cb\",\n",
    "    'Host': \"cloud.csf.org.tw\",\n",
    "    'accept-encoding': \"gzip, deflate\",\n",
    "    'Connection': \"keep-alive\"\n",
    "    }\n",
    "\n",
    "response = requests.request(\"GET\", url, headers=headers, params=querystring)\n",
    "with open(file_name,'w',encoding='utf8') as f:\n",
    "    f.write(response.text)"
   ]
  }
 ],
 "metadata": {
  "kernelspec": {
   "display_name": "Python 3",
   "language": "python",
   "name": "python3"
  },
  "language_info": {
   "codemirror_mode": {
    "name": "ipython",
    "version": 3
   },
   "file_extension": ".py",
   "mimetype": "text/x-python",
   "name": "python",
   "nbconvert_exporter": "python",
   "pygments_lexer": "ipython3",
   "version": "3.7.6"
  }
 },
 "nbformat": 4,
 "nbformat_minor": 4
}
