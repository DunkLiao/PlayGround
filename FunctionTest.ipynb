{
 "cells": [
  {
   "cell_type": "markdown",
   "metadata": {},
   "source": [
    "<img src=\"http://2.bp.blogspot.com/-H2m-BFydExw/Wkc9gJQE8GI/AAAAAAAAcZI/pJhLUIEj9zMe2fmVsQuK2UWFbrVagaongCK4BGAYYCw/s0/%25E6%2588%2590%25E5%258A%259F%25E9%2581%258E%25E7%25A8%258B.png\"\n",
    "style=\"width:100px;height:100px;float:left\"><br/><br/><br/><br/><br/>  \n",
    "### 專案名稱: python測試  \n",
    "### 功能描述: 函數測試\n",
    "### 版權所有: Dunk  \n",
    "### 程式撰寫: Dunk  \n",
    "### 參考網址: https://www.runoob.com/python3/python3-function.html\n",
    "### 撰寫日期：2020/02/18\n",
    "### 改版日期:  \n",
    "### 改版備註:  "
   ]
  },
  {
   "cell_type": "markdown",
   "metadata": {},
   "source": [
    "# 定义一个函数\n",
    "### 你可以定义一个由自己想要功能的函数，以下是简单的规则：\n",
    "\n",
    "### 函数代码块以 def 关键词开头，后接函数标识符名称和圆括号 ()。\n",
    "\n",
    "### 任何传入参数和自变量必须放在圆括号中间，圆括号之间可以用于定义参数。\n",
    "\n",
    "### 函数的第一行语句可以选择性地使用文档字符串—用于存放函数说明。\n",
    "### 函数内容以冒号起始，并且缩进。\n",
    "### return [表达式] 结束函数，选择性地返回一个值给调用方。不带表达式的return相当于返回 None。"
   ]
  },
  {
   "cell_type": "code",
   "execution_count": 1,
   "metadata": {},
   "outputs": [
    {
     "name": "stdout",
     "output_type": "stream",
     "text": [
      "3\n"
     ]
    }
   ],
   "source": [
    "'''測試函數'''\n",
    "def count_str_length(input_str):\n",
    "    return len(input_str)\n",
    "\n",
    "print(count_str_length(\"123\"))"
   ]
  },
  {
   "cell_type": "markdown",
   "metadata": {},
   "source": [
    "参数传递\n",
    "在 python 中，类型属于对象，变量是没有类型的：\n",
    "更改(mutable)与不可更改(immutable)对象\n",
    "在 python 中，strings, tuples, 和 numbers 是不可更改的对象，而 list,dict 等则是可以修改的对象。\n",
    "\n",
    "不可变类型：变量赋值 a=5 后再赋值 a=10，这里实际是新生成一个 int 值对象 10，再让 a 指向它，而 5 被丢弃，不是改变a的值，相当于新生成了a。\n",
    "\n",
    "可变类型：变量赋值 la=[1,2,3,4] 后再赋值 la[2]=5 则是将 list la 的第三个元素值更改，本身la没有动，只是其内部的一部分值被修改了。\n",
    "\n",
    "python 函数的参数传递：\n",
    "\n",
    "不可变类型：类似 c++ 的值传递，如 整数、字符串、元组。如fun（a），传递的只是a的值，没有影响a对象本身。比如在 fun（a）内部修改 a 的值，只是修改另一个复制的对象，不会影响 a 本身。\n",
    "\n",
    "可变类型：类似 c++ 的引用传递，如 列表，字典。如 fun（la），则是将 la 真正的传过去，修改后fun外部的la也会受影响\n",
    "\n",
    "python 中一切都是对象，严格意义我们不能说值传递还是引用传递，我们应该说传不可变对象和传可变对象。"
   ]
  },
  {
   "cell_type": "code",
   "execution_count": 3,
   "metadata": {},
   "outputs": [
    {
     "name": "stdout",
     "output_type": "stream",
     "text": [
      "2\n"
     ]
    }
   ],
   "source": [
    "'''不可變'''\n",
    "def ChangeInt( a ):\n",
    "    a = 10\n",
    " \n",
    "b = 2\n",
    "ChangeInt(b)\n",
    "print( b ) # 结果是 2"
   ]
  },
  {
   "cell_type": "code",
   "execution_count": 4,
   "metadata": {},
   "outputs": [
    {
     "name": "stdout",
     "output_type": "stream",
     "text": [
      "函数内取值:  [10, 20, 30, [1, 2, 3, 4]]\n",
      "函数外取值:  [10, 20, 30, [1, 2, 3, 4]]\n"
     ]
    }
   ],
   "source": [
    "'''可變'''\n",
    "# 可写函数说明\n",
    "def changeme( mylist ):\n",
    "   \"修改传入的列表\"\n",
    "   mylist.append([1,2,3,4])\n",
    "   print (\"函数内取值: \", mylist)\n",
    "   return\n",
    " \n",
    "# 调用changeme函数\n",
    "mylist = [10,20,30]\n",
    "changeme( mylist )\n",
    "print (\"函数外取值: \", mylist)"
   ]
  },
  {
   "cell_type": "code",
   "execution_count": 23,
   "metadata": {},
   "outputs": [
    {
     "name": "stdout",
     "output_type": "stream",
     "text": [
      "你好\n",
      "我好\n",
      "<!>你好\n",
      "!!!你好\n",
      "你好\n",
      "()\n",
      "你好\n",
      "('!!!',)\n",
      "你好\n",
      "(['a', 'b', 'c'], 1, 2)\n",
      "你好\n",
      "{}\n",
      "你好\n",
      "{'a': 1, 'b': 2}\n",
      "6\n"
     ]
    }
   ],
   "source": [
    "'''參數'''\n",
    "def print_string(input_str):\n",
    "    \"\"\"列印輸入字串\"\"\"\n",
    "    print(input_str)\n",
    "    return\n",
    "#必需參數\n",
    "print_string(\"你好\")\n",
    "#關鍵字參數\n",
    "print_string(input_str=\"我好\")\n",
    "\n",
    "def print_default(input_str,prefix='<!>'):\n",
    "    \"\"\"列印輸入字串(默認值)\"\"\"\n",
    "    print(prefix + input_str)\n",
    "    return\n",
    "#默認參數\n",
    "print_default(\"你好\")\n",
    "print_default(\"你好\",\"!!!\")\n",
    "\n",
    "def print_variable(input_str,*variable):\n",
    "    \"\"\"列印輸入字串(不定數量參數)\"\"\"\n",
    "    print(input_str)\n",
    "    print(variable)\n",
    "    return\n",
    "#不定數量參數\n",
    "print_variable(\"你好\")\n",
    "print_variable(\"你好\",\"!!!\")\n",
    "print_variable(\"你好\",['a','b','c'],1,2)\n",
    "\n",
    "def print_dictionary(input_str,**variable):\n",
    "    \"\"\"列印輸入字串(字典方式傳入參數)\"\"\"\n",
    "    print(input_str)\n",
    "    print(variable)\n",
    "    return\n",
    "print_dictionary(\"你好\")\n",
    "print_dictionary(\"你好\",a=1,b=2)\n",
    "\n",
    "def f(a,b,*,c):\n",
    "    return a+b+c\n",
    "print(f(1,2,c=3))"
   ]
  },
  {
   "cell_type": "markdown",
   "metadata": {},
   "source": [
    "匿名函数\n",
    "python 使用 lambda 来创建匿名函数。\n",
    "\n",
    "所谓匿名，意即不再使用 def 语句这样标准的形式定义一个函数。\n",
    "\n",
    "lambda 只是一个表达式，函数体比 def 简单很多。\n",
    "lambda的主体是一个表达式，而不是一个代码块。仅仅能在lambda表达式中封装有限的逻辑进去。\n",
    "lambda 函数拥有自己的命名空间，且不能访问自己参数列表之外或全局命名空间里的参数。\n",
    "虽然lambda函数看起来只能写一行，却不等同于C或C++的内联函数，后者的目的是调用小函数时不占用栈内存从而增加运行效率。"
   ]
  },
  {
   "cell_type": "code",
   "execution_count": 25,
   "metadata": {},
   "outputs": [
    {
     "name": "stdout",
     "output_type": "stream",
     "text": [
      "3\n"
     ]
    }
   ],
   "source": [
    "'''lambda表示式'''\n",
    "sum = lambda arg1, arg2: arg1 + arg2\n",
    "print(sum(1,2))"
   ]
  }
 ],
 "metadata": {
  "kernelspec": {
   "display_name": "Python 3",
   "language": "python",
   "name": "python3"
  },
  "language_info": {
   "codemirror_mode": {
    "name": "ipython",
    "version": 3
   },
   "file_extension": ".py",
   "mimetype": "text/x-python",
   "name": "python",
   "nbconvert_exporter": "python",
   "pygments_lexer": "ipython3",
   "version": "3.7.4"
  }
 },
 "nbformat": 4,
 "nbformat_minor": 2
}
