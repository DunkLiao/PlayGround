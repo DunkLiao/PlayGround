{
 "cells": [
  {
   "cell_type": "markdown",
   "metadata": {},
   "source": [
    "<img src=\"http://2.bp.blogspot.com/-H2m-BFydExw/Wkc9gJQE8GI/AAAAAAAAcZI/pJhLUIEj9zMe2fmVsQuK2UWFbrVagaongCK4BGAYYCw/s0/%25E6%2588%2590%25E5%258A%259F%25E9%2581%258E%25E7%25A8%258B.png\"\n",
    "style=\"width:100px;height:100px;float:left\"><br/><br/><br/><br/><br/>  \n",
    "### 專案名稱: python測試  \n",
    "### 功能描述: 基本指令測試\n",
    "### 版權所有: Dunk  \n",
    "### 程式撰寫: Dunk  \n",
    "### 參考網址: https://www.runoob.com/python3/python3-basic-syntax.html\n",
    "### 撰寫日期：2020/02/15\n",
    "### 改版日期:  \n",
    "### 改版備註:  "
   ]
  },
  {
   "cell_type": "code",
   "execution_count": 4,
   "metadata": {},
   "outputs": [
    {
     "data": {
      "text/plain": [
       "['False',\n",
       " 'None',\n",
       " 'True',\n",
       " 'and',\n",
       " 'as',\n",
       " 'assert',\n",
       " 'break',\n",
       " 'class',\n",
       " 'continue',\n",
       " 'def',\n",
       " 'del',\n",
       " 'elif',\n",
       " 'else',\n",
       " 'except',\n",
       " 'finally',\n",
       " 'for',\n",
       " 'from',\n",
       " 'global',\n",
       " 'if',\n",
       " 'import',\n",
       " 'in',\n",
       " 'is',\n",
       " 'lambda',\n",
       " 'nonlocal',\n",
       " 'not',\n",
       " 'or',\n",
       " 'pass',\n",
       " 'raise',\n",
       " 'return',\n",
       " 'try',\n",
       " 'while',\n",
       " 'with',\n",
       " 'yield']"
      ]
     },
     "execution_count": 4,
     "metadata": {},
     "output_type": "execute_result"
    }
   ],
   "source": [
    "'''列出關鍵字'''\n",
    "import keyword\n",
    "keyword.kwlist"
   ]
  },
  {
   "cell_type": "code",
   "execution_count": 6,
   "metadata": {},
   "outputs": [
    {
     "name": "stdout",
     "output_type": "stream",
     "text": [
      "Hello, Python!\n"
     ]
    }
   ],
   "source": [
    "# 第一个注释\n",
    "# 第二个注释\n",
    " \n",
    "'''\n",
    "第三注释\n",
    "第四注释\n",
    "'''\n",
    " \n",
    "\"\"\"\n",
    "第五注释\n",
    "第六注释\n",
    "\"\"\"\n",
    "print (\"Hello, Python!\")"
   ]
  },
  {
   "cell_type": "code",
   "execution_count": 9,
   "metadata": {},
   "outputs": [
    {
     "name": "stdout",
     "output_type": "stream",
     "text": [
      "Yes\n"
     ]
    }
   ],
   "source": [
    "'''縮排為四個半形空白'''\n",
    "if True:\n",
    "    print(\"Yes\")\n",
    "else:\n",
    "    print(\"No\")"
   ]
  },
  {
   "cell_type": "code",
   "execution_count": 16,
   "metadata": {},
   "outputs": [
    {
     "name": "stdout",
     "output_type": "stream",
     "text": [
      "123\n",
      "['item_one', 'item_two', 'item_three', 'item_four', 'item_five']\n"
     ]
    }
   ],
   "source": [
    "'''同一行分在多行寫，用反斜槓'''\n",
    "total = \"1\" + \\\n",
    "        \"2\" + \\\n",
    "        \"3\"\n",
    "print(total)\n",
    "# 在 [], {}, 或 () 中的多行语句，不需要使用反斜杠(\\)，例如：\n",
    "total = ['item_one', 'item_two', 'item_three',\n",
    "        'item_four', 'item_five']\n",
    "print(total)"
   ]
  },
  {
   "cell_type": "code",
   "execution_count": 17,
   "metadata": {},
   "outputs": [
    {
     "name": "stdout",
     "output_type": "stream",
     "text": [
      "請輸入:42342\n",
      "42342\n"
     ]
    }
   ],
   "source": [
    "'''等待輸入'''\n",
    "input_val = input(\"請輸入:\")\n",
    "print(input_val)"
   ]
  },
  {
   "cell_type": "code",
   "execution_count": 34,
   "metadata": {},
   "outputs": [
    {
     "name": "stdout",
     "output_type": "stream",
     "text": [
      "runoob\n",
      "\n"
     ]
    }
   ],
   "source": [
    "'''同一行輸入多個語句(用分號分隔)'''\n",
    "import sys; x = 'runoob'; print(x + '\\n')\n",
    "#不顯示(加上分號)\n",
    "display_str = 'you can not see me'\n",
    "display_str;"
   ]
  },
  {
   "cell_type": "code",
   "execution_count": 41,
   "metadata": {},
   "outputs": [
    {
     "name": "stdout",
     "output_type": "stream",
     "text": [
      "ENTER ELSEIF\n"
     ]
    }
   ],
   "source": [
    "'''條件判斷'''\n",
    "test_case = 'AAA'\n",
    "if test_case =='ABA':\n",
    "    print(\"ENTER IF\")\n",
    "elif test_case == 'AAA':\n",
    "    print(\"ENTER ELSEIF\")\n",
    "else:\n",
    "    print(\"ENTER ELSE\")"
   ]
  },
  {
   "cell_type": "code",
   "execution_count": 47,
   "metadata": {},
   "outputs": [
    {
     "name": "stdout",
     "output_type": "stream",
     "text": [
      "A\n",
      "B\n",
      "---\n",
      "A B "
     ]
    }
   ],
   "source": [
    "'''print不換行輸出'''\n",
    "print('A')\n",
    "print('B')\n",
    "print('---')\n",
    "print('A',end=' ')\n",
    "print('B',end=' ')"
   ]
  },
  {
   "cell_type": "code",
   "execution_count": 50,
   "metadata": {},
   "outputs": [
    {
     "data": {
      "text/plain": [
       "['',\n",
       " 'D:\\\\software\\\\WinPython\\\\python-3.5.4.amd64\\\\python35.zip',\n",
       " 'D:\\\\software\\\\WinPython\\\\python-3.5.4.amd64\\\\DLLs',\n",
       " 'D:\\\\software\\\\WinPython\\\\python-3.5.4.amd64\\\\lib',\n",
       " 'D:\\\\software\\\\WinPython\\\\python-3.5.4.amd64',\n",
       " 'D:\\\\software\\\\WinPython\\\\python-3.5.4.amd64\\\\lib\\\\site-packages',\n",
       " 'D:\\\\software\\\\WinPython\\\\settings\\\\.spyder-py3\\\\code_py',\n",
       " 'D:\\\\software\\\\WinPython\\\\python-3.5.4.amd64\\\\lib\\\\site-packages\\\\win32',\n",
       " 'D:\\\\software\\\\WinPython\\\\python-3.5.4.amd64\\\\lib\\\\site-packages\\\\win32\\\\lib',\n",
       " 'D:\\\\software\\\\WinPython\\\\python-3.5.4.amd64\\\\lib\\\\site-packages\\\\Pythonwin',\n",
       " 'D:\\\\software\\\\WinPython\\\\python-3.5.4.amd64\\\\lib\\\\site-packages\\\\IPython\\\\extensions',\n",
       " 'D:\\\\software\\\\WinPython\\\\settings\\\\.ipython']"
      ]
     },
     "execution_count": 50,
     "metadata": {},
     "output_type": "execute_result"
    }
   ],
   "source": [
    "'''import'''\n",
    "from sys import argv,path\n",
    "path"
   ]
  },
  {
   "cell_type": "code",
   "execution_count": null,
   "metadata": {},
   "outputs": [],
   "source": []
  }
 ],
 "metadata": {
  "kernelspec": {
   "display_name": "Python 3",
   "language": "python",
   "name": "python3"
  },
  "language_info": {
   "codemirror_mode": {
    "name": "ipython",
    "version": 3
   },
   "file_extension": ".py",
   "mimetype": "text/x-python",
   "name": "python",
   "nbconvert_exporter": "python",
   "pygments_lexer": "ipython3",
   "version": "3.5.4"
  }
 },
 "nbformat": 4,
 "nbformat_minor": 2
}
