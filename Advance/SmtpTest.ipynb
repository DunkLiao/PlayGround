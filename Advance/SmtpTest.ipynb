{
 "cells": [
  {
   "cell_type": "markdown",
   "metadata": {},
   "source": [
    "<img src=\"http://2.bp.blogspot.com/-H2m-BFydExw/Wkc9gJQE8GI/AAAAAAAAcZI/pJhLUIEj9zMe2fmVsQuK2UWFbrVagaongCK4BGAYYCw/s0/%25E6%2588%2590%25E5%258A%259F%25E9%2581%258E%25E7%25A8%258B.png\"\n",
    "style=\"width:100px;height:100px;float:left\"><br/><br/><br/><br/><br/>  \n",
    "### 專案名稱: python測試  \n",
    "### 功能描述: 郵件寄送測試\n",
    "### 版權所有: Dunk  \n",
    "### 程式撰寫: Dunk  \n",
    "### 參考網址: https://www.runoob.com/python3/python3-smtp.html\n",
    "### 撰寫日期：2020/02/19\n",
    "### 改版日期:  \n",
    "### 改版備註:  "
   ]
  },
  {
   "cell_type": "code",
   "execution_count": null,
   "metadata": {},
   "outputs": [],
   "source": [
    "import smtplib\n",
    "from email.mime.text import MIMEText\n",
    "from email.header import Header\n",
    " \n",
    "# 第三方 SMTP 服务\n",
    "mail_host=\"aaa.bbb.com.tw\"  #设置服务器\n",
    "mail_user=\"213124\"    #用户名\n",
    "mail_pass=\"13214214\"   #口令 \n",
    " \n",
    "sender = '134719@mail.bot.com.tw'\n",
    "receivers = ['134719@mail.bot.com.tw']  # 接收邮件，可设置为你的QQ邮箱或者其他邮箱\n",
    "    \n",
    "# 三个参数：第一个为文本内容，第二个 plain 设置文本格式，第三个 utf-8 设置编码\n",
    "message = MIMEText('Python 邮件发送测试...', 'plain', 'utf-8')\n",
    "message['From'] = Header(\"菜鸟教程\", 'utf-8')     # 发送者\n",
    "message['To'] =  Header(\"测试\", 'utf-8')          # 接收者\n",
    " \n",
    "subject = 'Python SMTP 邮件测试'\n",
    "message['Subject'] = Header(subject, 'utf-8')\n",
    " \n",
    " \n",
    "try:\n",
    "    smtpObj = smtplib.SMTP() \n",
    "    smtpObj.connect(mail_host, 25)    # 25 为 SMTP 端口号\n",
    "    smtpObj.login(mail_user,mail_pass)  \n",
    "    smtpObj.sendmail(sender, receivers, message.as_string())\n",
    "    print (\"邮件发送成功\")\n",
    "except smtplib.SMTPException as e:\n",
    "    print (e.args)"
   ]
  }
 ],
 "metadata": {
  "kernelspec": {
   "display_name": "Python 3",
   "language": "python",
   "name": "python3"
  },
  "language_info": {
   "codemirror_mode": {
    "name": "ipython",
    "version": 3
   },
   "file_extension": ".py",
   "mimetype": "text/x-python",
   "name": "python",
   "nbconvert_exporter": "python",
   "pygments_lexer": "ipython3",
   "version": "3.5.4"
  }
 },
 "nbformat": 4,
 "nbformat_minor": 2
}
