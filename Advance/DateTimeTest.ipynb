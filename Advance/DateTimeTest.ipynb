{
 "cells": [
  {
   "cell_type": "markdown",
   "metadata": {},
   "source": [
    "<img src=\"http://2.bp.blogspot.com/-H2m-BFydExw/Wkc9gJQE8GI/AAAAAAAAcZI/pJhLUIEj9zMe2fmVsQuK2UWFbrVagaongCK4BGAYYCw/s0/%25E6%2588%2590%25E5%258A%259F%25E9%2581%258E%25E7%25A8%258B.png\"\n",
    "style=\"width:100px;height:100px;float:left\"><br/><br/><br/><br/><br/>  \n",
    "### 專案名稱: python測試  \n",
    "### 功能描述: 日期時間測試\n",
    "### 版權所有: Dunk  \n",
    "### 程式撰寫: Dunk  \n",
    "### 參考網址: https://www.runoob.com/python3/python3-date-time.html\n",
    "### 撰寫日期：2020/02/21\n",
    "### 改版日期:  \n",
    "### 改版備註: "
   ]
  },
  {
   "cell_type": "code",
   "execution_count": 13,
   "metadata": {},
   "outputs": [
    {
     "name": "stdout",
     "output_type": "stream",
     "text": [
      "目前時間戳記為 1582267866.7943156\n",
      "本地時間為 time.struct_time(tm_year=2020, tm_mon=2, tm_mday=21, tm_hour=14, tm_min=51, tm_sec=6, tm_wday=4, tm_yday=52, tm_isdst=0)\n"
     ]
    }
   ],
   "source": [
    "'''時間'''\n",
    "import time\n",
    "ticks = time.time()\n",
    "print (\"目前時間戳記為\", ticks)\n",
    "localtime = time.localtime(time.time())\n",
    "print (\"本地時間為\", localtime)"
   ]
  },
  {
   "cell_type": "markdown",
   "metadata": {},
   "source": [
    "###    时间元组（年、月、日、时、分、秒、一周的第几日、一年的第几日、夏令时）\n",
    ">- 一周的第几日: 0-6\n",
    ">- 一年的第几日: 1-366\n",
    ">- 夏令时: -1, 0, 1\n",
    "\n",
    "***\n",
    "###    python中时间日期格式化符号：    \n",
    ">- %y 两位数的年份表示（00-99）\n",
    ">- %Y 四位数的年份表示（000-9999）\n",
    ">- %m 月份（01-12）\n",
    ">- %d 月内中的一天（0-31）\n",
    ">- %H 24小时制小时数（0-23）\n",
    ">- %I 12小时制小时数（01-12）\n",
    ">- %M 分钟数（00=59）\n",
    ">- %S 秒（00-59）\n",
    ">- %a 本地简化星期名称\n",
    ">- %A 本地完整星期名称\n",
    ">- %b 本地简化的月份名称\n",
    ">- %B 本地完整的月份名称\n",
    ">- %c 本地相应的日期表示和时间表示\n",
    ">- %j 年内的一天（001-366）\n",
    ">- %p 本地A.M.或P.M.的等价符\n",
    ">- %U 一年中的星期数（00-53）星期天为星期的开始\n",
    ">- %w 星期（0-6），星期天为星期的开始\n",
    ">- %W 一年中的星期数（00-53）星期一为星期的开始\n",
    ">- %x 本地相应的日期表示\n",
    ">- %X 本地相应的时间表示\n",
    ">- %Z 当前时区的名称  # 乱码\n",
    ">- %% %号"
   ]
  },
  {
   "cell_type": "code",
   "execution_count": 14,
   "metadata": {},
   "outputs": [
    {
     "name": "stdout",
     "output_type": "stream",
     "text": [
      "2020-02-21 14:51:06\n",
      "Fri Feb 21 14:51:06 2020\n",
      "1459175064.0\n"
     ]
    }
   ],
   "source": [
    "'''格式化時間'''\n",
    "# 格式化成2016-03-20 11:45:39形式\n",
    "print (time.strftime(\"%Y-%m-%d %H:%M:%S\", time.localtime()))\n",
    "\n",
    "# 格式化成Sat Mar 28 22:24:24 2016形式\n",
    "print (time.strftime(\"%a %b %d %H:%M:%S %Y\", time.localtime()))\n",
    "  \n",
    "# 将格式字符串转换为时间戳\n",
    "a = \"Sat Mar 28 22:24:24 2016\"\n",
    "print (time.mktime(time.strptime(a,\"%a %b %d %H:%M:%S %Y\")))"
   ]
  },
  {
   "cell_type": "code",
   "execution_count": 15,
   "metadata": {},
   "outputs": [
    {
     "name": "stdout",
     "output_type": "stream",
     "text": [
      "以下输出2016年1月份的日历:\n",
      "    January 2016\n",
      "Mo Tu We Th Fr Sa Su\n",
      "             1  2  3\n",
      " 4  5  6  7  8  9 10\n",
      "11 12 13 14 15 16 17\n",
      "18 19 20 21 22 23 24\n",
      "25 26 27 28 29 30 31\n",
      "\n"
     ]
    }
   ],
   "source": [
    "'''月曆'''\n",
    "import calendar\n",
    "\n",
    "cal = calendar.month(2016, 1)\n",
    "print (\"以下输出2016年1月份的日历:\")\n",
    "print (cal)"
   ]
  },
  {
   "cell_type": "code",
   "execution_count": 16,
   "metadata": {},
   "outputs": [
    {
     "name": "stdout",
     "output_type": "stream",
     "text": [
      "time.struct_time(tm_year=2018, tm_mon=9, tm_mday=30, tm_hour=11, tm_min=32, tm_sec=23, tm_wday=6, tm_yday=273, tm_isdst=-1)\n"
     ]
    }
   ],
   "source": [
    "'''練習用'''\n",
    "# （1）当前时间戳\n",
    "# 1538271871.226226\n",
    "time.time()\n",
    "\n",
    "\n",
    "# （2）时间戳 → 时间元组，默认为当前时间\n",
    "# time.struct_time(tm_year=2018, tm_mon=9, tm_mday=3, tm_hour=9, tm_min=4, tm_sec=1, tm_wday=6, tm_yday=246, tm_isdst=0)\n",
    "time.localtime()\n",
    "time.localtime(1538271871.226226)\n",
    "\n",
    "\n",
    "# （3）时间戳 → 可视化时间\n",
    "# time.ctime(时间戳)，默认为当前时间\n",
    "time.ctime(1538271871.226226)\n",
    "\n",
    "\n",
    "# （4）时间元组 → 时间戳\n",
    "# 1538271871\n",
    "time.mktime((2018, 9, 30, 9, 44, 31, 6, 273, 0))\n",
    "\n",
    "\n",
    "# （5）时间元组 → 可视化时间\n",
    "# time.asctime(时间元组)，默认为当前时间\n",
    "time.asctime()\n",
    "time.asctime((2018, 9, 30, 9, 44, 31, 6, 273, 0))\n",
    "time.asctime(time.localtime(1538271871.226226))\n",
    "\n",
    "\n",
    "# （6）时间元组 → 可视化时间（定制）\n",
    "# time.strftime(要转换成的格式，时间元组)\n",
    "time.strftime(\"%Y-%m-%d %H:%M:%S\", time.localtime())\n",
    "\n",
    "\n",
    "# （7）可视化时间（定制） → 时间元祖\n",
    "# time.strptime(时间字符串，时间格式)\n",
    "print(time.strptime('2018-9-30 11:32:23', '%Y-%m-%d %H:%M:%S'))\n",
    "\n"
   ]
  },
  {
   "cell_type": "code",
   "execution_count": 17,
   "metadata": {},
   "outputs": [
    {
     "name": "stdout",
     "output_type": "stream",
     "text": [
      "-----------执行开始----------\n",
      "100%[**************************************************->]5.00s\n",
      "-----------执行结果----------\n"
     ]
    }
   ],
   "source": [
    "'''進度條'''\n",
    "scale = 50 \n",
    "# .center() 控制输出的样式，宽度为 25//2，即 22，汉字居中，两侧填充 -\n",
    "print(\"执行开始\".center(scale//2,\"-\"))\n",
    "'''\n",
    "调用一次 perf_counter()，从计算机系统里随机选一个时间点A，计算其距离当前时间点B1有多少秒。当第二次调用该函数时，\n",
    "默认从第一次调用的时间点A算起，距离当前时间点B2有多少秒。两个函数取差，即实现从时间点B1到B2的计时功能。\n",
    "'''\n",
    "start = time.perf_counter()\n",
    "for i in range(scale+1):   \n",
    "    # i 个长度的 * 符号\n",
    "    a = '*' * i\n",
    "    # scale-i） 个长度的 . 符号。符号 * 和 . 总长度为50 \n",
    "    b = '.' * (scale-i)\n",
    "    # 显示当前进度，百分之多少\n",
    "    c = (i/scale)*100\n",
    "    # 计时，计算进度条走到某一百分比的用时\n",
    "    dur = time.perf_counter() - start\n",
    "    '''\n",
    "    \\r用来在每次输出完成后，将光标移至行首，这样保证进度条始终在同一行输出，即在一行不断刷新的效果；{:^3.0f}，\n",
    "    输出格式为居中，占3位，小数点后0位，浮点型数，对应输出的数为c；{}，对应输出的数为a；{}，对应输出的数为b；\n",
    "    {:.2f}，输出有两位小数的浮点数，对应输出的数为dur；end=''，用来保证不换行，不加这句默认换行。\n",
    "    '''\n",
    "    print(\"\\r{:^3.0f}%[{}->{}]{:.2f}s\".format(c,a,b,dur),end='')\n",
    "    # 在输出下一个百分之几的进度前，停止0.1秒\n",
    "    time.sleep(0.1)\n",
    "print(\"\\n\"+\"执行结果\".center(scale//2,'-'))"
   ]
  }
 ],
 "metadata": {
  "kernelspec": {
   "display_name": "Python 3",
   "language": "python",
   "name": "python3"
  },
  "language_info": {
   "codemirror_mode": {
    "name": "ipython",
    "version": 3
   },
   "file_extension": ".py",
   "mimetype": "text/x-python",
   "name": "python",
   "nbconvert_exporter": "python",
   "pygments_lexer": "ipython3",
   "version": "3.7.6"
  }
 },
 "nbformat": 4,
 "nbformat_minor": 2
}
