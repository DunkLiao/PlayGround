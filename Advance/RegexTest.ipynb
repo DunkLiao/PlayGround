{
 "cells": [
  {
   "cell_type": "markdown",
   "metadata": {},
   "source": [
    "<img src=\"http://2.bp.blogspot.com/-H2m-BFydExw/Wkc9gJQE8GI/AAAAAAAAcZI/pJhLUIEj9zMe2fmVsQuK2UWFbrVagaongCK4BGAYYCw/s0/%25E6%2588%2590%25E5%258A%259F%25E9%2581%258E%25E7%25A8%258B.png\"\n",
    "style=\"width:100px;height:100px;float:left\"><br/><br/><br/><br/><br/>  \n",
    "### 專案名稱: python測試  \n",
    "### 功能描述: 正規表示式測試\n",
    "### 版權所有: Dunk  \n",
    "### 程式撰寫: Dunk  \n",
    "### 參考網址: https://www.runoob.com/python3/python3-reg-expressions.html\n",
    "### 撰寫日期：2020/02/21\n",
    "### 改版日期:  \n",
    "### 改版備註:  "
   ]
  },
  {
   "cell_type": "markdown",
   "metadata": {},
   "source": [
    "<h2>正则表达式对象</h2>\n",
    "<h3>\n",
    "re.RegexObject\n",
    "</h3>\n",
    "\n",
    "<p>re.compile() 返回 RegexObject 对象。</p>\n",
    "\n",
    " \n",
    "<h3>\n",
    "re.MatchObject\n",
    "</h3>\n",
    "\n",
    "<p>group() 返回被 RE 匹配的字符串。</p>\n",
    "<ul><li>\n",
    "<span class=\"marked\">start()</span> 返回匹配开始的位置\n",
    "</li><li>\n",
    "<span class=\"marked\">end()</span> 返回匹配结束的位置\n",
    "</li><li>\n",
    "<span class=\"marked\">span()</span> 返回一个元组包含匹配 (开始,结束) 的位置\n",
    "</li></ul>\n",
    "<hr>\n",
    "<h2 id=\"flags\">正则表达式修饰符 - 可选标志</h2>\n",
    "<p>正则表达式可以包含一些可选标志修饰符来控制匹配的模式。修饰符被指定为一个可选的标志。多个标志可以通过按位 OR(|) 它们来指定。如 re.I | re.M 被设置成 I 和 M 标志：</p>\n",
    "<table class=\"reference\">\n",
    "<tbody><tr><th style=\"width:25%\">修饰符</th><th>描述</th></tr>\n",
    "<tr><td>re.I</td><td>使匹配对大小写不敏感</td></tr>\n",
    "<tr><td>re.L</td><td>做本地化识别（locale-aware）匹配</td></tr>\n",
    "<tr><td>re.M</td><td>多行匹配，影响 ^ 和 $</td></tr>\n",
    "<tr><td>re.S</td><td>使 . 匹配包括换行在内的所有字符</td></tr>\n",
    "<tr><td>re.U</td><td>根据Unicode字符集解析字符。这个标志影响 \\w, \\W, \\b, \\B.</td></tr>\n",
    "<tr><td>re.X</td><td>该标志通过给予你更灵活的格式以便你将正则表达式写得更易于理解。</td></tr>\n",
    "</tbody></table>\n",
    "\n",
    "<hr>\n",
    "<h2>正则表达式模式</h2>\n",
    "<p>模式字符串使用特殊的语法来表示一个正则表达式：</p>\n",
    "\n",
    "<p>字母和数字表示他们自身。一个正则表达式模式中的字母和数字匹配同样的字符串。</p>\n",
    "\n",
    "<p>多数字母和数字前加一个反斜杠时会拥有不同的含义。</p>\n",
    "\n",
    "<p>标点符号只有被转义时才匹配自身，否则它们表示特殊的含义。</p>\n",
    "\n",
    "<p>反斜杠本身需要使用反斜杠转义。</p>\n",
    "\n",
    "<p>由于正则表达式通常都包含反斜杠，所以你最好使用原始字符串来表示它们。模式元素(如 <span class=\"marked\">r'\\t'</span>，等价于 <span class=\"marked\">\\\\t</span> )匹配相应的特殊字符。</p>\n",
    "<p>下表列出了正则表达式模式语法中的特殊元素。如果你使用模式的同时提供了可选的标志参数，某些模式元素的含义会改变。</p>\n",
    "<table class=\"reference\">\n",
    "<tbody><tr><th style=\"width:25%\">模式</th><th>描述</th></tr>\n",
    "<tr><td>^</td><td>匹配字符串的开头</td></tr>\n",
    "<tr><td>$</td><td>匹配字符串的末尾。</td></tr>\n",
    "<tr><td>.</td><td>匹配任意字符，除了换行符，当re.DOTALL标记被指定时，则可以匹配包括换行符的任意字符。</td></tr>\n",
    "<tr><td>[...]</td><td>用来表示一组字符,单独列出：[amk] 匹配 'a'，'m'或'k'</td></tr>\n",
    "<tr><td>[^...]</td><td>不在[]中的字符：[^abc] 匹配除了a,b,c之外的字符。</td></tr>\n",
    "<tr><td>re*</td><td>匹配0个或多个的表达式。</td></tr>\n",
    "<tr><td>re+</td><td>匹配1个或多个的表达式。</td></tr>\n",
    "<tr><td>re?</td><td>   匹配0个或1个由前面的正则表达式定义的片段，非贪婪方式</td></tr>\n",
    "<tr><td>re{ n}</td><td>匹配n个前面表达式。例如，\"o{2}\"不能匹配\"Bob\"中的\"o\"，但是能匹配\"food\"中的两个o。</td></tr>\n",
    "<tr><td>re{ n,}</td><td>精确匹配n个前面表达式。例如，\"o{2,}\"不能匹配\"Bob\"中的\"o\"，但能匹配\"foooood\"中的所有o。\"o{1,}\"等价于\"o+\"。\"o{0,}\"则等价于\"o*\"。</td></tr>\n",
    "<tr><td>re{ n, m}</td><td>匹配 n 到 m 次由前面的正则表达式定义的片段，贪婪方式</td></tr>\n",
    "<tr><td>a| b</td><td>匹配a或b</td></tr>\n",
    "<tr><td>(re)</td><td>匹配括号内的表达式，也表示一个组</td></tr>\n",
    "<tr><td>(?imx)</td><td>正则表达式包含三种可选标志：i, m, 或 x 。只影响括号中的区域。</td></tr>\n",
    "<tr><td>(?-imx)</td><td>正则表达式关闭 i, m, 或 x 可选标志。只影响括号中的区域。</td></tr>\n",
    "<tr><td>(?: re)</td><td> 类似 (...), 但是不表示一个组</td></tr>\n",
    "<tr><td>(?imx: re)</td><td>在括号中使用i, m, 或 x 可选标志</td></tr>\n",
    "<tr><td>(?-imx: re)</td><td>在括号中不使用i, m, 或 x 可选标志</td></tr>\n",
    "<tr><td>(?#...)</td><td>注释.</td></tr>\n",
    "<tr><td>(?= re)</td><td>前向肯定界定符。如果所含正则表达式，以 ... 表示，在当前位置成功匹配时成功，否则失败。但一旦所含表达式已经尝试，匹配引擎根本没有提高；模式的剩余部分还要尝试界定符的右边。</td></tr>\n",
    "<tr><td>(?! re)</td><td>前向否定界定符。与肯定界定符相反；当所含表达式不能在字符串当前位置匹配时成功。</td></tr>\n",
    "<tr><td>(?&gt; re)</td><td>匹配的独立模式，省去回溯。</td></tr>\n",
    "<tr><td>\\w</td><td> 匹配数字字母下划线</td></tr>\n",
    "<tr><td>\\W</td><td>匹配非数字字母下划线</td></tr>\n",
    "<tr><td>\\s</td><td> 匹配任意空白字符，等价于 [\\t\\n\\r\\f]。</td></tr>\n",
    "<tr><td>\\S</td><td>匹配任意非空字符</td></tr>\n",
    "<tr><td>\\d</td><td> 匹配任意数字，等价于 [0-9]。</td></tr>\n",
    "<tr><td>\\D</td><td>匹配任意非数字</td></tr>\n",
    "<tr><td>\\A</td><td>匹配字符串开始</td></tr>\n",
    "<tr><td>\\Z</td><td>匹配字符串结束，如果是存在换行，只匹配到换行前的结束字符串。</td></tr>\n",
    "<tr><td>\\z</td><td>匹配字符串结束</td></tr>\n",
    "<tr><td>\\G</td><td>匹配最后匹配完成的位置。</td></tr>\n",
    "<tr><td>\\b</td><td>匹配一个单词边界，也就是指单词和空格间的位置。例如， 'er\\b' 可以匹配\"never\" 中的 'er'，但不能匹配 \"verb\" 中的 'er'。</td></tr>\n",
    "<tr><td>\\B</td><td>匹配非单词边界。'er\\B' 能匹配 \"verb\" 中的 'er'，但不能匹配 \"never\" 中的 'er'。</td></tr>\n",
    "<tr><td>\\n, \\t, 等。</td><td>匹配一个换行符。匹配一个制表符, 等</td></tr>\n",
    "<tr><td>\\1...\\9</td><td>匹配第n个分组的内容。</td></tr>\n",
    "<tr><td>\\10</td><td>匹配第n个分组的内容，如果它经匹配。否则指的是八进制字符码的表达式。</td></tr>\n",
    "</tbody></table>\n",
    "<hr><h2>\n",
    "正则表达式实例\n",
    "</h2>\n",
    "<h4>字符匹配</h4>\n",
    "<table class=\"reference\">\n",
    "<tbody><tr><th style=\"width:25%\">实例</th><th>描述</th></tr>\n",
    "<tr><td>python</td><td>匹配 \"python\". </td></tr>\n",
    "</tbody></table>\n",
    "<h4>字符类</h4>\n",
    "<table class=\"reference\">\n",
    "<tbody><tr><th style=\"width:25%\">实例</th><th>描述</th></tr>\n",
    "<tr><td>[Pp]ython </td><td>匹配 \"Python\" 或 \"python\"</td></tr>\n",
    "<tr><td>rub[ye]</td><td>匹配 \"ruby\" 或 \"rube\"</td></tr>\n",
    "<tr><td>[aeiou]</td><td>匹配中括号内的任意一个字母</td></tr>\n",
    "<tr><td>[0-9]</td><td>匹配任何数字。类似于 [0123456789]</td></tr>\n",
    "<tr><td>[a-z]</td><td>匹配任何小写字母</td></tr>\n",
    "<tr><td>[A-Z]</td><td>匹配任何大写字母</td></tr>\n",
    "<tr><td>[a-zA-Z0-9]</td><td>匹配任何字母及数字</td></tr>\n",
    "<tr><td>[^aeiou]</td><td>除了aeiou字母以外的所有字符 \n",
    "</td></tr>\n",
    "<tr><td>[^0-9]</td><td>匹配除了数字外的字符 \n",
    "</td></tr>\n",
    "</tbody></table>\n",
    "\n",
    "<h4>特殊字符类</h4>\n",
    "<table class=\"reference\">\n",
    "<tbody><tr><th style=\"width:25%\">实例</th><th>描述</th></tr>\n",
    "<tr><td>.</td><td>匹配除 \"\\n\" 之外的任何单个字符。要匹配包括 '\\n' 在内的任何字符，请使用象 '[.\\n]' 的模式。</td></tr>\n",
    "<tr><td>\\d</td><td>匹配一个数字字符。等价于 [0-9]。</td></tr>\n",
    "<tr><td>\\D </td><td>匹配一个非数字字符。等价于 [^0-9]。</td></tr>\n",
    "<tr><td>\\s</td><td>匹配任何空白字符，包括空格、制表符、换页符等等。等价于 [ \\f\\n\\r\\t\\v]。</td></tr>\n",
    "<tr><td>\\S </td><td>匹配任何非空白字符。等价于 [^ \\f\\n\\r\\t\\v]。</td></tr>\n",
    "<tr><td>\\w</td><td>匹配包括下划线的任何单词字符。等价于'[A-Za-z0-9_]'。</td></tr>\n",
    "<tr><td>\\W</td><td>匹配任何非单词字符。等价于 '[^A-Za-z0-9_]'。</td></tr>\n",
    "</tbody></table>\t"
   ]
  },
  {
   "cell_type": "code",
   "execution_count": 46,
   "metadata": {},
   "outputs": [],
   "source": [
    "'''呼叫元件'''\n",
    "import re"
   ]
  },
  {
   "cell_type": "code",
   "execution_count": 47,
   "metadata": {},
   "outputs": [
    {
     "name": "stdout",
     "output_type": "stream",
     "text": [
      "(0, 3)\n",
      "None\n"
     ]
    }
   ],
   "source": [
    "# re.match函数\n",
    "# re.match 尝试从字符串的起始位置匹配一个模式，如果不是起始位置匹配成功的话，match()就返回none。\n",
    "# 在起始位置匹配\n",
    "print(re.match('www', 'www.runoob.com').span())\n",
    "# 不在起始位置匹配\n",
    "print(re.match('com', 'www.runoob.com'))"
   ]
  },
  {
   "cell_type": "code",
   "execution_count": 48,
   "metadata": {},
   "outputs": [
    {
     "name": "stdout",
     "output_type": "stream",
     "text": [
      "matchObj.group() :  Cats are smarter than dogs\n",
      "matchObj.group(1) :  Cats\n",
      "matchObj.group(2) :  smarter\n"
     ]
    }
   ],
   "source": [
    "'''將符合正規表示式分批'''\n",
    "test_str = \"Cats are smarter than dogs\"\n",
    "matchObj = re.match( r'(.*) are (.*?) .*', test_str, re.M|re.I)\n",
    "if matchObj:\n",
    "    print (\"matchObj.group() : \", matchObj.group())  \n",
    "    print (\"matchObj.group(1) : \", matchObj.group(1))\n",
    "    print (\"matchObj.group(2) : \", matchObj.group(2))    \n",
    "else:\n",
    "   print (\"No match!!\")"
   ]
  },
  {
   "cell_type": "code",
   "execution_count": 49,
   "metadata": {},
   "outputs": [
    {
     "name": "stdout",
     "output_type": "stream",
     "text": [
      "(0, 3)\n",
      "www\n",
      "(11, 14)\n",
      "com\n",
      "None\n",
      "searchObj.group() :  Cats are smarter than dogs\n",
      "searchObj.group(1) :  Cats\n",
      "searchObj.group(2) :  smarter\n"
     ]
    }
   ],
   "source": [
    "# re.search方法\n",
    "# re.search 扫描整个字符串并返回第一个成功的匹配。\n",
    "\n",
    "# 在起始位置匹配\n",
    "print(re.search('www', 'www.runoob.com').span())\n",
    "print(re.search('www', 'www.runoob.com').group())\n",
    "\n",
    "# 不在起始位置匹配\n",
    "print(re.search('com', 'www.runoob.com').span())\n",
    "print(re.search('com', 'www.runoob.com').group())\n",
    "\n",
    "# 找不到\n",
    "print(re.search('comA', 'www.runoob.com'))\n",
    "\n",
    "#測試\n",
    "line = \"Cats are smarter than dogs\";\n",
    " \n",
    "searchObj = re.search( r'(.*) are (.*?) .*', line, re.M|re.I)\n",
    " \n",
    "if searchObj:\n",
    "   print (\"searchObj.group() : \", searchObj.group())\n",
    "   print (\"searchObj.group(1) : \", searchObj.group(1))\n",
    "   print (\"searchObj.group(2) : \", searchObj.group(2))\n",
    "else:\n",
    "   print (\"Nothing found!!\")"
   ]
  },
  {
   "cell_type": "markdown",
   "metadata": {},
   "source": [
    "#### re.match与re.search的区别\n",
    "#### re.match只匹配字符串的开始，如果字符串开始不符合正则表达式，则匹配失败，函数返回None；而re.search匹配整个字符串，直到找到一个匹配。"
   ]
  },
  {
   "cell_type": "code",
   "execution_count": 50,
   "metadata": {},
   "outputs": [
    {
     "name": "stdout",
     "output_type": "stream",
     "text": [
      "电话号码 :  2004-959-559 \n",
      "电话号码 :  2004959559\n"
     ]
    }
   ],
   "source": [
    "# re.sub用于替换字符串中的匹配项。\n",
    "phone = \"2004-959-559 # 这是一个电话号码\"\n",
    "\n",
    "# 删除注释\n",
    "num = re.sub(r'#.*$', \"\", phone)\n",
    "print (\"电话号码 : \", num)\n",
    " \n",
    "# 移除非数字的内容\n",
    "num = re.sub(r'\\D', \"\", phone)\n",
    "print (\"电话号码 : \", num)"
   ]
  },
  {
   "cell_type": "code",
   "execution_count": 51,
   "metadata": {},
   "outputs": [
    {
     "name": "stdout",
     "output_type": "stream",
     "text": [
      "A46G8HFD1134\n"
     ]
    }
   ],
   "source": [
    "# repl 参数是一个函数\n",
    "# 将匹配的数字乘于 2\n",
    "def double(matched):\n",
    "    value = int(matched.group('value'))\n",
    "    return str(value * 2)\n",
    " \n",
    "s = 'A23G4HFD567'\n",
    "print(re.sub('(?P<value>\\d+)', double, s))"
   ]
  },
  {
   "cell_type": "markdown",
   "metadata": {},
   "source": [
    "#### compile 函数用于编译正则表达式，生成一个正则表达式（ Pattern ）对象，供 match() 和 search() 这两个函数使用。\n",
    "\n",
    "语法格式为：\n",
    "\n",
    "re.compile(pattern[, flags])\n",
    "参数：\n",
    "\n",
    ">- pattern : 一个字符串形式的正则表达式\n",
    "\n",
    ">- flags 可选，表示匹配模式，比如忽略大小写，多行模式等，具体参数为：\n",
    ">>- re.I 忽略大小写\n",
    ">>- re.L 表示特殊字符集 \\w, \\W, \\b, \\B, \\s, \\S 依赖于当前环境\n",
    ">>- re.M 多行模式\n",
    ">>- re.S 即为' . '并且包括换行符在内的任意字符（' . '不包括换行符）\n",
    ">>- re.U 表示特殊字符集 \\w, \\W, \\b, \\B, \\d, \\D, \\s, \\S 依赖于 Unicode 字符属性数据库\n",
    ">>- re.X 为了增加可读性，忽略空格和' # '后面的注释\n",
    "\n",
    "在上面，当匹配成功时返回一个 Match 对象，其中：\n",
    ">- group([group1, …]) 方法用于获得一个或多个分组匹配的字符串，当要获得整个匹配的子串时，可直接使用 group() 或 group(0)；\n",
    ">- start([group]) 方法用于获取分组匹配的子串在整个字符串中的起始位置（子串第一个字符的索引），参数默认值为 0；\n",
    ">- end([group]) 方法用于获取分组匹配的子串在整个字符串中的结束位置（子串最后一个字符的索引+1），参数默认值为 0；\n",
    ">- span([group]) 方法返回 (start(group), end(group))。"
   ]
  },
  {
   "cell_type": "code",
   "execution_count": 52,
   "metadata": {},
   "outputs": [
    {
     "name": "stdout",
     "output_type": "stream",
     "text": [
      "None\n",
      "None\n",
      "<re.Match object; span=(3, 5), match='12'>\n",
      "12\n",
      "3\n",
      "5\n",
      "(3, 5)\n"
     ]
    }
   ],
   "source": [
    "# compile 函数\n",
    "# compile 函数用于编译正则表达式，生成一个正则表达式（ Pattern ）对象，供 match() 和 search() 这两个函数使用。\n",
    "\n",
    "# 用于匹配至少一个数字\n",
    "pattern = re.compile(r'\\d+')\n",
    "# 查找头部，没有匹配\n",
    "m = pattern.match('one12twothree34four')\n",
    "print(m)\n",
    "\n",
    " # 从'e'的位置开始匹配，没有匹配\n",
    "m = pattern.match('one12twothree34four', 2, 10)\n",
    "print(m)\n",
    "\n",
    "# 从'1'的位置开始匹配，正好匹配\n",
    "m = pattern.match('one12twothree34four', 3, 10)\n",
    "# 返回一个 Match 对象\n",
    "print(m)\n",
    "\n",
    "# 可省略 0\n",
    "print(m.group(0))\n",
    "print(m.start(0))\n",
    "print(m.end(0))\n",
    "print(m.span(0))"
   ]
  },
  {
   "cell_type": "code",
   "execution_count": 53,
   "metadata": {},
   "outputs": [
    {
     "name": "stdout",
     "output_type": "stream",
     "text": [
      "<re.Match object; span=(0, 11), match='Hello World'>\n",
      "Hello World\n",
      "(0, 11)\n",
      "Hello\n",
      "(0, 5)\n",
      "World\n",
      "(6, 11)\n",
      "('Hello', 'World')\n"
     ]
    }
   ],
   "source": [
    "# compile 函数 續\n",
    "# re.I 表示忽略大小写\n",
    "pattern = re.compile(r'([a-z]+) ([a-z]+)', re.I)\n",
    "m = pattern.match('Hello World Wide Web')\n",
    "print(m)\n",
    "print(m.group(0))\n",
    "print(m.span(0))\n",
    "print(m.group(1))\n",
    "print(m.span(1))\n",
    "print(m.group(2))\n",
    "print(m.span(2))\n",
    "# 等价于 (m.group(1), m.group(2), ...)\n",
    "print(m.groups())"
   ]
  },
  {
   "cell_type": "code",
   "execution_count": 54,
   "metadata": {},
   "outputs": [
    {
     "name": "stdout",
     "output_type": "stream",
     "text": [
      "['123', '456']\n",
      "['88', '12']\n"
     ]
    }
   ],
   "source": [
    "# findall\n",
    "# 在字符串中找到正则表达式所匹配的所有子串，并返回一个列表，如果没有找到匹配的，则返回空列表。\n",
    "# 注意： match 和 search 是匹配一次 findall 匹配所有。\n",
    "pattern = re.compile(r'\\d+')   # 查找数字\n",
    "result1 = pattern.findall('runoob 123 google 456')\n",
    "result2 = pattern.findall('run88oob123google456', 0, 10)\n",
    " \n",
    "print(result1)\n",
    "print(result2)"
   ]
  },
  {
   "cell_type": "code",
   "execution_count": 55,
   "metadata": {},
   "outputs": [
    {
     "name": "stdout",
     "output_type": "stream",
     "text": [
      "12\n",
      "32\n",
      "43\n",
      "3\n"
     ]
    }
   ],
   "source": [
    "# re.finditer\n",
    "# 和 findall 类似，在字符串中找到正则表达式所匹配的所有子串，并把它们作为一个迭代器返回。\n",
    "it = re.finditer(r\"\\d+\",\"12a32bc43jf3\") \n",
    "for match in it: \n",
    "    print (match.group() )"
   ]
  },
  {
   "cell_type": "code",
   "execution_count": 56,
   "metadata": {},
   "outputs": [
    {
     "name": "stdout",
     "output_type": "stream",
     "text": [
      "['', ' ', 'runoob', ', ', 'runoob', ', ', 'runoob', '.', '']\n",
      "['', 'runoob, runoob, runoob.']\n",
      "['', 'h', 'e', 'l', 'l', 'o', ' ', 'w', 'o', 'r', 'l', 'd', '']\n"
     ]
    }
   ],
   "source": [
    "#re.split\n",
    "#split 方法按照能够匹配的子串将字符串分割后返回列表，它的使用形式如下：\n",
    "print(re.split('(\\W+)', ' runoob, runoob, runoob.'))\n",
    "print(re.split('\\W+', ' runoob, runoob, runoob.', 1))\n",
    "print(re.split('a*', 'hello world'))"
   ]
  }
 ],
 "metadata": {
  "kernelspec": {
   "display_name": "Python 3",
   "language": "python",
   "name": "python3"
  },
  "language_info": {
   "codemirror_mode": {
    "name": "ipython",
    "version": 3
   },
   "file_extension": ".py",
   "mimetype": "text/x-python",
   "name": "python",
   "nbconvert_exporter": "python",
   "pygments_lexer": "ipython3",
   "version": "3.7.6"
  }
 },
 "nbformat": 4,
 "nbformat_minor": 2
}
