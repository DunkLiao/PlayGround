{
 "cells": [
  {
   "cell_type": "markdown",
   "metadata": {},
   "source": [
    "<img src=\"http://2.bp.blogspot.com/-H2m-BFydExw/Wkc9gJQE8GI/AAAAAAAAcZI/pJhLUIEj9zMe2fmVsQuK2UWFbrVagaongCK4BGAYYCw/s0/%25E6%2588%2590%25E5%258A%259F%25E9%2581%258E%25E7%25A8%258B.png\"\n",
    "style=\"width:100px;height:100px;float:left\"><br/><br/><br/><br/><br/>  \n",
    "### 專案名稱: python測試  \n",
    "### 功能描述: JSON測試\n",
    "### 版權所有: Dunk  \n",
    "### 程式撰寫: Dunk  \n",
    "### 參考網址: https://www.runoob.com/python3/python3-json.html\n",
    "### 撰寫日期：2020/02/21\n",
    "### 改版日期:  \n",
    "### 改版備註: "
   ]
  },
  {
   "cell_type": "code",
   "execution_count": 9,
   "metadata": {},
   "outputs": [
    {
     "name": "stdout",
     "output_type": "stream",
     "text": [
      "{'姓名': '李小明', '性別': '男', 'sallary': 1000}\n",
      "{\"\\u59d3\\u540d\": \"\\u674e\\u5c0f\\u660e\", \"\\u6027\\u5225\": \"\\u7537\", \"sallary\": 1000}\n",
      "--------------\n",
      "data2['姓名']:  李小明\n",
      "data2['sallary']:  1000\n",
      "--------------\n",
      "{'姓名': '李小明', '性別': '男', 'sallary': 1000}\n"
     ]
    }
   ],
   "source": [
    "'''測試json'''\n",
    "import json\n",
    "data = {'姓名':'李小明','性別':'男','sallary':1000}\n",
    "\n",
    "#將dictionary寫成json資料\n",
    "json_str = json.dumps(data)\n",
    "print(data)\n",
    "print(json_str)\n",
    "print('--------------')\n",
    "\n",
    "#將json寫成dictionary資料\n",
    "data2 = json.loads(json_str)\n",
    "print (\"data2['姓名']: \", data2['姓名'])\n",
    "print (\"data2['sallary']: \", data2['sallary'])\n",
    "print('--------------')\n",
    "\n",
    "#寫入檔案資料\n",
    "with open('data.json', 'w') as f:\n",
    "    json.dump(data, f)\n",
    " \n",
    "#讀取資料\n",
    "with open('data.json', 'r') as f:\n",
    "    data3 = json.load(f)\n",
    "    print(data3)"
   ]
  }
 ],
 "metadata": {
  "kernelspec": {
   "display_name": "Python 3",
   "language": "python",
   "name": "python3"
  },
  "language_info": {
   "codemirror_mode": {
    "name": "ipython",
    "version": 3
   },
   "file_extension": ".py",
   "mimetype": "text/x-python",
   "name": "python",
   "nbconvert_exporter": "python",
   "pygments_lexer": "ipython3",
   "version": "3.7.6"
  }
 },
 "nbformat": 4,
 "nbformat_minor": 2
}
