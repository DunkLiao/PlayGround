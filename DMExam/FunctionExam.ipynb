{
 "cells": [
  {
   "cell_type": "markdown",
   "metadata": {},
   "source": [
    "### 專案名稱: 資料導向程式設計練習\n",
    "### 功能描述:  測試python指令\n",
    "### 版權所有: Dunk  \n",
    "### 程式撰寫: Dunk  \n",
    "### 撰寫日期：2020/11/10\n",
    "### 改版日期:  \n",
    "### 改版備註:  "
   ]
  },
  {
   "cell_type": "code",
   "execution_count": 7,
   "metadata": {},
   "outputs": [
    {
     "name": "stdout",
     "output_type": "stream",
     "text": [
      "[1, 3, 6, 8]\n",
      "<class 'list'>\n",
      "[1, 'peekabo', 6, 8]\n",
      "[1, 'peekabo', 6, 8, 'adff']\n",
      "[1, 'safari', 'peekabo', 6, 8, 'adff']\n",
      "[1, 'safari', 6, 8, 'adff']\n",
      "True\n"
     ]
    }
   ],
   "source": [
    "x = [1,3,6,8]\n",
    "print(x)\n",
    "print(type(x))\n",
    "x[1] = \"peekabo\"\n",
    "print(x)\n",
    "# 將元素新增在末端\n",
    "x.append(\"adff\")\n",
    "print(x)\n",
    "# 指定位置塞入元素\n",
    "x.insert(1,\"safari\")\n",
    "print(x)\n",
    "# 指定位置移除元素\n",
    "x.pop(2)\n",
    "print(x)\n",
    "print(\"safari\" in x)"
   ]
  },
  {
   "cell_type": "code",
   "execution_count": 14,
   "metadata": {},
   "outputs": [
    {
     "name": "stdout",
     "output_type": "stream",
     "text": [
      "[1, 2, 3, 5, 7]\n",
      "[7, 5, 3, 2, 1]\n",
      "['he', 'saw', 'six', 'small', 'foxes']\n"
     ]
    }
   ],
   "source": [
    "# 排序\n",
    "a = [7,2,5,1,3]\n",
    "print(sorted(a))\n",
    "print(sorted(a,reverse=True))\n",
    "\n",
    "# 依照字串長度升幕排序\n",
    "b =['saw','small','he','foxes','six']\n",
    "print(sorted(b,key=len))"
   ]
  },
  {
   "cell_type": "code",
   "execution_count": 17,
   "metadata": {},
   "outputs": [
    {
     "name": "stdout",
     "output_type": "stream",
     "text": [
      "((4, 5, 6), (7, 8))\n",
      "6\n",
      "2\n",
      "1\n"
     ]
    }
   ],
   "source": [
    "# tuple\n",
    "nested_tup = (4,5,6),(7,8)\n",
    "print(nested_tup)\n",
    "\n",
    "#解構值組\n",
    "tup = (4,5,6)\n",
    "a,b,c = tup\n",
    "print(c)\n",
    "\n",
    "#變數交換\n",
    "x,y = 1,2\n",
    "x,y = y,x\n",
    "print(x)\n",
    "print(y)"
   ]
  },
  {
   "cell_type": "code",
   "execution_count": 26,
   "metadata": {},
   "outputs": [
    {
     "name": "stdout",
     "output_type": "stream",
     "text": [
      "{'a': 'some value', 'b': [1, 2, 3, 4]}\n",
      "{'a': 'some value', 'b': [1, 2, 3, 4], 'c': 'baby'}\n",
      "[1, 2, 3, 4]\n",
      "there is no key\n",
      "{'a': 'some value', 'c': 'baby'}\n",
      "there is no key\n",
      "dict_items([('a', 'some value'), ('c', 'baby')])\n"
     ]
    }
   ],
   "source": [
    "# 字典\n",
    "d1 = {'a':'some value','b':[1,2,3,4]}\n",
    "print(d1)\n",
    "# 新增元素\n",
    "d1['c'] = 'baby'\n",
    "print(d1)\n",
    "# 取值\n",
    "print(d1['b'])\n",
    "print(d1.get('z','there is no key'))\n",
    "\n",
    "#刪除元素\n",
    "d1.pop('b')\n",
    "print(d1)\n",
    "print(d1.pop('z','there is no key'))\n",
    "#取物件\n",
    "print(d1.items())"
   ]
  },
  {
   "cell_type": "code",
   "execution_count": 29,
   "metadata": {},
   "outputs": [
    {
     "name": "stdout",
     "output_type": "stream",
     "text": [
      "{'a': 1, 'b': 0, 'c': 3}\n",
      "{'name': 'Tommy', 'age': 20}\n"
     ]
    }
   ],
   "source": [
    "# 更新字典\n",
    "a = {'a':1,'b':2}\n",
    "b = {'b':0,'c':3}\n",
    "a.update(b)\n",
    "print(a)\n",
    "# key value 合併轉成字典\n",
    "tmp = dict(zip(['name','age'],['Tommy',20]))\n",
    "print(tmp)"
   ]
  },
  {
   "cell_type": "code",
   "execution_count": 31,
   "metadata": {},
   "outputs": [
    {
     "name": "stdout",
     "output_type": "stream",
     "text": [
      "{1, 2, 3}\n",
      "{1, 2, 3}\n"
     ]
    }
   ],
   "source": [
    "# 集合\n",
    "a = set([2,2,2,1,3,3])\n",
    "print(a)\n",
    "a ={2,2,2,1,3,3}\n",
    "print(a)"
   ]
  },
  {
   "cell_type": "code",
   "execution_count": 33,
   "metadata": {},
   "outputs": [],
   "source": [
    "#DataFrame\n",
    "import pandas as pd\n",
    "df = pd.read_csv(\"NBApoints.csv\")"
   ]
  },
  {
   "cell_type": "code",
   "execution_count": 36,
   "metadata": {},
   "outputs": [
    {
     "name": "stdout",
     "output_type": "stream",
     "text": [
      "(476, 30)\n",
      "['AST', 'Age', 'BLK', 'DRB', 'FG', 'FGA', 'FT', 'FTA', 'G', 'GS', 'MP', 'ORB', 'PF', 'Player', 'Pos', 'Rk', 'STL', 'T', 'TOV', 'TRB', 'Tm', '_AXIS_ALIASES', '_AXIS_IALIASES', '_AXIS_LEN', '_AXIS_NAMES', '_AXIS_NUMBERS', '_AXIS_ORDERS', '_AXIS_REVERSED', '__abs__', '__add__', '__and__', '__annotations__', '__array__', '__array_priority__', '__array_wrap__', '__bool__', '__class__', '__contains__', '__copy__', '__deepcopy__', '__delattr__', '__delitem__', '__dict__', '__dir__', '__div__', '__doc__', '__eq__', '__finalize__', '__floordiv__', '__format__', '__ge__', '__getattr__', '__getattribute__', '__getitem__', '__getstate__', '__gt__', '__hash__', '__iadd__', '__iand__', '__ifloordiv__', '__imod__', '__imul__', '__init__', '__init_subclass__', '__invert__', '__ior__', '__ipow__', '__isub__', '__iter__', '__itruediv__', '__ixor__', '__le__', '__len__', '__lt__', '__matmul__', '__mod__', '__module__', '__mul__', '__ne__', '__neg__', '__new__', '__nonzero__', '__or__', '__pos__', '__pow__', '__radd__', '__rand__', '__rdiv__', '__reduce__', '__reduce_ex__', '__repr__', '__rfloordiv__', '__rmatmul__', '__rmod__', '__rmul__', '__ror__', '__round__', '__rpow__', '__rsub__', '__rtruediv__', '__rxor__', '__setattr__', '__setitem__', '__setstate__', '__sizeof__', '__str__', '__sub__', '__subclasshook__', '__truediv__', '__weakref__', '__xor__', '_accessors', '_add_numeric_operations', '_add_series_or_dataframe_operations', '_agg_by_level', '_agg_examples_doc', '_agg_summary_and_see_also_doc', '_aggregate', '_aggregate_multiple_funcs', '_align_frame', '_align_series', '_box_col_values', '_box_item_values', '_builtin_table', '_check_inplace_setting', '_check_is_chained_assignment_possible', '_check_label_or_level_ambiguity', '_check_setitem_copy', '_clear_item_cache', '_clip_with_one_bound', '_clip_with_scalar', '_combine_frame', '_combine_match_index', '_consolidate', '_consolidate_inplace', '_construct_axes_dict', '_construct_axes_dict_from', '_construct_axes_from_arguments', '_construct_result', '_constructor', '_constructor_expanddim', '_constructor_sliced', '_convert', '_count_level', '_create_indexer', '_cython_table', '_deprecations', '_dir_additions', '_dir_deletions', '_drop_axis', '_drop_labels_or_levels', '_ensure_type', '_ensure_valid_index', '_find_valid_index', '_from_arrays', '_from_axes', '_get_agg_axis', '_get_axis', '_get_axis_name', '_get_axis_number', '_get_axis_resolvers', '_get_block_manager_axis', '_get_bool_data', '_get_cacher', '_get_cleaned_column_resolvers', '_get_cython_func', '_get_index_resolvers', '_get_item_cache', '_get_label_or_level_values', '_get_numeric_data', '_get_value', '_get_values', '_getitem_bool_array', '_getitem_multilevel', '_gotitem', '_iget_item_cache', '_indexed_same', '_info_axis', '_info_axis_name', '_info_axis_number', '_info_repr', '_init_mgr', '_internal_get_values', '_internal_names', '_internal_names_set', '_is_builtin_func', '_is_cached', '_is_copy', '_is_datelike_mixed_type', '_is_homogeneous_type', '_is_label_or_level_reference', '_is_label_reference', '_is_level_reference', '_is_mixed_type', '_is_numeric_mixed_type', '_is_view', '_ix', '_ixs', '_join_compat', '_maybe_cache_changed', '_maybe_update_cacher', '_metadata', '_needs_reindex_multi', '_obj_with_exclusions', '_protect_consolidate', '_reduce', '_reindex_axes', '_reindex_columns', '_reindex_index', '_reindex_multi', '_reindex_with_indexers', '_repr_data_resource_', '_repr_fits_horizontal_', '_repr_fits_vertical_', '_repr_html_', '_repr_latex_', '_reset_cache', '_reset_cacher', '_sanitize_column', '_selected_obj', '_selection', '_selection_list', '_selection_name', '_series', '_set_as_cached', '_set_axis', '_set_axis_name', '_set_is_copy', '_set_item', '_set_value', '_setitem_array', '_setitem_frame', '_setitem_slice', '_setup_axes', '_slice', '_stat_axis', '_stat_axis_name', '_stat_axis_number', '_take_with_is_copy', '_to_dict_of_blocks', '_try_aggregate_string_function', '_typ', '_update_inplace', '_validate_dtype', '_values', '_where', '_xs', 'abs', 'add', 'add_prefix', 'add_suffix', 'agg', 'aggregate', 'align', 'all', 'any', 'append', 'apply', 'applymap', 'asfreq', 'asof', 'assign', 'astype', 'at', 'at_time', 'attrs', 'axes', 'between_time', 'bfill', 'bool', 'boxplot', 'clip', 'columns', 'combine', 'combine_first', 'convert_dtypes', 'copy', 'corr', 'corrwith', 'count', 'cov', 'cummax', 'cummin', 'cumprod', 'cumsum', 'describe', 'diff', 'div', 'divide', 'dot', 'drop', 'drop_duplicates', 'droplevel', 'dropna', 'dtypes', 'duplicated', 'empty', 'eq', 'equals', 'eval', 'ewm', 'expanding', 'explode', 'ffill', 'fillna', 'filter', 'first', 'first_valid_index', 'floordiv', 'from_dict', 'from_records', 'ge', 'get', 'groupby', 'gt', 'head', 'hist', 'iat', 'idxmax', 'idxmin', 'iloc', 'index', 'infer_objects', 'info', 'insert', 'interpolate', 'isin', 'isna', 'isnull', 'items', 'iteritems', 'iterrows', 'itertuples', 'join', 'keys', 'kurt', 'kurtosis', 'last', 'last_valid_index', 'le', 'loc', 'lookup', 'lt', 'mad', 'mask', 'max', 'mean', 'median', 'melt', 'memory_usage', 'merge', 'min', 'mod', 'mode', 'mul', 'multiply', 'ndim', 'ne', 'nlargest', 'notna', 'notnull', 'nsmallest', 'nunique', 'pct_change', 'pipe', 'pivot', 'pivot_table', 'plot', 'pop', 'pow', 'prod', 'product', 'quantile', 'query', 'radd', 'rank', 'rdiv', 'reindex', 'reindex_like', 'rename', 'rename_axis', 'reorder_levels', 'replace', 'resample', 'reset_index', 'rfloordiv', 'rmod', 'rmul', 'rolling', 'round', 'rpow', 'rsub', 'rtruediv', 'sample', 'select_dtypes', 'sem', 'set_axis', 'set_index', 'shape', 'shift', 'size', 'skew', 'slice_shift', 'sort_index', 'sort_values', 'squeeze', 'stack', 'std', 'style', 'sub', 'subtract', 'sum', 'swapaxes', 'swaplevel', 'tail', 'take', 'to_clipboard', 'to_csv', 'to_dict', 'to_excel', 'to_feather', 'to_gbq', 'to_hdf', 'to_html', 'to_json', 'to_latex', 'to_markdown', 'to_numpy', 'to_parquet', 'to_period', 'to_pickle', 'to_records', 'to_sql', 'to_stata', 'to_string', 'to_timestamp', 'to_xarray', 'transform', 'transpose', 'truediv', 'truncate', 'tshift', 'tz_convert', 'tz_localize', 'unstack', 'update', 'values', 'var', 'where', 'xs']\n"
     ]
    }
   ],
   "source": [
    "print(df.shape)\n",
    "print(dir(df))"
   ]
  },
  {
   "cell_type": "code",
   "execution_count": 19,
   "metadata": {},
   "outputs": [
    {
     "name": "stdout",
     "output_type": "stream",
     "text": [
      "   color size  price classlabel\n",
      "0  green    M   10.1     class1\n",
      "1    red    L   13.2     class2\n",
      "2   blue   XL   15.3     class1\n",
      "   color  size  price classlabel\n",
      "0  green     1   10.1     class1\n",
      "1    red     2   13.2     class2\n",
      "2   blue     3   15.3     class1\n",
      "[0 1 0]\n",
      "['class1' 'class2' 'class1']\n",
      "[[0]\n",
      " [1]\n",
      " [0]]\n",
      "[['green' 1 10.1]\n",
      " ['red' 2 13.2]\n",
      " ['blue' 3 15.3]]\n",
      "[[1 1 10.1]\n",
      " [2 2 13.2]\n",
      " [0 3 15.3]]\n",
      "[[0.0 1.0 0.0 1 10.1]\n",
      " [0.0 0.0 1.0 2 13.2]\n",
      " [1.0 0.0 0.0 3 15.3]]\n",
      "[[0. 1. 0. 1. 0. 0. 1. 0. 0.]\n",
      " [0. 0. 1. 0. 1. 0. 0. 1. 0.]\n",
      " [1. 0. 0. 0. 0. 1. 0. 0. 1.]]\n"
     ]
    }
   ],
   "source": [
    "import pandas as pd\n",
    "df = pd.DataFrame([['green','M',10.1,'class1'],['red','L',13.2,'class2'],['blue','XL',15.3,'class1']])\n",
    "df.columns=['color','size','price','classlabel']\n",
    "print(df)\n",
    "# 定義規則字典\n",
    "size_mapping = {'XL':3,'L':2,'M':1}\n",
    "# 手作類型標籤編碼\n",
    "df['size'] = df['size'].map(size_mapping)\n",
    "print(df)\n",
    "# 使用sklearn編碼\n",
    "from sklearn.preprocessing import LabelEncoder\n",
    "label_coder = LabelEncoder()\n",
    "y = label_coder.fit_transform(df['classlabel'])\n",
    "print(y)\n",
    "# 逆轉換回原值\n",
    "print(label_coder.inverse_transform(y))\n",
    "print(y.reshape(-1,1))\n",
    "\n",
    "X = df[['color','size','price']].values\n",
    "print(X)\n",
    "color_le = LabelEncoder()\n",
    "X[:,0] = color_le.fit_transform(X[:,0])\n",
    "print(X)\n",
    "\n",
    "#獨熱編碼\n",
    "from sklearn.preprocessing import OneHotEncoder\n",
    "from sklearn.compose import ColumnTransformer \n",
    "# The last arg ([0]) is the list of columns you want to transform in this step\n",
    "# 只獨熱編碼第一欄\n",
    "ct = ColumnTransformer([(\"Name_Of_Your_Step\", OneHotEncoder(),[0])], remainder=\"passthrough\") \n",
    "print(ct.fit_transform(X))\n",
    "ohe = OneHotEncoder()\n",
    "# 獨熱編碼所有欄\n",
    "print(ohe.fit_transform(X).toarray())"
   ]
  },
  {
   "cell_type": "code",
   "execution_count": 24,
   "metadata": {},
   "outputs": [
    {
     "name": "stdout",
     "output_type": "stream",
     "text": [
      "0    0\n",
      "1    1\n",
      "2    2\n",
      "3    3\n",
      "4    4\n",
      "5    5\n",
      "6    6\n",
      "7    7\n",
      "8    8\n",
      "9    9\n",
      "dtype: int32\n",
      "0     4\n",
      "1     5\n",
      "2     6\n",
      "3     7\n",
      "4     8\n",
      "5     9\n",
      "6    10\n",
      "7    11\n",
      "8    12\n",
      "9    13\n",
      "dtype: int64\n"
     ]
    }
   ],
   "source": [
    "import pandas as pd\n",
    "import numpy as np\n",
    "a = pd.Series(np.arange(10))\n",
    "print(a)\n",
    "#函式apply\n",
    "print(a.apply(lambda x:x+4))"
   ]
  }
 ],
 "metadata": {
  "kernelspec": {
   "display_name": "Python 3",
   "language": "python",
   "name": "python3"
  },
  "language_info": {
   "codemirror_mode": {
    "name": "ipython",
    "version": 3
   },
   "file_extension": ".py",
   "mimetype": "text/x-python",
   "name": "python",
   "nbconvert_exporter": "python",
   "pygments_lexer": "ipython3",
   "version": "3.7.6"
  }
 },
 "nbformat": 4,
 "nbformat_minor": 4
}
