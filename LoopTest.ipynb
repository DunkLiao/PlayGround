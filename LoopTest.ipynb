{
 "cells": [
  {
   "cell_type": "markdown",
   "metadata": {},
   "source": [
    "<img src=\"http://2.bp.blogspot.com/-H2m-BFydExw/Wkc9gJQE8GI/AAAAAAAAcZI/pJhLUIEj9zMe2fmVsQuK2UWFbrVagaongCK4BGAYYCw/s0/%25E6%2588%2590%25E5%258A%259F%25E9%2581%258E%25E7%25A8%258B.png\"\n",
    "style=\"width:100px;height:100px;float:left\"><br/><br/><br/><br/><br/>  \n",
    "### 專案名稱: python測試  \n",
    "### 功能描述: 迴圈測試\n",
    "### 版權所有: Dunk  \n",
    "### 程式撰寫: Dunk  \n",
    "### 參考網址: https://www.runoob.com/python3/python3-loop.html\n",
    "### 撰寫日期：2020/02/18\n",
    "### 改版日期:  \n",
    "### 改版備註:  "
   ]
  },
  {
   "cell_type": "code",
   "execution_count": 3,
   "metadata": {},
   "outputs": [
    {
     "name": "stdout",
     "output_type": "stream",
     "text": [
      "10\n",
      "9\n",
      "8\n",
      "7\n",
      "6\n",
      "5\n",
      "4\n",
      "3\n",
      "2\n",
      "1\n"
     ]
    }
   ],
   "source": [
    "'''while'''\n",
    "counter = 10\n",
    "while counter != 0:\n",
    "    print(str(counter))\n",
    "    counter -=1"
   ]
  },
  {
   "cell_type": "code",
   "execution_count": 2,
   "metadata": {},
   "outputs": [
    {
     "name": "stdout",
     "output_type": "stream",
     "text": [
      "Enter while loop\n",
      "Exit while loop\n"
     ]
    }
   ],
   "source": [
    "'''無限循環(按i兩次離開)'''\n",
    "print('Enter while loop')\n",
    "try:\n",
    "    while True:\n",
    "        pass\n",
    "except KeyboardInterrupt as e:\n",
    "    print('Exit while loop')"
   ]
  },
  {
   "cell_type": "code",
   "execution_count": 4,
   "metadata": {},
   "outputs": [
    {
     "name": "stdout",
     "output_type": "stream",
     "text": [
      "0  小于 5\n",
      "1  小于 5\n",
      "2  小于 5\n",
      "3  小于 5\n",
      "4  小于 5\n",
      "5  大于或等于 5\n"
     ]
    }
   ],
   "source": [
    "'''while+else'''\n",
    "count = 0\n",
    "while count < 5:\n",
    "   print (count, \" 小于 5\")\n",
    "   count = count + 1\n",
    "else:\n",
    "   print (count, \" 大于或等于 5\")"
   ]
  },
  {
   "cell_type": "code",
   "execution_count": 22,
   "metadata": {},
   "outputs": [
    {
     "name": "stdout",
     "output_type": "stream",
     "text": [
      "1\n",
      "2\n",
      "3\n",
      "4\n",
      "5\n",
      "0\n",
      "2\n",
      "4\n",
      "6\n",
      "8\n",
      "0 Google\n",
      "1 Baidu\n",
      "2 Runoob\n",
      "3 Taobao\n",
      "4 QQ\n",
      "web2 Baidu\n",
      "web5 QQ\n",
      "web4 Taobao\n",
      "web3 Runoob\n",
      "web1 Google\n"
     ]
    }
   ],
   "source": [
    "'''for'''\n",
    "test_list = [1,2,3,4,5]\n",
    "for i in test_list:\n",
    "    print(i)\n",
    "#range\n",
    "for i in range(0,10,2):\n",
    "    print(i)\n",
    "\n",
    "a = ['Google', 'Baidu', 'Runoob', 'Taobao', 'QQ']\n",
    "for i in range(len(a)):\n",
    "    print(i, a[i])\n",
    "a = {'web1':'Google', 'web2':'Baidu', 'web3':'Runoob', 'web4':'Taobao', 'web5':'QQ'}\n",
    "for key in a.keys():\n",
    "    print(key,a[key])    "
   ]
  },
  {
   "cell_type": "code",
   "execution_count": 26,
   "metadata": {},
   "outputs": [
    {
     "name": "stdout",
     "output_type": "stream",
     "text": [
      "9\n",
      "-----------\n",
      "9\n",
      "7\n",
      "5\n",
      "3\n",
      "1\n"
     ]
    }
   ],
   "source": [
    "# break 语句可以跳出 for 和 while 的循环体。如果你从 for 或 while 循环中终止，任何对应的循环 else 块将不执行。\n",
    "# continue 语句被用来告诉 Python 跳过当前循环块中的剩余语句，然后继续进行下一轮循环。\n",
    "counter = 10\n",
    "while counter > 0:\n",
    "    counter -=1\n",
    "    if(counter%2==0):\n",
    "        break\n",
    "    print(counter)\n",
    "print(\"-----------\")\n",
    "counter = 10\n",
    "while counter > 0:\n",
    "    counter -=1\n",
    "    if(counter%2==0):\n",
    "        continue\n",
    "    print(counter)\n",
    "    \n",
    "# pass 语句\n",
    "# Python pass是空语句，是为了保持程序结构的完整性。\n",
    "# pass 不做任何事情，一般用做占位语句，如下实例    \n",
    "class foo:\n",
    "    \"\"\"測試類別\"\"\"\n",
    "    pass\n"
   ]
  }
 ],
 "metadata": {
  "kernelspec": {
   "display_name": "Python 3",
   "language": "python",
   "name": "python3"
  },
  "language_info": {
   "codemirror_mode": {
    "name": "ipython",
    "version": 3
   },
   "file_extension": ".py",
   "mimetype": "text/x-python",
   "name": "python",
   "nbconvert_exporter": "python",
   "pygments_lexer": "ipython3",
   "version": "3.5.4"
  }
 },
 "nbformat": 4,
 "nbformat_minor": 2
}
