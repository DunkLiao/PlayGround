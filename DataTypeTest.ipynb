{
 "cells": [
  {
   "cell_type": "markdown",
   "metadata": {},
   "source": [
    "<img src=\"http://2.bp.blogspot.com/-H2m-BFydExw/Wkc9gJQE8GI/AAAAAAAAcZI/pJhLUIEj9zMe2fmVsQuK2UWFbrVagaongCK4BGAYYCw/s0/%25E6%2588%2590%25E5%258A%259F%25E9%2581%258E%25E7%25A8%258B.png\"\n",
    "style=\"width:100px;height:100px;float:left\"><br/><br/><br/><br/><br/>  \n",
    "### 專案名稱: python測試  \n",
    "### 功能描述:  資料型態測試\n",
    "### 版權所有: Dunk  \n",
    "### 程式撰寫: Dunk  \n",
    "### 參考網址: https://www.runoob.com/python3/python3-data-type.html\n",
    "### 撰寫日期：2020/02/15\n",
    "### 改版日期:  \n",
    "### 改版備註:  "
   ]
  },
  {
   "cell_type": "markdown",
   "metadata": {},
   "source": [
    "<p>Python3 中有六个标准的数据类型：</p>\n",
    "<p>Number（数字）、String（字符串）、List（列表）、Tuple（元组）、Set（集合）、Dictionary（字典）</p>\n",
    "<p>Python3 的六个标准数据类型中：</p>\n",
    "<p>不可变数据（3 个）：Number（数字）、String（字符串）、Tuple（元组）</p>\n",
    "<p>可变数据（3 个）：List（列表）、Dictionary（字典）、Set（集合）</p>\n",
    "\n",
    "<h2>Python数据类型转换</h2>\n",
    "<p>\n",
    "有时候，我们需要对数据内置的类型进行转换，数据类型的转换，你只需要将数据类型作为函数名即可。</p>\n",
    "<p>\n",
    "以下几个内置的函数可以执行数据类型之间的转换。这些函数返回一个新的对象，表示转换的值。</p>\n",
    "<table class=\"reference\">\n",
    "<tbody><tr><th>函数</th><th>描述</th></tr>\n",
    "<tr valign=\"top\">\n",
    "<td>\n",
    "<p>int(x [,base])</p>\n",
    "</td>\n",
    "<td>\n",
    "<p>将x转换为一个整数</p>\n",
    "</td>\n",
    "</tr>\n",
    "\n",
    "<tr valign=\"top\">\n",
    "<td>\n",
    "<p>float(x)</p>\n",
    "</td>\n",
    "<td>\n",
    "<p>将x转换到一个浮点数</p>\n",
    "</td>\n",
    "</tr>\n",
    "<tr valign=\"top\">\n",
    "<td>\n",
    "<p>complex(real [,imag])</p>\n",
    "</td>\n",
    "<td>\n",
    "<p>创建一个复数</p>\n",
    "</td>\n",
    "</tr>\n",
    "<tr valign=\"top\">\n",
    "<td>\n",
    "<p>str(x)</p>\n",
    "</td>\n",
    "<td>\n",
    "<p>将对象 x 转换为字符串</p>\n",
    "</td>\n",
    "</tr>\n",
    "<tr valign=\"top\">\n",
    "<td>\n",
    "<p>repr(x)</p>\n",
    "</td>\n",
    "<td>\n",
    "<p>将对象 x 转换为表达式字符串</p>\n",
    "</td>\n",
    "</tr>\n",
    "<tr valign=\"top\">\n",
    "<td>\n",
    "<p>eval(str)</p>\n",
    "</td>\n",
    "<td>\n",
    "<p>用来计算在字符串中的有效Python表达式,并返回一个对象</p>\n",
    "</td>\n",
    "</tr>\n",
    "<tr valign=\"top\">\n",
    "<td>\n",
    "<p>tuple(s)</p>\n",
    "</td>\n",
    "<td>\n",
    "<p>将序列 s 转换为一个元组</p>\n",
    "\n",
    "</td>\n",
    "</tr>\n",
    "<tr valign=\"top\">\n",
    "<td>\n",
    "<p>list(s)</p>\n",
    "</td>\n",
    "<td>\n",
    "<p>将序列 s 转换为一个列表</p>\n",
    "</td>\n",
    "</tr>\n",
    "<tr valign=\"top\">\n",
    "<td>\n",
    "<p>set(s)</p>\n",
    "</td>\n",
    "<td>\n",
    "<p>转换为可变集合</p>\n",
    "</td>\n",
    "</tr>\n",
    "<tr valign=\"top\">\n",
    "<td>\n",
    "<p>dict(d)</p>\n",
    "</td>\n",
    "<td>\n",
    "<p>创建一个字典。d 必须是一个 (key, value)元组序列。</p>\n",
    "</td>\n",
    "</tr>\n",
    "<tr valign=\"top\">\n",
    "<td>\n",
    "<p>frozenset(s)</p>\n",
    "</td>\n",
    "<td>\n",
    "<p>转换为不可变集合</p>\n",
    "</td>\n",
    "</tr>\n",
    "<tr valign=\"top\">\n",
    "<td>\n",
    "<p>chr(x)</p>\n",
    "</td>\n",
    "<td>\n",
    "<p>  将一个整数转换为一个字符</p>\n",
    "</td>\n",
    "</tr>\n",
    "\n",
    "<tr valign=\"top\">\n",
    "<td>\n",
    "<p>ord(x)</p>\n",
    "</td>\n",
    "<td>\n",
    "<p> 将一个字符转换为它的整数值</p>\n",
    "</td>\n",
    "</tr>\n",
    "<tr valign=\"top\">\n",
    "<td>\n",
    "<p>hex(x)</p>\n",
    "</td>\n",
    "<td>\n",
    "<p>  将一个整数转换为一个十六进制字符串</p>\n",
    "</td>\n",
    "</tr>\n",
    "<tr valign=\"top\">\n",
    "<td>\n",
    "<p>oct(x)</p>\n",
    "</td>\n",
    "<td>\n",
    "<p> 将一个整数转换为一个八进制字符串</p>\n",
    "</td>\n",
    "</tr>\n",
    "</tbody></table>\t\t"
   ]
  },
  {
   "cell_type": "code",
   "execution_count": 3,
   "metadata": {},
   "outputs": [
    {
     "name": "stdout",
     "output_type": "stream",
     "text": [
      "<class 'int'>\n",
      "True\n",
      "<class 'float'>\n",
      "<class 'str'>\n"
     ]
    }
   ],
   "source": [
    "'''資料型態測試'''\n",
    "import pprint\n",
    "#整數\n",
    "a=123\n",
    "pprint.pprint(type(a))\n",
    "#判斷是否為整數類型\n",
    "pprint.pprint(isinstance(a, int))\n",
    "#浮點數\n",
    "b=12.3\n",
    "pprint.pprint(type(b))\n",
    "#字串\n",
    "c=\"ABC\"\n",
    "pprint.pprint(type(c))"
   ]
  },
  {
   "cell_type": "code",
   "execution_count": 18,
   "metadata": {},
   "outputs": [
    {
     "name": "stdout",
     "output_type": "stream",
     "text": [
      "1\n",
      "1\n",
      "1\n",
      "'A'\n",
      "'B'\n",
      "'C'\n",
      "-----\n",
      "<class 'int'> <class 'float'> <class 'bool'> <class 'complex'>\n"
     ]
    }
   ],
   "source": [
    "'''多個變數給值'''\n",
    "a=b=c=1\n",
    "pprint.pprint(a)\n",
    "pprint.pprint(b)\n",
    "pprint.pprint(c)\n",
    "a,b,c=\"A\",\"B\",\"C\"\n",
    "pprint.pprint(a)\n",
    "pprint.pprint(b)\n",
    "pprint.pprint(c)\n",
    "print(\"-----\")\n",
    "a, b, c, d = 20, 5.5, True, 4+3j\n",
    "print(type(a),type(b),type(c),type(d))"
   ]
  },
  {
   "cell_type": "code",
   "execution_count": 27,
   "metadata": {},
   "outputs": [
    {
     "name": "stdout",
     "output_type": "stream",
     "text": [
      "True\n",
      "False\n",
      "True\n",
      "True\n"
     ]
    }
   ],
   "source": [
    "# isinstance 和 type 的区别在于：\n",
    "\n",
    "# type()不会认为子类是一种父类类型。\n",
    "# isinstance()会认为子类是一种父类类型。\n",
    "class A():\n",
    "    '''父類別'''\n",
    "    pass\n",
    "class B(A):\n",
    "    '''子類別'''\n",
    "    pass\n",
    "pprint.pprint(type(A()) == A)\n",
    "#視為不同\n",
    "pprint.pprint(type(B()) == A)\n",
    "pprint.pprint(isinstance(A(), A))\n",
    "#視為相同\n",
    "pprint.pprint(isinstance(B(), A))"
   ]
  },
  {
   "cell_type": "code",
   "execution_count": 48,
   "metadata": {},
   "outputs": [
    {
     "name": "stdout",
     "output_type": "stream",
     "text": [
      "False\n",
      "(\"name 'a' is not defined\",)\n"
     ]
    }
   ],
   "source": [
    "'''建立與刪除對象'''\n",
    "a = 123\n",
    "print(a == None)\n",
    "del a\n",
    "try:\n",
    "    print(a == None)\n",
    "except NameError as e:\n",
    "    print(e.args)"
   ]
  },
  {
   "cell_type": "code",
   "execution_count": 4,
   "metadata": {},
   "outputs": [
    {
     "name": "stdout",
     "output_type": "stream",
     "text": [
      "'2'\n",
      "'123'\n",
      "'4567'\n",
      "'123456'\n",
      "'123456'\n",
      "'7'\n",
      "'7654321'\n",
      "'1357'\n",
      "'7'\n"
     ]
    }
   ],
   "source": [
    "'''切片'''\n",
    "test_str = '1234567'\n",
    "#2(第1到第2-1)\n",
    "pprint.pprint(test_str[1:2])\n",
    "#123(前3個)\n",
    "pprint.pprint(test_str[:3])\n",
    "#4567(第三個以後)\n",
    "pprint.pprint(test_str[3:])\n",
    "#123456(去除最後一個)\n",
    "pprint.pprint(test_str[0:-1])\n",
    "#123456(去除最後一個)\n",
    "pprint.pprint(test_str[:-1])\n",
    "#7(去除最後一個)\n",
    "pprint.pprint(test_str[-1])\n",
    "#7654321(倒序)\n",
    "pprint.pprint(test_str[::-1])\n",
    "#1357(每隔兩個取一個)\n",
    "pprint.pprint(test_str[::2])\n",
    "#7(len-1:最後一個)\n",
    "pprint.pprint(test_str[len(test_str)-1])"
   ]
  },
  {
   "cell_type": "code",
   "execution_count": 13,
   "metadata": {},
   "outputs": [
    {
     "name": "stdout",
     "output_type": "stream",
     "text": [
      "Ru\n",
      "oob\n",
      "Ru\\noob\n",
      "Ph\n",
      "(\"'str' object does not support item assignment\",)\n",
      "cython\n"
     ]
    }
   ],
   "source": [
    "'''特殊符號處理，加r'''\n",
    "print('Ru\\noob')\n",
    "#內容視為純文字\n",
    "print(r'Ru\\noob')\n",
    "#處理文字\n",
    "word = \"Python\"\n",
    "print(word[0]+word[3])\n",
    "#不能直接指定\n",
    "try:\n",
    "    word[0] = 'c'\n",
    "except TypeError as e:\n",
    "    print(e.args)\n",
    "#要用替換\n",
    "print(word.replace('P','c'))"
   ]
  },
  {
   "cell_type": "code",
   "execution_count": 36,
   "metadata": {},
   "outputs": [
    {
     "name": "stdout",
     "output_type": "stream",
     "text": [
      "'abcd'\n",
      "['abcd', 786, 2.23, 'runoob', 70.2, 123, 'runoob']\n",
      "['abcd', 786, 2.23, 'runoob', 70.2, 'abcd', 786, 2.23, 'runoob', 70.2]\n",
      "5\n",
      "['a', 786, 2.23, 'runoob', 70.2]\n",
      "[2.23, 'runoob', 70.2]\n"
     ]
    }
   ],
   "source": [
    "'''List處理'''\n",
    "test_list = [ 'abcd', 786 , 2.23, 'runoob', 70.2 ]\n",
    "tiny_list = [123, 'runoob']\n",
    "pprint.pprint(test_list[0])\n",
    "#聯接list\n",
    "pprint.pprint(test_list + tiny_list)\n",
    "#連續輸出兩次\n",
    "pprint.pprint(test_list*2)\n",
    "pprint.pprint(len(test_list))\n",
    "#設定值\n",
    "test_list[0]='a'\n",
    "pprint.pprint(test_list)\n",
    "#移除第0~1個元素\n",
    "test_list[0:2]=[]\n",
    "pprint.pprint(test_list)"
   ]
  },
  {
   "cell_type": "code",
   "execution_count": 38,
   "metadata": {},
   "outputs": [
    {
     "data": {
      "text/plain": [
       "'YOU ARE HOW'"
      ]
     },
     "execution_count": 38,
     "metadata": {},
     "output_type": "execute_result"
    }
   ],
   "source": [
    "'''反轉字串'''\n",
    "def reverseWords(input):\n",
    "     \n",
    "    # 通过空格将字符串分隔符，把各个单词分隔为列表\n",
    "    inputWords = input.split(\" \")\n",
    " \n",
    "    # 翻转字符串\n",
    "    # 假设列表 list = [1,2,3,4],  \n",
    "    # list[0]=1, list[1]=2 ，而 -1 表示最后一个元素 list[-1]=4 ( 与 list[3]=4 一样)\n",
    "    # inputWords[-1::-1] 有三个参数\n",
    "    # 第一个参数 -1 表示最后一个元素\n",
    "    # 第二个参数为空，表示移动到列表末尾\n",
    "    # 第三个参数为步长，-1 表示逆向\n",
    "    inputWords=inputWords[-1::-1]\n",
    " \n",
    "    # 重新组合字符串\n",
    "    output = ' '.join(inputWords)\n",
    "     \n",
    "    return output\n",
    "\n",
    "#測試\n",
    "reverseWords(\"HOW ARE YOU\")"
   ]
  },
  {
   "cell_type": "code",
   "execution_count": 8,
   "metadata": {},
   "outputs": [
    {
     "name": "stdout",
     "output_type": "stream",
     "text": [
      "('b',)\n",
      "('a', 'b', 'c')\n",
      "('d',)\n",
      "('a', 'b', 'c')\n",
      "('a', 'b', 'c')\n",
      "'d'\n",
      "('d', 'c', 'b', 'a')\n",
      "('d', 'c', 'b', 'a')\n",
      "('a', 'c')\n",
      "'d'\n",
      "(\"'tuple' object does not support item assignment\",)\n",
      "()\n",
      "(20,)\n"
     ]
    }
   ],
   "source": [
    "'''測試tuple'''\n",
    "# 元组与字符串类似，可以被索引且下标索引从0开始，-1 为从末尾开始的位置。也可以进行截取（看上面，这里不再赘述）。\n",
    "# 其实，可以把字符串看作一种特殊的元组。\n",
    "my_tuple = ('a','b','c','d')\n",
    "#切片測試\n",
    "pprint.pprint(my_tuple[1:2])\n",
    "pprint.pprint(my_tuple[:3])\n",
    "pprint.pprint(my_tuple[3:])\n",
    "pprint.pprint(my_tuple[0:-1])\n",
    "pprint.pprint(my_tuple[:-1])\n",
    "pprint.pprint(my_tuple[-1])\n",
    "#下面兩個都是反轉\n",
    "pprint.pprint(my_tuple[::-1])\n",
    "pprint.pprint(my_tuple[-1::-1])\n",
    "pprint.pprint(my_tuple[::2])\n",
    "pprint.pprint(my_tuple[len(my_tuple)-1])\n",
    "\n",
    "tup = (1, 2, 3, 4, 5, 6)\n",
    "try:\n",
    "    tup[0] = 1\n",
    "except TypeError as e:\n",
    "    print(e.args)\n",
    "# 空元组    \n",
    "tup1 = ()\n",
    "pprint.pprint(tup1)\n",
    "tup2 = (20,) # 一个元素，需要在元素后添加逗号\n",
    "pprint.pprint(tup2)"
   ]
  },
  {
   "cell_type": "code",
   "execution_count": 10,
   "metadata": {},
   "outputs": [
    {
     "name": "stdout",
     "output_type": "stream",
     "text": [
      "'1 - 菜鸟教程'\n",
      "'2 - 菜鸟工具'\n",
      "{'code': 1, 'name': 'runoob', 'site': 'www.runoob.com'}\n",
      "dict_keys(['site', 'name', 'code'])\n",
      "dict_values(['www.runoob.com', 'runoob', 1])\n"
     ]
    }
   ],
   "source": [
    "'''字典'''\n",
    "#空字典\n",
    "dict = {}\n",
    "dict['one'] = \"1 - 菜鸟教程\"\n",
    "dict[2]     = \"2 - 菜鸟工具\"\n",
    " \n",
    "tinydict = {'name': 'runoob','code':1, 'site': 'www.runoob.com'}\n",
    " \n",
    "# 输出键为 'one' 的值\n",
    "pprint.pprint(dict['one'])       \n",
    "# 输出键为 2 的值\n",
    "pprint.pprint(dict[2])           \n",
    "# 输出完整的字典\n",
    "pprint.pprint(tinydict)         \n",
    "# 输出所有键\n",
    "pprint.pprint(tinydict.keys())   \n",
    "# 输出所有值\n",
    "pprint.pprint(tinydict.values()) "
   ]
  }
 ],
 "metadata": {
  "kernelspec": {
   "display_name": "Python 3",
   "language": "python",
   "name": "python3"
  },
  "language_info": {
   "codemirror_mode": {
    "name": "ipython",
    "version": 3
   },
   "file_extension": ".py",
   "mimetype": "text/x-python",
   "name": "python",
   "nbconvert_exporter": "python",
   "pygments_lexer": "ipython3",
   "version": "3.5.4"
  }
 },
 "nbformat": 4,
 "nbformat_minor": 2
}
