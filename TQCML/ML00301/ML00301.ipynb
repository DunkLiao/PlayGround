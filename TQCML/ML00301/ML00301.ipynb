{
 "cells": [
  {
   "cell_type": "markdown",
   "metadata": {},
   "source": [
    "### 專案名稱:  TQC+ 人工智慧：機器學習(Python 3)測驗\n",
    "### 功能描述:  ML00301\n",
    "### 版權所有: Dunk  \n",
    "### 程式撰寫: Dunk  \n",
    "### 撰寫日期：2020/10/06\n",
    "### 改版日期:  \n",
    "### 改版備註:  2020/10/16 修改寫法"
   ]
  },
  {
   "cell_type": "markdown",
   "metadata": {},
   "source": [
    "題號：301 鳶尾花品種預測\n",
    "\n",
    "難易度：易\n",
    "\n",
    "（一）、 題目說明：\n",
    "\n",
    "下載ML00301.zip解壓縮後，請開啟MLD03.py依下列題意進行組合及改寫，再將求取之答案依序輸入填答視窗中。\n",
    "請注意，資料夾或程式碼中所提供的檔案路徑，不可進行變動。\n",
    "\n",
    "（二）、 設計說明：\n",
    "\n",
    "請撰寫一程式，讀取sklearn.datasets中的鳶尾花（iris）資料集，此一資料集包含三種不同的鳶尾花品種（setosa、versicolor、virginica），儲存為150*4的numpy.ndarray，其欄位如下：\n",
    "花萼長度（petal length）\n",
    "花萼寬度（petal width）\n",
    "花瓣長度（sepal length）\n",
    "花瓣寬度（sepal width）\n",
    "請建立一個KNN機器學習模型，用鳶尾花資料集中的四種特性來預測鳶尾花品種，請將測試資料比例設定為40%（其餘為訓練資料），random_state=1。\n",
    "依據給定的data預測此鳶尾花品種。\n",
    "列印測試資料正確率。\n",
    "\n",
    "（三）、 請依序回答下列問題：\n",
    "\n",
    "請填入測試資料正確率（四捨五入取至小數點後第四位）？\n",
    "0.9833\n",
    " 此題您答對了，正確答案為：0.9833，誤差值為：0.0002\n",
    "\n",
    "給定data為[5, 2.9, 1, 0.2]，請填入鳶尾花品種代號？\n",
    "(A) virginica (B) versicolor (C) setosa (D) none\n",
    "\n",
    "C\n",
    " 此題您答對了，正確答案為：C\n",
    "\n",
    "給定data為[5.7, 2.8, 4.5, 1.2]，請填入鳶尾花品種代號？\n",
    "(A) virginica (B) none (C) setosa (D) versicolor\n",
    "\n",
    "D\n",
    " 此題您答對了，正確答案為：D\n",
    "\n",
    "給定data為[7.7, 3.8, 6.7, 2.1]，請填入鳶尾花品種代號？\n",
    "(A) versicolor (B) setosa (C) virginica (D) none\n",
    "\n",
    "C\n",
    " 此題您答對了，正確答案為：C\n",
    "\n"
   ]
  },
  {
   "cell_type": "code",
   "execution_count": 2,
   "metadata": {},
   "outputs": [
    {
     "name": "stdout",
     "output_type": "stream",
     "text": [
      "Test set score:  0.9833\n",
      "Predicted target name: setosa\n",
      "Predicted target name: versicolor\n",
      "Predicted target name: virginica\n"
     ]
    }
   ],
   "source": [
    "# TODO\n",
    "from sklearn.datasets import load_iris\n",
    "iris_dataset = load_iris()\n",
    "X = iris_dataset.data\n",
    "y = iris_dataset.target\n",
    "# TODO\n",
    "\n",
    "\n",
    "# create dataframe from data in X_train 根據X_train中的資料創建dataframe\n",
    "# label the columns using the strings in iris_dataset.feature_names 使用iris_dataset.feature_names中的字串標記列\n",
    "# TODO\n",
    "# 注意匯入\n",
    "from sklearn.model_selection import train_test_split\n",
    "from sklearn.neighbors import KNeighborsClassifier\n",
    "from sklearn.metrics import accuracy_score\n",
    "\n",
    "X_train,X_test,y_train,y_test = train_test_split(X,y,test_size=0.4,random_state=1)\n",
    "# 注意設定n_neighbors=3)\n",
    "kn = KNeighborsClassifier(n_neighbors=3)\n",
    "kn.fit(X_train,y_train)\n",
    "y_pred = kn.predict(X_test)\n",
    "\n",
    "\n",
    "print(\"Test set score: \",\"{:.4f}\".format(round(accuracy_score(y_test,y_pred),4)))\n",
    "\n",
    "# TODO\n",
    "y_pred = kn.predict([[5,2.9,1,0.2]])\n",
    "print(\"Predicted target name:\",iris_dataset.target_names[int(y_pred)])\n",
    "\n",
    "# TODO\n",
    "y_pred = kn.predict([[5.7,2.8,4.5,1.2]])\n",
    "print(\"Predicted target name:\",iris_dataset.target_names[int(y_pred)])\n",
    "\n",
    "# TODO\n",
    "y_pred = kn.predict([[7.7,3.8,6.7,2.1]])\n",
    "print(\"Predicted target name:\",iris_dataset.target_names[int(y_pred)])"
   ]
  }
 ],
 "metadata": {
  "kernelspec": {
   "display_name": "Python 3",
   "language": "python",
   "name": "python3"
  },
  "language_info": {
   "codemirror_mode": {
    "name": "ipython",
    "version": 3
   },
   "file_extension": ".py",
   "mimetype": "text/x-python",
   "name": "python",
   "nbconvert_exporter": "python",
   "pygments_lexer": "ipython3",
   "version": "3.7.6"
  }
 },
 "nbformat": 4,
 "nbformat_minor": 4
}
