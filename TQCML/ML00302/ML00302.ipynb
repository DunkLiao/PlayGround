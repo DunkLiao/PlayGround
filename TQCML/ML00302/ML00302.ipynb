{
 "cells": [
  {
   "cell_type": "markdown",
   "metadata": {},
   "source": [
    "### 專案名稱:  TQC+ 人工智慧：機器學習(Python 3)測驗\n",
    "### 功能描述:  ML00302\n",
    "### 版權所有: Dunk  \n",
    "### 程式撰寫: Dunk  \n",
    "### 撰寫日期：2020/10/06\n",
    "### 改版日期:  \n",
    "### 改版備註:  "
   ]
  },
  {
   "cell_type": "markdown",
   "metadata": {},
   "source": [
    "題號：302 波士頓房價\n",
    "\n",
    "難易度：易\n",
    "\n",
    "（一）、 題目說明：\n",
    "\n",
    "下載ML00302.zip解壓縮後，請開啟MLD03.py依下列題意進行組合及改寫，再將求取之答案依序輸入填答視窗中。\n",
    "請注意，資料夾或程式碼中所提供的檔案路徑，不可進行變動。\n",
    "\n",
    "（二）、 設計說明：\n",
    "\n",
    "請撰寫一程式，讀取sklearn.datasets中的波士頓房價（Boston）資料集，此資料集有504筆資料，每筆資料有14個屬性如下：\n",
    "欄位\t說明\n",
    "CRIM\t按城鎮劃分的人均犯罪率\n",
    "ZN\t超過25,000平方英尺的土地劃為住宅用地的比例\n",
    "INDUS\t城鎮非零售商用土地的比例\n",
    "CHAS\tCharles River虛擬變數（如果靠近河流，則為1；否則為0）\n",
    "NOX\t一氧化氮濃度（以百萬分之幾為單位）\n",
    "RM\t每個住宅的平均房間數\n",
    "AGE\t1940年之前建造自有單位的比例\n",
    "DIS\t到五個波士頓就業中心的加權距離\n",
    "RAD\t徑向公路的可達性指數\n",
    "TAX\t每10,000美元的全值財產稅率\n",
    "PTRATIO\t城鎮的師生比例\n",
    "B\t1000(Bk-0.63)^ 2，其中Bk是按城鎮劃分的黑人比例\n",
    "LSTAT\t低階人口狀況百分比\n",
    "MEDV\t自有住房的中位數價格（單位為1000美元）\n",
    "請建立一個線性迴歸機器學習模型，用此資料集中的'CRIM','ZN','INDUS','CHAS','NOX','RM','AGE','DIS','RAD','TAX', 'PTRATIO','B','LSTAT'來預測'MEDV'欄位。\n",
    "\n",
    "請將資料集分為訓練集與測試集，其中測試集占20%，random_state=1。\n",
    "列印此一模型的平均絕對誤差（mean absolute error, MAE）、均方誤差（mean squared error, MSE）、均方根誤差（root-mean-square error, RMSE），並依據輸入值進行房價預測。\n",
    "\n",
    "（三）、 請依序回答下列問題：\n",
    "\n",
    "請填入測試資料集的平均絕對誤差MAE（四捨五入取至小數點後第四位）？\n",
    "3.7507\n",
    " 此題您答對了，正確答案為：3.7507，誤差值為：0.0002\n",
    "\n",
    "請填入測試資料集的均方誤差MSE（四捨五入取至小數點後第四位）？\n",
    "23.3808\n",
    " 此題您答對了，正確答案為：23.3808，誤差值為：0.0002\n",
    "\n",
    "請填入測試資料集的均方根誤差RMSE（四捨五入取至小數點後第四位）？\n",
    "4.8354\n",
    " 此題您答對了，正確答案為：4.8354，誤差值為：0.0002\n",
    "\n",
    "輸入資料為[0.00632, 18.00, 2.310, 0, 0.5380, 6.5750, 65.20, 4.0900, 1, 296.0, 15.30, 396.90, 4.98]。請填入預測房價（四捨五入取至小數點後第四位）？\n",
    "30.0663\n",
    " 此題您答對了，正確答案為：30.0663，誤差值為：0.0002\n",
    "\n"
   ]
  },
  {
   "cell_type": "code",
   "execution_count": 29,
   "metadata": {},
   "outputs": [
    {
     "name": "stdout",
     "output_type": "stream",
     "text": [
      "MAE: 3.7507\n",
      "MSE: 23.3808\n",
      "RMSE: 4.8354\n",
      "預測房價（四捨五入取至小數點後第四位）: 30.0663\n"
     ]
    }
   ],
   "source": [
    "#from sklearn import datasets\n",
    "#from sklearn.model_selection import cross_val_predict\n",
    "import pandas as pd\n",
    "from sklearn import linear_model\n",
    "# TODO\n",
    "from sklearn.datasets import load_boston\n",
    "boston = load_boston()\n",
    "df_X = pd.DataFrame(boston.data, columns = ['CRIM','ZN','INDUS','CHAS','NOX','RM' ,'AGE','DIS','RAD','TAX',\\\n",
    "                                            'PTRATIO','B','LSTAT']) #有13個feature\n",
    "df_y =  pd.DataFrame(boston.target, columns = ['MEDV']) #有1個Taget\n",
    "\n",
    "# TODO\n",
    "# MEDV即預測目標向量\n",
    "# TODO\n",
    "X = df_X\n",
    "y = df_y\n",
    "\n",
    "#分出20%的資料作為test set\n",
    "# TODO\n",
    "from sklearn.model_selection import train_test_split\n",
    "from sklearn.metrics import mean_squared_error,mean_absolute_error\n",
    "from math import sqrt\n",
    "X_train,X_test,y_train,y_test = train_test_split(X,y,test_size = 0.2,random_state=1)\n",
    "\n",
    "\n",
    "#Fit linear model 配適線性模型\n",
    "lm = linear_model.LinearRegression()\n",
    "lm.fit(X_train,y_train)\n",
    "y_pred = lm.predict(X_test)\n",
    "# TODO\n",
    "print('MAE:',round(mean_absolute_error(y_test,y_pred),4))\n",
    "print('MSE:',round(mean_squared_error(y_test,y_pred),4))\n",
    "print('RMSE:',round(sqrt(mean_squared_error(y_test,y_pred)),4))\n",
    "# #  ([[0.00632, 18.00, 2.310, 0, 0.5380, 6.5750, 65.20, 4.0900, 1, 296.0, 15.30, 396.90 , 4.98]])\n",
    "X_new = [[0.00632, 18.00, 2.310, 0, 0.5380, 6.5750, 65.20, 4.0900, 1, 296.0, 15.30, 396.90 , 4.98]]\n",
    "prediction = lm.predict(X_new)\n",
    "print(\"預測房價（四捨五入取至小數點後第四位）:\",round(prediction[0][0],4))"
   ]
  }
 ],
 "metadata": {
  "kernelspec": {
   "display_name": "Python 3",
   "language": "python",
   "name": "python3"
  },
  "language_info": {
   "codemirror_mode": {
    "name": "ipython",
    "version": 3
   },
   "file_extension": ".py",
   "mimetype": "text/x-python",
   "name": "python",
   "nbconvert_exporter": "python",
   "pygments_lexer": "ipython3",
   "version": "3.7.6"
  }
 },
 "nbformat": 4,
 "nbformat_minor": 4
}
