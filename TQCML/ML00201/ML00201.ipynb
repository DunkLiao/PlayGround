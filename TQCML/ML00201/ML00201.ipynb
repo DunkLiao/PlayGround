{
 "cells": [
  {
   "cell_type": "markdown",
   "metadata": {},
   "source": [
    "### 專案名稱:  TQC+ 人工智慧：機器學習(Python 3)測驗\n",
    "### 功能描述:  ML00201\n",
    "### 版權所有: Dunk  \n",
    "### 程式撰寫: Dunk  \n",
    "### 撰寫日期：2020/10/05\n",
    "### 改版日期:  \n",
    "### 改版備註:  "
   ]
  },
  {
   "cell_type": "markdown",
   "metadata": {},
   "source": [
    "題號：201 資料分群處理\n",
    "\n",
    "難易度：易\n",
    "\n",
    "（一）、 題目說明：\n",
    "\n",
    "下載ML00201.zip解壓縮後，請開啟MLD02.py依下列題意進行組合及改寫，再將求取之答案依序輸入填答視窗中。\n",
    "請注意，資料夾或程式碼中所提供的檔案路徑，不可進行變動。\n",
    "\n",
    "（二）、 設計說明：\n",
    "\n",
    "請撰寫一程式，利用sklearn.datasets.samples_generator裡的make_blobs函式產生出資料。總樣本數200，樣本中心數4，資料集的標準差為0.50，隨機種子為0。\n",
    "請利用K-means 演算法分群（K-means Clustering）來做分群。\n",
    "使用集群內誤差平方和（kmeans.inertia_）來判斷分群數量為何值是比較恰當的，值大於90以上的納入計算。其中K-means內的參數（分群中心）初始化為「k-means++」，K-means演算法的隨機運作次數為「15」，隨機產生中心的隨機序列（random state=0），最大迭代次數為200。\n",
    "\n",
    "（三）、 請依序回答下列問題：\n",
    "\n",
    "請使用集群內誤差平方和（kmeans.inertia_）來判斷分群數量，需取值大於90以上者納入計算，可分為幾群？\n",
    "4\n",
    " 此題您答對了，正確答案為：4\n",
    "\n",
    "承上題，只取集群內誤差平方和分數大於90以上的數據，請依據計算後之數據，填入正確的選項（選項內兩組數據需完全相同）？\n",
    "(A) [1749.6046, 94.0224] (B) [1774.5460, 736.9635] (C) [1794.0460, 304.9484] (D) [736.9635, 901.0224]\n",
    "\n",
    "C\n",
    " 此題您答對了，正確答案為：C\n",
    "\n",
    "請輸入分群後最小中心點X的位置（四捨五入取至小數點後第四位）？\n",
    "-1.6078\n",
    " 此題您答對了，正確答案為：-1.6078，誤差值為：0.0002\n",
    "\n",
    "請輸入分群後最大中心點Y的位置（四捨五入取至小數點後第四位）？\n",
    "7.7400\n",
    " 此題您答對了，正確答案為：7.7400，誤差值為：0.0002\n",
    "\n"
   ]
  },
  {
   "cell_type": "code",
   "execution_count": 2,
   "metadata": {},
   "outputs": [
    {
     "name": "stderr",
     "output_type": "stream",
     "text": [
      "D:\\ProgramData\\Anaconda3\\lib\\site-packages\\sklearn\\utils\\deprecation.py:144: FutureWarning: The sklearn.datasets.samples_generator module is  deprecated in version 0.22 and will be removed in version 0.24. The corresponding classes / functions should instead be imported from sklearn.datasets. Anything that cannot be imported from sklearn.datasets is now part of the private API.\n",
      "  warnings.warn(message, FutureWarning)\n"
     ]
    },
    {
     "name": "stdout",
     "output_type": "stream",
     "text": [
      "4\n",
      "cluster_centers= [[-1.60782913  2.9162828 ]\n",
      " [-1.33173192  7.7400479 ]\n",
      " [ 2.06911036  0.96146833]\n",
      " [ 0.91932803  4.34824615]]\n",
      "分群後最小中心點X的位置（四捨五入取至小數點後第四位）: -1.6078\n",
      "分群後最大中心點Y的位置（四捨五入取至小數點後第四位）: 7.74\n"
     ]
    }
   ],
   "source": [
    "from matplotlib import pyplot as plt\n",
    "from sklearn.datasets.samples_generator import make_blobs\n",
    "from sklearn.cluster import KMeans\n",
    "import numpy as np\n",
    "\n",
    "#  載入scikit-learn資料集範例資料\n",
    "# TODO\n",
    "\n",
    "X,y = make_blobs(n_samples=200, centers=4, cluster_std=0.5,random_state=0)\n",
    "\n",
    "#inertia_集群內誤差平方和，做轉折判斷法的依據\n",
    "# TODO\n",
    "wcss = []\n",
    "cluster_num = 0\n",
    "# 計算 k=1~10 的損失函數\n",
    "for i in range(1,11):\n",
    "    kmeans = KMeans(n_clusters=i, init='k-means++',max_iter=200,n_init=15, random_state=0)\n",
    "    kmeans.fit(X,y)\n",
    "    # kmeans.inertia_\n",
    "    if kmeans.inertia_ >90:\n",
    "        cluster_num = i\n",
    "    wcss.append(kmeans.inertia_)\n",
    "\n",
    "    #實作\n",
    "    # TODO\n",
    "print(cluster_num)\n",
    "kmeans_fit = KMeans(n_clusters=cluster_num, init='k-means++',max_iter=200,n_init=15, random_state=0)\n",
    "kmeans_fit.fit(X,y)\n",
    "kmeans_predict=kmeans_fit.predict(X)\n",
    "print(\"cluster_centers=\", kmeans_fit.cluster_centers_)\n",
    "print(\"分群後最小中心點X的位置（四捨五入取至小數點後第四位）:\",\\\n",
    "      np.round(np.min(kmeans_fit.cluster_centers_[:,0])*10000/10000,4))\n",
    "print(\"分群後最大中心點Y的位置（四捨五入取至小數點後第四位）:\",\\\n",
    "      np.round(np.max(kmeans_fit.cluster_centers_[:,1])*10000/10000,4))\n"
   ]
  }
 ],
 "metadata": {
  "kernelspec": {
   "display_name": "Python 3",
   "language": "python",
   "name": "python3"
  },
  "language_info": {
   "codemirror_mode": {
    "name": "ipython",
    "version": 3
   },
   "file_extension": ".py",
   "mimetype": "text/x-python",
   "name": "python",
   "nbconvert_exporter": "python",
   "pygments_lexer": "ipython3",
   "version": "3.7.6"
  }
 },
 "nbformat": 4,
 "nbformat_minor": 4
}
