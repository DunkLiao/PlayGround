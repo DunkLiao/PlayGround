{
 "cells": [
  {
   "cell_type": "markdown",
   "metadata": {},
   "source": [
    "### 專案名稱:  TQC+ 人工智慧：機器學習(Python 3)測驗\n",
    "### 功能描述:  ML00202\n",
    "### 版權所有: Dunk  \n",
    "### 程式撰寫: Dunk  \n",
    "### 撰寫日期：2020/10/05\n",
    "### 改版日期:  \n",
    "### 改版備註:  "
   ]
  },
  {
   "cell_type": "markdown",
   "metadata": {},
   "source": [
    "題號：202 估算集群數量\n",
    "\n",
    "難易度：易\n",
    "\n",
    "（一）、 題目說明：\n",
    "\n",
    "下載ML00202.zip解壓縮後，請開啟MLD02.py依下列題意進行組合及改寫，再將求取之答案依序輸入填答視窗中。\n",
    "請注意，資料夾或程式碼中所提供的檔案路徑，不可進行變動。\n",
    "\n",
    "（二）、 設計說明：\n",
    "\n",
    "請使用DBSCAN 群聚演算法（ Density-Based Spatial Clustering of Applications with Noise）撰寫程式，讀取data_perf.txt檔中載入輸入資料，可得每個資料點的x,y值。\n",
    "設定eps_grid = np.linspace(0.3, 1.2, num=10)，請找出最佳的epsilon、最大的silhouette score及最佳集群數量。\n",
    "\n",
    "（三）、 請依序回答下列問題：\n",
    "\n",
    "請填入最佳的epsilon（計算至小數點第四位後無條件捨去）？\n",
    "0.7999\n",
    " 此題您答對了，正確答案為：0.7999，誤差值為：0.0002\n",
    "\n",
    "請填入最佳的epsilon對應之silhouette score最大值（四捨五入取至小數點後第四位）？\n",
    "0.6366\n",
    " 此題您答對了，正確答案為：0.6366，誤差值為：0.0002\n",
    "\n",
    "請填入最佳集群數量（Estimated number of clusters）（整數）？\n",
    "5\n",
    " 此題您答對了，正確答案為：5\n",
    "\n",
    "讀取data_perf_add.txt（由原data_perf.txt加入下列五筆資料[1.65,1.91]、[2.77,4.98]、[5.82,2.56]、[7.24,5.24]、[-0.3,4.06]）。請填入Best epsilon 對應之silhouette score最大值（四捨五入取至小數點後第四位）？\n",
    "0.6401\n",
    " 此題您答對了，正確答案為：0.6401，誤差值為：0.0002\n",
    "\n"
   ]
  },
  {
   "cell_type": "code",
   "execution_count": 1,
   "metadata": {},
   "outputs": [
    {
     "name": "stdout",
     "output_type": "stream",
     "text": [
      "Epsilon: 0.7999999999999999  --> silhouette score: 0.6366395861050828\n",
      "最佳的epsilon（計算至小數點第四位後無條件捨去）: 0.7999\n",
      "最佳的epsilon對應之silhouette score最大值（四捨五入取至小數點後第四位）: 0.6366\n",
      "最佳集群數量（Estimated number of clusters）（整數）: 5\n",
      "Epsilon: 0.7999999999999999  --> silhouette score: 0.6401369307801019\n",
      "Best epsilon 對應之silhouette score最大值（四捨五入取至小數點後第四位）: 0.6401\n"
     ]
    }
   ],
   "source": [
    "import numpy as np\n",
    "# TODO\n",
    "import pandas as pd\n",
    "\n",
    "input_file = ('data_perf.txt')\n",
    "# Load data 載入資料\n",
    "# TODO\n",
    "df = pd.read_csv(input_file,header=None)\n",
    "# df\n",
    "X = df.iloc[:,0:2]\n",
    "# Find the best epsilon \n",
    "eps_grid = np.linspace(0.3, 1.2, num=10)\n",
    "silhouette_scores = []\n",
    "# TODO\n",
    "\n",
    "    # Train DBSCAN clustering model 訓練DBSCAN分群模型\n",
    "    # ################\n",
    "    # min_samples = 5\n",
    "    # ################\n",
    "    \n",
    "from sklearn.cluster import DBSCAN\n",
    "from sklearn.metrics import silhouette_score\n",
    "\n",
    "max_score = 0\n",
    "select_eps = 0\n",
    "for eps in eps_grid:\n",
    "    \n",
    "    clustering=DBSCAN(eps=eps,min_samples=5).fit(X)\n",
    "    si_score=silhouette_score(X,clustering.labels_)\n",
    "    if si_score > max_score:\n",
    "        max_score = si_score\n",
    "        select_eps = eps\n",
    "        \n",
    "clustering = DBSCAN(eps = select_eps,min_samples=5 ).fit(X)    \n",
    "\n",
    "print(\"Epsilon:\", select_eps, \" --> silhouette score:\",\\\n",
    "      max_score)\n",
    "print(\"最佳的epsilon（計算至小數點第四位後無條件捨去）:\",\\\n",
    "      np.floor(select_eps*10000)/10000)\n",
    "print(\"最佳的epsilon對應之silhouette score最大值（四捨五入取至小數點後第四位）:\",\\\n",
    "      np.round(max_score*10000)/10000)\n",
    "print(\"最佳集群數量（Estimated number of clusters）（整數）:\",\\\n",
    "      np.max(clustering.labels_)+1)\n",
    "# TODO\n",
    "input_file = ('data_perf_add.txt')\n",
    "df = pd.read_csv(input_file,header=None)\n",
    "# df\n",
    "X = df.iloc[:,0:2]    \n",
    "max_score = 0\n",
    "select_eps = 0\n",
    "for eps in eps_grid:\n",
    "    \n",
    "    clustering=DBSCAN(eps=eps,min_samples=5).fit(X)\n",
    "    si_score=silhouette_score(X,clustering.labels_)\n",
    "    if si_score > max_score:\n",
    "        max_score = si_score\n",
    "        select_eps = eps    \n",
    "print(\"Epsilon:\", select_eps, \" --> silhouette score:\", max_score)\n",
    "\n",
    "print(\"Best epsilon 對應之silhouette score最大值（四捨五入取至小數點後第四位）:\",\\\n",
    "      np.round(max_score*10000)/10000)"
   ]
  }
 ],
 "metadata": {
  "kernelspec": {
   "display_name": "Python 3",
   "language": "python",
   "name": "python3"
  },
  "language_info": {
   "codemirror_mode": {
    "name": "ipython",
    "version": 3
   },
   "file_extension": ".py",
   "mimetype": "text/x-python",
   "name": "python",
   "nbconvert_exporter": "python",
   "pygments_lexer": "ipython3",
   "version": "3.7.6"
  }
 },
 "nbformat": 4,
 "nbformat_minor": 4
}
