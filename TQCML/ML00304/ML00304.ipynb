{
 "cells": [
  {
   "cell_type": "markdown",
   "metadata": {},
   "source": [
    "### 專案名稱:  TQC+ 人工智慧：機器學習(Python 3)測驗\n",
    "### 功能描述:  ML00304\n",
    "### 版權所有: Dunk  \n",
    "### 程式撰寫: Dunk  \n",
    "### 撰寫日期：2020/10/06\n",
    "### 改版日期:  \n",
    "### 改版備註:  "
   ]
  },
  {
   "cell_type": "markdown",
   "metadata": {},
   "source": [
    "題號：304 糖尿病預測\n",
    "\n",
    "難易度：中\n",
    "\n",
    "（一）、 題目說明：\n",
    "\n",
    "下載ML00304.zip解壓縮後，請開啟MLD03.py依下列題意進行組合及改寫，再將求取之答案依序輸入填答視窗中。\n",
    "請注意，資料夾或程式碼中所提供的檔案路徑，不可進行變動。\n",
    "\n",
    "（二）、 設計說明：\n",
    "\n",
    "diabetes dataset是一個糖尿病的資料集，請撰寫程式，讀取此資料集的資料，建立線性複迴歸的預測模型，輸出均方誤差（mean_squared_error, MSE）及決定係數R2。\n",
    "\n",
    "（三）、 請依序回答下列問題：\n",
    "\n",
    "不分割資料集（Total number of examples）的情況下：\n",
    "請填入均方誤差MSE的值（四捨五入取至小數點後第四位）？\n",
    "2859.6904\n",
    " 此題您答對了，正確答案為：2859.6904，誤差值為：0.0002\n",
    "\n",
    "請填入決定係數R2的值（四捨五入取至小數點後第四位）？\n",
    "0.5177\n",
    " 此題您答對了，正確答案為：0.5177，誤差值為：0.0002\n",
    "\n",
    "在分割（Split）成訓練資料集及測試資料集，其比率為3:1，並設定亂數種子為100的情況下：\n",
    "請填入「訓練」資料集的均方誤差MSE值（四捨五入取至小數點後第四位）？\n",
    "2947.9337\n",
    " 此題您答對了，正確答案為：2947.9337，誤差值為：0.0002\n",
    "\n",
    "請填入「測試」資料集的均方誤差MSE值（四捨五入取至小數點後第四位）？\n",
    "2665.2278\n",
    " 此題您答對了，正確答案為：2665.2278，誤差值為：0.0002\n",
    "\n"
   ]
  },
  {
   "cell_type": "code",
   "execution_count": 12,
   "metadata": {},
   "outputs": [
    {
     "name": "stdout",
     "output_type": "stream",
     "text": [
      "Total number of examples\n",
      "MSE= 2859.6904\n",
      "R-squared= 0.5177\n",
      "Split 3:1\n",
      "train MSE= 2947.9337\n",
      "test MSE= 2665.2278\n",
      "train R-squared= 0.5064\n",
      "test R-squared= 0.5283\n"
     ]
    }
   ],
   "source": [
    "from sklearn import datasets\n",
    "import pandas as pd\n",
    "from sklearn.linear_model import LinearRegression\n",
    "from sklearn.metrics import mean_squared_error,r2_score\n",
    "# TODO\n",
    "diabetes_dataset = datasets.load_diabetes()\n",
    "\n",
    "#get x\n",
    "# TODO \n",
    "X = diabetes_dataset.data\n",
    "y = diabetes_dataset.target\n",
    "\n",
    "#Total number of examples\n",
    "# TODO \n",
    "lm = LinearRegression()\n",
    "lm.fit(X,y)\n",
    "y_pred = lm.predict(X)\n",
    "print('Total number of examples')\n",
    "print('MSE=',round(mean_squared_error(y,y_pred),4))\n",
    "print('R-squared=',round(r2_score(y,y_pred),4))\n",
    "# #3:1 100\n",
    "from sklearn.model_selection import train_test_split\n",
    "xTrain2, xTest2, yTrain2, yTest2=train_test_split(X,y,test_size=0.25,random_state=100)\n",
    "lm2=LinearRegression()\n",
    "lm2.fit(xTrain2,yTrain2)\n",
    "# # TODO \n",
    "y_pred_2_train = lm2.predict(xTrain2)\n",
    "y_pred_2_test = lm2.predict(xTest2)\n",
    "\n",
    "\n",
    "print('Split 3:1')\n",
    "print('train MSE=',round(mean_squared_error(yTrain2,y_pred_2_train),4))\n",
    "print('test MSE=',round(mean_squared_error(yTest2,y_pred_2_test),4))\n",
    "print('train R-squared=',round(r2_score(yTrain2,y_pred_2_train),4))\n",
    "print('test R-squared=',round(r2_score(yTest2,y_pred_2_test),4))\n"
   ]
  }
 ],
 "metadata": {
  "kernelspec": {
   "display_name": "Python 3",
   "language": "python",
   "name": "python3"
  },
  "language_info": {
   "codemirror_mode": {
    "name": "ipython",
    "version": 3
   },
   "file_extension": ".py",
   "mimetype": "text/x-python",
   "name": "python",
   "nbconvert_exporter": "python",
   "pygments_lexer": "ipython3",
   "version": "3.7.6"
  }
 },
 "nbformat": 4,
 "nbformat_minor": 4
}
