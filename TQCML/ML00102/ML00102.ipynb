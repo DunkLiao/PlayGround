{
 "cells": [
  {
   "cell_type": "markdown",
   "metadata": {},
   "source": [
    "### 專案名稱:  TQC+ 人工智慧：機器學習(Python 3)測驗\n",
    "### 功能描述:  ML00102\n",
    "### 版權所有: Dunk  \n",
    "### 程式撰寫: Dunk  \n",
    "### 撰寫日期：2020/09/30\n",
    "### 改版日期:  \n",
    "### 改版備註:  "
   ]
  },
  {
   "cell_type": "markdown",
   "metadata": {},
   "source": [
    "題號：102 鐵達尼號生存預測\n",
    "\n",
    "難易度：易\n",
    "\n",
    "（一）、 題目說明：\n",
    "\n",
    "下載ML00102.zip解壓縮後，請開啟MLD01.py依下列題意進行組合及改寫，再將求取之答案依序輸入填答視窗中。\n",
    "請注意，資料夾或程式碼中所提供的檔案路徑，不可進行變動。\n",
    "\n",
    "（二）、 設計說明：\n",
    "\n",
    "著名的鐵達尼號乘客資料是一份公開資訊，我們使用邏輯迴歸進行鐵達尼號的生存預測。\n",
    "請撰寫程式，讀取titanic.csv；其中年齡（Age）欄位的NA值，請以年齡的中位數代入。\n",
    "使用乘客等級（PClass）、年齡（Age）和性別碼（SexCode）三個欄位的資料來訓練邏輯迴歸預測模型。\n",
    "\n",
    "（三）、 請依序回答下列問題：\n",
    "\n",
    "請填入年齡的中位數（取至整數）？\n",
    "\n",
    "28\n",
    " 此題您答對了，正確答案為：28\n",
    "\n",
    "請填入此模型的截距（intercept_）（四捨五入取至小數點後第四位）？\n",
    "\n",
    "1.9966\n",
    " 此題您答對了，正確答案為：1.9966，誤差值為：0.0002\n",
    "\n",
    "請填入此模型中，性別碼（SexCode）的迴歸係數（四捨五入取至小數點後第四位）？\n",
    "\n",
    "2.3834\n",
    " 此題您答對了，正確答案為：2.3834，誤差值為：0.0002\n",
    "\n",
    "請填入此預測模型的準確度（四捨五入取至小數點後第四位）？\n",
    "\n",
    "0.8149\n",
    " 此題您答對了，正確答案為：0.8149，誤差值為：0.0002\n",
    "\n"
   ]
  },
  {
   "cell_type": "code",
   "execution_count": 4,
   "metadata": {},
   "outputs": [
    {
     "name": "stdout",
     "output_type": "stream",
     "text": [
      "年齡中位數= 28\n",
      "new data\n",
      "0\n",
      "截距= 1.9966\n",
      "迴歸係數= 2.3834\n",
      "Confusion Matrix\n",
      "[[805  58]\n",
      " [185 265]]\n",
      "Accuracy: 0.8149\n"
     ]
    }
   ],
   "source": [
    "import pandas as pd\n",
    "import numpy as np\n",
    "from sklearn import preprocessing, linear_model\n",
    "import warnings\n",
    "warnings.filterwarnings(\"ignore\")\n",
    "\n",
    "# 原始資料\n",
    "titanic = pd.read_csv(\"titanic.csv\")\n",
    "# 注意column欄位要在前面\n",
    "median_value = np.median(titanic['Age'][titanic['Age'].isnull()==False])\n",
    "print(\"年齡中位數=\" ,  '{0:.0f}'.format(median_value)   )\n",
    "# TODO\n",
    "titanic['Age'][titanic['Age'].isnull()==True] = median_value\n",
    "# 更新後資料\n",
    "print('new data')\n",
    "# TODO\n",
    "print(titanic['Age'][titanic['Age'].isnull()==True].count())\n",
    "# 轉換欄位值成為數值\n",
    "label_encoder = preprocessing.LabelEncoder()\n",
    "titanic['PClass'] = label_encoder.fit_transform(titanic['PClass'])\n",
    "# TODO\n",
    "\n",
    "# 建立模型\n",
    "# TODO\n",
    "lm = linear_model.LogisticRegression()\n",
    "#注意要二維陣列\n",
    "X = titanic[['PClass','Age','SexCode']]\n",
    "y = titanic[['Survived']]\n",
    "lm.fit(X,y)\n",
    "\n",
    "#注意轉型\n",
    "print('截距=', round(float(lm.intercept_),4))\n",
    "#注意要二維陣列並轉型\n",
    "print('迴歸係數=',round(float(lm.coef_[:,2]),4))\n",
    "\n",
    "y_pred = lm.predict(X)\n",
    "\n",
    "\n",
    "# 混淆矩陣(Confusion Matrix)，計算準確度\n",
    "# 注意引用用法\n",
    "from sklearn.metrics import confusion_matrix\n",
    "from sklearn.metrics import accuracy_score\n",
    "\n",
    "print('Confusion Matrix')\n",
    "print(confusion_matrix(y,y_pred))\n",
    "# TODO\n",
    "print(\"Accuracy:\",round(accuracy_score(y,y_pred),4))"
   ]
  }
 ],
 "metadata": {
  "kernelspec": {
   "display_name": "Python 3",
   "language": "python",
   "name": "python3"
  },
  "language_info": {
   "codemirror_mode": {
    "name": "ipython",
    "version": 3
   },
   "file_extension": ".py",
   "mimetype": "text/x-python",
   "name": "python",
   "nbconvert_exporter": "python",
   "pygments_lexer": "ipython3",
   "version": "3.7.6"
  }
 },
 "nbformat": 4,
 "nbformat_minor": 4
}
