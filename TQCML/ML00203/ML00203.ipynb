{
 "cells": [
  {
   "cell_type": "markdown",
   "metadata": {},
   "source": [
    "### 專案名稱:  TQC+ 人工智慧：機器學習(Python 3)測驗\n",
    "### 功能描述:  ML00203\n",
    "### 版權所有: Dunk  \n",
    "### 程式撰寫: Dunk  \n",
    "### 撰寫日期：2020/10/06\n",
    "### 改版日期:  \n",
    "### 改版備註:  "
   ]
  },
  {
   "cell_type": "markdown",
   "metadata": {},
   "source": [
    "題號：203 寶可夢分群\n",
    "\n",
    "難易度：易\n",
    "\n",
    "（一）、 題目說明：\n",
    "\n",
    "下載ML00203.zip解壓縮後，請開啟MLD02.py依下列題意進行組合及改寫，再將求取之答案依序輸入填答視窗中。\n",
    "請注意，資料夾或程式碼中所提供的檔案路徑，不可進行變動。\n",
    "\n",
    "（二）、 設計說明：\n",
    "\n",
    "請撰寫程式讀取寶可夢資料集pokemon.json，並進行分群處理。資料集的欄位說明如下：\n",
    "欄位名稱\t說明\n",
    "HP\t血量\n",
    "Attack\t攻擊力\n",
    "Defense\t防禦力\n",
    "SpecialAtk\t特殊攻擊\n",
    "SpecialDef\t特殊防禦\n",
    "Speed\t速度\n",
    "針對前五個數值欄位進行標準化（Standardization）。\n",
    "＊備註：其標準化定義為「將資料x轉換為Z = (X-μ) /σ」，其中μ為資料平均數，σ為資料之變異數。此轉換可使用StandardScaler完成。\n",
    "利用階層式集群（Hierarchical clustering）方法把寶可夢分成四群，參數設定：\n",
    "n_clusters=4, affinity='euclidean', linkage='ward'。\n",
    "計算分群結果的最小群與最大群的元素個數。\n",
    "以分群結果的群內Speed欄位平均值（取至整數）填入兩隻遺漏這個欄位值的寶可夢。\n",
    "\n",
    "（三）、 請依序回答下列問題：\n",
    "\n",
    "依分群結果，請填入最小群中有幾個元素？\n",
    "15\n",
    " 此題您答對了，正確答案為：15\n",
    "\n",
    "依分群結果，請填入最大群中有幾個元素？\n",
    "76\n",
    " 此題您答對了，正確答案為：76\n",
    "\n",
    "請填入能力值為{\"HP\":60, \"Attack\":48, \"Defense\":45, \"SpecialAtk\":43, \"SpecialDef\":90}寶可夢的Speed欄位值（四捨五入取至整數）？\n",
    "58\n",
    " 此題您答對了，正確答案為：58\n",
    "\n",
    "請填入能力值為{\"HP\":70, \"Attack\":75, \"Defense\":60, \"SpecialAtk\":105, \"SpecialDef\":60}寶可夢的Speed欄位值（四捨五入取至整數）？\n",
    "92\n",
    " 此題您答對了，正確答案為：92\n",
    "\n"
   ]
  },
  {
   "cell_type": "code",
   "execution_count": 29,
   "metadata": {},
   "outputs": [
    {
     "name": "stdout",
     "output_type": "stream",
     "text": [
      "(156, 6)\n",
      "    HP  Attack  Defense  SpecialAtk  SpecialDef  Speed\n",
      "19  60      48       45          43          90    NaN\n",
      "63  70      75       60         105          60    NaN\n",
      "最小群中有幾個元素: 15\n",
      "最大群中有幾個元素: 76\n",
      "       Speed\n",
      "label       \n",
      "0       58.0\n",
      "1       57.0\n",
      "2       92.0\n",
      "3       82.0\n",
      "分類結果 0 ;時速 58.0\n",
      "分類結果 2 ;時速 92.0\n"
     ]
    }
   ],
   "source": [
    "import pandas as pd\n",
    "import numpy as np\n",
    "# 載入寶可夢資料\n",
    "# TODO\n",
    "file_name = \"pokemon.json\"\n",
    "df = pd.read_json(file_name)\n",
    "df_source = df.copy(deep=False)\n",
    "# 取出目標欄位\n",
    "# TODO\n",
    "print(df_source.shape)\n",
    "print(df_source[df_source['Speed'].isnull()==True])\n",
    "# 特徵標準化\n",
    "from sklearn.preprocessing import StandardScaler\n",
    "# TODO\n",
    "standardscaler = StandardScaler()\n",
    "for col_name in df.columns[:5]:    \n",
    "    df_source[col_name] = standardscaler.fit_transform(df_source[[col_name]])\n",
    "# print(np.isnan(df_source).any())\n",
    "\n",
    "# # 利用 Hierarchical Clustering 進行分群，除以下參數設定外，其餘為預設值\n",
    "# # #############################################################################\n",
    "# # n_clusters=4, affinity='euclidean', linkage='ward'\n",
    "# # #############################################################################\n",
    "from sklearn.cluster import AgglomerativeClustering\n",
    "# TODO\n",
    "X = df_source.iloc[:,0:5]\n",
    "cluster = AgglomerativeClustering(n_clusters=4, affinity='euclidean', linkage='ward')\n",
    "cluster.fit(X)\n",
    "\n",
    "# 計算每一群的個數\n",
    "# TODO\n",
    "df_label = pd.DataFrame(cluster.labels_)\n",
    "print(\"最小群中有幾個元素:\",np.min(df_label[0].value_counts()))\n",
    "print(\"最大群中有幾個元素:\",np.max(df_label[0].value_counts()))\n",
    "\n",
    "df_source['label'] = cluster.labels_\n",
    "df_speed = pd.DataFrame(np.round(df_source.groupby(\"label\")['Speed'].mean(),0))\n",
    "print(df_speed)\n",
    "for index_val in df_source[df_source['Speed'].isnull()==True].index:\n",
    "    label = df_source.loc[index_val,'label']\n",
    "    print(\"分類結果\",label,\";時速\",df_speed.loc[label,\"Speed\"])    "
   ]
  }
 ],
 "metadata": {
  "kernelspec": {
   "display_name": "Python 3",
   "language": "python",
   "name": "python3"
  },
  "language_info": {
   "codemirror_mode": {
    "name": "ipython",
    "version": 3
   },
   "file_extension": ".py",
   "mimetype": "text/x-python",
   "name": "python",
   "nbconvert_exporter": "python",
   "pygments_lexer": "ipython3",
   "version": "3.7.6"
  }
 },
 "nbformat": 4,
 "nbformat_minor": 4
}
