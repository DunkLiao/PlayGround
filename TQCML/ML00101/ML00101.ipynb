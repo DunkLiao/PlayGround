{
 "cells": [
  {
   "cell_type": "markdown",
   "metadata": {},
   "source": [
    "### 專案名稱:  TQC+ 人工智慧：機器學習(Python 3)測驗\n",
    "### 功能描述:  ML00101\n",
    "### 版權所有: Dunk  \n",
    "### 程式撰寫: Dunk  \n",
    "### 撰寫日期：2020/09/29\n",
    "### 改版日期:  \n",
    "### 改版備註:  "
   ]
  },
  {
   "cell_type": "markdown",
   "metadata": {},
   "source": [
    "題號：101 紅酒種類預測\n",
    "\n",
    "難易度：易\n",
    "\n",
    "（一）、 題目說明：\n",
    "\n",
    "下載ML00101.zip解壓縮後，請開啟MLD01.py依下列題意進行組合及改寫，再將求取之答案依序輸入填答視窗中。\n",
    "請注意，資料夾或程式碼中所提供的檔案路徑，不可進行變動。\n",
    "\n",
    "（二）、 設計說明：\n",
    "\n",
    "請使用決策樹分類（Decision Tree Classifier），撰寫程式，讀取wine.csv，這個資料集統計紅酒的品質資料，此資料集包含下列欄位：\n",
    "欄位0（Target）：紅酒的分類（總共分為3類，分別為1~3）\n",
    "欄位1-13（Data）：各種紅酒中各項化學成分檢驗結果，包含如：酒精、蘋果酸、鎂、黃酮、顏色強度、色澤…等等。\n",
    "請將75%的資料做為訓練資料集，25%的資料用於測試資料集，random_state=5。\n",
    "請用Data來預測Target的值。\n",
    "請使用round函數計算至小數點第二位，印出所訓練分類器的準確度【xx.xx】%，並預測分類。\n",
    "\n",
    "（三）、 請依序回答下列問題：\n",
    "\n",
    "請填入分類器的準確度Accuracy of the classifier為多少%（不需填入%，計算至小數點後第二位）？\n",
    "\n",
    "91.11\n",
    " 此題您答對了，正確答案為：91.11，誤差值為：0.02\n",
    "\n",
    "輸入資料[1.51, 1.73, 1.98, 20.15, 85, 2.2, 1.92, .32, 1.48, 2.94, 1, 3.57, 172]，請填入預測分類的選項？\n",
    "\n",
    "(A) 第1類 (B) 第2類 (C) 第3類 (D) 無法分類\n",
    "\n",
    "B\n",
    " 此題您答對了，正確答案為：B\n",
    "\n",
    "輸入資料[14.23, 1.71, 2.43, 15.6, 127, 2.8, 3.06, .28, 2.29, 5.64, 1.04, 3.92, 1065]，請填入預測分類的選項？\n",
    "\n",
    "(A) 第1類 (B) 第2類 (C) 第3類 (D) 無法分類\n",
    "\n",
    "A\n",
    " 此題您答對了，正確答案為：A\n",
    "\n",
    "輸入資料[13.71, 5.65, 2.45, 20.5, 95, 1.68, .61, .52, 1.06, 7.7, .64, 1.74, 720]，請填入預測分類的選項？\n",
    "\n",
    "(A) 第1類 (B) 第2類 (C) 第3類 (D) 無法分類\n",
    "\n",
    "C\n",
    " 此題您答對了，正確答案為：C"
   ]
  },
  {
   "cell_type": "code",
   "execution_count": 2,
   "metadata": {},
   "outputs": [
    {
     "name": "stdout",
     "output_type": "stream",
     "text": [
      "Accuracy of the classifier = 91.11 %\n",
      "X_test1 is [2]\n",
      "X_test2 is [1]\n",
      "X_test3 is [3]\n"
     ]
    }
   ],
   "source": [
    "import numpy as np\n",
    "import pandas as pd\n",
    "input_file = 'wine.csv'\n",
    "# 注意要用 header=None\n",
    "df = pd.read_csv(input_file, header=None)\n",
    "\n",
    "# 注意要用shape\n",
    "X = df.iloc[:, 1:df.shape[1]]\n",
    "y = df.iloc[:, 0]\n",
    "\n",
    "# TODO\n",
    "\n",
    "\n",
    "from sklearn import model_selection\n",
    "\n",
    "X_train, X_test, y_train, y_test = model_selection.train_test_split(X,y,\\\n",
    "                train_size=0.75,random_state=5)\n",
    "\n",
    "from sklearn.tree import DecisionTreeClassifier\n",
    "\n",
    "\n",
    "#TODO\n",
    "clf_dtc =  DecisionTreeClassifier()\n",
    "\n",
    "# 進行訓練\n",
    "clf_dtc.fit(X_train,y_train)\n",
    "\n",
    "# 預測測試集\n",
    "y_pred = clf_dtc.predict(X_test)\n",
    "\n",
    "\n",
    "#compute accuracy of the classifier計算分類器的精確度\n",
    "from sklearn.metrics import accuracy_score\n",
    "\n",
    "acc = accuracy_score(y_test,y_pred)\n",
    "print(\"Accuracy of the classifier =\",   round(acc*100,2)  , \"%\")\n",
    "\n",
    "X_test1 =[[1.51, 1.73, 1.98, 20.15, 85, 2.2, 1.92, .32, 1.48, 2.94, 1, 3.57, 172]]\n",
    "\n",
    "X_test2 = [[14.23, 1.71, 2.43, 15.6, 127, 2.8, 3.06, .28, 2.29, 5.64, 1.04, 3.92, 1065]]\n",
    "X_test3 = [[13.71, 5.65, 2.45, 20.5, 95, 1.68, .61, .52, 1.06, 7.7, .64, 1.74, 720]]\n",
    "\n",
    "\n",
    "# TODO\n",
    "y_pred = clf_dtc.predict(X_test1)\n",
    "print(\"X_test1 is\", y_pred)\n",
    "y_pred = clf_dtc.predict(X_test2)\n",
    "print(\"X_test2 is\",  y_pred)\n",
    "y_pred = clf_dtc.predict(X_test3)\n",
    "print(\"X_test3 is\", y_pred)\n",
    "\n"
   ]
  }
 ],
 "metadata": {
  "kernelspec": {
   "display_name": "Python 3",
   "language": "python",
   "name": "python3"
  },
  "language_info": {
   "codemirror_mode": {
    "name": "ipython",
    "version": 3
   },
   "file_extension": ".py",
   "mimetype": "text/x-python",
   "name": "python",
   "nbconvert_exporter": "python",
   "pygments_lexer": "ipython3",
   "version": "3.7.6"
  }
 },
 "nbformat": 4,
 "nbformat_minor": 4
}
