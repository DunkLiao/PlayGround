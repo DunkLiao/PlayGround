{
 "cells": [
  {
   "cell_type": "markdown",
   "metadata": {},
   "source": [
    "<img src=\"http://2.bp.blogspot.com/-H2m-BFydExw/Wkc9gJQE8GI/AAAAAAAAcZI/pJhLUIEj9zMe2fmVsQuK2UWFbrVagaongCK4BGAYYCw/s0/%25E6%2588%2590%25E5%258A%259F%25E9%2581%258E%25E7%25A8%258B.png\"\n",
    "style=\"width:100px;height:100px;float:left\"><br/><br/><br/><br/><br/>  \n",
    "### 專案名稱: python測試  \n",
    "### 功能描述: 數字測試\n",
    "### 版權所有: Dunk  \n",
    "### 程式撰寫: Dunk  \n",
    "### 參考網址: https://www.runoob.com/python3/python3-number.html\n",
    "### 撰寫日期：2020/02/17\n",
    "### 改版日期:  \n",
    "### 改版備註:  "
   ]
  },
  {
   "cell_type": "markdown",
   "metadata": {},
   "source": [
    "## Python 支持三种不同的数值类型：\n",
    "\n",
    "#### 整型(Int) - 通常被称为是整型或整数，是正或负整数，不带小数点。Python3 整型是没有限制大小的，可以当作 Long 类型使用，所以 Python3 没有 Python2 的 Long 类型。\n",
    "\n",
    "#### 浮点型(float) - 浮点型由整数部分与小数部分组成，浮点型也可以使用科学计数法表示（2.5e2 = 2.5 x 102 = 250）\n",
    "#### 复数( (complex)) - 复数由实数部分和虚数部分构成，可以用a + bj,或者complex(a,b)表示， 复数的实部a和虚部b都是浮点型。"
   ]
  },
  {
   "cell_type": "markdown",
   "metadata": {},
   "source": [
    "<h2>数学函数</h2>\n",
    "<table class=\"reference\">\n",
    "<tbody><tr>\n",
    "<th>函数</th><th>返回值 ( 描述 )</th></tr>\n",
    "<tr><td>abs(x)</td><td>返回数字的绝对值，如abs(-10) 返回 10</td></tr>\n",
    "<tr><td>ceil(x) </td><td>返回数字的上入整数，如math.ceil(4.1) 返回 5</td></tr>\n",
    "<tr><td><p>cmp(x, y)</p></td>\n",
    "<td>如果 x &lt; y 返回 -1, 如果 x == y 返回 0, 如果 x &gt; y 返回 1。 <strong style=\"color:red\">Python 3 已废弃，使用 (x&gt;y)-(x&lt;y) 替换</strong>。 </td>\n",
    "</tr>\n",
    "<tr><td>exp(x) </td><td>返回e的x次幂(e<sup>x</sup>),如math.exp(1) 返回2.718281828459045</td></tr>\n",
    "<tr><td>fabs(x)</td><td>返回数字的绝对值，如math.fabs(-10) 返回10.0</td></tr>\n",
    "<tr><td>floor(x) </td><td>返回数字的下舍整数，如math.floor(4.9)返回 4</td></tr>\n",
    "<tr><td>log(x) </td><td>如math.log(math.e)返回1.0,math.log(100,10)返回2.0</td></tr>\n",
    "<tr><td>log10(x) </td><td>返回以10为基数的x的对数，如math.log10(100)返回 2.0</td></tr>\n",
    "<tr><td>max(x1, x2,...) </td><td>返回给定参数的最大值，参数可以为序列。</td></tr>\n",
    "<tr><td>min(x1, x2,...) </td><td>返回给定参数的最小值，参数可以为序列。</td></tr>\n",
    "<tr><td>modf(x) </td><td>返回x的整数部分与小数部分，两部分的数值符号与x相同，整数部分以浮点型表示。</td></tr>\n",
    "<tr><td>pow(x, y)</td><td> x**y 运算后的值。</td></tr>\n",
    "<tr><td>round(x [,n])</td><td><p>返回浮点数 x 的四舍五入值，如给出 n 值，则代表舍入到小数点后的位数。</p>\n",
    "<p><strong>其实准确的说是保留值将保留到离上一位更近的一端。</strong></p>\n",
    "</td></tr>\n",
    "<tr><td>sqrt(x) </td><td>返回数字x的平方根。</td></tr>\n",
    "</tbody></table>\n",
    "<br><hr>\n",
    "<h2>随机数函数</h2>\n",
    "<p>随机数可以用于数学，游戏，安全等领域中，还经常被嵌入到算法中，用以提高算法效率，并提高程序的安全性。</p>\n",
    "<p>Python包含以下常用随机数函数：</p>\n",
    "<table class=\"reference\">\n",
    "<tbody><tr>\n",
    "<th>函数</th><th>描述</th></tr>\n",
    "<tr><td>choice(seq)</td><td>从序列的元素中随机挑选一个元素，比如random.choice(range(10))，从0到9中随机挑选一个整数。</td></tr>\n",
    "<tr><td>randrange ([start,] stop [,step]) </td><td>从指定范围内，按指定基数递增的集合中获取一个随机数，基数默认值为 1</td></tr>\n",
    "<tr><td>random() </td><td> 随机生成下一个实数，它在[0,1)范围内。</td></tr>\n",
    "<tr><td>seed([x]) </td><td>改变随机数生成器的种子seed。如果你不了解其原理，你不必特别去设定seed，Python会帮你选择seed。</td></tr>\n",
    "<tr><td>shuffle(lst) </td><td>将序列的所有元素随机排序</td></tr>\n",
    "<tr><td>uniform(x, y)</td><td>随机生成下一个实数，它在[x,y]范围内。</td></tr>\n",
    "</tbody></table>\n",
    "<br><hr>\n",
    "<h2>三角函数</h2>\n",
    "<p>\n",
    "Python包括以下三角函数：</p>\n",
    "<table class=\"reference\">\n",
    "<tbody><tr>\n",
    "<th>函数</th><th>描述</th></tr>\n",
    "<tr><td>acos(x)</td><td>返回x的反余弦弧度值。</td></tr>\n",
    "<tr><td>asin(x)</td><td>返回x的反正弦弧度值。</td></tr>\n",
    "<tr><td>atan(x)</td><td>返回x的反正切弧度值。</td></tr>\n",
    "<tr><td>atan2(y, x)</td><td>返回给定的 X 及 Y 坐标值的反正切值。</td></tr>\n",
    "<tr><td>cos(x)</td><td>返回x的弧度的余弦值。</td></tr>\n",
    "<tr><td>hypot(x, y)</td><td>返回欧几里德范数 sqrt(x*x + y*y)。 </td></tr>\n",
    "<tr><td>sin(x)</td><td>返回的x弧度的正弦值。</td></tr>\n",
    "<tr><td>tan(x)</td><td>返回x弧度的正切值。</td></tr>\n",
    "<tr><td>degrees(x)</td><td>将弧度转换为角度,如degrees(math.pi/2) ，  返回90.0</td></tr>\n",
    "<tr><td>radians(x)</td><td>将角度转换为弧度</td></tr>\n",
    "</tbody></table>\n",
    "<br><hr>\n",
    "<h2>数学常量</h2>\n",
    "<table class=\"reference\">\n",
    "<tbody><tr>\n",
    "<th>常量</th><th>描述</th></tr>\n",
    "<tr><td>pi</td><td>数学常量 pi（圆周率，一般以π来表示）</td></tr>\n",
    "<tr><td>e</td><td>数学常量 e，e即自然常数（自然常数）。</td></tr>\n",
    "</tbody></table>"
   ]
  },
  {
   "cell_type": "code",
   "execution_count": 7,
   "metadata": {},
   "outputs": [
    {
     "name": "stdout",
     "output_type": "stream",
     "text": [
      "10,20,30\n",
      "<class 'NameError'>(\"name 'var' is not defined\",)\n"
     ]
    }
   ],
   "source": [
    "#測試數字類型\n",
    "var = 10\n",
    "var_a,var_b = 20,30\n",
    "print(\"{0},{1},{2}\".format(var,var_a,var_b))\n",
    "del var\n",
    "del var_a, var_b\n",
    "try:\n",
    "    print(\"{0},{1},{2}\".format(var,var_a,var_b))\n",
    "except Exception as e:\n",
    "    #抓取例外型態\n",
    "    print(str(type(e)) + str(e.args))"
   ]
  },
  {
   "cell_type": "code",
   "execution_count": 12,
   "metadata": {},
   "outputs": [
    {
     "name": "stdout",
     "output_type": "stream",
     "text": [
      "2575\n",
      "31\n",
      "(3+4j)\n"
     ]
    }
   ],
   "source": [
    "'''進位'''\n",
    "#16進位\n",
    "number = 0xA0F\n",
    "print(number)\n",
    "#8進位\n",
    "number = 0o37\n",
    "print(number)\n",
    "#複數\n",
    "number = 3+4j\n",
    "print(number)"
   ]
  },
  {
   "cell_type": "code",
   "execution_count": 20,
   "metadata": {},
   "outputs": [
    {
     "name": "stdout",
     "output_type": "stream",
     "text": [
      "1.2 >> 1\n",
      "--------------------\n",
      "1 >> 1.0\n",
      "--------------------\n",
      "5.666666666666667\n",
      "--------------------\n",
      "5\n",
      "--------------------\n",
      "5.0\n",
      "5.0\n"
     ]
    }
   ],
   "source": [
    "'''型態轉換'''\n",
    "#narrow band\n",
    "a = 1.2\n",
    "print('{0} >> {1}'.format(a,int(a)))\n",
    "print(\"--------------------\")\n",
    "#board band\n",
    "a = 1\n",
    "print('{0} >> {1}'.format(a,float(a)))\n",
    "\n",
    "print(\"--------------------\")\n",
    "print(17/3)\n",
    "#取得商數視型態而定\n",
    "print(\"--------------------\")\n",
    "#int\n",
    "print(17//3)\n",
    "print(\"--------------------\")\n",
    "#float\n",
    "print(17//3.0)\n",
    "print(17.0//3)\n",
    "print(\"--------------------\")"
   ]
  }
 ],
 "metadata": {
  "kernelspec": {
   "display_name": "Python 3",
   "language": "python",
   "name": "python3"
  },
  "language_info": {
   "codemirror_mode": {
    "name": "ipython",
    "version": 3
   },
   "file_extension": ".py",
   "mimetype": "text/x-python",
   "name": "python",
   "nbconvert_exporter": "python",
   "pygments_lexer": "ipython3",
   "version": "3.5.4"
  }
 },
 "nbformat": 4,
 "nbformat_minor": 2
}
