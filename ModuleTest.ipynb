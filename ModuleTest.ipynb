{
 "cells": [
  {
   "cell_type": "markdown",
   "metadata": {},
   "source": [
    "<img src=\"http://2.bp.blogspot.com/-H2m-BFydExw/Wkc9gJQE8GI/AAAAAAAAcZI/pJhLUIEj9zMe2fmVsQuK2UWFbrVagaongCK4BGAYYCw/s0/%25E6%2588%2590%25E5%258A%259F%25E9%2581%258E%25E7%25A8%258B.png\"\n",
    "style=\"width:100px;height:100px;float:left\"><br/><br/><br/><br/><br/>  \n",
    "### 專案名稱: python測試  \n",
    "### 功能描述: 模組測試\n",
    "### 版權所有: Dunk  \n",
    "### 程式撰寫: Dunk  \n",
    "### 參考網址: https://www.runoob.com/python3/python3-module.html\n",
    "### 撰寫日期：2020/02/18\n",
    "### 改版日期:  \n",
    "### 改版備註:  "
   ]
  },
  {
   "cell_type": "code",
   "execution_count": 2,
   "metadata": {},
   "outputs": [
    {
     "name": "stdout",
     "output_type": "stream",
     "text": [
      "命令行参数如下:\n",
      "D:\\software\\WinPython\\python-3.5.4.amd64\\lib\\site-packages\\ipykernel_launcher.py\n",
      "-f\n",
      "D:\\software\\WinPython\\settings\\runtime\\kernel-194d9f2a-dd8b-4adb-856b-42e30e99f949.json\n",
      "\n",
      "\n",
      "Python 路径为： ['', 'D:\\\\software\\\\WinPython\\\\python-3.5.4.amd64\\\\python35.zip', 'D:\\\\software\\\\WinPython\\\\python-3.5.4.amd64\\\\DLLs', 'D:\\\\software\\\\WinPython\\\\python-3.5.4.amd64\\\\lib', 'D:\\\\software\\\\WinPython\\\\python-3.5.4.amd64', 'D:\\\\software\\\\WinPython\\\\python-3.5.4.amd64\\\\lib\\\\site-packages', 'D:\\\\software\\\\WinPython\\\\settings\\\\.spyder-py3\\\\code_py', 'D:\\\\software\\\\WinPython\\\\python-3.5.4.amd64\\\\lib\\\\site-packages\\\\win32', 'D:\\\\software\\\\WinPython\\\\python-3.5.4.amd64\\\\lib\\\\site-packages\\\\win32\\\\lib', 'D:\\\\software\\\\WinPython\\\\python-3.5.4.amd64\\\\lib\\\\site-packages\\\\Pythonwin', 'D:\\\\software\\\\WinPython\\\\python-3.5.4.amd64\\\\lib\\\\site-packages\\\\IPython\\\\extensions', 'D:\\\\software\\\\WinPython\\\\settings\\\\.ipython'] \n",
      "\n"
     ]
    }
   ],
   "source": [
    "'''練習模組'''\n",
    "import sys\n",
    " \n",
    "print('命令行参数如下:')\n",
    "for i in sys.argv:\n",
    "   print(i)\n",
    " \n",
    "print('\\n\\nPython 路径为：', sys.path, '\\n')"
   ]
  },
  {
   "cell_type": "markdown",
   "metadata": {},
   "source": [
    "#### def fib(n):\n",
    "####     \"\"\"定义到 n 的斐波那契数列\"\"\"\n",
    "####     a, b = 0, 1\n",
    "####     while b < n:\n",
    "####         print(b, end=' ')\n",
    "####         a, b = b, a+b\n",
    "####     print()\n",
    "####  \n",
    "#### def fib2(n):\n",
    "####     \"\"\"返回到 n 的斐波那契数列\"\"\"\n",
    "####     result = []\n",
    "####     a, b = 0, 1\n",
    "####     while b < n:\n",
    "####         result.append(b)\n",
    "####         a, b = b, a+b\n",
    "####     return result"
   ]
  },
  {
   "cell_type": "code",
   "execution_count": 14,
   "metadata": {},
   "outputs": [
    {
     "name": "stdout",
     "output_type": "stream",
     "text": [
      "1 1 2 3 5 8 13 21 34 55 89 144 233 377 610 987 \n"
     ]
    },
    {
     "data": {
      "text/plain": [
       "[1, 1, 2, 3, 5, 8, 13, 21, 34, 55, 89, 144, 233, 377, 610, 987]"
      ]
     },
     "execution_count": 14,
     "metadata": {},
     "output_type": "execute_result"
    }
   ],
   "source": [
    "'''匯入自訂模組'''\n",
    "import sys\n",
    "#加入指定路徑\n",
    "sys.path.append(r'D:\\software\\WinPython\\notebooks\\play_ground')\n",
    "\n",
    "import fib\n",
    "#測試模組\n",
    "fib.fib(1000)\n",
    "fib.fib2(1000)\n"
   ]
  },
  {
   "cell_type": "code",
   "execution_count": 15,
   "metadata": {},
   "outputs": [
    {
     "name": "stdout",
     "output_type": "stream",
     "text": [
      "程序自身在运行\n"
     ]
    }
   ],
   "source": [
    "'''判斷是否在本身執行'''\n",
    "if __name__ == '__main__':\n",
    "   print('程序自身在运行')\n",
    "else:\n",
    "   print('我来自另一模块')"
   ]
  },
  {
   "cell_type": "code",
   "execution_count": 21,
   "metadata": {},
   "outputs": [
    {
     "name": "stdout",
     "output_type": "stream",
     "text": [
      "['__annotations__', '__call__', '__class__', '__closure__', '__code__', '__defaults__', '__delattr__', '__dict__', '__dir__', '__doc__', '__eq__', '__format__', '__ge__', '__get__', '__getattribute__', '__globals__', '__gt__', '__hash__', '__init__', '__kwdefaults__', '__le__', '__lt__', '__module__', '__name__', '__ne__', '__new__', '__qualname__', '__reduce__', '__reduce_ex__', '__repr__', '__setattr__', '__sizeof__', '__str__', '__subclasshook__']\n",
      "['In', 'Out', '_', '_12', '_13', '_14', '_18', '_19', '_20', '__', '___', '__builtin__', '__builtins__', '__doc__', '__loader__', '__name__', '__package__', '__spec__', '_dh', '_i', '_i1', '_i10', '_i11', '_i12', '_i13', '_i14', '_i15', '_i16', '_i17', '_i18', '_i19', '_i2', '_i20', '_i21', '_i3', '_i4', '_i5', '_i6', '_i7', '_i8', '_i9', '_ih', '_ii', '_iii', '_oh', 'exit', 'fib', 'fib2', 'get_ipython', 'quit', 'sys']\n"
     ]
    }
   ],
   "source": [
    "'''from … import 语句'''\n",
    "from fib import fib, fib2\n",
    "from fib import *\n",
    "#查詢模組類所有名稱\n",
    "print(dir(fib))\n",
    "# 得到一个当前模块中定义的属性列表\n",
    "print(dir())"
   ]
  }
 ],
 "metadata": {
  "kernelspec": {
   "display_name": "Python 3",
   "language": "python",
   "name": "python3"
  },
  "language_info": {
   "codemirror_mode": {
    "name": "ipython",
    "version": 3
   },
   "file_extension": ".py",
   "mimetype": "text/x-python",
   "name": "python",
   "nbconvert_exporter": "python",
   "pygments_lexer": "ipython3",
   "version": "3.5.4"
  }
 },
 "nbformat": 4,
 "nbformat_minor": 2
}
