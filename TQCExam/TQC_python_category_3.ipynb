{
 "cells": [
  {
   "cell_type": "markdown",
   "metadata": {},
   "source": [
    "### 專案名稱:  TQC+ 程式語言Python \n",
    "### 功能描述: 第3類：迴圈敘述\n",
    "### 版權所有: Dunk  \n",
    "### 程式撰寫: Dunk  \n",
    "### 撰寫日期：2020/07/14\n",
    "### 改版日期:  \n",
    "### 改版備註:  "
   ]
  },
  {
   "cell_type": "markdown",
   "metadata": {},
   "source": [
    "#### 1. 題目說明:\n",
    "請開啟PYD301.py檔案，依下列題意進行作答，依輸入值計算總和，使輸出值符合題意要求。作答完成請另存新檔為PYA301.py再進行評分。\n",
    "\n",
    "2. 設計說明：\n",
    "請使用迴圈敘述撰寫一程式，讓使用者輸入兩個正整數a、b（a < b），利用迴圈計算從a開始連加到b的總和。例如：輸入a=1、b=100，則輸出結果為5050（1 + 2 + … + 100 = 5050）。\n",
    "\n",
    "3. 輸入輸出：\n",
    "輸入說明\n",
    "兩個正整數（a、b，且a < b）\n",
    "\n",
    "輸出說明\n",
    "計算從a開始連加到b的總和"
   ]
  },
  {
   "cell_type": "code",
   "execution_count": 1,
   "metadata": {},
   "outputs": [
    {
     "name": "stdout",
     "output_type": "stream",
     "text": [
      "1\n",
      "4\n",
      "10\n"
     ]
    }
   ],
   "source": [
    "# 迴圈整數連加\n",
    "def sum_evaluate(start_num,end_num):\n",
    "    '迴圈整數連加'\n",
    "    result_sum = 0\n",
    "    for i in range(start_num,end_num+1):\n",
    "        result_sum = result_sum + i\n",
    "    return str(result_sum)\n",
    "\n",
    "start_num = eval(input())\n",
    "end_num = eval(input())\n",
    "print(sum_evaluate(start_num,end_num))"
   ]
  },
  {
   "cell_type": "markdown",
   "metadata": {},
   "source": [
    "#### TQC+ 程式語言Python 302 迴圈偶數連加\n",
    "1. 題目說明:\n",
    "請開啟PYD302.py檔案，依下列題意進行作答，依輸入值計算偶數的總和，使輸出值符合題意要求。作答完成請另存新檔為PYA302.py再進行評分。\n",
    "\n",
    "2. 設計說明：\n",
    "請使用迴圈敘述撰寫一程式，讓使用者輸入兩個正整數a、b（a < b），利用迴圈計算從a開始的偶數連加到b的總和。例如：輸入a=1、b=100，則輸出結果為2550（2 + 4 + … + 100 = 2550）。\n",
    "\n",
    "3. 輸入輸出：\n",
    "輸入說明\n",
    "兩個正整數（a、b，且a < b）\n",
    "\n",
    "輸出說明\n",
    "計算從a開始的偶數連加到b的總和"
   ]
  },
  {
   "cell_type": "code",
   "execution_count": 2,
   "metadata": {},
   "outputs": [
    {
     "name": "stdout",
     "output_type": "stream",
     "text": [
      "1\n",
      "4\n",
      "6\n"
     ]
    }
   ],
   "source": [
    "# 偶數加總\n",
    "def sum_even_num(start_num,end_num):\n",
    "    '''計算偶數加總'''\n",
    "    total_sum = 0\n",
    "    for i in range(start_num,end_num+1):\n",
    "        if i%2 == 0:\n",
    "            total_sum += i\n",
    "    return total_sum\n",
    "\n",
    "start_num = eval(input())\n",
    "end_num = eval(input())\n",
    "print(sum_even_num(start_num,end_num))"
   ]
  },
  {
   "cell_type": "markdown",
   "metadata": {},
   "source": [
    "#### TQC+ 程式語言Python 303 迴圈數值相乘\n",
    "1. 題目說明:\n",
    "請開啟PYD303.py檔案，依下列題意進行作答，依輸入值以三角形的方式輸出此數相乘結果，使輸出值符合題意要求。作答完成請另存新檔為PYA303.py再進行評分。\n",
    "\n",
    "2. 設計說明：\n",
    "請使用迴圈敘述撰寫一程式，讓使用者輸入一個正整數（<100），然後以三角形的方式依序輸出此數的相乘結果。\n",
    "\n",
    "提示：輸出欄寬為4，且需靠右對齊。\n",
    "\n",
    "3. 輸入輸出：\n",
    "輸入說明\n",
    "一個正整數（<100）\n",
    "\n",
    "輸出說明"
   ]
  },
  {
   "cell_type": "code",
   "execution_count": 3,
   "metadata": {},
   "outputs": [
    {
     "name": "stdout",
     "output_type": "stream",
     "text": [
      "5\n",
      "   1\n",
      "   2   4\n",
      "   3   6   9\n",
      "   4   8  12  16\n",
      "   5  10  15  20  25\n"
     ]
    }
   ],
   "source": [
    "# 迴圈數值相乘\n",
    "def display_level(input_num):\n",
    "    '迴圈數值相乘'\n",
    "    for i in range(1,input_num+1):        \n",
    "        if i == 1:\n",
    "            print('{0:4d}'.format(i))\n",
    "        else:\n",
    "            result = ''\n",
    "            for j in range(1,i+1):\n",
    "                result += '{0:4d}'.format(i*j)\n",
    "            print(result)\n",
    "\n",
    "input_value = int(input())\n",
    "display_level(input_value)"
   ]
  },
  {
   "cell_type": "markdown",
   "metadata": {},
   "source": [
    "#### TQC+ 程式語言Python 304 迴圈倍數總和\n",
    "1. 題目說明:\n",
    "請開啟PYD304.py檔案，依下列題意進行作答，依輸入值計算所有5之倍數總和，使輸出值符合題意要求。作答完成請另存新檔為PYA304.py再進行評分。\n",
    "\n",
    "2. 設計說明：\n",
    "請使用迴圈敘述撰寫一程式，讓使用者輸入一個正整數a，利用迴圈計算從1到a之間，所有5之倍數數字總和。\n",
    "\n",
    "3. 輸入輸出：\n",
    "輸入說明\n",
    "一個正整數\n",
    "\n",
    "輸出說明\n",
    "所有5之倍數數字總和"
   ]
  },
  {
   "cell_type": "code",
   "execution_count": 4,
   "metadata": {},
   "outputs": [
    {
     "name": "stdout",
     "output_type": "stream",
     "text": [
      "21\n",
      "50\n"
     ]
    }
   ],
   "source": [
    "# 迴圈倍數總和\n",
    "def get_sum_by_counter(end_num,counter=5):\n",
    "    '迴圈倍數總和'\n",
    "    total_num = 0\n",
    "    for i in range(1,end_num+1):\n",
    "        if i % counter == 0:\n",
    "            total_num += i\n",
    "    return total_num\n",
    "\n",
    "input_value = int(input())\n",
    "print(get_sum_by_counter(input_value))"
   ]
  },
  {
   "cell_type": "markdown",
   "metadata": {},
   "source": [
    "#### TQC+ 程式語言Python 305 數字反轉\n",
    "1. 題目說明:\n",
    "請開啟PYD305.py檔案，依下列題意進行作答，將輸入值進行反轉，使輸出值符合題意要求。作答完成請另存新檔為PYA305.py再進行評分。\n",
    "\n",
    "2. 設計說明：\n",
    "請撰寫一程式，讓使用者輸入一個正整數，將此數值以反轉的順序輸出。\n",
    "\n",
    "3. 輸入輸出：\n",
    "輸入說明\n",
    "一個正整數\n",
    "\n",
    "輸出說明\n",
    "將此數值以反轉的順序輸出"
   ]
  },
  {
   "cell_type": "code",
   "execution_count": 5,
   "metadata": {},
   "outputs": [
    {
     "name": "stdout",
     "output_type": "stream",
     "text": [
      "1234\n",
      "4321\n"
     ]
    }
   ],
   "source": [
    "# 數字反轉\n",
    "def inverse_num_display(input_num):\n",
    "    '數字反轉'\n",
    "    result_array = str(input_num)\n",
    "    return result_array[::-1]\n",
    "\n",
    "input_value = eval(input())\n",
    "print(inverse_num_display(input_value))"
   ]
  },
  {
   "cell_type": "markdown",
   "metadata": {},
   "source": [
    "#### TQC+ 程式語言Python 306 迴圈階乘計算\n",
    "1. 題目說明:\n",
    "請開啟PYD306.py檔案，依下列題意進行作答，依輸入值計算n!的值，使輸出值符合題意要求。作答完成請另存新檔為PYA306.py再進行評分。\n",
    "\n",
    "2. 設計說明：\n",
    "請使用迴圈敘述撰寫一程式，讓使用者輸入一個正整數n，利用迴圈計算並輸出n!的值。\n",
    "\n",
    "3. 輸入輸出：\n",
    "輸入說明\n",
    "一個正整數\n",
    "\n",
    "輸出說明\n",
    "計算n!的值"
   ]
  },
  {
   "cell_type": "code",
   "execution_count": null,
   "metadata": {},
   "outputs": [],
   "source": [
    "# 迴圈階乘計算\n",
    "def get_n_level(end_num):\n",
    "    '迴圈階乘計算'\n",
    "    if end_num == 1:\n",
    "        return 1\n",
    "    else:\n",
    "        return end_num * get_n_level(end_num-1)\n",
    "\n",
    "input_value = eval(input())\n",
    "print(str(get_n_level(input_value)))"
   ]
  },
  {
   "cell_type": "markdown",
   "metadata": {},
   "source": [
    "#### TQC+ 程式語言Python 307 乘法表\n",
    "1. 題目說明:\n",
    "請開啟PYD307.py檔案，依下列題意進行作答，依輸入值計算n*n乘法表，使輸出值符合題意要求。作答完成請另存新檔為PYA307.py再進行評分。\n",
    "\n",
    "2. 設計說明：\n",
    "(1) 請使用迴圈敘述撰寫一程式，要求使用者輸入一個正整數n（n<10），顯示n*n乘法表。\n",
    "\n",
    "(2) 每項運算式需進行格式化排列整齊，每個運算子及運算元輸出的欄寬為2，而每項乘積輸出的欄寬為4，皆靠左對齊不跳行。\n",
    "\n",
    "3. 輸入輸出：\n",
    "輸入說明\n",
    "一個正整數n（n<10）\n",
    "\n",
    "輸出說明\n",
    "輸出格式化的n*n乘法表"
   ]
  },
  {
   "cell_type": "code",
   "execution_count": 6,
   "metadata": {},
   "outputs": [
    {
     "name": "stdout",
     "output_type": "stream",
     "text": [
      "5\n",
      "1 * 1 = 1   2 * 1 = 2   3 * 1 = 3   4 * 1 = 4   5 * 1 = 5   \n",
      "1 * 2 = 2   2 * 2 = 4   3 * 2 = 6   4 * 2 = 8   5 * 2 = 10  \n",
      "1 * 3 = 3   2 * 3 = 6   3 * 3 = 9   4 * 3 = 12  5 * 3 = 15  \n",
      "1 * 4 = 4   2 * 4 = 8   3 * 4 = 12  4 * 4 = 16  5 * 4 = 20  \n",
      "1 * 5 = 5   2 * 5 = 10  3 * 5 = 15  4 * 5 = 20  5 * 5 = 25  \n"
     ]
    }
   ],
   "source": [
    "# 乘法表\n",
    "def print_mutiple_table(end_num):\n",
    "    '乘法表'\n",
    "    for i in range(1,end_num+1):        \n",
    "        for j in range(1,end_num+1):\n",
    "            print(\"{0:<2.0f}* {1:<2.0f}= {2:<4.0f}\".format(j, i, i*j), end =\"\")\n",
    "        print()\n",
    "\n",
    "input_value = int(input())\n",
    "while input_value >= 10:\n",
    "    input_value = int(input())\n",
    "print_mutiple_table(input_value)"
   ]
  },
  {
   "cell_type": "markdown",
   "metadata": {},
   "source": [
    "#### TQC+ 程式語言Python 308 迴圈位數加總\n",
    "1. 題目說明:\n",
    "請開啟PYD308.py檔案，依下列題意進行作答，將輸入值之每位數全部加總，使輸出值符合題意要求。作答完成請另存新檔為PYA308.py再進行評分。\n",
    "\n",
    "2. 設計說明：\n",
    "請使用迴圈敘述撰寫一程式，要求使用者輸入一個數字，此數字代表後面測試資料的數量。每一筆測試資料是一個正整數（由使用者輸入），將此正整數的每位數全部加總起來。\n",
    "\n",
    "3. 輸入輸出：\n",
    "輸入說明\n",
    "先輸入一個正整數代表後面測試資料的數量\n",
    "依測試資料的數量，再輸入正整數的測試資料\n",
    "\n",
    "輸出說明\n",
    "將測試資料的每位數全部加總"
   ]
  },
  {
   "cell_type": "code",
   "execution_count": 7,
   "metadata": {
    "scrolled": true
   },
   "outputs": [
    {
     "name": "stdout",
     "output_type": "stream",
     "text": [
      "2\n",
      "234\n",
      "Sum of all digits of 234 is 9\n",
      "569\n",
      "Sum of all digits of 569 is 20\n"
     ]
    }
   ],
   "source": [
    "# 迴圈位數加總\n",
    "def display_sum_each_digit(num):\n",
    "    '迴圈位數加總'\n",
    "    result_array = str(num)\n",
    "    result_val = 0\n",
    "    for i in result_array:\n",
    "        result_val += int(i)\n",
    "    print('Sum of all digits of {0} is {1}'.format(num,result_val))\n",
    "\n",
    "times = int(input())\n",
    "for i in range(times):\n",
    "    num = eval(input())\n",
    "    display_sum_each_digit(num)"
   ]
  },
  {
   "cell_type": "markdown",
   "metadata": {},
   "source": [
    "#### TQC+ 程式語言Python 309 存款總額\n",
    "\n",
    "1. 題目說明:\n",
    "請開啟PYD309.py檔案，依下列題意進行作答，計算每個月的存款總額，使輸出值符合題意要求。作答完成請另存新檔為PYA309.py再進行評分。\n",
    "\n",
    "2. 設計說明：\n",
    "請使用迴圈敘述撰寫一程式，提示使用者輸入金額（如10,000）、年收益率（如5.75），以及經過的月份數（如5），接著顯示每個月的存款總額。\n",
    "\n",
    "提示：四捨五入，輸出浮點數到小數點後第二位。\n",
    "\n",
    "舉例：\n",
    "假設您存款$10,000，年收益為5.75%。\n",
    "過了一個月，存款會是：10000 + 10000 * 5.75 / 1200 = 10047.92\n",
    "過了兩個月，存款會是：10047.92 + 10047.92 * 5.75 / 1200 = 10096.06\n",
    "過了三個月，存款將是：10096.06 + 10096.06 * 5.75 / 1200 = 10144.44\n",
    "以此類推。\n",
    "\n",
    "3. 輸入輸出：\n",
    "輸入說明\n",
    "一個正整數（金額）、一個正數（收益率）及一個正整數（月份）\n",
    "\n",
    "輸出說明\n",
    "格式化輸出每個月的存款總額"
   ]
  },
  {
   "cell_type": "code",
   "execution_count": 8,
   "metadata": {},
   "outputs": [
    {
     "name": "stdout",
     "output_type": "stream",
     "text": [
      "50000\n",
      "1.3\n",
      "5\n",
      "Month \t  Amount\n",
      "  1 \t 50054.17\n",
      "  2 \t 50108.39\n",
      "  3 \t 50162.68\n",
      "  4 \t 50217.02\n",
      "  5 \t 50271.42\n"
     ]
    }
   ],
   "source": [
    "#存款總額\n",
    "amt = eval(input())\n",
    "fee_rate = eval(input())\n",
    "month = eval(input())\n",
    "print('%s \\t  %s' % ('Month', 'Amount'))\n",
    "total = amt\n",
    "for i in range(1,month+1):\n",
    "    total += total*fee_rate/1200.0\n",
    "    #此為格式化輸出之內容，需置於置於迴圈中\n",
    "    print('%3d \\t %.2f' % (i, total))    "
   ]
  },
  {
   "cell_type": "markdown",
   "metadata": {},
   "source": [
    "#### TQC+ 程式語言Python 310 迴圈公式計算\n",
    "1. 題目說明:\n",
    "請開啟PYD310.py檔案，依下列題意進行作答，依公式計算總和，使輸出值符合題意要求。作答完成請另存新檔為PYA310.py再進行評分。\n",
    "\n",
    "2. 設計說明：\n",
    "請使用迴圈敘述撰寫一程式，讓使用者輸入正整數n (1 < n)，計算以下公式的總和並顯示結果：\n",
    "1\n",
    "1\n",
    "+\n",
    "√\n",
    "2\n",
    "+\n",
    "1\n",
    "√\n",
    "2\n",
    "+\n",
    "√\n",
    "3\n",
    "+\n",
    "1\n",
    "√\n",
    "3\n",
    "+\n",
    "√\n",
    "4\n",
    "+\n",
    ".\n",
    ".\n",
    ".\n",
    "+\n",
    "1\n",
    "√\n",
    "n\n",
    "−\n",
    "1\n",
    "+\n",
    "√\n",
    "n\n",
    " \n",
    "提示：輸出結果至小數點後四位。\n",
    "\n",
    "3. 輸入輸出：\n",
    "輸入說明\n",
    "一個正整數\n",
    "\n",
    "輸出說明\n",
    "代入公式計算結果"
   ]
  },
  {
   "cell_type": "code",
   "execution_count": 9,
   "metadata": {},
   "outputs": [
    {
     "name": "stdout",
     "output_type": "stream",
     "text": [
      "8\n",
      "1.8284\n"
     ]
    }
   ],
   "source": [
    "# 迴圈公式計算\n",
    "import math\n",
    "def get_pow_sum_recursive(num):\n",
    "    '迴圈公式計算'\n",
    "    if num == 2:\n",
    "        return 1/(math.pow(2,0.5)+math.pow(1,0.5))\n",
    "    else:            \n",
    "        return 1/(math.pow(num,0.5)+math.pow(num-1,0.5))+get_pow_sum_recursive(num-1)    \n",
    "\n",
    "input_num = eval(input())\n",
    "print('{0:.4f}'.format(get_pow_sum_recursive(input_num)))"
   ]
  }
 ],
 "metadata": {
  "kernelspec": {
   "display_name": "Python 3",
   "language": "python",
   "name": "python3"
  },
  "language_info": {
   "codemirror_mode": {
    "name": "ipython",
    "version": 3
   },
   "file_extension": ".py",
   "mimetype": "text/x-python",
   "name": "python",
   "nbconvert_exporter": "python",
   "pygments_lexer": "ipython3",
   "version": "3.7.6"
  }
 },
 "nbformat": 4,
 "nbformat_minor": 4
}
