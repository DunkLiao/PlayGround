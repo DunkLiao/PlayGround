{
 "cells": [
  {
   "cell_type": "markdown",
   "metadata": {},
   "source": [
    "### 專案名稱:  TQC+ 程式語言Python \n",
    "### 功能描述: 第4類：進階控制流程\n",
    "### 版權所有: Dunk  \n",
    "### 程式撰寫: Dunk  \n",
    "### 撰寫日期：2020/07/14\n",
    "### 改版日期:  \n",
    "### 改版備註: "
   ]
  },
  {
   "cell_type": "markdown",
   "metadata": {},
   "source": [
    "#### TQC+ 程式語言Python 401 最小值\n",
    "1. 題目說明:\n",
    "請開啟PYD401.py檔案，依下列題意進行作答，使輸出值符合題意要求。作答完成請另存新檔為PYA401.py再進行評分。\n",
    "\n",
    "2. 設計說明：\n",
    "請撰寫一程式，由使用者輸入十個數字，然後找出其最小值，最後輸出最小值。\n",
    "\n",
    "3. 輸入輸出：\n",
    "輸入說明\n",
    "十個數值\n",
    "\n",
    "輸出說明\n",
    "十個數值中的最小值"
   ]
  },
  {
   "cell_type": "code",
   "execution_count": 1,
   "metadata": {},
   "outputs": [
    {
     "name": "stdout",
     "output_type": "stream",
     "text": [
      "321\n",
      "4231\n",
      "352\n",
      "34\n",
      "2\n",
      "4534\n",
      "6\n",
      "43534\n",
      "6\n",
      "87\n",
      "2\n"
     ]
    }
   ],
   "source": [
    "# 最小值\n",
    "result_array = []\n",
    "for i in range(10):\n",
    "    result_array.append(int(input()))\n",
    "print(sorted(result_array)[0])"
   ]
  },
  {
   "cell_type": "markdown",
   "metadata": {},
   "source": [
    "#### TQC+ 程式語言Python 402 不定數迴圈-最小值\n",
    "1. 題目說明:\n",
    "請開啟PYD402.py檔案，依下列題意進行作答，使輸出值符合題意要求。作答完成請另存新檔為PYA402.py再進行評分。\n",
    "\n",
    "2. 設計說明：\n",
    "請撰寫一程式，讓使用者輸入數字，輸入的動作直到輸入值為9999才結束，然後找出其最小值，並輸出最小值。\n",
    "\n",
    "3. 輸入輸出：\n",
    "輸入說明\n",
    "n個數值，直至9999結束輸入\n",
    "\n",
    "輸出說明\n",
    "n個數值中的最小值"
   ]
  },
  {
   "cell_type": "code",
   "execution_count": 2,
   "metadata": {},
   "outputs": [
    {
     "name": "stdout",
     "output_type": "stream",
     "text": [
      "2\n",
      "3\n",
      "4\n",
      "9999\n",
      "2\n"
     ]
    }
   ],
   "source": [
    "# 不定數迴圈-最小值\n",
    "input_value = eval(input())\n",
    "result_array = [input_value]\n",
    "while input_value != 9999:\n",
    "    input_value = eval(input())\n",
    "    result_array.append(input_value)\n",
    "if len(result_array) == 1:\n",
    "    print()\n",
    "else:\n",
    "    print(sorted(result_array)[0])"
   ]
  },
  {
   "cell_type": "markdown",
   "metadata": {},
   "source": [
    "#### TQC+ 程式語言Python 403 倍數總和計算\n",
    "403. 倍數總和計算\n",
    "1. 題目說明:\n",
    "請開啟PYD403.py檔案，依下列題意進行作答，使輸出值符合題意要求。作答完成請另存新檔為PYA403.py再進行評分。\n",
    "\n",
    "2. 設計說明：\n",
    "請撰寫一程式，讓使用者輸入兩個正整數a、b（a<=b），輸出從a到b（包含a和b）之間4或9的倍數（一列輸出十個數字、欄寬為4、靠左對齊）以及倍數之個數、總和。\n",
    "\n",
    "3. 輸入輸出：\n",
    "輸入說明\n",
    "兩個正整數a、b（a<=b）\n",
    "\n",
    "輸出說明\n",
    "格式化輸出兩個正整數之間4或9之倍數（包含a和b）\n",
    "倍數個數\n",
    "倍數總合"
   ]
  },
  {
   "cell_type": "code",
   "execution_count": 3,
   "metadata": {},
   "outputs": [
    {
     "name": "stdout",
     "output_type": "stream",
     "text": [
      "5\n",
      "55\n",
      "8   9   12  16  18  20  24  27  28  32  \n",
      "36  40  44  45  48  52  54  \n",
      "17\n",
      "513\n"
     ]
    }
   ],
   "source": [
    "# 倍數總和計算\n",
    "def get_display_result(start_num,end_num):\n",
    "    '倍數總和計算'\n",
    "    counter = 0\n",
    "    result_str = ''\n",
    "    result_sum = 0\n",
    "    for i in range(start_num,end_num+1):\n",
    "        if i % 4 == 0 or i % 9 == 0:\n",
    "            result_str += '{0:<4d}'.format(i)\n",
    "            result_sum += i\n",
    "            counter += 1\n",
    "            if counter % 10 == 0:\n",
    "                result_str += '\\n'\n",
    "    print(result_str)\n",
    "    print(counter)\n",
    "    print(result_sum)\n",
    "\n",
    "start_num = int(input())\n",
    "end_num = int(input())\n",
    "get_display_result(start_num,end_num)"
   ]
  },
  {
   "cell_type": "markdown",
   "metadata": {},
   "source": [
    "#### TQC+ 程式語言Python 404 數字反轉判斷\n",
    "1. 題目說明:\n",
    "請開啟PYD404.py檔案，依下列題意進行作答，使輸出值符合題意要求。作答完成請另存新檔為PYA404.py再進行評分。\n",
    "\n",
    "2. 設計說明：\n",
    "請撰寫一程式，讓使用者輸入一個正整數，將此正整數以反轉的順序輸出，並判斷如輸入0，則輸出為0。\n",
    "\n",
    "3. 輸入輸出：\n",
    "輸入說明\n",
    "一個正整數或0\n",
    "\n",
    "輸出說明\n",
    "正整數反轉輸出。如輸入數值為0，輸出為0"
   ]
  },
  {
   "cell_type": "code",
   "execution_count": 1,
   "metadata": {},
   "outputs": [
    {
     "name": "stdout",
     "output_type": "stream",
     "text": [
      "123\n",
      "321\n"
     ]
    }
   ],
   "source": [
    "# 數字反轉判斷\n",
    "def inverse_display(num):\n",
    "    result_num = str(num)\n",
    "    return result_num[::-1]\n",
    "\n",
    "input_num = int(input())\n",
    "while input_num < 0:\n",
    "    input_num = int(input())    \n",
    "print(inverse_display(input_num))"
   ]
  },
  {
   "cell_type": "markdown",
   "metadata": {},
   "source": [
    "#### TQC+ 程式語言Python 405 不定數迴圈-分數等級\n",
    "1. 題目說明:\n",
    "請開啟PYD405.py檔案，依下列題意進行作答，使輸出值符合題意要求。作答完成請另存新檔為PYA405.py再進行評分。\n",
    "\n",
    "2. 設計說明：\n",
    "請撰寫一程式，以不定數迴圈的方式輸入一個正整數（代表分數），之後根據以下分數與GPA的對照表，印出其所對應的GPA。假設此不定數迴圈輸入-9999則會結束此迴圈。標準如下表所示：\n",
    "\n",
    "分　數\tGPA\n",
    "90 ~ 100\tA\n",
    "80 ~ 89\tB\n",
    "70 ~ 79\tC\n",
    "60 ~ 69\tD\n",
    "0 ~ 59\tE\n",
    "3. 輸入輸出：\n",
    "輸入說明\n",
    "一個正整數，直至-9999結束輸入\n",
    "\n",
    "輸出說明\n",
    "依輸入值，輸出對應的GPA"
   ]
  },
  {
   "cell_type": "code",
   "execution_count": 2,
   "metadata": {},
   "outputs": [
    {
     "name": "stdout",
     "output_type": "stream",
     "text": [
      "65\n",
      "D\n",
      "33\n",
      "E\n",
      "-9999\n"
     ]
    }
   ],
   "source": [
    "# 不定數迴圈-分數等級\n",
    "def disiplay_degree(score):    \n",
    "    if score <= 59:\n",
    "        return 'E'\n",
    "    elif score <= 69:\n",
    "        return 'D'\n",
    "    elif score <= 79:\n",
    "        return 'C'\n",
    "    elif score <= 89:\n",
    "        return 'B'\n",
    "    elif score <= 100:\n",
    "        return 'A'\n",
    "    else:\n",
    "        return 'None'\n",
    "\n",
    "while True:\n",
    "    input_score = int(input())\n",
    "    if input_score != -9999:\n",
    "        print(disiplay_degree(input_score))\n",
    "    else:\n",
    "        break\n",
    "        "
   ]
  },
  {
   "cell_type": "markdown",
   "metadata": {},
   "source": [
    "#### QC+ 程式語言Python 406 不定數迴圈-BMI計算\n",
    "1. 題目說明:\n",
    "請開啟PYD406.py檔案，依下列題意進行作答，使輸出值符合題意要求。作答完成請另存新檔為PYA406.py再進行評分。\n",
    "\n",
    "2. 設計說明：\n",
    "請撰寫一程式，以不定數迴圈的方式輸入身高與體重，計算出BMI之後再根據以下對照表，印出BMI及相對應的BMI代表意義（State）。假設此不定數迴圈輸入-9999則會結束此迴圈。標準如下表所示：\n",
    "\n",
    "BMI值\t代表意義\n",
    "BMI < 18.5\tunder weight\n",
    "18.5 <= BMI < 25\tnormal\n",
    "25.0 <= BMI < 30\tover weight\n",
    "30 <= BMI\tfat\n",
    "提示： \n",
    "B\n",
    "M\n",
    "I\n",
    "=\n",
    "體\n",
    "重\n",
    "(\n",
    "k\n",
    "g\n",
    ")\n",
    "/\n",
    "身\n",
    "高\n",
    "2\n",
    "(\n",
    "m\n",
    ")\n",
    " ，輸出浮點數到小數點後第二位。 不需考慮男性或女性標準。\n",
    "\n",
    "3. 輸入輸出：\n",
    "輸入說明\n",
    "兩個正數（身高cm、體重kg），直至-9999結束輸入\n",
    "\n",
    "輸出說明\n",
    "輸出BMI值\n",
    "BMI值代表意義"
   ]
  },
  {
   "cell_type": "code",
   "execution_count": 3,
   "metadata": {},
   "outputs": [
    {
     "name": "stdout",
     "output_type": "stream",
     "text": [
      "180\n",
      "80\n",
      "BMI: 24.69\n",
      "State: normal\n",
      "-9999\n"
     ]
    }
   ],
   "source": [
    "# 計算BMI\n",
    "def display_bmi(weight,tall):\n",
    "    '計算BMI'\n",
    "    result_bmi = float(weight)/(float(tall/100)**2)\n",
    "    print('BMI: {0:.2f}'.format(result_bmi))\n",
    "    if result_bmi < 18.5:\n",
    "        print('State: under weight')\n",
    "    elif result_bmi < 25\t:\n",
    "        print('State: normal')\n",
    "    elif result_bmi < 30:\n",
    "        print('State: over weight')\n",
    "    else:\n",
    "        print('State: fat')    \n",
    "\n",
    "while True:\n",
    "    tall = eval(input())\n",
    "    if tall == -9999:\n",
    "        break\n",
    "    weight = eval(input())    \n",
    "    display_bmi(weight,tall)"
   ]
  },
  {
   "cell_type": "markdown",
   "metadata": {},
   "source": [
    "#### TQC+ 程式語言Python 407 不定數迴圈-閏年判斷\n",
    "1. 題目說明:\n",
    "請開啟PYD407.py檔案，依下列題意進行作答，使輸出值符合題意要求。作答完成請另存新檔為PYA407.py再進行評分。\n",
    "\n",
    "2. 設計說明：\n",
    "(1) 請撰寫一程式，以不定數迴圈的方式讓使用者輸入西元年份，然後判斷它是否為閏年（leap year）或平年。其判斷規則如下：每四年一閏，每百年不閏，但每四百年也一閏。\n",
    "(2) 假設此不定數迴圈輸入-9999則會結束此迴圈。\n",
    "\n",
    "3. 輸入輸出：\n",
    "輸入說明\n",
    "一個正整數，直至-9999結束輸入\n",
    "\n",
    "輸出說明\n",
    "判斷是否為閏年或平年"
   ]
  },
  {
   "cell_type": "code",
   "execution_count": 4,
   "metadata": {},
   "outputs": [
    {
     "name": "stdout",
     "output_type": "stream",
     "text": [
      "1990\n",
      "1990 is not a leap year.\n",
      "2020\n",
      "2020 is a leap year.\n",
      "-9999\n"
     ]
    }
   ],
   "source": [
    "# 判斷閏年\n",
    "def determine_leap_year(input_year):\n",
    "    if(input_year %4 == 0 and input_year %100 !=0) or (input_year %400 == 0 and input_year %3200 !=0):\n",
    "        print('{0} is a leap year.'.format(input_year))\n",
    "    else:\n",
    "        print('{0} is not a leap year.'.format(input_year))\n",
    "\n",
    "while True:\n",
    "    input_year = int(input())\n",
    "    if input_year == -9999:\n",
    "        break\n",
    "    determine_leap_year(input_year)\n"
   ]
  },
  {
   "cell_type": "markdown",
   "metadata": {},
   "source": [
    "#### TQC+ 程式語言Python 408 奇偶數個數計算\n",
    "1. 題目說明:\n",
    "請開啟PYD408.py檔案，依下列題意進行作答，使輸出值符合題意要求。作答完成請另存新檔為PYA408.py再進行評分。\n",
    "\n",
    "2. 設計說明：\n",
    "請撰寫一程式，讓使用者輸入十個整數，計算並輸出偶數和奇數的個數。\n",
    "\n",
    "3. 輸入輸出：\n",
    "輸入說明\n",
    "十個整數\n",
    "\n",
    "輸出說明\n",
    "偶數的個數\n",
    "奇數的個數"
   ]
  },
  {
   "cell_type": "code",
   "execution_count": 5,
   "metadata": {},
   "outputs": [
    {
     "name": "stdout",
     "output_type": "stream",
     "text": [
      "1\n",
      "2\n",
      "3\n",
      "4\n",
      "5\n",
      "6\n",
      "7\n",
      "8\n",
      "9\n",
      "10\n",
      "Even numbers: 5\n",
      "Odd numbers: 5\n"
     ]
    }
   ],
   "source": [
    "#  奇偶數個數計算\n",
    "even_count = 0\n",
    "odd_count = 0\n",
    "\n",
    "for i in range(10):\n",
    "    input_value = int(input())\n",
    "    if input_value % 2 == 0:\n",
    "        even_count += 1\n",
    "    else:\n",
    "        odd_count += 1\n",
    "\n",
    "print('Even numbers: {0}\\nOdd numbers: {1}'.format(even_count,odd_count))"
   ]
  },
  {
   "cell_type": "markdown",
   "metadata": {},
   "source": [
    "#### TQC+ 程式語言Python 409 得票數計算\n",
    "1. 題目說明:\n",
    "請開啟PYD409.py檔案，依下列題意進行作答，使輸出值符合題意要求。作答完成請另存新檔為PYA409.py再進行評分。\n",
    "\n",
    "2. 設計說明：\n",
    "某次選舉有兩位候選人，分別是No.1: Nami、No.2: Chopper。請撰寫一程式，輸入五張選票，輸入值如為1即表示針對1號候選人投票；輸入值如為2即表示針對2號候選人投票，如輸入其他值則視為廢票。每次投完後需印出目前每位候選人的得票數，最後印出最高票者為當選人；如最終計算有相同的最高票數者或無法選出最高票者，顯示【=> No one won the election.】。\n",
    "\n",
    "3. 輸入輸出：\n",
    "輸入說明\n",
    "五個正整數（1、2或其他）\n",
    "\n",
    "輸出說明\n",
    "每次投完後需印出目前每位候選人的得票數\n",
    "五張選票投票完成，最後印出最高票者為當選人"
   ]
  },
  {
   "cell_type": "code",
   "execution_count": 6,
   "metadata": {},
   "outputs": [
    {
     "name": "stdout",
     "output_type": "stream",
     "text": [
      "1\n",
      "Total votes of No.1: Nami =  1\n",
      "Total votes of No.2: Chopper =  0\n",
      "Total null votes =  0\n",
      "2\n",
      "Total votes of No.1: Nami =  1\n",
      "Total votes of No.2: Chopper =  1\n",
      "Total null votes =  0\n",
      "1\n",
      "Total votes of No.1: Nami =  2\n",
      "Total votes of No.2: Chopper =  1\n",
      "Total null votes =  0\n",
      "2\n",
      "Total votes of No.1: Nami =  2\n",
      "Total votes of No.2: Chopper =  2\n",
      "Total null votes =  0\n",
      "1\n",
      "Total votes of No.1: Nami =  3\n",
      "Total votes of No.2: Chopper =  2\n",
      "Total null votes =  0\n",
      "=> No.1 Nami won the election.\n"
     ]
    }
   ],
   "source": [
    "# 得票數計算\n",
    "    \n",
    "Nami_vote = 0\n",
    "Chopper_vote = 0\n",
    "null_votes = 0\n",
    "\n",
    "for i in range(5):\n",
    "    vote_value = int(input())\n",
    "    if vote_value == 1:\n",
    "        Nami_vote += 1\n",
    "    elif vote_value == 2:\n",
    "        Chopper_vote += 1\n",
    "    else:\n",
    "        null_votes += 1\n",
    "    # 注意是兩個半型空白在等號後面\n",
    "    print('Total votes of No.1: Nami =  {0:d}'.format(Nami_vote))\n",
    "    print('Total votes of No.2: Chopper =  {0:d}'.format(Chopper_vote))\n",
    "    print('Total null votes =  {0:d}'.format(null_votes))\n",
    "\n",
    "if Nami_vote > Chopper_vote:\n",
    "    print('=> No.1 Nami won the election.')\n",
    "elif Nami_vote < Chopper_vote:\n",
    "    print('=> No.2 Chopper won the election.')\n",
    "else:\n",
    "    print('=> No one won the election.')"
   ]
  },
  {
   "cell_type": "markdown",
   "metadata": {},
   "source": [
    "#### TQC+ 程式語言Python 410 繪製等腰三角形\n",
    "1. 題目說明:\n",
    "請開啟PYD410.py檔案，依下列題意進行作答，使輸出值符合題意要求。作答完成請另存新檔為PYA410.py再進行評分。\n",
    "\n",
    "2. 設計說明：\n",
    "請撰寫一程式，依照使用者輸入的n，畫出對應的等腰三角形。\n",
    "\n",
    "3. 輸入輸出：\n",
    "輸入說明\n",
    "一個正整數\n",
    "\n",
    "輸出說明\n",
    "以 * 畫出等腰三角形\n",
    "（每列最後一個 * 的右方無空白）"
   ]
  },
  {
   "cell_type": "code",
   "execution_count": 7,
   "metadata": {},
   "outputs": [
    {
     "name": "stdout",
     "output_type": "stream",
     "text": [
      "7\n",
      "      *\n",
      "     ***\n",
      "    *****\n",
      "   *******\n",
      "  *********\n",
      " ***********\n",
      "*************\n"
     ]
    }
   ],
   "source": [
    "# 繪製等腰三角形\n",
    "def draw_trangle(num):\n",
    "    for i in range(1,num+1):\n",
    "        print(' '*(num-i)+'*'*(2*i-1))\n",
    "\n",
    "input_num = int(input())    \n",
    "draw_trangle(input_num)"
   ]
  }
 ],
 "metadata": {
  "kernelspec": {
   "display_name": "Python 3",
   "language": "python",
   "name": "python3"
  },
  "language_info": {
   "codemirror_mode": {
    "name": "ipython",
    "version": 3
   },
   "file_extension": ".py",
   "mimetype": "text/x-python",
   "name": "python",
   "nbconvert_exporter": "python",
   "pygments_lexer": "ipython3",
   "version": "3.7.6"
  }
 },
 "nbformat": 4,
 "nbformat_minor": 4
}
