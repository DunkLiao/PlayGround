{
 "cells": [
  {
   "cell_type": "markdown",
   "metadata": {},
   "source": [
    "### 專案名稱:  TQC+ 程式語言Python \n",
    "### 功能描述: 第2類：選擇敘述\n",
    "### 版權所有: Dunk  \n",
    "### 程式撰寫: Dunk  \n",
    "### 撰寫日期：2020/07/13\n",
    "### 改版日期:  \n",
    "### 改版備註:  2020/07/14 作答後六題"
   ]
  },
  {
   "cell_type": "markdown",
   "metadata": {},
   "source": [
    "#### TQC+ 程式語言Python 201 偶數判斷\n",
    "1. 題目說明:\n",
    "請開啟PYD201.py檔案，依下列題意進行作答，判斷輸入值是否為偶數，使輸出值符合題意要求。作答完成請另存新檔為PYA201.py再進行評分。\n",
    "\n",
    "2. 設計說明：\n",
    "請使用選擇敘述撰寫一程式，讓使用者輸入一個正整數，然後判斷它是否為偶數（even）。\n",
    "\n",
    "3. 輸入輸出：\n",
    "輸入說明\n",
    "一個正整數\n",
    "\n",
    "輸出說明\n",
    "判斷是否為偶數"
   ]
  },
  {
   "cell_type": "code",
   "execution_count": 3,
   "metadata": {},
   "outputs": [
    {
     "name": "stdout",
     "output_type": "stream",
     "text": [
      "6\n",
      "6 is an even number.\n"
     ]
    }
   ],
   "source": [
    "# 處理輸入值\n",
    "input_value = int(input())\n",
    "# 判斷偶數\n",
    "if input_value < 0 :\n",
    "    print('輸入值{0}非正整數'.format(input_value))\n",
    "elif input_value%2 ==0:\n",
    "    print('{0} is an even number.'.format(input_value))\n",
    "else:\n",
    "    print('{0} is not an even number.'.format(input_value))"
   ]
  },
  {
   "cell_type": "markdown",
   "metadata": {},
   "source": [
    "#### TQC+ 程式語言Python 202 倍數判斷\n",
    "1. 題目說明:\n",
    "請開啟PYD202.py檔案，依下列題意進行作答，判斷輸入值是否為3或5的倍數，使輸出值符合題意要求。作答完成請另存新檔為PYA202.py再進行評分。\n",
    "\n",
    "2. 設計說明：\n",
    "請使用選擇敘述撰寫一程式，讓使用者輸入一個正整數，然後判斷它是3或5的倍數，顯示【x is a multiple of 3.】或【x is a multiple of 5.】；若此數值同時為3與5的倍數，顯示【x is a multiple of 3 and 5.】；如此數值皆不屬於3或5的倍數，顯示【x is not a multiple of 3 or 5.】，將使用者輸入的數值代入x。\n",
    "\n",
    "3. 輸入輸出：\n",
    "輸入說明\n",
    "一個正整數\n",
    "\n",
    "輸出說明\n",
    "判斷是否為3或者是5的倍數"
   ]
  },
  {
   "cell_type": "code",
   "execution_count": 4,
   "metadata": {},
   "outputs": [
    {
     "name": "stdout",
     "output_type": "stream",
     "text": [
      "15\n",
      "15 is a multiple of 3 and 5.\n"
     ]
    }
   ],
   "source": [
    "# 判斷3或5倍數\n",
    "input_val = eval(input())\n",
    "if input_val % 3 == 0 and input_val % 5 == 0:\n",
    "    print('{0} is a multiple of 3 and 5.'.format(input_val))\n",
    "elif input_val % 3 == 0:\n",
    "    print('{0} is a multiple of 3.'.format(input_val))\n",
    "elif input_val % 5 == 0:\n",
    "    print('{0} is a multiple of 5.'.format(input_val))\n",
    "else:\n",
    "    print('{0} is not a multiple of 3 or 5.'.format(input_val))"
   ]
  },
  {
   "cell_type": "markdown",
   "metadata": {},
   "source": [
    "#### TQC+ 程式語言Python 203 閏年判斷\n",
    "1. 題目說明:\n",
    "請開啟PYD203.py檔案，依下列題意進行作答，判斷輸入值是否為閏年，使輸出值符合題意要求。作答完成請另存新檔為PYA203.py再進行評分。\n",
    "\n",
    "2. 設計說明：\n",
    "請使用選擇敘述撰寫一程式，讓使用者輸入一個西元年份，然後判斷它是否為閏年（leap year）或平年。其判斷規則為：每四年一閏，每百年不閏，但每四百年也一閏。\n",
    "\n",
    "3. 輸入輸出：\n",
    "輸入說明\n",
    "一個正整數\n",
    "\n",
    "輸出說明\n",
    "判斷是否為閏年或平年"
   ]
  },
  {
   "cell_type": "code",
   "execution_count": 11,
   "metadata": {},
   "outputs": [
    {
     "name": "stdout",
     "output_type": "stream",
     "text": [
      "4\n",
      "4 is a leap year.\n"
     ]
    }
   ],
   "source": [
    "# 判斷閏年\n",
    "input_year = int(input())\n",
    "if ((input_year % 4 == 0 and input_year % 100 != 0) or (input_year % 400 == 0 and input_year % 3200 != 0)):\n",
    "    print('{0} is a leap year.'.format(input_year))\n",
    "else:\n",
    "    print('{0} is not a leap year.'.format(input_year))"
   ]
  },
  {
   "cell_type": "markdown",
   "metadata": {},
   "source": [
    "#### TQC+ 程式語言Python 204 算術運算\n",
    "1. 題目說明:\n",
    "請開啟PYD204.py檔案，依下列題意進行作答，依輸入值進行算術運算，使輸出值符合題意要求。作答完成請另存新檔為PYA204.py再進行評分。\n",
    "\n",
    "2. 設計說明：\n",
    "請使用選擇敘述撰寫一程式，讓使用者輸入兩個整數a、b，然後再輸入一算術運算子 (+、-、*、/、//、%） ，輸出經過運算後的結果。\n",
    "\n",
    "3. 輸入輸出：\n",
    "輸入說明\n",
    "兩個整數a、b，及一個算術運算子 (+、-、*、/、//、%）\n",
    "\n",
    "輸出說明\n",
    "運算結果 (無須做格式化)"
   ]
  },
  {
   "cell_type": "code",
   "execution_count": 14,
   "metadata": {},
   "outputs": [
    {
     "name": "stdout",
     "output_type": "stream",
     "text": [
      "1\n",
      "2\n",
      "+\n",
      "3\n"
     ]
    }
   ],
   "source": [
    "# 取得運算結果\n",
    "def get_operation_result(x,y,operator):\n",
    "    '''取得運算結果'''\n",
    "    if operator == \"+\":\n",
    "        return x+y\n",
    "    if operator == \"-\":\n",
    "        return x-y\n",
    "    if operator == \"*\":\n",
    "        return x*y\n",
    "    if operator == \"/\":\n",
    "        return x/y\n",
    "    if operator == \"//\":\n",
    "        return x//y\n",
    "    if operator == \"%\":\n",
    "        return x%y\n",
    "\n",
    "x = eval(input())\n",
    "y = eval(input())\n",
    "operator = input()\n",
    "print(get_operation_result(x,y,operator))"
   ]
  },
  {
   "cell_type": "markdown",
   "metadata": {},
   "source": [
    "####  TQC+ 程式語言Python 205 字元判斷\n",
    "1. 題目說明:\n",
    "請開啟PYD205.py檔案，依下列題意進行作答，判斷輸入值的字元，使輸出值符合題意要求。作答完成請另存新檔為PYA205.py再進行評分。\n",
    "\n",
    "2. 設計說明：\n",
    "請使用選擇敘述撰寫一程式，讓使用者輸入一個字元，判斷它是包括大、小寫的英文字母（alphabet）、數字（number）、或者其它字元（symbol）。例如：a為英文字母、9為數字、$為其它字元。\n",
    "\n",
    "3. 輸入輸出：\n",
    "輸入說明\n",
    "一個字元\n",
    "\n",
    "輸出說明\n",
    "判斷是英文字母（包括大、小寫）、數字、或者其它字元"
   ]
  },
  {
   "cell_type": "code",
   "execution_count": 13,
   "metadata": {},
   "outputs": [
    {
     "name": "stdout",
     "output_type": "stream",
     "text": [
      "@\n",
      "@ is a symbol.\n"
     ]
    }
   ],
   "source": [
    "import re\n",
    "alpha_pattern = re.compile('([A-Z]|[a-z]){1,1}')\n",
    "num_pattern = re.compile('([0-9]){1,1}')\n",
    "input_value = input()\n",
    "\n",
    "if alpha_pattern.match(input_value):\n",
    "    print('{0} is an alphabet.'.format(input_value))\n",
    "elif num_pattern.match(input_value):\n",
    "    print('{0} is a number.'.format(input_value))\n",
    "else:\n",
    "    print('{0} is a symbol.'.format(input_value))"
   ]
  },
  {
   "cell_type": "markdown",
   "metadata": {},
   "source": [
    "#### TQC+ 程式語言Python 206 等級判斷\n",
    "1. 題目說明:\n",
    "請開啟PYD206.py檔案，依下列題意進行作答，判斷輸入值所對應的等級，使輸出值符合題意要求。作答完成請另存新檔為PYA206.py再進行評分。\n",
    "\n",
    "2. 設計說明：\n",
    "請使用選擇敘述撰寫一程式，根據使用者輸入的分數顯示對應的等級。標準如下表所示：\n",
    "\n",
    "分　數\t等級\n",
    "80 ~ 100\tA\n",
    "70 ~ 79\tB\n",
    "60 ~ 69\tC\n",
    "<= 59\tF\n",
    "3. 輸入輸出：\n",
    "輸入說明\n",
    "一個整數\n",
    "\n",
    "輸出說明\n",
    "判斷輸入值所對應的等級"
   ]
  },
  {
   "cell_type": "code",
   "execution_count": 14,
   "metadata": {},
   "outputs": [
    {
     "name": "stdout",
     "output_type": "stream",
     "text": [
      "30\n",
      "F\n"
     ]
    }
   ],
   "source": [
    "# 等級判斷\n",
    "def determine_degree(score):\n",
    "    '''\n",
    "    根據分數區間判斷\n",
    "    '''\n",
    "    if score <= 59:\n",
    "        return 'F'\n",
    "    elif score <= 69:\n",
    "        return 'C'\n",
    "    elif score <= 79:\n",
    "        return 'B'\n",
    "    elif score <= 100:\n",
    "        return 'A'\n",
    "    else:\n",
    "        return 'None'\n",
    "input_value = int(input())\n",
    "print(determine_degree(input_value))"
   ]
  },
  {
   "cell_type": "markdown",
   "metadata": {},
   "source": [
    "#### TQC+ 程式語言Python 207 折扣方案\n",
    "1. 題目說明:\n",
    "請開啟PYD207.py檔案，依下列題意進行作答，判斷輸入值之折扣並計算實付金額，使輸出值符合題意要求。作答完成請另存新檔為PYA207.py再進行評分。\n",
    "\n",
    "2. 設計說明：\n",
    "請使用選擇敘述撰寫一程式，要求使用者輸入購物金額，購物金額需大於8,000（含）以上，並顯示折扣優惠後的實付金額。購物金額折扣方案如下表所示：\n",
    "\n",
    "金　　額\t折　扣\n",
    "8,000（含）以上\t9.5折\n",
    "18,000（含）以上\t9折\n",
    "28,000（含）以上\t8折\n",
    "38,000（含）以上\t7折\n",
    "3. 輸入輸出：\n",
    "輸入說明\n",
    "一個數值，需大於8,000（含）以上\n",
    "\n",
    "輸出說明\n",
    "顯示折扣優惠後的實付金額（輸出不需指定小數點位數）"
   ]
  },
  {
   "cell_type": "code",
   "execution_count": 15,
   "metadata": {},
   "outputs": [
    {
     "name": "stdout",
     "output_type": "stream",
     "text": [
      "8000\n",
      "7600.0\n"
     ]
    }
   ],
   "source": [
    "#  折扣方案\n",
    "def determine_discount(amt):\n",
    "    '''\n",
    "    計算折扣價\n",
    "    '''\n",
    "    if amt >= 38000:\n",
    "        return amt * 0.7\n",
    "    elif amt >= 28000:\n",
    "        return amt * 0.8\n",
    "    elif amt >= 18000:\n",
    "        return amt * 0.9\n",
    "    elif amt >= 8000:\n",
    "        return amt * 0.95\n",
    "    else:\n",
    "        return amt\n",
    "\n",
    "input_value = eval(input())\n",
    "print(str(determine_discount(input_value)))"
   ]
  },
  {
   "cell_type": "markdown",
   "metadata": {},
   "source": [
    "#### TQC+ 程式語言Python 208 十進位換算\n",
    "1. 題目說明:\n",
    "請開啟PYD208.py檔案，依下列題意進行作答，依輸入值進行進位轉換，使輸出值符合題意要求。作答完成請另存新檔為PYA208.py再進行評分。\n",
    "\n",
    "2. 設計說明：\n",
    "請使用選擇敘述撰寫一程式，讓使用者輸入一個十進位整數num(0 ≤ num ≤ 15)，將num轉換成十六進位值。\n",
    "\n",
    "提示：轉換規則 = 十進位0~9的十六進位值為其本身，十進位10~15的十六進位值為A~F。\n",
    "\n",
    "3. 輸入輸出：\n",
    "輸入說明\n",
    "一個數值\n",
    "\n",
    "輸出說明\n",
    "將此數值轉換成十六進位值"
   ]
  },
  {
   "cell_type": "code",
   "execution_count": 16,
   "metadata": {},
   "outputs": [
    {
     "name": "stdout",
     "output_type": "stream",
     "text": [
      "11\n",
      "B\n"
     ]
    }
   ],
   "source": [
    "# TODO\n",
    "def get_hex_display(input_code):\n",
    "    '''取得16進位顯示'''\n",
    "    if input_code > 15:\n",
    "        return str(input_code)\n",
    "    elif input_code >= 10:\n",
    "        return chr(ord('A')+(input_code-10))\n",
    "    elif input_code >= 0:\n",
    "        return str(input_code)\n",
    "    else:\n",
    "        return str(input_code)\n",
    "    \n",
    "num = int(input())\n",
    "print(get_hex_display(num))"
   ]
  },
  {
   "cell_type": "markdown",
   "metadata": {},
   "source": [
    "#### TQC+ 程式語言Python 209 距離判斷\n",
    "1. 題目說明:\n",
    "請開啟PYD209.py檔案，依下列題意進行作答，計算輸入值之座標，使輸出值符合題意要求。作答完成請另存新檔為PYA209.py再進行評分。\n",
    "\n",
    "2. 設計說明：\n",
    "請使用選擇敘述撰寫一程式，讓使用者輸入一個點的平面座標x和y值，判斷此點是否與點(5, 6)的距離小於或等於15，如距離小於或等於15顯示【Inside】，反之顯示【Outside】。\n",
    "\n",
    "提示：計算平面上兩點距離的公式： \n",
    "√\n",
    "(\n",
    "x\n",
    "1\n",
    "−\n",
    "x\n",
    "2\n",
    ")\n",
    "2\n",
    "+\n",
    "(\n",
    "y\n",
    "1\n",
    "−\n",
    "y\n",
    "2\n",
    ")\n",
    "2\n",
    " \n",
    "3. 輸入輸出：\n",
    "輸入說明\n",
    "兩個數值x、y\n",
    "\n",
    "輸出說明\n",
    "小於或等於15輸出Inside；大於15輸出Outside"
   ]
  },
  {
   "cell_type": "code",
   "execution_count": 17,
   "metadata": {},
   "outputs": [
    {
     "name": "stdout",
     "output_type": "stream",
     "text": [
      "3\n",
      "4\n",
      "Inside\n"
     ]
    }
   ],
   "source": [
    "#  距離判斷\n",
    "import math\n",
    "def get_distant(x1,y1,x2=5,y2=6):\n",
    "    return math.pow(math.pow(abs(x1-x2),2)+math.pow(abs(y1-y2),2),0.5)\n",
    "\n",
    "x1 = eval(input())\n",
    "y1 = eval(input())\n",
    "\n",
    "distant = get_distant(x1,y1)\n",
    "if distant<= 15:\n",
    "    print('Inside')\n",
    "else:\n",
    "    print('Outside')"
   ]
  },
  {
   "cell_type": "markdown",
   "metadata": {},
   "source": [
    "#### TQC+ 程式語言Python 210 三角形判斷\n",
    "1. 題目說明:\n",
    "請開啟PYD210.py檔案，依下列題意進行作答，檢查輸入值是否可組成三角形，使輸出值符合題意要求。作答完成請另存新檔為PYA210.py再進行評分。\n",
    "\n",
    "2. 設計說明：\n",
    "請使用選擇敘述撰寫一程式，讓使用者輸入三個邊長，檢查這三個邊長是否可以組成一個三角形。若可以，則輸出該三角形之周長；否則顯示【Invalid】。\n",
    "\n",
    "提示：檢查方法 = 任意兩個邊長之總和大於第三邊長。\n",
    "\n",
    "3. 輸入輸出：\n",
    "輸入說明\n",
    "三個正整數\n",
    "\n",
    "輸出說明\n",
    "可以組成三角形則輸出周長；否則顯示Invalid"
   ]
  },
  {
   "cell_type": "code",
   "execution_count": 18,
   "metadata": {},
   "outputs": [
    {
     "name": "stdout",
     "output_type": "stream",
     "text": [
      "1\n",
      "1\n",
      "1\n",
      "3\n"
     ]
    }
   ],
   "source": [
    "# 判斷三角型\n",
    "def determine_trangle(x,y,z):\n",
    "    '判斷三角型'\n",
    "    if (x+y >z) and (y+z >x) and (x+z >y):\n",
    "        return str(x+y+z)\n",
    "    else:\n",
    "        return 'Invalid'    \n",
    "\n",
    "side1 = eval(input())\n",
    "side2 = eval(input())\n",
    "side3 = eval(input())\n",
    "\n",
    "print(determine_trangle(side1,side2,side3))"
   ]
  }
 ],
 "metadata": {
  "kernelspec": {
   "display_name": "Python 3",
   "language": "python",
   "name": "python3"
  },
  "language_info": {
   "codemirror_mode": {
    "name": "ipython",
    "version": 3
   },
   "file_extension": ".py",
   "mimetype": "text/x-python",
   "name": "python",
   "nbconvert_exporter": "python",
   "pygments_lexer": "ipython3",
   "version": "3.7.6"
  }
 },
 "nbformat": 4,
 "nbformat_minor": 4
}
