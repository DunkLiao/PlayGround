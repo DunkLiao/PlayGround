{
 "cells": [
  {
   "cell_type": "markdown",
   "metadata": {},
   "source": [
    "### 專案名稱:  TQC+ 程式語言Python \n",
    "### 功能描述: 第2類：選擇敘述\n",
    "### 版權所有: Dunk  \n",
    "### 程式撰寫: Dunk  \n",
    "### 撰寫日期：2020/07/13\n",
    "### 改版日期:  \n",
    "### 改版備註:  "
   ]
  },
  {
   "cell_type": "markdown",
   "metadata": {},
   "source": [
    "#### TQC+ 程式語言Python 201 偶數判斷\n",
    "1. 題目說明:\n",
    "請開啟PYD201.py檔案，依下列題意進行作答，判斷輸入值是否為偶數，使輸出值符合題意要求。作答完成請另存新檔為PYA201.py再進行評分。\n",
    "\n",
    "2. 設計說明：\n",
    "請使用選擇敘述撰寫一程式，讓使用者輸入一個正整數，然後判斷它是否為偶數（even）。\n",
    "\n",
    "3. 輸入輸出：\n",
    "輸入說明\n",
    "一個正整數\n",
    "\n",
    "輸出說明\n",
    "判斷是否為偶數"
   ]
  },
  {
   "cell_type": "code",
   "execution_count": 3,
   "metadata": {},
   "outputs": [
    {
     "name": "stdout",
     "output_type": "stream",
     "text": [
      "6\n",
      "6 is an even number.\n"
     ]
    }
   ],
   "source": [
    "# 處理輸入值\n",
    "input_value = int(input())\n",
    "# 判斷偶數\n",
    "if input_value < 0 :\n",
    "    print('輸入值{0}非正整數'.format(input_value))\n",
    "elif input_value%2 ==0:\n",
    "    print('{0} is an even number.'.format(input_value))\n",
    "else:\n",
    "    print('{0} is not an even number.'.format(input_value))"
   ]
  },
  {
   "cell_type": "markdown",
   "metadata": {},
   "source": [
    "#### TQC+ 程式語言Python 202 倍數判斷\n",
    "1. 題目說明:\n",
    "請開啟PYD202.py檔案，依下列題意進行作答，判斷輸入值是否為3或5的倍數，使輸出值符合題意要求。作答完成請另存新檔為PYA202.py再進行評分。\n",
    "\n",
    "2. 設計說明：\n",
    "請使用選擇敘述撰寫一程式，讓使用者輸入一個正整數，然後判斷它是3或5的倍數，顯示【x is a multiple of 3.】或【x is a multiple of 5.】；若此數值同時為3與5的倍數，顯示【x is a multiple of 3 and 5.】；如此數值皆不屬於3或5的倍數，顯示【x is not a multiple of 3 or 5.】，將使用者輸入的數值代入x。\n",
    "\n",
    "3. 輸入輸出：\n",
    "輸入說明\n",
    "一個正整數\n",
    "\n",
    "輸出說明\n",
    "判斷是否為3或者是5的倍數"
   ]
  },
  {
   "cell_type": "code",
   "execution_count": 4,
   "metadata": {},
   "outputs": [
    {
     "name": "stdout",
     "output_type": "stream",
     "text": [
      "15\n",
      "15 is a multiple of 3 and 5.\n"
     ]
    }
   ],
   "source": [
    "# 判斷3或5倍數\n",
    "input_val = eval(input())\n",
    "if input_val % 3 == 0 and input_val % 5 == 0:\n",
    "    print('{0} is a multiple of 3 and 5.'.format(input_val))\n",
    "elif input_val % 3 == 0:\n",
    "    print('{0} is a multiple of 3.'.format(input_val))\n",
    "elif input_val % 5 == 0:\n",
    "    print('{0} is a multiple of 5.'.format(input_val))\n",
    "else:\n",
    "    print('{0} is not a multiple of 3 or 5.'.format(input_val))"
   ]
  },
  {
   "cell_type": "markdown",
   "metadata": {},
   "source": [
    "#### TQC+ 程式語言Python 203 閏年判斷\n",
    "1. 題目說明:\n",
    "請開啟PYD203.py檔案，依下列題意進行作答，判斷輸入值是否為閏年，使輸出值符合題意要求。作答完成請另存新檔為PYA203.py再進行評分。\n",
    "\n",
    "2. 設計說明：\n",
    "請使用選擇敘述撰寫一程式，讓使用者輸入一個西元年份，然後判斷它是否為閏年（leap year）或平年。其判斷規則為：每四年一閏，每百年不閏，但每四百年也一閏。\n",
    "\n",
    "3. 輸入輸出：\n",
    "輸入說明\n",
    "一個正整數\n",
    "\n",
    "輸出說明\n",
    "判斷是否為閏年或平年"
   ]
  },
  {
   "cell_type": "code",
   "execution_count": 11,
   "metadata": {},
   "outputs": [
    {
     "name": "stdout",
     "output_type": "stream",
     "text": [
      "4\n",
      "4 is a leap year.\n"
     ]
    }
   ],
   "source": [
    "# 判斷閏年\n",
    "input_year = int(input())\n",
    "if ((input_year % 4 == 0 and input_year % 100 != 0) or (input_year % 400 == 0 and input_year % 3200 != 0)):\n",
    "    print('{0} is a leap year.'.format(input_year))\n",
    "else:\n",
    "    print('{0} is not a leap year.'.format(input_year))"
   ]
  },
  {
   "cell_type": "markdown",
   "metadata": {},
   "source": [
    "#### TQC+ 程式語言Python 204 算術運算\n",
    "1. 題目說明:\n",
    "請開啟PYD204.py檔案，依下列題意進行作答，依輸入值進行算術運算，使輸出值符合題意要求。作答完成請另存新檔為PYA204.py再進行評分。\n",
    "\n",
    "2. 設計說明：\n",
    "請使用選擇敘述撰寫一程式，讓使用者輸入兩個整數a、b，然後再輸入一算術運算子 (+、-、*、/、//、%） ，輸出經過運算後的結果。\n",
    "\n",
    "3. 輸入輸出：\n",
    "輸入說明\n",
    "兩個整數a、b，及一個算術運算子 (+、-、*、/、//、%）\n",
    "\n",
    "輸出說明\n",
    "運算結果 (無須做格式化)"
   ]
  },
  {
   "cell_type": "code",
   "execution_count": 14,
   "metadata": {},
   "outputs": [
    {
     "name": "stdout",
     "output_type": "stream",
     "text": [
      "1\n",
      "2\n",
      "+\n",
      "3\n"
     ]
    }
   ],
   "source": [
    "# 取得運算結果\n",
    "def get_operation_result(x,y,operator):\n",
    "    '''取得運算結果'''\n",
    "    if operator == \"+\":\n",
    "        return x+y\n",
    "    if operator == \"-\":\n",
    "        return x-y\n",
    "    if operator == \"*\":\n",
    "        return x*y\n",
    "    if operator == \"/\":\n",
    "        return x/y\n",
    "    if operator == \"//\":\n",
    "        return x//y\n",
    "    if operator == \"%\":\n",
    "        return x%y\n",
    "\n",
    "x = eval(input())\n",
    "y = eval(input())\n",
    "operator = input()\n",
    "print(get_operation_result(x,y,operator))"
   ]
  }
 ],
 "metadata": {
  "kernelspec": {
   "display_name": "Python 3",
   "language": "python",
   "name": "python3"
  },
  "language_info": {
   "codemirror_mode": {
    "name": "ipython",
    "version": 3
   },
   "file_extension": ".py",
   "mimetype": "text/x-python",
   "name": "python",
   "nbconvert_exporter": "python",
   "pygments_lexer": "ipython3",
   "version": "3.7.6"
  }
 },
 "nbformat": 4,
 "nbformat_minor": 4
}
