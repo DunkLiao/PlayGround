{
 "cells": [
  {
   "cell_type": "markdown",
   "metadata": {},
   "source": [
    "### 專案名稱:  TQC+ 程式語言Python \n",
    "### 功能描述:  第5類：函式(Function)\n",
    "### 版權所有: Dunk  \n",
    "### 程式撰寫: Dunk  \n",
    "### 撰寫日期：2020/07/15\n",
    "### 改版日期:  \n",
    "### 改版備註: "
   ]
  },
  {
   "cell_type": "markdown",
   "metadata": {},
   "source": [
    "#### TQC+ 程式語言Python 501 訊息顯示\n",
    "1. 題目說明:\n",
    "請開啟PYD501.py檔案，依下列題意進行作答，依使用者輸入之訊息進行顯示，使輸出值符合題意要求。作答完成請另存新檔為PYA501.py再進行評分。\n",
    "\n",
    "2. 設計說明：\n",
    "請撰寫一程式，呼叫函式compute()，該函式功能為讓使用者輸入系別（Department）、學號（Student ID）和姓名（Name）並顯示這些訊息。\n",
    "\n",
    "3. 輸入輸出：\n",
    "輸入說明\n",
    "三個字串\n",
    "\n",
    "輸出說明\n",
    "系別（Department）\n",
    "學號（Student ID）\n",
    "姓名（Name）"
   ]
  },
  {
   "cell_type": "code",
   "execution_count": 1,
   "metadata": {},
   "outputs": [
    {
     "name": "stdout",
     "output_type": "stream",
     "text": [
      "a\n",
      "b\n",
      "c\n",
      "Department: a\n",
      "Student ID: b\n",
      "Name: c\n"
     ]
    }
   ],
   "source": [
    "# 訊息顯示\n",
    "def compute(department,student_id,name):\n",
    "    print('Department: %s' % department)\n",
    "    print('Student ID: %s' % student_id)\n",
    "    print('Name: %s' % name)\n",
    "\n",
    "department = str(input())\n",
    "student_id = str(input())\n",
    "name = str(input())\n",
    "compute(department,student_id,name)"
   ]
  },
  {
   "cell_type": "markdown",
   "metadata": {},
   "source": [
    "#### TQC+ 程式語言Python 502 乘積\n",
    "1. 題目說明:\n",
    "請開啟PYD502.py檔案，依下列題意進行作答，依使用者輸入的數字作為參數傳遞並計算乘積，使輸出值符合題意要求。作答完成請另存新檔為PYA502.py再進行評分。\n",
    "\n",
    "2. 設計說明：\n",
    "請撰寫一程式，將使用者輸入的兩個整數作為參數傳遞給一個名為compute(x, y)的函式，此函式將回傳x和y的乘積。\n",
    "\n",
    "3. 輸入輸出：\n",
    "輸入說明\n",
    "兩個整數\n",
    "\n",
    "輸出說明\n",
    "兩個整數相乘之乘積"
   ]
  },
  {
   "cell_type": "code",
   "execution_count": 2,
   "metadata": {},
   "outputs": [
    {
     "name": "stdout",
     "output_type": "stream",
     "text": [
      "2\n",
      "3\n",
      "6\n"
     ]
    }
   ],
   "source": [
    "# 乘積\n",
    "def compute(x,y):\n",
    "    return x*y\n",
    "\n",
    "x = int(input())\n",
    "y = int(input())\n",
    "print(str(compute(x,y)))"
   ]
  },
  {
   "cell_type": "markdown",
   "metadata": {},
   "source": [
    "#### TQC+ 程式語言Python 503 連加計算\n",
    "1. 題目說明:\n",
    "請開啟PYD503.py檔案，依下列題意進行作答，依使用者輸入的整數作為參數傳遞進行連加，使輸出值符合題意要求。作答完成請另存新檔為PYA503.py再進行評分。\n",
    "\n",
    "2. 設計說明：\n",
    "請撰寫一程式，讓使用者輸入兩個整數，接著呼叫函式compute()，此函式接收兩個參數a、b，並回傳從a連加到b的和。\n",
    "\n",
    "3. 輸入輸出：\n",
    "輸入說明\n",
    "兩個整數\n",
    "\n",
    "輸出說明\n",
    "從a連加到b的和\n"
   ]
  },
  {
   "cell_type": "code",
   "execution_count": 3,
   "metadata": {},
   "outputs": [
    {
     "name": "stdout",
     "output_type": "stream",
     "text": [
      "33\n",
      "66\n",
      "1683\n"
     ]
    }
   ],
   "source": [
    "# 連加計算\n",
    "def compute(a,b):\n",
    "    result = 0\n",
    "    for i in range(a,b+1):\n",
    "        result += i\n",
    "    return result\n",
    "\n",
    "a = int(input())\n",
    "b = int(input())\n",
    "print(str(compute(a,b)))"
   ]
  },
  {
   "cell_type": "markdown",
   "metadata": {},
   "source": [
    "#### TQC+ 程式語言Python 504 次方計算\n",
    "1. 題目說明:\n",
    "請開啟PYD504.py檔案，依下列題意進行作答，依使用者輸入的整數作為參數傳遞進行公式計算，使輸出值符合題意要求。作答完成請另存新檔為PYA504.py再進行評分。\n",
    "\n",
    "2. 設計說明：\n",
    "請撰寫一程式，讓使用者輸入兩個整數，接著呼叫函式compute()，此函式接收兩個參數a、b，並回傳 \n",
    "a\n",
    "b\n",
    " 的值。\n",
    "\n",
    "3. 輸入輸出：\n",
    "輸入說明\n",
    "兩個整數\n",
    "\n",
    "輸出說明\n",
    "a\n",
    "b\n",
    " 的值"
   ]
  },
  {
   "cell_type": "code",
   "execution_count": 5,
   "metadata": {},
   "outputs": [
    {
     "name": "stdout",
     "output_type": "stream",
     "text": [
      "2\n",
      "3\n",
      "8\n"
     ]
    }
   ],
   "source": [
    "#  次方計算\n",
    "def compute(a,b):\n",
    "    return a**b\n",
    "\n",
    "a = int(input())\n",
    "b = int(input())\n",
    "print(str(compute(a,b)))"
   ]
  },
  {
   "cell_type": "markdown",
   "metadata": {},
   "source": [
    "#### TQC+ 程式語言Python 505 依參數格式化輸出\n",
    "1. 題目說明:\n",
    "請開啟PYD505.py檔案，依下列題意進行作答，依使用者輸入的參數進行格式化輸出，使輸出值符合題意要求。作答完成請另存新檔為PYA505.py再進行評分。\n",
    "\n",
    "2. 設計說明：\n",
    "請撰寫一程式，將使用者輸入的三個參數，變數名稱分別為a（代表字元character）、x（代表個數）、y（代表列數），作為參數傳遞給一個名為compute()的函式，該函式功能為：一列印出x個a字元，總共印出y列。\n",
    "\n",
    "提示：輸出的每一個字元後方有一空格。\n",
    "\n",
    "3. 輸入輸出：\n",
    "輸入說明\n",
    "三個參數，分別為a（代表字元character）、x（代表個數）、y（代表列數）\n",
    "\n",
    "輸出說明\n",
    "一列印出x個a字元，總共印出y列"
   ]
  },
  {
   "cell_type": "code",
   "execution_count": 6,
   "metadata": {},
   "outputs": [
    {
     "name": "stdout",
     "output_type": "stream",
     "text": [
      "e\n",
      "5\n",
      "4\n",
      "e e e e e \n",
      "e e e e e \n",
      "e e e e e \n",
      "e e e e e \n"
     ]
    }
   ],
   "source": [
    "# 參數格式化輸出\n",
    "def compute(a,x,y):\n",
    "    display_char = a[0]    \n",
    "    for i in range(y):        \n",
    "        print('{0:<2s}'.format(display_char)*x)        \n",
    "\n",
    "a = str(input())\n",
    "x = int(input())\n",
    "y = int(input())\n",
    "compute(a,x,y)"
   ]
  },
  {
   "cell_type": "markdown",
   "metadata": {},
   "source": [
    "#### TQC+ 程式語言Python 506 一元二次方程式\n",
    "1. 題目說明:\n",
    "請開啟PYD506.py檔案，依下列題意進行作答，依使用者輸入的數字作為參數傳遞進行公式計算，使輸出值符合題意要求。作答完成請另存新檔為PYA506.py再進行評分。\n",
    "\n",
    "2. 設計說明：\n",
    "請撰寫一程式，將使用者輸入的三個整數（代表一元二次方程式  \n",
    "a\n",
    "x\n",
    "2\n",
    "+\n",
    "b\n",
    "x\n",
    "+\n",
    "c\n",
    "=\n",
    "0\n",
    "  的三個係數a、b、c）作為參數傳遞給一個名為compute()的函式，該函式回傳方程式的解，如無解則輸出【Your equation has no root.】\n",
    "\n",
    "提示：輸出有順序性\n",
    "\n",
    "3. 輸入輸出：\n",
    "輸入說明\n",
    "三個整數，分別為a、b、c\n",
    "\n",
    "輸出說明\n",
    "代入一元二次方程式，回傳方程式解；如無解則輸出【Your equation has no root.】"
   ]
  },
  {
   "cell_type": "code",
   "execution_count": 7,
   "metadata": {},
   "outputs": [
    {
     "name": "stdout",
     "output_type": "stream",
     "text": [
      "1\n",
      "2\n",
      "1\n",
      "Your equation has no root.\n"
     ]
    }
   ],
   "source": [
    "# TQC+ 程式語言Python 506 一元二次方程式\n",
    "def compute(a,b,c):\n",
    "    y = (b **2) - (4*a*c)\n",
    "    \n",
    "    if y > 0:\n",
    "        x1, x2 = ((-b +(y **0.5))/(2*a)) , ((-b -(y **0.5))/(2*a))\n",
    "        return x1, x2\n",
    "    else:\n",
    "        return \"Your equation has no root.\", None\n",
    "\n",
    "      \n",
    "a = eval(input()) \n",
    "b = eval(input())  \n",
    "c = eval(input())\n",
    "m,n = compute(a,b,c)\n",
    "\n",
    "if n == None:\n",
    "    print(m)\n",
    "else:\n",
    "    print(\"{}, {}\".format(m,n))"
   ]
  },
  {
   "cell_type": "markdown",
   "metadata": {},
   "source": [
    "#### TQC+ 程式語言Python 507 質數\n",
    "1. 題目說明:\n",
    "請開啟PYD507.py檔案，依下列題意進行作答，判斷輸入值是否為質數，使輸出值符合題意要求。作答完成請另存新檔為PYA507.py再進行評分。\n",
    "\n",
    "2. 設計說明：\n",
    "請撰寫一程式，讓使用者輸入一個整數x，並將x傳遞給名為compute()的函式，此函式將回傳x是否為質數（Prime number）的布林值，接著再將判斷結果輸出。如輸入值為質數顯示【Prime】，否則顯示【Not Prime】。\n",
    "\n",
    "3. 輸入輸出：\n",
    "輸入說明\n",
    "一個整數\n",
    "\n",
    "輸出說明\n",
    "判斷是否為質數，若為質數顯示【Prime】，否則顯示【Not Prime】\n",
    "\n"
   ]
  },
  {
   "cell_type": "code",
   "execution_count": 8,
   "metadata": {},
   "outputs": [
    {
     "name": "stdout",
     "output_type": "stream",
     "text": [
      "5\n",
      "Prime\n"
     ]
    }
   ],
   "source": [
    "#  質數\n",
    "def compute(x):\n",
    "    \n",
    "    if x > 1:\n",
    "        for i in range(2,x//2+1):\n",
    "            if x%i == 0:\n",
    "                print('Not Prime')\n",
    "                return\n",
    "        print('Prime')\n",
    "    else:\n",
    "        print('Not Prime')\n",
    "\n",
    "x = int(input())\n",
    "compute(x)"
   ]
  },
  {
   "cell_type": "markdown",
   "metadata": {},
   "source": [
    "#### TQC+ 程式語言Python 508 最大公因數\n",
    "1. 題目說明:\n",
    "請開啟PYD05.py檔案，依下列題意進行作答，計算兩個正整數的最大公因數，使輸出值符合題意要求。作答完成請另存新檔為PYA508.py再進行評分。。\n",
    "\n",
    "2. 設計說明：\n",
    "請撰寫一程式，讓使用者輸入兩個正整數x、y，並將x與y傳遞給名為compute()的函式，此函式回傳x和y的最大公因數。\n",
    "\n",
    "3. 輸入輸出：\n",
    "輸入說明\n",
    "兩個正整數（以半形逗號分隔）\n",
    "\n",
    "x,y\n",
    "\n",
    "輸出說明\n",
    "最大公因數"
   ]
  },
  {
   "cell_type": "code",
   "execution_count": 9,
   "metadata": {},
   "outputs": [
    {
     "name": "stdout",
     "output_type": "stream",
     "text": [
      "12,8\n",
      "4\n"
     ]
    }
   ],
   "source": [
    "# 最大公因數\n",
    "def compute(x,y):\n",
    "    min_vlaue = min(x,y)\n",
    "    result = -1\n",
    "    for i in range(1,min_vlaue+1):\n",
    "        if (x%i == 0) and (y%i == 0):\n",
    "            result = i            \n",
    "    return result\n",
    "    \n",
    "    \n",
    "x,y = map(int,input().split(','))\n",
    "print(str(compute(x,y)))\n",
    "\n",
    "# 最大公因數(第二種寫法)\n",
    "# def compute(x,y):\n",
    "#    if y == 0: return x\n",
    "#    else: return compute(y,x%y)\n",
    "#    \n",
    "# x,y = map(int,input().split(','))\n",
    "# print(compute(max(x,y),min(x,y)))"
   ]
  },
  {
   "cell_type": "markdown",
   "metadata": {},
   "source": [
    "#### TQC+ 程式語言Python 509 最簡分數\n",
    "1. 題目說明:\n",
    "請開啟PYD05.py檔案，依下列題意進行作答，加總兩個分數總和，並簡化為最簡分數，使輸出值符合題意要求。作答完成請另存新檔為PYA509.py再進行評分。\n",
    "\n",
    "2. 設計說明：\n",
    "請撰寫一程式，讓使用者輸入二個分數，分別是x/y和m/n（其中x、y、m、n皆為正整數），計算這兩個分數的和為p/q，接著將p和q傳遞給名為compute()函式，此函式回傳p和q的最大公因數（Greatest Common Divisor, GCD）。再將p和q各除以其最大公因數，最後輸出的結果必須以最簡分數表示。\n",
    "\n",
    "3. 輸入輸出：\n",
    "輸入說明\n",
    "四個正整數（以半形逗號分隔）\n",
    "x,y\n",
    "m,n\n",
    "\n",
    "輸出說明\n",
    "兩個分數和的最簡分數"
   ]
  },
  {
   "cell_type": "code",
   "execution_count": 11,
   "metadata": {},
   "outputs": [
    {
     "name": "stdout",
     "output_type": "stream",
     "text": [
      "1,2\n",
      "3,4\n",
      "1/2 + 3/4 = 5/4\n"
     ]
    }
   ],
   "source": [
    "# TQC+ 程式語言Python 509 最簡分數\n",
    "def compute(p,q):\n",
    "    '最大公約數'\n",
    "    if q == 0: return p\n",
    "    else: return compute( q , p % q )\n",
    "       \n",
    "x , y = map(int,input().split(','))\n",
    "m , n = map(int,input().split(','))\n",
    "\n",
    "p , q = (x * n) + (m * y), y * n\n",
    "num = compute(p,q)\n",
    "print('{}/{} + {}/{} = {}/{}'.format(x,y,m,n,int(p/num),int(q/num)))"
   ]
  },
  {
   "cell_type": "markdown",
   "metadata": {},
   "source": [
    "#### TQC+ 程式語言Python 510 費氏數列\n",
    "1. 題目說明:\n",
    "請開啟PYD05.py檔案，依下列題意進行作答，計算費氏數列，並依輸入的正整數回傳費氏數列前n個數值，使輸出值符合題意要求。作答完成請另存新檔為PYA510.py再進行評分。\n",
    "\n",
    "2. 設計說明：\n",
    "請撰寫一程式，計算費氏數列（Fibonacci numbers），使用者輸入一正整數num (num>=2)，並將它傳遞給名為compute()的函式，此函式將輸出費氏數列前num個的數值。\n",
    "\n",
    "提示：費氏數列的某一項數字是其前兩項的和，而且第0項為0，第一項為1，表示方式如下：\n",
    "F\n",
    "0\n",
    "=\n",
    "0\n",
    " \n",
    "F\n",
    "1\n",
    "=\n",
    "1\n",
    " \n",
    "F\n",
    "n\n",
    "=\n",
    "F\n",
    "n\n",
    "−\n",
    "1\n",
    "+\n",
    "F\n",
    "n\n",
    "−\n",
    "2\n",
    " \n",
    "3. 輸入輸出：\n",
    "輸入說明\n",
    "一個正整數num (num>=2)\n",
    "\n",
    "輸出說明\n",
    "依輸入值num，輸出費氏數列前num個的數值（每個數值後方為一個半形空格）\n",
    "\n"
   ]
  },
  {
   "cell_type": "code",
   "execution_count": 12,
   "metadata": {},
   "outputs": [
    {
     "name": "stdout",
     "output_type": "stream",
     "text": [
      "5\n",
      "0 1 1 2 3 \n"
     ]
    }
   ],
   "source": [
    "# 費氏數列\n",
    "def compute(num):\n",
    "    if num == 0 : return 0\n",
    "    elif num == 1 : return 1\n",
    "    else: return compute(num-1)+compute(num-2)\n",
    "    \n",
    "input_range = int(input())\n",
    "result_str = ''\n",
    "for i in range(input_range):\n",
    "    result_str +='{} '.format(compute(i))\n",
    "print(result_str)"
   ]
  }
 ],
 "metadata": {
  "kernelspec": {
   "display_name": "Python 3",
   "language": "python",
   "name": "python3"
  },
  "language_info": {
   "codemirror_mode": {
    "name": "ipython",
    "version": 3
   },
   "file_extension": ".py",
   "mimetype": "text/x-python",
   "name": "python",
   "nbconvert_exporter": "python",
   "pygments_lexer": "ipython3",
   "version": "3.7.6"
  }
 },
 "nbformat": 4,
 "nbformat_minor": 4
}
