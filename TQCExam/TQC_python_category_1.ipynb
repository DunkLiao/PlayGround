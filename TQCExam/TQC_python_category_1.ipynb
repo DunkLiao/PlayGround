{
 "cells": [
  {
   "cell_type": "markdown",
   "metadata": {},
   "source": [
    "### 專案名稱:  TQC+ 程式語言Python \n",
    "### 功能描述: 第1類：基本程式設計\n",
    "### 版權所有: Dunk  \n",
    "### 程式撰寫: Dunk  \n",
    "### 撰寫日期：2020/07/13\n",
    "### 改版日期:  \n",
    "### 改版備註:  "
   ]
  },
  {
   "cell_type": "markdown",
   "metadata": {},
   "source": [
    "#### TQC+ 程式語言Python 101 整數格式化輸出\n",
    "1. 題目說明:\n",
    "請開啟PYD101.py檔案，依下列題意進行作答，輸入整數及進行格式化輸出，使輸出值符合題意要求。作答完成請另存新檔為PYA101.py再進行評分。\n",
    "\n",
    "2. 設計說明：\n",
    "請撰寫一程式，輸入四個整數，然後將這四個整數以欄寬為5、欄與欄間隔一個空白字元，再以每列印兩個的方式，先列印向右靠齊，再列印向左靠齊，左右皆以直線 |（Vertical bar）作為邊界。\n",
    "\n",
    "3. 輸入輸出：\n",
    "輸入說明\n",
    "四個整數\n",
    "\n",
    "輸出說明\n",
    "格式化輸出"
   ]
  },
  {
   "cell_type": "code",
   "execution_count": 3,
   "metadata": {},
   "outputs": [
    {
     "name": "stdout",
     "output_type": "stream",
     "text": [
      "1\n",
      "2\n",
      "3\n",
      "4\n",
      "|    1     2|\n",
      "|    3     4|\n",
      "|1     2    |\n",
      "|3     4    |\n"
     ]
    }
   ],
   "source": [
    "#輸入值\n",
    "val_1 = int(input())\n",
    "val_2 = int(input())\n",
    "val_3 = int(input())\n",
    "val_4 = int(input())\n",
    "\n",
    "#向右靠齊\n",
    "print('|{0:5d} {1:5d}|\\n|{2:5d} {3:5d}|'.format(val_1,val_2,val_3,val_4))\n",
    "\n",
    "#向左靠齊\n",
    "print('|{0:<5d} {1:<5d}|\\n|{2:<5d} {3:<5d}|'.format(val_1,val_2,val_3,val_4))"
   ]
  },
  {
   "cell_type": "markdown",
   "metadata": {},
   "source": [
    "#### TQC+ 程式語言Python 102 浮點數格式化輸出\n",
    "1. 題目說明:\n",
    "請開啟PYD102.py檔案，依下列題意進行作答，輸入浮點數及進行格式化輸出，使輸出值符合題意要求。作答完成請另存新檔為PYA102.py再進行評分。\n",
    "\n",
    "2. 設計說明：\n",
    "請撰寫一程式，輸入四個分別含有小數1到4位的浮點數，然後將這四個浮點數以欄寬為7、欄與欄間隔一個空白字元、每列印兩個的方式，先列印向右靠齊，再列印向左靠齊，左右皆以直線 |（Vertical bar）作為邊界。\n",
    "\n",
    "提示：輸出浮點數到小數點後第二位。\n",
    "\n",
    "3. 輸入輸出：\n",
    "輸入說明\n",
    "四個浮點數\n",
    "\n",
    "輸出說明\n",
    "格式化輸出"
   ]
  },
  {
   "cell_type": "code",
   "execution_count": 9,
   "metadata": {},
   "outputs": [
    {
     "name": "stdout",
     "output_type": "stream",
     "text": [
      "1\n",
      "2\n",
      "3\n",
      "4\n",
      "|   1.00    2.00|\n",
      "|   3.00    4.00|\n",
      "|1.00    2.00   |\n",
      "|3.00    4.00   |\n"
     ]
    }
   ],
   "source": [
    "#輸入值\n",
    "val_1 = float(input())\n",
    "val_2 = float(input())\n",
    "val_3 = float(input())\n",
    "val_4 = float(input())\n",
    "\n",
    "#向右靠齊\n",
    "print('|{0:>7.2f} {1:>7.2f}|\\n|{2:>7.2f} {3:>7.2f}|'.format(val_1,val_2,val_3,val_4))\n",
    "\n",
    "#向左靠齊\n",
    "print('|{0:<7.2f} {1:<7.2f}|\\n|{2:<7.2f} {3:<7.2f}|'.format(val_1,val_2,val_3,val_4))"
   ]
  },
  {
   "cell_type": "markdown",
   "metadata": {},
   "source": [
    "#### TQC+ 程式語言Python 103 字串格式化輸出\n",
    "1. 題目說明:\n",
    "請開啟PYD103.py檔案，依下列題意進行作答，輸入單字及進行格式化輸出，使輸出值符合題意要求。作答完成請另存新檔為PYA103.py再進行評分。\n",
    "\n",
    "2. 設計說明：\n",
    "請撰寫一程式，輸入四個單字，然後將這四個單字以欄寬為10、欄與欄間隔一個空白字元、每列印兩個的方式，先列印向右靠齊，再列印向左靠齊，左右皆以直線 |（Vertical bar）作為邊界。\n",
    "\n",
    "3. 輸入輸出：\n",
    "輸入說明\n",
    "四個單字\n",
    "\n",
    "輸出說明\n",
    "格式化輸出"
   ]
  },
  {
   "cell_type": "code",
   "execution_count": 12,
   "metadata": {},
   "outputs": [
    {
     "name": "stdout",
     "output_type": "stream",
     "text": [
      "i\n",
      "a\n",
      "m\n",
      "g\n",
      "|         i          a|\n",
      "|         m          g|\n",
      "|i          a         |\n",
      "|m          g         |\n"
     ]
    }
   ],
   "source": [
    "# 設定輸入值\n",
    "val_1 = input()\n",
    "val_2 = input()\n",
    "val_3 = input()\n",
    "val_4 = input()\n",
    "# 向右靠齊\n",
    "print('|{0:>10s} {1:>10s}|\\n|{2:>10s} {3:>10s}|'.format(val_1,val_2,val_3,val_4))\n",
    "# 向左靠齊\n",
    "print('|{0:<10s} {1:<10s}|\\n|{2:<10s} {3:<10s}|'.format(val_1,val_2,val_3,val_4))"
   ]
  },
  {
   "cell_type": "markdown",
   "metadata": {},
   "source": [
    "#### TQC+ 程式語言Python 104 圓形面積計算\n",
    "1. 題目說明:\n",
    "請開啟PYD104.py檔案，依下列題意進行作答，計算圓形之面積和周長，使輸出值符合題意要求。作答完成請另存新檔為PYA104.py再進行評分。\n",
    "\n",
    "2. 設計說明：\n",
    "請撰寫一程式，輸入一圓的半徑，並加以計算此圓之面積和周長，最後請印出此圓的半徑（Radius）、周長（Perimeter）和面積（Area）。\n",
    "\n",
    "提示1：需import math模組，並使用math.pi。\n",
    "提示2：輸出浮點數到小數點後第二位。\n",
    "\n",
    "3. 輸入輸出：\n",
    "輸入說明\n",
    "半徑\n",
    "\n",
    "輸出說明\n",
    "半徑\n",
    "周長\n",
    "面積"
   ]
  },
  {
   "cell_type": "code",
   "execution_count": 17,
   "metadata": {},
   "outputs": [
    {
     "name": "stdout",
     "output_type": "stream",
     "text": [
      "2.5\n",
      "Radius = 2.50\n",
      "Perimeter = 15.71\n",
      "Area = 19.63\n"
     ]
    }
   ],
   "source": [
    "# 匯入套件\n",
    "import math\n",
    "radius = eval(input())\n",
    "\n",
    "# 計算周長與面積\n",
    "Radius = radius\n",
    "Perimeter = 2*math.pi* Radius\n",
    "Area = math.pi*Radius**2\n",
    "\n",
    "print('Radius = %.2f' % Radius)\n",
    "print('Perimeter = %.2f' % Perimeter)\n",
    "print('Area = %.2f' % Area)"
   ]
  },
  {
   "cell_type": "markdown",
   "metadata": {},
   "source": [
    "#### TQC+ 程式語言Python 105 矩形面積計算\n",
    "1. 題目說明:\n",
    "請開啟PYD105.py檔案，依下列題意進行作答，計算矩形之面積和周長，使輸出值符合題意要求。作答完成請另存新檔為PYA105.py再進行評分。\n",
    "\n",
    "2. 設計說明：\n",
    "請撰寫一程式，輸入兩個正數，代表一矩形之寬和高，計算並輸出此矩形之高（Height）、寬（Width）、周長（Perimeter）及面積（Area）。\n",
    "\n",
    "提示：輸出浮點數到小數點後第二位。\n",
    "\n",
    "3. 輸入輸出：\n",
    "輸入說明\n",
    "高、寬\n",
    "\n",
    "輸出說明\n",
    "高\n",
    "寬\n",
    "周長\n",
    "面積"
   ]
  },
  {
   "cell_type": "code",
   "execution_count": 18,
   "metadata": {},
   "outputs": [
    {
     "name": "stdout",
     "output_type": "stream",
     "text": [
      "5\n",
      "10\n",
      "Height = 5.00\n",
      "Width = 10.00\n",
      "Perimeter = 30.00\n",
      "Area = 50.00\n"
     ]
    }
   ],
   "source": [
    "h = eval(input())\n",
    "w = eval(input())\n",
    "# 計算矩形面積\n",
    "Height = h\n",
    "Width = w\n",
    "Perimeter = 2*(Height+Width)\n",
    "Area = Height * Width\n",
    "\n",
    "print('Height = %.2f' % Height)\n",
    "print('Width = %.2f' % Width)\n",
    "print('Perimeter = %.2f' % Perimeter)\n",
    "print('Area = %.2f' % Area)"
   ]
  },
  {
   "cell_type": "markdown",
   "metadata": {},
   "source": [
    "#### TQC+ 程式語言Python 106 公里英哩換算\n",
    "1. 題目說明:\n",
    "請開啟PYD106.py檔案，依下列題意進行作答，計算選手賽跑每小時平均速度，使輸出值符合題意要求。作答完成請另存新檔為PYA106.py再進行評分。\n",
    "\n",
    "2. 設計說明：\n",
    "假設一賽跑選手在x分y秒的時間跑完z公里，請撰寫一程式，輸入x、y、z數值，最後顯示此選手每小時的平均英哩速度（1英哩等於1.6公里）。\n",
    "\n",
    "提示：輸出浮點數到小數點後第一位。\n",
    "\n",
    "3. 輸入輸出：\n",
    "輸入說明\n",
    "x（min）、y（sec）、z（km）數值\n",
    "\n",
    "輸出說明\n",
    "速度"
   ]
  },
  {
   "cell_type": "code",
   "execution_count": 19,
   "metadata": {},
   "outputs": [
    {
     "name": "stdout",
     "output_type": "stream",
     "text": [
      "10\n",
      "25\n",
      "3\n",
      "Speed = 10.8\n"
     ]
    }
   ],
   "source": [
    "x = eval(input())\n",
    "y = eval(input())\n",
    "z = eval(input())\n",
    "\n",
    "# 計算時速\n",
    "Speed = (z /((x/60)+(y/3600)))/1.6\n",
    "print('Speed = %.1f' % Speed)"
   ]
  },
  {
   "cell_type": "markdown",
   "metadata": {},
   "source": [
    "#### TQC+ 程式語言Python 107 數值計算\n",
    "1. 題目說明:\n",
    "請開啟PYD107.py檔案，依下列題意進行作答，計算五個數字之數值、總和及平均數，使輸出值符合題意要求。作答完成請另存新檔為PYA107.py再進行評分。\n",
    "\n",
    "2. 設計說明：\n",
    "請撰寫一程式，讓使用者輸入五個數字，計算並輸出這五個數字之數值、總和及平均數。\n",
    "\n",
    "提示：總和與平均數皆輸出到小數點後第1位。\n",
    "\n",
    "3. 輸入輸出：\n",
    "輸入說明\n",
    "五個數字\n",
    "\n",
    "輸出說明\n",
    "輸出五個數字\n",
    "總和\n",
    "平均數"
   ]
  },
  {
   "cell_type": "code",
   "execution_count": 21,
   "metadata": {},
   "outputs": [
    {
     "name": "stdout",
     "output_type": "stream",
     "text": [
      "1\n",
      "2\n",
      "3\n",
      "4\n",
      "5\n",
      "1 2 3 4 5\n",
      "Sum = 15.0\n",
      "Average = 3.0\n"
     ]
    }
   ],
   "source": [
    "num1 = eval(input())\n",
    "num2 = eval(input())\n",
    "num3 = eval(input())\n",
    "num4 = eval(input())\n",
    "num5 = eval(input())\n",
    "\n",
    "# 計算總和和平均\n",
    "Sum = num1 + num2 + num3 + num4 + num5\n",
    "Average = Sum / 5.0\n",
    "print('{0} {1} {2} {3} {4}'.format(num1, num2, num3, num4, num5))\n",
    "print('Sum = %.1f' % Sum)\n",
    "print('Average = %.1f' % Average)\n",
    "\n",
    "# 法二\n",
    "#result_arr = []\n",
    "#\n",
    "#for i in range(5):\n",
    "#    result_arr.append(eval(input()))\n",
    "#\n",
    "#result_arr_str = [str(x) for x in result_arr]    \n",
    "#print(' '.join(result_arr_str))\n",
    "#print('Sum = {:.1f}'.format(sum(result_arr)))\n",
    "#print('Average = {:.1f}'.format(sum(result_arr)/float(len(result_arr))))"
   ]
  },
  {
   "cell_type": "markdown",
   "metadata": {},
   "source": [
    "#### TQC+ 程式語言Python 108 座標距離計算\n",
    "1. 題目說明:\n",
    "請開啟PYD108.py檔案，依下列題意進行作答，計算兩點座標及其距離，使輸出值符合題意要求。作答完成請另存新檔為PYA108.py再進行評分。\n",
    "\n",
    "2. 設計說明：\n",
    "請撰寫一程式，讓使用者輸入四個數字x1、y1、x2、y2，分別代表兩個點的座標(x1, y1)、(x2, y2)。計算並輸出這兩點的座標與其歐式距離。\n",
    "\n",
    "提示1：歐式距離  \n",
    "=\n",
    "√\n",
    "(\n",
    "(\n",
    "x\n",
    "1\n",
    "−\n",
    "x\n",
    "2\n",
    ")\n",
    "2\n",
    "+\n",
    "(\n",
    "y\n",
    "1\n",
    "−\n",
    "y\n",
    "2\n",
    ")\n",
    "2\n",
    ")\n",
    " \n",
    "提示2：兩座標的歐式距離，輸出到小數點後第4位\n",
    "\n",
    "3. 輸入輸出：\n",
    "輸入說明\n",
    "四個數字x1、y1、x2、y2\n",
    "\n",
    "輸出說明\n",
    "座標1\n",
    "座標2\n",
    "兩座標的歐式距離"
   ]
  },
  {
   "cell_type": "code",
   "execution_count": 22,
   "metadata": {},
   "outputs": [
    {
     "name": "stdout",
     "output_type": "stream",
     "text": [
      "2\n",
      "1\n",
      "5.5\n",
      "8\n",
      "( 2 , 1 )\n",
      "( 5.5 , 8 )\n",
      "Distance = 7.8262\n"
     ]
    }
   ],
   "source": [
    "# 輸入\n",
    "x1 = eval(input())\n",
    "y1 = eval(input())\n",
    "x2 = eval(input())\n",
    "y2  = eval(input())\n",
    "\n",
    "# 計算歐式距離\n",
    "Distance = (abs(x1-x2)**2 + abs(y1-y2)**2)**(1/2)\n",
    "print('( {0} , {1} )'.format(x1,y1))\n",
    "print('( {0} , {1} )'.format(x2,y2))\n",
    "print('Distance = %.4f' % Distance)\n"
   ]
  },
  {
   "cell_type": "markdown",
   "metadata": {},
   "source": [
    "#### TQC+ 程式語言Python 109 正五邊形面積計算\n",
    "1. 題目說明:\n",
    "請開啟PYD109.py檔案，依下列題意進行作答，計算正五邊形之面積，使輸出值符合題意要求。作答完成請另存新檔為PYA109.py再進行評分。\n",
    "\n",
    "2. 設計說明：\n",
    "請撰寫一程式，讓使用者輸入一個正數s，代表正五邊形之邊長，計算並輸出此正五邊形之面積（Area）。\n",
    "\n",
    "提示1：建議使用import math模組的math.pow及math.tan\n",
    "提示2：正五邊形面積的公式：  \n",
    "A\n",
    "r\n",
    "e\n",
    "a\n",
    "=\n",
    "(\n",
    "5\n",
    "∗\n",
    "s\n",
    "2\n",
    ")\n",
    "/\n",
    "(\n",
    "4\n",
    "∗\n",
    "t\n",
    "a\n",
    "n\n",
    "(\n",
    "p\n",
    "i\n",
    "/\n",
    "5\n",
    ")\n",
    ")\n",
    " \n",
    "提示3：輸出浮點數到小數點後第四位。\n",
    "\n",
    "3. 輸入輸出：\n",
    "輸入說明\n",
    "正數s\n",
    "\n",
    "輸出說明\n",
    "正五邊形面積"
   ]
  },
  {
   "cell_type": "code",
   "execution_count": 25,
   "metadata": {},
   "outputs": [
    {
     "name": "stdout",
     "output_type": "stream",
     "text": [
      "5\n",
      "Area = 43.0119\n"
     ]
    }
   ],
   "source": [
    "import math\n",
    "\n",
    "def eval_area(edge_num,side_length):\n",
    "    '''\n",
    "    計算多邊型面積\n",
    "    edge_num:邊數\n",
    "    side_length:邊長\n",
    "    '''\n",
    "    return (edge_num * math.pow(side_length,2))/(4*math.tan(math.pi/edge_num))\n",
    "\n",
    "s = eval(input())\n",
    "edge_num = 5\n",
    "Area = eval_area(edge_num,s)\n",
    "print('Area = %.4f' % Area)"
   ]
  },
  {
   "cell_type": "markdown",
   "metadata": {},
   "source": [
    "#### TQC+ 程式語言Python 110 正n邊形面積計算\n",
    "1. 題目說明:\n",
    "請開啟PYD110.py檔案，依下列題意進行作答，計算正n邊形面積，使輸出值符合題意要求。作答完成請另存新檔為PYA110.py再進行評分。\n",
    "\n",
    "2. 設計說明：\n",
    "請撰寫一程式，讓使用者輸入兩個正數n、s，代表正n邊形之邊長為s，計算並輸出此正n邊形之面積（Area）。\n",
    "\n",
    "提示1：建議使用import math模組的math.pow及math.tan\n",
    "提示2：正n邊形面積的公式如下： \n",
    "A\n",
    "r\n",
    "e\n",
    "a\n",
    "=\n",
    "(\n",
    "n\n",
    "∗\n",
    "s\n",
    "2\n",
    ")\n",
    "/\n",
    "(\n",
    "4\n",
    "∗\n",
    "t\n",
    "a\n",
    "n\n",
    "(\n",
    "p\n",
    "i\n",
    "/\n",
    "n\n",
    ")\n",
    ")\n",
    " \n",
    "提示3：輸出浮點數到小數點後第四位\n",
    "\n",
    "3. 輸入輸出：\n",
    "輸入說明\n",
    "正數n、s\n",
    "\n",
    "輸出說明\n",
    "正n邊形面積"
   ]
  },
  {
   "cell_type": "code",
   "execution_count": 27,
   "metadata": {},
   "outputs": [
    {
     "name": "stdout",
     "output_type": "stream",
     "text": [
      "8\n",
      "6\n",
      "Area = 173.8234\n"
     ]
    }
   ],
   "source": [
    "import math\n",
    "def eval_area(n,s):\n",
    "    '''\n",
    "    計算面積\n",
    "    n:邊數\n",
    "    s:邊長\n",
    "    '''\n",
    "    return (n*math.pow(s,2))/(4*math.tan(math.pi/n))\n",
    "\n",
    "n = eval(input())\n",
    "s = eval(input())\n",
    "Area = eval_area(n,s)\n",
    "print('Area = %.4f' % Area)"
   ]
  }
 ],
 "metadata": {
  "kernelspec": {
   "display_name": "Python 3",
   "language": "python",
   "name": "python3"
  },
  "language_info": {
   "codemirror_mode": {
    "name": "ipython",
    "version": 3
   },
   "file_extension": ".py",
   "mimetype": "text/x-python",
   "name": "python",
   "nbconvert_exporter": "python",
   "pygments_lexer": "ipython3",
   "version": "3.7.6"
  }
 },
 "nbformat": 4,
 "nbformat_minor": 4
}
