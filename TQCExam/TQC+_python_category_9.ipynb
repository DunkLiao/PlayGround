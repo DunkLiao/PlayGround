{
 "cells": [
  {
   "cell_type": "markdown",
   "metadata": {},
   "source": [
    "### 專案名稱:  TQC+ 程式語言Python \n",
    "### 功能描述:  第8類：字串(String)的運作\n",
    "### 版權所有: Dunk  \n",
    "### 程式撰寫: Dunk  \n",
    "### 撰寫日期：2020/07/17\n",
    "### 改版日期:  \n",
    "### 改版備註: "
   ]
  },
  {
   "cell_type": "markdown",
   "metadata": {},
   "source": [
    "#### TQC+ 程式語言Python 901 成績資料\n",
    "1. 題目說明:\n",
    "請開啟PYD901.py檔案，依下列題意進行作答，使輸出值符合題意要求。作答完成請另存新檔為PYA901.py再進行評分。\n",
    "\n",
    "請注意：程式碼中所提供的檔案路徑，不可進行變動，write.txt檔案需為UTF-8編碼格式。\n",
    "\n",
    "2. 設計說明：\n",
    "請撰寫一程式，將使用者輸入的五筆資料寫入到write.txt（若不存在，則讓程式建立它），每一筆資料為一行，包含學生名字和期末總分，以空白隔開。檔案寫入完成後要關閉。\n",
    "\n",
    "3. 輸入輸出：\n",
    "輸入說明\n",
    "五筆資料（每一筆資料為一行，包含學生名字和分數，以空白隔開）\n",
    "\n",
    "輸出說明\n",
    "將輸入的五筆資料寫入檔案中，不另外輸出於頁面"
   ]
  },
  {
   "cell_type": "code",
   "execution_count": 1,
   "metadata": {},
   "outputs": [
    {
     "name": "stdout",
     "output_type": "stream",
     "text": [
      "a\n",
      "b\n",
      "c\n",
      "d\n",
      "e\n"
     ]
    }
   ],
   "source": [
    "# 成績資料\n",
    "with open(\"write.txt\",\"w\",encoding=\"utf-8\") as file:\n",
    "    for i in range(5):\n",
    "        file.write(input()+'\\n')"
   ]
  },
  {
   "cell_type": "markdown",
   "metadata": {},
   "source": [
    "#### TQC+ 程式語言Python 902 資料加總\n",
    "1. 題目說明:\n",
    "請開啟PYD902.py檔案，依下列題意進行作答，使輸出值符合題意要求。作答完成請另存新檔為PYA902.py再進行評分。\n",
    "\n",
    "請注意：資料夾或程式碼中所提供的檔案路徑，不可進行變動，read.txt檔案需為UTF-8編碼格式。\n",
    "\n",
    "2. 設計說明：\n",
    "請撰寫一程式，讀取read.txt的內容（內容為數字，以空白分隔）並將這些數字加總後輸出。檔案讀取完成後要關閉。\n",
    "\n",
    "3. 輸入輸出：\n",
    "輸入說明\n",
    "讀取read.txt的內容（內容為數字，以空白分隔）\n",
    "\n",
    "輸出說明\n",
    "總和\n",
    "\n"
   ]
  },
  {
   "cell_type": "code",
   "execution_count": 3,
   "metadata": {},
   "outputs": [
    {
     "name": "stdout",
     "output_type": "stream",
     "text": [
      "660\n"
     ]
    }
   ],
   "source": [
    "# 資料加總\n",
    "with open(\"read.txt\",\"r\") as f:\n",
    "    input_array = list(map(int,f.read().split(' ')))\n",
    "    print(sum(input_array))\n"
   ]
  },
  {
   "cell_type": "markdown",
   "metadata": {},
   "source": [
    "#### TQC+ 程式語言Python 903 成績資料\n",
    "1. 題目說明:\n",
    "請開啟PYD903.py檔案，依下列題意進行作答，使輸出值符合題意要求。作答完成請另存新檔為PYA903.py再進行評分。\n",
    "\n",
    "請注意：資料夾或程式碼中所提供的檔案路徑，不可進行變動，data.txt檔案需為UTF-8編碼格式。\n",
    "\n",
    "2. 設計說明：\n",
    "請撰寫一程式，要求使用者輸入五個人的名字並加入到data.txt的尾端。之後再顯示此檔案的內容。\n",
    "\n",
    "3. 輸入輸出：\n",
    "輸入說明\n",
    "輸入五個人的名字\n",
    "\n",
    "輸出說明\n",
    "讀取及寫入檔案後，輸出此檔案內容"
   ]
  },
  {
   "cell_type": "code",
   "execution_count": 4,
   "metadata": {},
   "outputs": [
    {
     "name": "stdout",
     "output_type": "stream",
     "text": [
      "a\n",
      "b\n",
      "d\n",
      "e\n",
      "f\n",
      "Append completed!\n",
      "Content of \"data.txt\":\n",
      "\n",
      "a\n",
      "b\n",
      "d\n",
      "e\n",
      "f"
     ]
    }
   ],
   "source": [
    "# 成績資料\n",
    "# 注意append\n",
    "with open(\"data.txt\",\"a\",encoding='utf-8') as file:\n",
    "    for i in range(5):\n",
    "        file.write(\"\\n\"+input())\n",
    "\n",
    "\n",
    "print(\"Append completed!\")\n",
    "print('Content of \"data.txt\":')\n",
    "with open(\"data.txt\",\"r\",encoding='utf-8') as file:\n",
    "    for item in file.readlines():\n",
    "        # 注意,end=\"\"\n",
    "        print(item,end=\"\")"
   ]
  },
  {
   "cell_type": "markdown",
   "metadata": {},
   "source": [
    "#### TQC+ 程式語言Python 904 資料計算\n",
    "1. 題目說明:\n",
    "請開啟PYD904.py檔案，依下列題意進行作答，使輸出值符合題意要求。作答完成請另存新檔為PYA904.py再進行評分。\n",
    "\n",
    "請注意：資料夾或程式碼中所提供的檔案路徑，不可進行變動，read.txt檔案需為UTF-8編碼格式。\n",
    "\n",
    "2. 設計說明：\n",
    "請撰寫一程式，讀取read.txt（每一列的格式為名字和身高、體重，以空白分隔）並顯示檔案內容、所有人的平均身高、平均體重以及最高者、最重者。\n",
    "\n",
    "提示：輸出浮點數到小數點後第二位。\n",
    "\n",
    "3. 輸入輸出：\n",
    "輸入說明\n",
    "讀取read.txt（每一行的格式為名字和身高、體重，以空白分隔）\n",
    "\n",
    "輸出說明\n",
    "輸出檔案中的內容\n",
    "平均身高\n",
    "平均體重\n",
    "最高者\n",
    "最重者"
   ]
  },
  {
   "cell_type": "code",
   "execution_count": 5,
   "metadata": {},
   "outputs": [
    {
     "name": "stdout",
     "output_type": "stream",
     "text": [
      "Ben 175 65\n",
      "\n",
      "Cathy 155 55\n",
      "\n",
      "Tony 172 75\n",
      "Average height: 167.33\n",
      "Average weight: 65.00\n",
      "The tallest is Ben with 175.00cm\n",
      "The heaviest is Tony with 75.00kg\n"
     ]
    }
   ],
   "source": [
    "# 資料計算\n",
    "data_name = []\n",
    "data_height = []\n",
    "data_weight = []\n",
    "\n",
    "\n",
    "with open(\"read.txt\",\"r\") as file:\n",
    "    for i in file:\n",
    "        print(i)\n",
    "        result_array = i.split(' ')\n",
    "        data_name.append(result_array[0])\n",
    "        data_height.append(float(result_array[1]))\n",
    "        data_weight.append(float(result_array[2]))\n",
    "\n",
    "\n",
    "tallest_index = data_height.index(max(data_height))\n",
    "heaviest_index = data_weight.index(max(data_weight))\n",
    "\n",
    "print('Average height: {:.2f}'.format(sum(data_height)/len(data_height)))\n",
    "print('Average weight: {:.2f}'.format(sum(data_weight)/len(data_weight)))\n",
    "\n",
    "print('The tallest is {} with {:.2f}cm'.format(data_name[tallest_index],max(data_height)))\n",
    "print('The heaviest is {} with {:.2f}kg'.format(data_name[heaviest_index],max(data_weight)))"
   ]
  },
  {
   "cell_type": "markdown",
   "metadata": {},
   "source": [
    "#### TQC+ 程式語言Python 905 字串資料刪除\n",
    "1. 題目說明:\n",
    "請開啟PYD905.py檔案，依下列題意進行作答，使輸出值符合題意要求。作答完成請另存新檔為PYA905.py再進行評分。\n",
    "\n",
    "請注意：資料夾或程式碼中所提供的檔案路徑，不可進行變動，data.txt檔案需為UTF-8編碼格式。\n",
    "\n",
    "2. 設計說明：\n",
    "請撰寫一程式，要求使用者輸入檔案名稱data.txt和一字串s，顯示該檔案的內容。接著刪除檔案中的字串s，顯示刪除後的檔案內容並存檔。\n",
    "\n",
    "3. 輸入輸出：\n",
    "輸入說明\n",
    "輸入data.txt及一個字串\n",
    "\n",
    "輸出說明\n",
    "先輸出原檔案內容，再輸入刪除指定字串後的新檔案內容"
   ]
  },
  {
   "cell_type": "code",
   "execution_count": 6,
   "metadata": {},
   "outputs": [
    {
     "name": "stdout",
     "output_type": "stream",
     "text": [
      "data.txt\n",
      "a\n",
      "=== Before the deletion\n",
      "\n",
      "a\n",
      "b\n",
      "d\n",
      "e\n",
      "f\n",
      "=== After the deletion\n",
      "\n",
      "\n",
      "b\n",
      "d\n",
      "e\n",
      "f\n"
     ]
    }
   ],
   "source": [
    "# 字串資料刪除\n",
    "f_name = input()\n",
    "string_replace = input()\n",
    "\n",
    "file_content = ''\n",
    "print(\"=== Before the deletion\")\n",
    "\n",
    "with open(f_name,'r',encoding='utf-8') as file:\n",
    "    file_content = file.read()\n",
    "    print(file_content)\n",
    "\n",
    "with open(f_name,'w',encoding='utf-8') as file:\n",
    "    file.write(file_content.replace(string_replace,\"\"))        \n",
    "\n",
    "print(\"=== After the deletion\")\n",
    "with open(f_name,'r',encoding='utf-8') as file:\n",
    "    file_content = file.read()\n",
    "    print(file_content)"
   ]
  },
  {
   "cell_type": "markdown",
   "metadata": {},
   "source": [
    "#### TQC+ 程式語言Python 906 字串資料取代\n",
    "1. 題目說明:\n",
    "請開啟PYD906.py檔案，依下列題意進行作答，使輸出值符合題意要求。作答完成請另存新檔為PYA906.py再進行評分。\n",
    "\n",
    "請注意：資料夾或程式碼中所提供的檔案路徑，不可進行變動，data.txt檔案需為UTF-8編碼格式。\n",
    "\n",
    "2. 設計說明：\n",
    "請撰寫一程式，要求使用者輸入檔名data.txt、字串s1和字串s2。程式將檔案中的字串s1以s2取代之。\n",
    "\n",
    "3. 輸入輸出：\n",
    "輸入說明\n",
    "輸入data.txt及兩個字串（分別為s1、s2，字串s1被s2取代）\n",
    "\n",
    "輸出說明\n",
    "輸出檔案中的內容\n",
    "輸出取代指定字串後的檔案內容"
   ]
  },
  {
   "cell_type": "code",
   "execution_count": 7,
   "metadata": {},
   "outputs": [
    {
     "name": "stdout",
     "output_type": "stream",
     "text": [
      "data.txt\n",
      "a\n",
      "b\n",
      "=== Before the replacement\n",
      "\n",
      "\n",
      "b\n",
      "d\n",
      "e\n",
      "f\n",
      "=== After the replacement\n",
      "\n",
      "\n",
      "b\n",
      "d\n",
      "e\n",
      "f\n"
     ]
    }
   ],
   "source": [
    "# 字串資料取代\n",
    "f_name = input()\n",
    "str_old = input()\n",
    "str_new = input()\n",
    "file_content = ''\n",
    "\n",
    "print(\"=== Before the replacement\")\n",
    "with open(f_name,'r',encoding='utf-8') as file:\n",
    "    file_content = file.read()\n",
    "    print(file_content)\n",
    "\n",
    "with open(f_name,'w',encoding='utf-8') as file:\n",
    "    file.write(file_content.replace(str_old,str_new))\n",
    "\n",
    "print(\"=== After the replacement\")\n",
    "with open(f_name,'r',encoding='utf-8') as file:\n",
    "    file_content = file.read()\n",
    "    print(file_content)"
   ]
  }
 ],
 "metadata": {
  "kernelspec": {
   "display_name": "Python 3",
   "language": "python",
   "name": "python3"
  },
  "language_info": {
   "codemirror_mode": {
    "name": "ipython",
    "version": 3
   },
   "file_extension": ".py",
   "mimetype": "text/x-python",
   "name": "python",
   "nbconvert_exporter": "python",
   "pygments_lexer": "ipython3",
   "version": "3.7.6"
  }
 },
 "nbformat": 4,
 "nbformat_minor": 4
}
