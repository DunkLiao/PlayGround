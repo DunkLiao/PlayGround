{
 "cells": [
  {
   "cell_type": "markdown",
   "metadata": {},
   "source": [
    "### 專案名稱:  TQC+ 程式語言Python \n",
    "### 功能描述:  第8類：字串(String)的運作\n",
    "### 版權所有: Dunk  \n",
    "### 程式撰寫: Dunk  \n",
    "### 撰寫日期：2020/07/17\n",
    "### 改版日期:  \n",
    "### 改版備註:  2020/07/19 增加最後幾題"
   ]
  },
  {
   "cell_type": "markdown",
   "metadata": {},
   "source": [
    "#### TQC+ 程式語言Python 901 成績資料\n",
    "1. 題目說明:\n",
    "請開啟PYD901.py檔案，依下列題意進行作答，使輸出值符合題意要求。作答完成請另存新檔為PYA901.py再進行評分。\n",
    "\n",
    "請注意：程式碼中所提供的檔案路徑，不可進行變動，write.txt檔案需為UTF-8編碼格式。\n",
    "\n",
    "2. 設計說明：\n",
    "請撰寫一程式，將使用者輸入的五筆資料寫入到write.txt（若不存在，則讓程式建立它），每一筆資料為一行，包含學生名字和期末總分，以空白隔開。檔案寫入完成後要關閉。\n",
    "\n",
    "3. 輸入輸出：\n",
    "輸入說明\n",
    "五筆資料（每一筆資料為一行，包含學生名字和分數，以空白隔開）\n",
    "\n",
    "輸出說明\n",
    "將輸入的五筆資料寫入檔案中，不另外輸出於頁面"
   ]
  },
  {
   "cell_type": "code",
   "execution_count": 1,
   "metadata": {},
   "outputs": [
    {
     "name": "stdout",
     "output_type": "stream",
     "text": [
      "a\n",
      "b\n",
      "c\n",
      "d\n",
      "e\n"
     ]
    }
   ],
   "source": [
    "# 成績資料\n",
    "with open(\"write.txt\",\"w\",encoding=\"utf-8\") as file:\n",
    "    for i in range(5):\n",
    "        file.write(input()+'\\n')"
   ]
  },
  {
   "cell_type": "markdown",
   "metadata": {},
   "source": [
    "#### TQC+ 程式語言Python 902 資料加總\n",
    "1. 題目說明:\n",
    "請開啟PYD902.py檔案，依下列題意進行作答，使輸出值符合題意要求。作答完成請另存新檔為PYA902.py再進行評分。\n",
    "\n",
    "請注意：資料夾或程式碼中所提供的檔案路徑，不可進行變動，read.txt檔案需為UTF-8編碼格式。\n",
    "\n",
    "2. 設計說明：\n",
    "請撰寫一程式，讀取read.txt的內容（內容為數字，以空白分隔）並將這些數字加總後輸出。檔案讀取完成後要關閉。\n",
    "\n",
    "3. 輸入輸出：\n",
    "輸入說明\n",
    "讀取read.txt的內容（內容為數字，以空白分隔）\n",
    "\n",
    "輸出說明\n",
    "總和\n",
    "\n"
   ]
  },
  {
   "cell_type": "code",
   "execution_count": 3,
   "metadata": {},
   "outputs": [
    {
     "name": "stdout",
     "output_type": "stream",
     "text": [
      "660\n"
     ]
    }
   ],
   "source": [
    "# 資料加總\n",
    "with open(\"read.txt\",\"r\") as f:\n",
    "    input_array = list(map(int,f.read().split(' ')))\n",
    "    print(sum(input_array))\n"
   ]
  },
  {
   "cell_type": "markdown",
   "metadata": {},
   "source": [
    "#### TQC+ 程式語言Python 903 成績資料\n",
    "1. 題目說明:\n",
    "請開啟PYD903.py檔案，依下列題意進行作答，使輸出值符合題意要求。作答完成請另存新檔為PYA903.py再進行評分。\n",
    "\n",
    "請注意：資料夾或程式碼中所提供的檔案路徑，不可進行變動，data.txt檔案需為UTF-8編碼格式。\n",
    "\n",
    "2. 設計說明：\n",
    "請撰寫一程式，要求使用者輸入五個人的名字並加入到data.txt的尾端。之後再顯示此檔案的內容。\n",
    "\n",
    "3. 輸入輸出：\n",
    "輸入說明\n",
    "輸入五個人的名字\n",
    "\n",
    "輸出說明\n",
    "讀取及寫入檔案後，輸出此檔案內容"
   ]
  },
  {
   "cell_type": "code",
   "execution_count": 4,
   "metadata": {},
   "outputs": [
    {
     "name": "stdout",
     "output_type": "stream",
     "text": [
      "a\n",
      "b\n",
      "d\n",
      "e\n",
      "f\n",
      "Append completed!\n",
      "Content of \"data.txt\":\n",
      "\n",
      "a\n",
      "b\n",
      "d\n",
      "e\n",
      "f"
     ]
    }
   ],
   "source": [
    "# 成績資料\n",
    "# 注意append\n",
    "with open(\"data.txt\",\"a\",encoding='utf-8') as file:\n",
    "    for i in range(5):\n",
    "        file.write(\"\\n\"+input())\n",
    "\n",
    "\n",
    "print(\"Append completed!\")\n",
    "print('Content of \"data.txt\":')\n",
    "with open(\"data.txt\",\"r\",encoding='utf-8') as file:\n",
    "    for item in file.readlines():\n",
    "        # 注意,end=\"\"\n",
    "        print(item,end=\"\")"
   ]
  },
  {
   "cell_type": "markdown",
   "metadata": {},
   "source": [
    "#### TQC+ 程式語言Python 904 資料計算\n",
    "1. 題目說明:\n",
    "請開啟PYD904.py檔案，依下列題意進行作答，使輸出值符合題意要求。作答完成請另存新檔為PYA904.py再進行評分。\n",
    "\n",
    "請注意：資料夾或程式碼中所提供的檔案路徑，不可進行變動，read.txt檔案需為UTF-8編碼格式。\n",
    "\n",
    "2. 設計說明：\n",
    "請撰寫一程式，讀取read.txt（每一列的格式為名字和身高、體重，以空白分隔）並顯示檔案內容、所有人的平均身高、平均體重以及最高者、最重者。\n",
    "\n",
    "提示：輸出浮點數到小數點後第二位。\n",
    "\n",
    "3. 輸入輸出：\n",
    "輸入說明\n",
    "讀取read.txt（每一行的格式為名字和身高、體重，以空白分隔）\n",
    "\n",
    "輸出說明\n",
    "輸出檔案中的內容\n",
    "平均身高\n",
    "平均體重\n",
    "最高者\n",
    "最重者"
   ]
  },
  {
   "cell_type": "code",
   "execution_count": 5,
   "metadata": {},
   "outputs": [
    {
     "name": "stdout",
     "output_type": "stream",
     "text": [
      "Ben 175 65\n",
      "\n",
      "Cathy 155 55\n",
      "\n",
      "Tony 172 75\n",
      "Average height: 167.33\n",
      "Average weight: 65.00\n",
      "The tallest is Ben with 175.00cm\n",
      "The heaviest is Tony with 75.00kg\n"
     ]
    }
   ],
   "source": [
    "# 資料計算\n",
    "data_name = []\n",
    "data_height = []\n",
    "data_weight = []\n",
    "\n",
    "\n",
    "with open(\"read.txt\",\"r\") as file:\n",
    "    for i in file:\n",
    "        print(i)\n",
    "        result_array = i.split(' ')\n",
    "        data_name.append(result_array[0])\n",
    "        data_height.append(float(result_array[1]))\n",
    "        data_weight.append(float(result_array[2]))\n",
    "\n",
    "\n",
    "tallest_index = data_height.index(max(data_height))\n",
    "heaviest_index = data_weight.index(max(data_weight))\n",
    "\n",
    "print('Average height: {:.2f}'.format(sum(data_height)/len(data_height)))\n",
    "print('Average weight: {:.2f}'.format(sum(data_weight)/len(data_weight)))\n",
    "\n",
    "print('The tallest is {} with {:.2f}cm'.format(data_name[tallest_index],max(data_height)))\n",
    "print('The heaviest is {} with {:.2f}kg'.format(data_name[heaviest_index],max(data_weight)))"
   ]
  },
  {
   "cell_type": "markdown",
   "metadata": {},
   "source": [
    "#### TQC+ 程式語言Python 905 字串資料刪除\n",
    "1. 題目說明:\n",
    "請開啟PYD905.py檔案，依下列題意進行作答，使輸出值符合題意要求。作答完成請另存新檔為PYA905.py再進行評分。\n",
    "\n",
    "請注意：資料夾或程式碼中所提供的檔案路徑，不可進行變動，data.txt檔案需為UTF-8編碼格式。\n",
    "\n",
    "2. 設計說明：\n",
    "請撰寫一程式，要求使用者輸入檔案名稱data.txt和一字串s，顯示該檔案的內容。接著刪除檔案中的字串s，顯示刪除後的檔案內容並存檔。\n",
    "\n",
    "3. 輸入輸出：\n",
    "輸入說明\n",
    "輸入data.txt及一個字串\n",
    "\n",
    "輸出說明\n",
    "先輸出原檔案內容，再輸入刪除指定字串後的新檔案內容"
   ]
  },
  {
   "cell_type": "code",
   "execution_count": 6,
   "metadata": {},
   "outputs": [
    {
     "name": "stdout",
     "output_type": "stream",
     "text": [
      "data.txt\n",
      "a\n",
      "=== Before the deletion\n",
      "\n",
      "a\n",
      "b\n",
      "d\n",
      "e\n",
      "f\n",
      "=== After the deletion\n",
      "\n",
      "\n",
      "b\n",
      "d\n",
      "e\n",
      "f\n"
     ]
    }
   ],
   "source": [
    "# 字串資料刪除\n",
    "f_name = input()\n",
    "string_replace = input()\n",
    "\n",
    "file_content = ''\n",
    "print(\"=== Before the deletion\")\n",
    "\n",
    "with open(f_name,'r',encoding='utf-8') as file:\n",
    "    file_content = file.read()\n",
    "    print(file_content)\n",
    "\n",
    "with open(f_name,'w',encoding='utf-8') as file:\n",
    "    file.write(file_content.replace(string_replace,\"\"))        \n",
    "\n",
    "print(\"=== After the deletion\")\n",
    "with open(f_name,'r',encoding='utf-8') as file:\n",
    "    file_content = file.read()\n",
    "    print(file_content)"
   ]
  },
  {
   "cell_type": "markdown",
   "metadata": {},
   "source": [
    "#### TQC+ 程式語言Python 906 字串資料取代\n",
    "1. 題目說明:\n",
    "請開啟PYD906.py檔案，依下列題意進行作答，使輸出值符合題意要求。作答完成請另存新檔為PYA906.py再進行評分。\n",
    "\n",
    "請注意：資料夾或程式碼中所提供的檔案路徑，不可進行變動，data.txt檔案需為UTF-8編碼格式。\n",
    "\n",
    "2. 設計說明：\n",
    "請撰寫一程式，要求使用者輸入檔名data.txt、字串s1和字串s2。程式將檔案中的字串s1以s2取代之。\n",
    "\n",
    "3. 輸入輸出：\n",
    "輸入說明\n",
    "輸入data.txt及兩個字串（分別為s1、s2，字串s1被s2取代）\n",
    "\n",
    "輸出說明\n",
    "輸出檔案中的內容\n",
    "輸出取代指定字串後的檔案內容"
   ]
  },
  {
   "cell_type": "code",
   "execution_count": 7,
   "metadata": {},
   "outputs": [
    {
     "name": "stdout",
     "output_type": "stream",
     "text": [
      "data.txt\n",
      "a\n",
      "b\n",
      "=== Before the replacement\n",
      "\n",
      "\n",
      "b\n",
      "d\n",
      "e\n",
      "f\n",
      "=== After the replacement\n",
      "\n",
      "\n",
      "b\n",
      "d\n",
      "e\n",
      "f\n"
     ]
    }
   ],
   "source": [
    "# 字串資料取代\n",
    "f_name = input()\n",
    "str_old = input()\n",
    "str_new = input()\n",
    "file_content = ''\n",
    "\n",
    "print(\"=== Before the replacement\")\n",
    "with open(f_name,'r',encoding='utf-8') as file:\n",
    "    file_content = file.read()\n",
    "    print(file_content)\n",
    "\n",
    "with open(f_name,'w',encoding='utf-8') as file:\n",
    "    file.write(file_content.replace(str_old,str_new))\n",
    "\n",
    "print(\"=== After the replacement\")\n",
    "with open(f_name,'r',encoding='utf-8') as file:\n",
    "    file_content = file.read()\n",
    "    print(file_content)"
   ]
  },
  {
   "cell_type": "markdown",
   "metadata": {},
   "source": [
    "#### TQC+ 程式語言Python 907 詳細資料顯示\n",
    "1. 題目說明:\n",
    "請開啟PYD907.py檔案，依下列題意進行作答，使輸出值符合題意要求。作答完成請另存新檔為PYA907.py再進行評分。\n",
    "\n",
    "請注意：資料夾或程式碼中所提供的檔案路徑，不可進行變動，read.txt檔案需為UTF-8編碼格式。\n",
    "\n",
    "2. 設計說明：\n",
    "請撰寫一程式，要求使用者輸入檔名read.txt，顯示該檔案的行數、單字數（簡單起見，單字以空白隔開即可，忽略其它標點符號）以及字元數（不含空白）。\n",
    "\n",
    "3. 輸入輸出：\n",
    "輸入說明\n",
    "讀取read.txt\n",
    "\n",
    "輸出說明\n",
    "行數\n",
    "單字數\n",
    "字元數（不含空白）"
   ]
  },
  {
   "cell_type": "code",
   "execution_count": 2,
   "metadata": {},
   "outputs": [
    {
     "name": "stdout",
     "output_type": "stream",
     "text": [
      "read.txt\n",
      "6 line(s)\n",
      "102 word(s)\n",
      "614 character(s)\n"
     ]
    }
   ],
   "source": [
    "# 詳細資料顯示\n",
    "file_name = input()\n",
    "line_num = 0\n",
    "word_num = 0\n",
    "char_num = 0\n",
    "with open(file_name,'r',encoding='utf-8') as file:\n",
    "    for line in file.readlines():\n",
    "        line_num += 1\n",
    "        #注意 把每行字串，分割成單字，不要有空白\n",
    "        char_array = line.split()\n",
    "        word_num += len(char_array)\n",
    "        for char_content in char_array:\n",
    "            char_num += len(char_content)\n",
    "\n",
    "print('{:d} line(s)'.format(line_num))\n",
    "print('{:d} word(s)'.format(word_num))\n",
    "print('{:d} character(s)'.format(char_num))"
   ]
  },
  {
   "cell_type": "markdown",
   "metadata": {},
   "source": [
    "#### TQC+ 程式語言Python 908 單字次數計算\n",
    "1. 題目說明:\n",
    "請開啟PYD908.py檔案，依下列題意進行作答，使輸出值符合題意要求。作答完成請另存新檔為PYA908.py再進行評分。\n",
    "\n",
    "請注意：資料夾或程式碼中所提供的檔案路徑，不可進行變動，read.txt檔案需為UTF-8編碼格式。\n",
    "\n",
    "2. 設計說明：\n",
    "請撰寫一程式，要求使用者輸入檔名read.txt，以及檔案中某單字出現的次數。輸出符合次數的單字，並依單字的第一個字母大小排序。（單字的判斷以空白隔開即可）\n",
    "\n",
    "3. 輸入輸出：\n",
    "輸入說明\n",
    "讀取read.txt的內容，以及檔案中某單字出現的次數\n",
    "\n",
    "輸出說明\n",
    "輸出符合次數的單字，並依單字的第一個字母大小排序"
   ]
  },
  {
   "cell_type": "code",
   "execution_count": 3,
   "metadata": {},
   "outputs": [
    {
     "name": "stdout",
     "output_type": "stream",
     "text": [
      "read.txt\n",
      "3\n",
      "Python\n",
      "a\n",
      "is\n",
      "programming\n"
     ]
    }
   ],
   "source": [
    "# TQC+ 程式語言Python 908 單字次數計算\n",
    "\n",
    "fname = input()\n",
    "times = int(input())\n",
    "dct = {}\n",
    "lst = []\n",
    "\n",
    "with open(fname,'r',encoding='UTF-8') as fp:\n",
    "    data = fp.read()\n",
    "    # 注意用法\n",
    "    dlst = data.replace(\"\\n\",\" \").split(\" \")\n",
    "    for i in dlst:\n",
    "        # 注意使用update更新值\n",
    "        dct.update({i:dlst.count(i)})\n",
    "    \n",
    "for j in dct.keys():\n",
    "    if dct.get(j) == times:\n",
    "        lst.append(j)\n",
    "        \n",
    "for k in sorted(lst):\n",
    "    print(k)"
   ]
  },
  {
   "cell_type": "markdown",
   "metadata": {},
   "source": [
    "#### TQC+ 程式語言Python 909 聯絡人資料\n",
    "1. 題目說明:\n",
    "請開啟PYD909.py檔案，依下列題意進行作答，使輸出值符合題意要求。作答完成請另存新檔為PYA909.py再進行評分。\n",
    "\n",
    "請注意：資料夾或程式碼中所提供的檔案路徑，不可進行變動，data.dat檔案需為UTF-8編碼格式。\n",
    "\n",
    "2. 設計說明：\n",
    "請撰寫一程式，將使用者輸入的五個人的資料寫入data.dat檔，每一個人的資料為姓名和電話號碼，以空白分隔。再將檔案加以讀取並顯示檔案內容。\n",
    "\n",
    "3. 輸入輸出：\n",
    "輸入說明\n",
    "五個人的姓名和電話號碼，以空白分隔\n",
    "\n",
    "輸出說明\n",
    "讀取及寫入檔案後，再輸出讀入的檔案名稱及內容"
   ]
  },
  {
   "cell_type": "code",
   "execution_count": 5,
   "metadata": {},
   "outputs": [
    {
     "name": "stdout",
     "output_type": "stream",
     "text": [
      "a 1\n",
      "b 2\n",
      "c 3\n",
      "d 4\n",
      "e 5\n",
      "The content of \"data.dat\":\n",
      "a 1\n",
      "\n",
      "b 2\n",
      "\n",
      "c 3\n",
      "\n",
      "d 4\n",
      "\n",
      "e 5\n",
      "\n"
     ]
    }
   ],
   "source": [
    "# 聯絡人資料\n",
    "f_name = \"data.dat\"\n",
    "with open(f_name,'w',encoding='utf-8') as file:\n",
    "    for i in range(5):\n",
    "        file.write(str(input())+'\\n')\n",
    "\n",
    "print('The content of \"data.dat\":')    \n",
    "\n",
    "with open(f_name,'r',encoding='utf-8') as file:\n",
    "    for line in file:\n",
    "        print(line)"
   ]
  },
  {
   "cell_type": "markdown",
   "metadata": {},
   "source": [
    "#### TQC+ 程式語言Python 910 學生基本資料\n",
    "1. 題目說明:\n",
    "請開啟PYD910.py檔案，依下列題意進行作答，使輸出值符合題意要求。作答完成請另存新檔為PYA910.py再進行評分。\n",
    "\n",
    "請注意：資料夾或程式碼中所提供的檔案路徑，不可進行變動，read.dat檔案為UTF-8編碼格式。\n",
    "\n",
    "2. 設計說明：\n",
    "請撰寫一程式，要求使用者讀入read.dat（以UTF-8編碼格式讀取），第一列為欄位名稱，第二列之後是個人記錄。請輸出檔案內容並顯示男生人數和女生人數（根據\"性別\"欄位，0為女性、1為男性）。\n",
    "\n",
    "3. 輸入輸出：\n",
    "輸入說明\n",
    "讀取read.dat\n",
    "\n",
    "輸出說明\n",
    "讀取檔案內容，並格式化輸出男生人數和女生人數"
   ]
  },
  {
   "cell_type": "code",
   "execution_count": 6,
   "metadata": {},
   "outputs": [
    {
     "name": "stdout",
     "output_type": "stream",
     "text": [
      "學號 姓名 性別 科系\n",
      "\n",
      "101 陳小華 0 餐旅管理\n",
      "\n",
      "202 李小安 1 廣告\n",
      "\n",
      "303 張小威 1 英文\n",
      "\n",
      "404 羅小美 0 法文\n",
      "\n",
      "505 陳小凱 1 日文\n",
      "Number of males: 3\n",
      "Number of females: 2\n"
     ]
    }
   ],
   "source": [
    "# 學生基本資料\n",
    "f_name = \"read.dat\"\n",
    "# TODO\n",
    "male_count = 0\n",
    "female_count = 0\n",
    "with open(f_name,'r',encoding='utf-8') as file:\n",
    "    for line in file:\n",
    "        print(line)\n",
    "        char_arr = line.split(' ')\n",
    "        if char_arr[2] == \"1\":\n",
    "            male_count +=1\n",
    "        if char_arr[2] == \"0\":\n",
    "            female_count +=1\n",
    "print('Number of males: {:d}'.format(male_count))\n",
    "print('Number of females: {:d}'.format(female_count))"
   ]
  }
 ],
 "metadata": {
  "kernelspec": {
   "display_name": "Python 3",
   "language": "python",
   "name": "python3"
  },
  "language_info": {
   "codemirror_mode": {
    "name": "ipython",
    "version": 3
   },
   "file_extension": ".py",
   "mimetype": "text/x-python",
   "name": "python",
   "nbconvert_exporter": "python",
   "pygments_lexer": "ipython3",
   "version": "3.7.6"
  }
 },
 "nbformat": 4,
 "nbformat_minor": 4
}
