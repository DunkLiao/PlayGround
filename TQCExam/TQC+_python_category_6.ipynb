{
 "cells": [
  {
   "cell_type": "markdown",
   "metadata": {},
   "source": [
    "### 專案名稱:  TQC+ 程式語言Python \n",
    "### 功能描述:  第6類：串列(List)的運作(一維、二維以及多維)\n",
    "### 版權所有: Dunk  \n",
    "### 程式撰寫: Dunk  \n",
    "### 撰寫日期：2020/07/16\n",
    "### 改版日期:  \n",
    "### 改版備註: "
   ]
  },
  {
   "cell_type": "markdown",
   "metadata": {},
   "source": [
    "#### TQC+ 程式語言Python 601 偶數索引值加總\n",
    "1. 題目說明:\n",
    "請開啟PYD601.py檔案，依下列題意進行作答，處理偶數索引的值，使輸出值符合題意要求。作答完成請另存新檔為PYA601.py再進行評分。\n",
    "\n",
    "2. 設計說明：\n",
    "請撰寫一程式，利用一維串列存放使用者輸入的12個正整數（範圍1~99）。顯示這些數字，接著將串列索引為偶數的數字相加並輸出結果。\n",
    "\n",
    "提示：輸出每一個數字欄寬設定為3，每3個一列，靠右對齊。\n",
    "\n",
    "3. 輸入輸出：\n",
    "輸入說明\n",
    "12個正整數（範圍1~99）\n",
    "\n",
    "輸出說明\n",
    "格式化輸出12個正整數\n",
    "12個數字中，索引為偶數的數字相加總合"
   ]
  },
  {
   "cell_type": "code",
   "execution_count": 1,
   "metadata": {},
   "outputs": [
    {
     "name": "stdout",
     "output_type": "stream",
     "text": [
      "1\n",
      "2\n",
      "3\n",
      "4\n",
      "5\n",
      "6\n",
      "7\n",
      "8\n",
      "9\n",
      "10\n",
      "11\n",
      "12\n",
      "  1  2  3\n",
      "  4  5  6\n",
      "  7  8  9\n",
      " 10 11 12\n",
      "36\n"
     ]
    }
   ],
   "source": [
    "# 偶數索引值加總\n",
    "result_list = list()\n",
    "total_sum = 0\n",
    "counter = 0\n",
    "\n",
    "for i in range(12):\n",
    "    num = int(input())\n",
    "    result_list.append(num)\n",
    "    if i %2 ==0:\n",
    "       total_sum +=  num\n",
    "\n",
    "for i in range(12):\n",
    "    print('{:>3d}'.format(result_list[i]),end='')\n",
    "    counter += 1\n",
    "    if counter % 3 == 0:\n",
    "        print()                \n",
    "\n",
    "# 最後一個沒有要格式化\n",
    "print(total_sum)"
   ]
  },
  {
   "cell_type": "markdown",
   "metadata": {},
   "source": [
    "#### TQC+ 程式語言Python 602 撲克牌總和\n",
    "1. 題目說明:\n",
    "請開啟PYD602.py檔案，依下列題意進行作答，輸出並計算五張牌總和，使輸出值符合題意要求。作答完成請另存新檔為PYA602.py再進行評分。\n",
    "\n",
    "2. 設計說明：\n",
    "請撰寫一程式，讓使用者輸入52張牌中的5張，計算並輸出其總和。\n",
    "\n",
    "提示：J、Q、K以及A分別代表11、12、13以及1。\n",
    "\n",
    "3. 輸入輸出：\n",
    "輸入說明\n",
    "5張牌數\n",
    "\n",
    "輸出說明\n",
    "5張牌的數值總和"
   ]
  },
  {
   "cell_type": "code",
   "execution_count": 2,
   "metadata": {},
   "outputs": [
    {
     "name": "stdout",
     "output_type": "stream",
     "text": [
      "1\n",
      "A\n",
      "J\n",
      "4\n",
      "5\n",
      "22\n"
     ]
    }
   ],
   "source": [
    "#  撲克牌總和\n",
    "def compute(card):    \n",
    "    if  card == 'A' :\n",
    "        return 1\n",
    "    if  card == 'J' :\n",
    "        return 11\n",
    "    if  card == 'Q' :\n",
    "        return 12\n",
    "    if  card == 'K' :\n",
    "        return 13\n",
    "    else:\n",
    "        return int(card)\n",
    "    \n",
    "total_sum = 0    \n",
    "for i in range(5):\n",
    "    num = str(input())\n",
    "    total_sum += compute(num)\n",
    "print(total_sum)    "
   ]
  },
  {
   "cell_type": "markdown",
   "metadata": {},
   "source": [
    "#### TQC+ 程式語言Python 603 數字排序\n",
    "1. 題目說明:\n",
    "請開啟PYD603.py檔案，依下列題意進行作答，顯示最大的三個數字，使輸出值符合題意要求。作答完成請另存新檔為PYA603.py再進行評分。\n",
    "\n",
    "2. 設計說明：\n",
    "請撰寫一程式，要求使用者輸入十個數字並存放在串列中。接著由大到小的順序顯示最大的3個數字。\n",
    "\n",
    "3. 輸入輸出：\n",
    "輸入說明\n",
    "十個數字\n",
    "\n",
    "輸出說明\n",
    "由大到小排序，顯示最大的3個數字"
   ]
  },
  {
   "cell_type": "code",
   "execution_count": 3,
   "metadata": {},
   "outputs": [
    {
     "name": "stdout",
     "output_type": "stream",
     "text": [
      "1\n",
      "2\n",
      "3\n",
      "4\n",
      "5\n",
      "6\n",
      "7\n",
      "8\n",
      "9\n",
      "10\n",
      "10 9 8\n"
     ]
    }
   ],
   "source": [
    "# 數字排序\n",
    "result_array = list()\n",
    "for i in range(10):\n",
    "    num = int(input())\n",
    "    result_array.append(num)\n",
    "\n",
    "result_array = sorted(result_array)\n",
    "print('{} {} {}'.format(result_array[-1],result_array[-2],result_array[-3]))"
   ]
  },
  {
   "cell_type": "markdown",
   "metadata": {},
   "source": [
    "#### TQC+ 程式語言Python 604 眾數\n",
    "1. 題目說明:\n",
    "請開啟PYD604.py檔案，依下列題意進行作答，計算眾數及其出現的次數，使輸出值符合題意要求。作答完成請另存新檔為PYA604.py再進行評分。\n",
    "\n",
    "2. 設計說明：\n",
    "請撰寫一程式，讓使用者輸入十個整數作為樣本數，輸出眾數（樣本中出現最多次的數字）及其出現的次數。\n",
    "\n",
    "提示：假設樣本中只有一個眾數。\n",
    "\n",
    "3. 輸入輸出：\n",
    "輸入說明\n",
    "十個整數\n",
    "\n",
    "輸出說明\n",
    "眾數\n",
    "眾數出現的次數"
   ]
  },
  {
   "cell_type": "code",
   "execution_count": 4,
   "metadata": {},
   "outputs": [
    {
     "name": "stdout",
     "output_type": "stream",
     "text": [
      "1\n",
      "2\n",
      "3\n",
      "4\n",
      "5\n",
      "3\n",
      "4\n",
      "6\n",
      "7\n",
      "7\n",
      "3\n",
      "2\n"
     ]
    }
   ],
   "source": [
    "# TQC+ 程式語言Python 604 眾數\n",
    "numlst = []\n",
    "cntlst = []\n",
    "for i in range(10):\n",
    "    user_input = int(input())\n",
    "    numlst.append(user_input)\n",
    "for i in range(10):\n",
    "    cntlst.append(numlst.count(numlst[i]))\n",
    "\n",
    "print(numlst[cntlst.index(max(cntlst))])\n",
    "print(max(cntlst))"
   ]
  },
  {
   "cell_type": "markdown",
   "metadata": {},
   "source": [
    "#### TQC+ 程式語言Python 605 成績計算\n",
    "1. 題目說明:\n",
    "請開啟PYD605.py檔案，依下列題意進行作答，去除最高最低分後加總其餘成績，使輸出值符合題意要求。作答完成請另存新檔為PYA605.py再進行評分。\n",
    "\n",
    "2. 設計說明：\n",
    "請撰寫一程式，讓使用者輸入十個成績，接下來將十個成績中最小和最大值（最小、最大值不重複）以外的成績作加總及平均，並輸出結果。\n",
    "\n",
    "提示：平均值輸出到小數點後第二位。\n",
    "\n",
    "3. 輸入輸出：\n",
    "輸入說明\n",
    "十個數字\n",
    "\n",
    "輸出說明\n",
    "總和\n",
    "平均"
   ]
  },
  {
   "cell_type": "code",
   "execution_count": 5,
   "metadata": {},
   "outputs": [
    {
     "name": "stdout",
     "output_type": "stream",
     "text": [
      "1\n",
      "2\n",
      "3\n",
      "4\n",
      "5\n",
      "6\n",
      "7\n",
      "8\n",
      "9\n",
      "10\n",
      "44\n",
      "5.50\n"
     ]
    }
   ],
   "source": [
    "# 成績計算\n",
    "result_array =  list()\n",
    "for i in range(10):\n",
    "    num = int(input())\n",
    "    result_array.append(num)\n",
    "\n",
    "total_sum = sum(result_array) - max(result_array) - min(result_array)\n",
    "average = float(total_sum) / float((len(result_array)-2))\n",
    "print('{0}\\n{1:.2f}'.format(total_sum,average))"
   ]
  },
  {
   "cell_type": "markdown",
   "metadata": {},
   "source": [
    "#### TQC+ 程式語言Python 606 二維串列行列數\n",
    "1. 題目說明:\n",
    "請開啟PYD606.py檔案，依下列題意進行作答，印出串列的值，使輸出值符合題意要求。作答完成請另存新檔為PYA606.py再進行評分。\n",
    "\n",
    "2. 設計說明：\n",
    "請撰寫一程式，讓使用者輸入兩個正整數rows、cols，分別表示二維串列lst 的「第一個維度大小」與「第二個維度大小」。\n",
    "串列元素[row][col]所儲存的數字，其規則為：row、col 的交點值 = 第二個維度的索引col – 第一個維度的索引row。\n",
    "接著以該串列作為參數呼叫函式compute()輸出串列。\n",
    "\n",
    "提示：欄寬為4。\n",
    "\n",
    "3. 輸入輸出：\n",
    "輸入說明\n",
    "兩個正整數（rows、cols）\n",
    "\n",
    "輸出說明\n",
    "格式化輸出row、col的交點值"
   ]
  },
  {
   "cell_type": "code",
   "execution_count": 6,
   "metadata": {},
   "outputs": [
    {
     "name": "stdout",
     "output_type": "stream",
     "text": [
      "5\n",
      "10\n",
      "   0   1   2   3   4   5   6   7   8   9\n",
      "  -1   0   1   2   3   4   5   6   7   8\n",
      "  -2  -1   0   1   2   3   4   5   6   7\n",
      "  -3  -2  -1   0   1   2   3   4   5   6\n",
      "  -4  -3  -2  -1   0   1   2   3   4   5\n"
     ]
    }
   ],
   "source": [
    "# 二維串列行列數\n",
    "def compute(rows,cols):\n",
    "    for i in range(rows):\n",
    "        for j in range(cols):\n",
    "            print('{0:>4d}'.format(j-i),end='')\n",
    "        print()\n",
    "\n",
    "rows = int(input())\n",
    "cols = int(input())\n",
    "compute(rows,cols)"
   ]
  },
  {
   "cell_type": "markdown",
   "metadata": {},
   "source": [
    "#### TQC+ 程式語言Python 607 成績計算\n",
    "1. 題目說明:\n",
    "請開啟PYD607.py檔案，依下列題意進行作答，顯示學生成績總分和平均分數，使輸出值符合題意要求。作答完成請另存新檔為PYA607.py再進行評分。\n",
    "\n",
    "2. 設計說明：\n",
    "請撰寫一程式，讓使用者輸入三位學生各五筆成績，接著再計算並輸出每位學生的總分及平均分數。\n",
    "\n",
    "提示：平均分數輸出到小數點後第二位。\n",
    "\n",
    "3. 輸入輸出：\n",
    "輸入說明\n",
    "三位學生各五筆成績\n",
    "\n",
    "輸出說明\n",
    "格式化輸出每位學生的總分及平均分數"
   ]
  },
  {
   "cell_type": "code",
   "execution_count": 1,
   "metadata": {},
   "outputs": [
    {
     "name": "stdout",
     "output_type": "stream",
     "text": [
      "The 1st student:\n",
      "1\n",
      "2\n",
      "3\n",
      "4\n",
      "5\n",
      "The 2nd student:\n",
      "1\n",
      "2\n",
      "3\n",
      "4\n",
      "5\n",
      "The 3rd student:\n",
      "1\n",
      "2\n",
      "3\n",
      "4\n",
      "5\n",
      "Student 1\n",
      "#Sum 15\n",
      "#Average 3.00\n",
      "Student 2\n",
      "#Sum 15\n",
      "#Average 3.00\n",
      "Student 3\n",
      "#Sum 15\n",
      "#Average 3.00\n"
     ]
    }
   ],
   "source": [
    "# 成績計算\n",
    "\n",
    "def compute(counter,grade):\n",
    "    return ('Student {2:d}\\n#Sum {0:d}\\n#Average {1:.2f}'.format(\\\n",
    "            sum(grade),sum(grade)/float(len(grade)),counter))\n",
    "\n",
    "def show_info(counter):\n",
    "    if counter == 1:\n",
    "        print('The 1st student:')\n",
    "    elif counter == 2:\n",
    "        print('The 2nd student:')\n",
    "    elif counter == 3:\n",
    "        print('The 3rd student:')\n",
    "    result_array = list()\n",
    "    for i in range(5):\n",
    "        num  = int(input())\n",
    "        result_array.append(num)\n",
    "    return compute(counter,result_array)\n",
    "\n",
    "result_str = ''\n",
    "for i in range(1,4):\n",
    "    if i != 3:\n",
    "        result_str += show_info(i) + '\\n'\n",
    "    else:\n",
    "        result_str += show_info(i)\n",
    "\n",
    "print(result_str)"
   ]
  },
  {
   "cell_type": "markdown",
   "metadata": {},
   "source": [
    "#### TQC+ 程式語言Python 608 最大最小值索引\n",
    "1. 題目說明:\n",
    "請開啟PYD608.py檔案，依下列題意進行作答，建立3*3矩陣並輸出矩陣最大值與最小值的索引，使輸出值符合題意要求。作答完成請另存新檔為PYA608.py再進行評分。\n",
    "\n",
    "2. 設計說明：\n",
    "請撰寫一程式，讓使用者建立一個3*3的矩陣，其內容為從鍵盤輸入的整數（不重複），接著輸出矩陣最大值與最小值的索引。\n",
    "\n",
    "3. 輸入輸出：\n",
    "輸入說明\n",
    "九個整數\n",
    "\n",
    "輸出說明\n",
    "矩陣最大值及其索引\n",
    "矩陣最小值及其索引"
   ]
  },
  {
   "cell_type": "code",
   "execution_count": 2,
   "metadata": {},
   "outputs": [
    {
     "name": "stdout",
     "output_type": "stream",
     "text": [
      "1\n",
      "2\n",
      "3\n",
      "4\n",
      "5\n",
      "6\n",
      "7\n",
      "8\n",
      "9\n",
      "Index of the largest number 9 is: (2, 2)\n",
      "Index of the smallest number 1 is: (0, 0)\n"
     ]
    }
   ],
   "source": [
    "# TQC+ 程式語言Python 608 最大最小值索引\n",
    "lst = []\n",
    "\n",
    "for i in range(9):\n",
    "    lst.append(int(input()))\n",
    "    \n",
    "maxNum = max(lst)\n",
    "maxIndex = lst.index(maxNum)\n",
    "\n",
    "print(\"Index of the largest number {:d} is: ({:d}, {:d})\"\n",
    "      .format( maxNum , maxIndex // 3 , maxIndex % 3))\n",
    "\n",
    "minNum = min(lst)\n",
    "minIndex = lst.index(minNum)\n",
    "print(\"Index of the smallest number {:d} is: ({:d}, {:d})\"\n",
    "      .format( minNum , minIndex // 3 , minIndex % 3) )"
   ]
  },
  {
   "cell_type": "markdown",
   "metadata": {},
   "source": [
    "#### TQC+ 程式語言Python 609 矩陣相加\n",
    "1. 題目說明:\n",
    "請開啟PYD609.py檔案，依下列題意進行作答，依輸入值建立2*2矩陣，並計算其相加結果，使輸出值符合題意要求。作答完成請另存新檔為PYA609.py再進行評分。\n",
    "\n",
    "2. 設計說明：\n",
    "請撰寫一程式，讓使用者建立兩個2*2的矩陣，其內容為從鍵盤輸入的整數，接著輸出這兩個矩陣的內容以及它們相加的結果。\n",
    "\n",
    "3. 輸入輸出：\n",
    "輸入說明\n",
    "兩個2*2矩陣，皆輸入整數\n",
    "\n",
    "輸出說明\n",
    "矩陣1的內容\n",
    "矩陣2的內容\n",
    "矩陣1及矩陣2相加的結果"
   ]
  },
  {
   "cell_type": "code",
   "execution_count": 3,
   "metadata": {},
   "outputs": [
    {
     "name": "stdout",
     "output_type": "stream",
     "text": [
      "Enter matrix 1:\n",
      "[1, 1]: 1\n",
      "[1, 2]: 2\n",
      "[2, 1]: 3\n",
      "[2, 2]: 4\n",
      "Enter matrix 2:\n",
      "[1, 1]: 2\n",
      "[1, 2]: 3\n",
      "[2, 1]: 4\n",
      "[2, 2]: 5\n",
      "Matrix 1:\n",
      "1 2 \n",
      "3 4 \n",
      "Matrix 2:\n",
      "2 3 \n",
      "4 5 \n",
      "Sum of 2 matrices:\n",
      "3 5 \n",
      "7 9 \n"
     ]
    }
   ],
   "source": [
    "# 矩陣相加\n",
    "mat_1 = [[0 for _ in range(2)] for _ in range(2)]\n",
    "mat_2 = [[0 for _ in range(2)] for _ in range(2)]\n",
    "\n",
    "print(\"Enter matrix 1:\")\n",
    "for i in range(2):\n",
    "    for j in range(2):\n",
    "        num1 = int(input(\"[{}, {}]: \".format(i+1,j+1)))\n",
    "        mat_1[i][j]= num1\n",
    "\n",
    "print(\"Enter matrix 2:\")\n",
    "for i in range(2):\n",
    "    for j in range(2):\n",
    "        num2 = int(input(\"[{}, {}]: \".format(i+1,j+1)))\n",
    "        mat_2[i][j]= num2\n",
    "\n",
    "print(\"Matrix 1:\")\n",
    "# 記得end=' '(一個半型空白)\n",
    "for i in range(2):\n",
    "    for j in range(2):\n",
    "        print(mat_1[i][j],end=' ')\n",
    "    print()\n",
    "print(\"Matrix 2:\")\n",
    "for i in range(2):\n",
    "    for j in range(2):\n",
    "        print(mat_2[i][j],end=' ')\n",
    "    print()\n",
    "print(\"Sum of 2 matrices:\")\n",
    "for i in range(2):\n",
    "    for j in range(2):\n",
    "        print(mat_1[i][j]+mat_2[i][j],end=' ')\n",
    "    print()\n"
   ]
  },
  {
   "cell_type": "markdown",
   "metadata": {},
   "source": [
    "#### TQC+ 程式語言Python 610 平均溫度\n",
    "1. 題目說明:\n",
    "請開啟PYD610.py檔案，依下列題意進行作答，依輸入值計算四週的平均溫度及最高、最低溫度，使輸出值符合題意要求。作答完成請另存新檔為PYA610.py再進行評分。\n",
    "\n",
    "2. 設計說明：\n",
    "請撰寫一程式，讓使用者輸入四週各三天的溫度，接著計算並輸出這四週的平均溫度及最高、最低溫度。\n",
    "\n",
    "提示1：平均溫度輸出到小數點後第二位。\n",
    "提示2：最高溫度及最低溫度的輸出，如為31時，則輸出31，如為31.1時，則輸出31.1。\n",
    "\n",
    "3. 輸入輸出：\n",
    "輸入說明\n",
    "四週各三天的溫度\n",
    "\n",
    "輸出說明\n",
    "平均溫度\n",
    "最高溫度\n",
    "最低溫度"
   ]
  },
  {
   "cell_type": "code",
   "execution_count": 4,
   "metadata": {},
   "outputs": [
    {
     "name": "stdout",
     "output_type": "stream",
     "text": [
      "Week 1:\n",
      "Day 1:1\n",
      "Day 2:2\n",
      "Day 3:3\n",
      "Week 2:\n",
      "Day 1:4\n",
      "Day 2:5\n",
      "Day 3:6\n",
      "Week 3:\n",
      "Day 1:7\n",
      "Day 2:8\n",
      "Day 3:9\n",
      "Week 4:\n",
      "Day 1:1\n",
      "Day 2:2\n",
      "Day 3:3\n",
      "Average: 4.25\n",
      "Highest: 9\n",
      "Lowest: 1\n"
     ]
    }
   ],
   "source": [
    "#平均溫度\n",
    "result_array = []\n",
    "for i in range(4):\n",
    "    print('Week {}:'.format(i+1))    \n",
    "    for j in range(3):\n",
    "        #:後面沒有空白\n",
    "        num = eval(input('Day {}:'.format(j+1)))\n",
    "        result_array.append(num)\n",
    "\n",
    "print('Average: {:.2f}'.format(sum(result_array)/len(result_array)))\n",
    "print('Highest: {}'.format(max(result_array)))\n",
    "print('Lowest: {}'.format(min(result_array)))"
   ]
  }
 ],
 "metadata": {
  "kernelspec": {
   "display_name": "Python 3",
   "language": "python",
   "name": "python3"
  },
  "language_info": {
   "codemirror_mode": {
    "name": "ipython",
    "version": 3
   },
   "file_extension": ".py",
   "mimetype": "text/x-python",
   "name": "python",
   "nbconvert_exporter": "python",
   "pygments_lexer": "ipython3",
   "version": "3.7.6"
  }
 },
 "nbformat": 4,
 "nbformat_minor": 4
}
