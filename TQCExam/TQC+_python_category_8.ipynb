{
 "cells": [
  {
   "cell_type": "markdown",
   "metadata": {},
   "source": [
    "### 專案名稱:  TQC+ 程式語言Python \n",
    "### 功能描述:  第8類：字串(String)的運作\n",
    "### 版權所有: Dunk  \n",
    "### 程式撰寫: Dunk  \n",
    "### 撰寫日期：2020/07/17\n",
    "### 改版日期:  \n",
    "### 改版備註: "
   ]
  },
  {
   "cell_type": "markdown",
   "metadata": {},
   "source": [
    "#### TQC+ 程式語言Python 801 字串索引\n",
    "1. 題目說明:\n",
    "請開啟PYD801.py檔案，依下列題意進行作答，顯示每個字元的索引，使輸出值符合題意要求。作答完成請另存新檔為PYA801.py再進行評分。\n",
    "\n",
    "2. 設計說明：\n",
    "請撰寫一程式，要求使用者輸入一字串，顯示該字串每個字元的索引。\n",
    "\n",
    "3. 輸入輸出：\n",
    "輸入說明\n",
    "一個字串\n",
    "\n",
    "輸出說明\n",
    "字串每個字元的索引"
   ]
  },
  {
   "cell_type": "code",
   "execution_count": 1,
   "metadata": {},
   "outputs": [
    {
     "name": "stdout",
     "output_type": "stream",
     "text": [
      "a\n",
      "Index of 'a': 0\n"
     ]
    }
   ],
   "source": [
    "# 字串索引\n",
    "def display_index(input_str):\n",
    "    for i in range(len(input_str)):\n",
    "        print(f\"Index of '{input_str[i]}': {i}\")\n",
    "\n",
    "input_str = str(input())\n",
    "display_index(input_str)"
   ]
  },
  {
   "cell_type": "markdown",
   "metadata": {},
   "source": [
    "#### TQC+ 程式語言Python 802 字元對應\n",
    "1. 題目說明:\n",
    "請開啟PYD802.py檔案，依下列題意進行作答，顯示字串每個字元對應的ASCII碼及其總和，使輸出值符合題意要求。作答完成請另存新檔為PYA802.py再進行評分。\n",
    "\n",
    "2. 設計說明：\n",
    "請撰寫一程式，要求使用者輸入一字串，顯示該字串每個字元的對應ASCII碼及其總和。\n",
    "\n",
    "3. 輸入輸出：\n",
    "輸入說明\n",
    "一個字串\n",
    "\n",
    "輸出說明\n",
    "依序輸出字串中每個字元對應的ASCII碼\n",
    "每個字元ASCII碼的總和\n",
    "\n"
   ]
  },
  {
   "cell_type": "code",
   "execution_count": 2,
   "metadata": {},
   "outputs": [
    {
     "name": "stdout",
     "output_type": "stream",
     "text": [
      "abc\n",
      "ASCII code for 'a' is 97\n",
      "ASCII code for 'b' is 98\n",
      "ASCII code for 'c' is 99\n",
      "294\n"
     ]
    }
   ],
   "source": [
    "# 字元對應\n",
    "def print_acsii_code(input_str):\n",
    "    total_sum = 0\n",
    "    for item in input_str:    \n",
    "        print(f\"ASCII code for '{item}' is {ord(item)}\")\n",
    "        total_sum += ord(item)\n",
    "    print(str(total_sum))\n",
    "\n",
    "input_str = str(input())\n",
    "print_acsii_code(input_str)"
   ]
  },
  {
   "cell_type": "markdown",
   "metadata": {},
   "source": [
    "#### TQC+ 程式語言Python 803 倒數三個詞\n",
    "1. 題目說明:\n",
    "請開啟PYD803.py檔案，依下列題意進行作答，依輸入值取得該句子倒數三個詞，使輸出值符合題意要求。作答完成請另存新檔為PYA803.py再進行評分。\n",
    "\n",
    "2. 設計說明：\n",
    "請撰寫一程式，讓使用者輸入一個句子（至少有五個詞，以空白隔開），並輸出該句子倒數三個詞。\n",
    "\n",
    "3. 輸入輸出：\n",
    "輸入說明\n",
    "一個句子（至少五個詞，以空白隔開）\n",
    "\n",
    "輸出說明\n",
    "該句子倒數三個詞"
   ]
  },
  {
   "cell_type": "code",
   "execution_count": 3,
   "metadata": {},
   "outputs": [
    {
     "name": "stdout",
     "output_type": "stream",
     "text": [
      "a b c d e\n",
      "c d e\n"
     ]
    }
   ],
   "source": [
    "# 倒數三個詞\n",
    "def get_last_word(input_str,start_pos = -3):\n",
    "    return ' '.join(input_str.split(' ')[start_pos:])\n",
    "\n",
    "input_str = str(input())\n",
    "print(get_last_word(input_str))"
   ]
  },
  {
   "cell_type": "markdown",
   "metadata": {},
   "source": [
    "#### TQC+ 程式語言Python 804 大寫轉換\n",
    "1. 題目說明:\n",
    "請開啟PYD804.py檔案，依下列題意進行作答，將字串轉換成大寫及首字大寫，使輸出值符合題意要求。作答完成請另存新檔為PYA804.py再進行評分。\n",
    "\n",
    "2. 設計說明：\n",
    "請撰寫一程式，讓使用者輸入一字串，分別將該字串轉換成全部大寫以及每個字的第一個字母大寫。\n",
    "\n",
    "3. 輸入輸出：\n",
    "輸入說明\n",
    "一個字串\n",
    "\n",
    "輸出說明\n",
    "全部大寫\n",
    "每個字的第一個字母大寫"
   ]
  },
  {
   "cell_type": "code",
   "execution_count": 4,
   "metadata": {},
   "outputs": [
    {
     "name": "stdout",
     "output_type": "stream",
     "text": [
      "abc is good\n",
      "ABC IS GOOD\n",
      "Abc Is Good\n"
     ]
    }
   ],
   "source": [
    "# 大寫轉換\n",
    "def get_upper_case_word(input_str):\n",
    "    # 注意title用法\n",
    "    return input_str.upper(),input_str.title()\n",
    "\n",
    "input_str = str(input())\n",
    "all_upper,first_all_upper = get_upper_case_word(input_str)\n",
    "print(all_upper)\n",
    "print(first_all_upper)"
   ]
  },
  {
   "cell_type": "markdown",
   "metadata": {},
   "source": [
    "#### TQC+ 程式語言Python 805 字串輸出\n",
    "1. 題目說明:\n",
    "請開啟PYD805.py檔案，依下列題意進行作答，將字串依規則進行輸出，使輸出值符合題意要求。作答完成請另存新檔為PYA805.py再進行評分。\n",
    "\n",
    "2. 設計說明：\n",
    "請撰寫一程式，要求使用者輸入一個長度為6的字串，將此字串分別置於10個欄位的寬度的左邊、中間和右邊，並顯示這三個結果，左右皆以直線 |（Vertical bar）作為邊界。\n",
    "\n",
    "3. 輸入輸出：\n",
    "輸入說明\n",
    "一個長度為6的字串\n",
    "\n",
    "輸出說明\n",
    "格式化輸出"
   ]
  },
  {
   "cell_type": "code",
   "execution_count": 5,
   "metadata": {},
   "outputs": [
    {
     "name": "stdout",
     "output_type": "stream",
     "text": [
      "abcdef\n",
      "|abcdef    |\n",
      "|  abcdef  |\n",
      "|    abcdef|\n"
     ]
    }
   ],
   "source": [
    "# 字串輸出\n",
    "def display_result(input_str):\n",
    "    # 注意置中對齊用法 \"^\"\n",
    "    print('|{0:<10s}|\\n|{0:^10s}|\\n|{0:>10s}|'.format(input_str))\n",
    "\n",
    "input_str = str(input())\n",
    "while len(input_str) !=6:\n",
    "    input_str = str(input())    \n",
    "display_result(input_str)"
   ]
  },
  {
   "cell_type": "markdown",
   "metadata": {},
   "source": [
    "#### TQC+ 程式語言Python 806 字元次數計算\n",
    "1. 題目說明:\n",
    "請開啟PYD806.py檔案，依下列題意進行作答，計算指定字元出現的次數，使輸出值符合題意要求。作答完成請另存新檔為PYA806.py再進行評分。\n",
    "\n",
    "2. 設計說明：\n",
    "請撰寫一程式，讓使用者輸入一字串和一字元，並將此字串及字元作為參數傳遞給名為compute()的函式，此函式將回傳該字串中指定字元出現的次數，接著再輸出結果。\n",
    "\n",
    "3. 輸入輸出：\n",
    "輸入說明\n",
    "一個字串和一個字元\n",
    "\n",
    "輸出說明\n",
    "字串中指定字元出現的次數"
   ]
  },
  {
   "cell_type": "code",
   "execution_count": 6,
   "metadata": {},
   "outputs": [
    {
     "name": "stdout",
     "output_type": "stream",
     "text": [
      "abc is good a\n",
      "a\n",
      "a occurs 2 time(s)\n"
     ]
    }
   ],
   "source": [
    "# 字元次數計算\n",
    "\n",
    "def compute(input_str,query_char):\n",
    "    return input_str.count(query_char)\n",
    "\n",
    "input_str = str(input())\n",
    "query_char = input()\n",
    "print('{} occurs {} time(s)'.format(query_char,compute(input_str,query_char)))\n"
   ]
  },
  {
   "cell_type": "markdown",
   "metadata": {},
   "source": [
    "#### TQC+ 程式語言Python 807 字串加總\n",
    "1. 題目說明:\n",
    "請開啟PYD807.py檔案，依下列題意進行作答，計算數字加總並計算平均，使輸出值符合題意要求。作答完成請另存新檔為PYA807.py再進行評分。\n",
    "\n",
    "2. 設計說明：\n",
    "請撰寫一程式，要求使用者輸入一字串，該字串為五個數字，以空白隔開。請將此五個數字加總（Total）並計算平均（Average）。\n",
    "\n",
    "3. 輸入輸出：\n",
    "輸入說明\n",
    "一個字串（五個數字，以空白隔開）\n",
    "\n",
    "輸出說明\n",
    "總合\n",
    "平均 (輸出浮點數到小數點後第一位)"
   ]
  },
  {
   "cell_type": "code",
   "execution_count": 7,
   "metadata": {},
   "outputs": [
    {
     "name": "stdout",
     "output_type": "stream",
     "text": [
      "1 2 3 4 5\n",
      "Total = 15\n",
      "Average = 3.0\n"
     ]
    }
   ],
   "source": [
    "# 字串加總\n",
    "while True:\n",
    "    input_str = str(input())\n",
    "    #注意用法\n",
    "    num_arr = list(map(int,input_str.split(' ')))\n",
    "    if len(num_arr) == 5:\n",
    "        print(\"Total = {}\".format(sum(num_arr)))\n",
    "        print(\"Average = {:.1f}\".format(sum(num_arr)/float(len(num_arr))))\n",
    "        break"
   ]
  },
  {
   "cell_type": "markdown",
   "metadata": {},
   "source": [
    "#### TQC+ 程式語言Python 808 社會安全碼\n",
    "1. 題目說明:\n",
    "請開啟PYD808.py檔案，依下列題意進行作答，進行社會安全碼格式檢查，使輸出值符合題意要求。作答完成請另存新檔為PYA808.py再進行評分。\n",
    "\n",
    "2. 設計說明：\n",
    "請撰寫一程式，提示使用者輸入一個社會安全碼SSN，格式為ddd-dd-dddd，d表示數字。若格式完全符合（正確的SSN）則顯示【Valid SSN】，否則顯示【Invalid SSN】。\n",
    "\n",
    "3. 輸入輸出：\n",
    "輸入說明\n",
    "一個字串（格式為ddd-dd-dddd，d表示數字）\n",
    "\n",
    "輸出說明\n",
    "判斷是否符合SSN格式"
   ]
  },
  {
   "cell_type": "code",
   "execution_count": 9,
   "metadata": {},
   "outputs": [
    {
     "name": "stdout",
     "output_type": "stream",
     "text": [
      "123-45-6789\n",
      "Valid SSN\n"
     ]
    }
   ],
   "source": [
    "# 社會安全碼\n",
    "import re\n",
    "code_pattern = re.compile('\\d{3,3}-\\d{2,2}-\\d{4,4}')\n",
    "input_value = input()\n",
    "if code_pattern.match(input_value):\n",
    "    print('Valid SSN')\n",
    "else:\n",
    "    print('Invalid SSN')"
   ]
  },
  {
   "cell_type": "markdown",
   "metadata": {},
   "source": [
    "#### TQC+ 程式語言Python 809 密碼規則\n",
    "1. 題目說明:\n",
    "請開啟PYD809.py檔案，依下列題意進行作答，檢查密碼是否符合規則，使輸出值符合題意要求。作答完成請另存新檔為PYA809.py再進行評分。\n",
    "\n",
    "2. 設計說明：\n",
    "請撰寫一程式，要求使用者輸入一個密碼（字串），檢查此密碼是否符合規則。密碼規則如下：\n",
    "　a. 必須至少八個字元。\n",
    "　b. 只包含英文字母和數字。\n",
    "　c. 至少要有一個大寫英文字母。\n",
    "　d. 若符合上述三項規則，程式將顯示檢查結果為【Valid password】，否則顯示【Invalid password】。\n",
    "\n",
    "3. 輸入輸出：\n",
    "輸入說明\n",
    "一個字串\n",
    "\n",
    "輸出說明\n",
    "判斷是否符合密碼規則"
   ]
  },
  {
   "cell_type": "code",
   "execution_count": 10,
   "metadata": {},
   "outputs": [
    {
     "name": "stdout",
     "output_type": "stream",
     "text": [
      "39Gfjkd98\n",
      "Valid password\n"
     ]
    }
   ],
   "source": [
    "# 密碼規則\n",
    "def check_password(input_str):\n",
    "    is_upper = 0\n",
    "    for k in input_str:\n",
    "        if k.isupper():\n",
    "            is_upper = 1\n",
    "    if len(input_str)> 8 and input_str.isalnum() and is_upper == 1:\n",
    "        return True\n",
    "    else:\n",
    "        return False\n",
    "\n",
    "input_pwd = input()\n",
    "\n",
    "if check_password(input_pwd):\n",
    "    print('Valid password')\n",
    "else:\n",
    "    print('Invalid password')"
   ]
  },
  {
   "cell_type": "markdown",
   "metadata": {},
   "source": [
    "#### TQC+ 程式語言Python 810 最大值與最小值之差\n",
    "1. 題目說明:\n",
    "請開啟PYD810.py檔案，依下列題意進行作答，找出串列數字中最大值和最小值之間的差，使輸出值符合題意要求。作答完成請另存新檔為PYA810.py再進行評分。\n",
    "\n",
    "2. 設計說明：\n",
    "請撰寫一程式，首先要求使用者輸入正整數k（1 <= k <= 100），代表有k筆測試資料。每一筆測試資料是一串數字，每個數字之間以一空白區隔，請找出此串列數字中最大值和最小值之間的差。\n",
    "\n",
    "提示：差值輸出到小數點後第二位。\n",
    "\n",
    "3. 輸入輸出：\n",
    "輸入說明\n",
    "先輸入測試資料的筆數，再輸入每一筆測試資料（一串數字，每個數字之間以空白區隔）\n",
    "\n",
    "輸出說明\n",
    "每個串列數字中，最大值和最小值之間的差"
   ]
  },
  {
   "cell_type": "code",
   "execution_count": 11,
   "metadata": {},
   "outputs": [
    {
     "name": "stdout",
     "output_type": "stream",
     "text": [
      "1\n",
      "2 3\n",
      "1.00\n"
     ]
    }
   ],
   "source": [
    "# 最大值與最小值之差\n",
    "def print_differ(num_array):\n",
    "    print(f\"{max(num_array)-min(num_array):.2f}\")\n",
    "\n",
    "test_num = int(input())\n",
    "for i in range(test_num):\n",
    "    num_array = list(map(float,input().split(' ')))\n",
    "    print_differ(num_array)"
   ]
  }
 ],
 "metadata": {
  "kernelspec": {
   "display_name": "Python 3",
   "language": "python",
   "name": "python3"
  },
  "language_info": {
   "codemirror_mode": {
    "name": "ipython",
    "version": 3
   },
   "file_extension": ".py",
   "mimetype": "text/x-python",
   "name": "python",
   "nbconvert_exporter": "python",
   "pygments_lexer": "ipython3",
   "version": "3.7.6"
  }
 },
 "nbformat": 4,
 "nbformat_minor": 4
}
