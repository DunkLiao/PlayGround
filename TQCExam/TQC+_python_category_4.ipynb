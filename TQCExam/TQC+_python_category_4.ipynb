{
 "cells": [
  {
   "cell_type": "markdown",
   "metadata": {},
   "source": [
    "### 專案名稱:  TQC+ 程式語言Python \n",
    "### 功能描述: 第4類：進階控制流程\n",
    "### 版權所有: Dunk  \n",
    "### 程式撰寫: Dunk  \n",
    "### 撰寫日期：2020/07/14\n",
    "### 改版日期:  \n",
    "### 改版備註: "
   ]
  },
  {
   "cell_type": "markdown",
   "metadata": {},
   "source": [
    "#### TQC+ 程式語言Python 401 最小值\n",
    "1. 題目說明:\n",
    "請開啟PYD401.py檔案，依下列題意進行作答，使輸出值符合題意要求。作答完成請另存新檔為PYA401.py再進行評分。\n",
    "\n",
    "2. 設計說明：\n",
    "請撰寫一程式，由使用者輸入十個數字，然後找出其最小值，最後輸出最小值。\n",
    "\n",
    "3. 輸入輸出：\n",
    "輸入說明\n",
    "十個數值\n",
    "\n",
    "輸出說明\n",
    "十個數值中的最小值"
   ]
  },
  {
   "cell_type": "code",
   "execution_count": 1,
   "metadata": {},
   "outputs": [
    {
     "name": "stdout",
     "output_type": "stream",
     "text": [
      "321\n",
      "4231\n",
      "352\n",
      "34\n",
      "2\n",
      "4534\n",
      "6\n",
      "43534\n",
      "6\n",
      "87\n",
      "2\n"
     ]
    }
   ],
   "source": [
    "# 最小值\n",
    "result_array = []\n",
    "for i in range(10):\n",
    "    result_array.append(int(input()))\n",
    "print(sorted(result_array)[0])"
   ]
  },
  {
   "cell_type": "markdown",
   "metadata": {},
   "source": [
    "#### TQC+ 程式語言Python 402 不定數迴圈-最小值\n",
    "1. 題目說明:\n",
    "請開啟PYD402.py檔案，依下列題意進行作答，使輸出值符合題意要求。作答完成請另存新檔為PYA402.py再進行評分。\n",
    "\n",
    "2. 設計說明：\n",
    "請撰寫一程式，讓使用者輸入數字，輸入的動作直到輸入值為9999才結束，然後找出其最小值，並輸出最小值。\n",
    "\n",
    "3. 輸入輸出：\n",
    "輸入說明\n",
    "n個數值，直至9999結束輸入\n",
    "\n",
    "輸出說明\n",
    "n個數值中的最小值"
   ]
  },
  {
   "cell_type": "code",
   "execution_count": 2,
   "metadata": {},
   "outputs": [
    {
     "name": "stdout",
     "output_type": "stream",
     "text": [
      "2\n",
      "3\n",
      "4\n",
      "9999\n",
      "2\n"
     ]
    }
   ],
   "source": [
    "# 不定數迴圈-最小值\n",
    "input_value = eval(input())\n",
    "result_array = [input_value]\n",
    "while input_value != 9999:\n",
    "    input_value = eval(input())\n",
    "    result_array.append(input_value)\n",
    "if len(result_array) == 1:\n",
    "    print()\n",
    "else:\n",
    "    print(sorted(result_array)[0])"
   ]
  },
  {
   "cell_type": "markdown",
   "metadata": {},
   "source": [
    "#### TQC+ 程式語言Python 403 倍數總和計算\n",
    "403. 倍數總和計算\n",
    "1. 題目說明:\n",
    "請開啟PYD403.py檔案，依下列題意進行作答，使輸出值符合題意要求。作答完成請另存新檔為PYA403.py再進行評分。\n",
    "\n",
    "2. 設計說明：\n",
    "請撰寫一程式，讓使用者輸入兩個正整數a、b（a<=b），輸出從a到b（包含a和b）之間4或9的倍數（一列輸出十個數字、欄寬為4、靠左對齊）以及倍數之個數、總和。\n",
    "\n",
    "3. 輸入輸出：\n",
    "輸入說明\n",
    "兩個正整數a、b（a<=b）\n",
    "\n",
    "輸出說明\n",
    "格式化輸出兩個正整數之間4或9之倍數（包含a和b）\n",
    "倍數個數\n",
    "倍數總合"
   ]
  },
  {
   "cell_type": "code",
   "execution_count": 3,
   "metadata": {},
   "outputs": [
    {
     "name": "stdout",
     "output_type": "stream",
     "text": [
      "5\n",
      "55\n",
      "8   9   12  16  18  20  24  27  28  32  \n",
      "36  40  44  45  48  52  54  \n",
      "17\n",
      "513\n"
     ]
    }
   ],
   "source": [
    "# 倍數總和計算\n",
    "def get_display_result(start_num,end_num):\n",
    "    '倍數總和計算'\n",
    "    counter = 0\n",
    "    result_str = ''\n",
    "    result_sum = 0\n",
    "    for i in range(start_num,end_num+1):\n",
    "        if i % 4 == 0 or i % 9 == 0:\n",
    "            result_str += '{0:<4d}'.format(i)\n",
    "            result_sum += i\n",
    "            counter += 1\n",
    "            if counter % 10 == 0:\n",
    "                result_str += '\\n'\n",
    "    print(result_str)\n",
    "    print(counter)\n",
    "    print(result_sum)\n",
    "\n",
    "start_num = int(input())\n",
    "end_num = int(input())\n",
    "get_display_result(start_num,end_num)"
   ]
  }
 ],
 "metadata": {
  "kernelspec": {
   "display_name": "Python 3",
   "language": "python",
   "name": "python3"
  },
  "language_info": {
   "codemirror_mode": {
    "name": "ipython",
    "version": 3
   },
   "file_extension": ".py",
   "mimetype": "text/x-python",
   "name": "python",
   "nbconvert_exporter": "python",
   "pygments_lexer": "ipython3",
   "version": "3.7.6"
  }
 },
 "nbformat": 4,
 "nbformat_minor": 4
}
