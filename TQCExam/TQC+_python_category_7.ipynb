{
 "cells": [
  {
   "cell_type": "markdown",
   "metadata": {},
   "source": [
    "### 專案名稱:  TQC+ 程式語言Python \n",
    "### 功能描述:  第7類：數組（Tuple）、集合（Set）以及詞典（Dictionary）\n",
    "### 版權所有: Dunk  \n",
    "### 程式撰寫: Dunk  \n",
    "### 撰寫日期：2020/07/16\n",
    "### 改版日期:  \n",
    "### 改版備註: "
   ]
  },
  {
   "cell_type": "markdown",
   "metadata": {},
   "source": [
    "#### TQC+ 程式語言Python 701 串列數組轉換\n",
    "1. 題目說明:\n",
    "請開啟PYD701.py檔案，依下列題意進行作答，將串列轉為數組，使輸出值符合題意要求。作答完成請另存新檔為PYA701.py再進行評分。\n",
    "\n",
    "2. 設計說明：\n",
    "請撰寫一程式，輸入數個整數並儲存至串列中，以輸入-9999為結束點（串列中不包含-9999），再將此串列轉換成數組，最後顯示該數組以及其長度（Length）、最大值（Max）、最小值（Min）、總和（Sum）。\n",
    "\n",
    "3. 輸入輸出：\n",
    "輸入說明\n",
    "n個整數，直至-9999結束輸入\n",
    "\n",
    "輸出說明\n",
    "數組\n",
    "數組的長度\n",
    "數組中的最大值\n",
    "數組中的最小值\n",
    "數組內的整數總和"
   ]
  },
  {
   "cell_type": "code",
   "execution_count": 1,
   "metadata": {},
   "outputs": [
    {
     "name": "stdout",
     "output_type": "stream",
     "text": [
      "1\n",
      "2\n",
      "3\n",
      "-9999\n",
      "(1, 2, 3)\n",
      "Length: 3\n",
      "Max: 3\n",
      "Min: 1\n",
      "Sum: 6\n"
     ]
    }
   ],
   "source": [
    "# 串列數組轉換\n",
    "result_array = []\n",
    "while True:\n",
    "    input_value = int(input())\n",
    "    if input_value == -9999:\n",
    "        break\n",
    "    result_array.append(input_value)\n",
    "\n",
    "result_tuple = tuple(result_array)\n",
    "print(result_tuple)\n",
    "print('Length: {}'.format(len(result_tuple)))\n",
    "print('Max: {}'.format(max(result_tuple)))\n",
    "print('Min: {}'.format(min(result_tuple)))\n",
    "print('Sum: {}'.format(sum(result_tuple)))"
   ]
  },
  {
   "cell_type": "markdown",
   "metadata": {},
   "source": [
    "#### TQC+ 程式語言Python 702 數組合併排序\n",
    "1. 題目說明:\n",
    "請開啟PYD702.py檔案，依下列題意進行作答，將兩數組合併並進行排序，使輸出值符合題意要求。作答完成請另存新檔為PYA702.py再進行評分。\n",
    "\n",
    "2. 設計說明：\n",
    "請撰寫一程式，輸入並建立兩組數組，各以-9999為結束點（數組中不包含-9999）。將此兩數組合併並從小到大排序之，顯示排序前的數組和排序後的串列。\n",
    "\n",
    "3. 輸入輸出：\n",
    "輸入說明\n",
    "兩個數組，直至-9999結束輸入\n",
    "\n",
    "輸出說明\n",
    "排序前的數組\n",
    "排序後的串列"
   ]
  },
  {
   "cell_type": "code",
   "execution_count": 2,
   "metadata": {},
   "outputs": [
    {
     "name": "stdout",
     "output_type": "stream",
     "text": [
      "Create tuple1:\n",
      "1\n",
      "2\n",
      "-9999\n",
      "Create tuple2:\n",
      "99\n",
      "45\n",
      "-9999\n",
      "Combined tuple before sorting: (1, 2, 99, 45)\n",
      "Combined list after sorting: [1, 2, 45, 99]\n"
     ]
    }
   ],
   "source": [
    "# 數組合併排序\n",
    "list1,list2 = list(),list()\n",
    "\n",
    "print(\"Create tuple1:\")\n",
    "while True:\n",
    "    input_value = int(input())\n",
    "    if input_value == -9999:\n",
    "        break\n",
    "    list1.append(input_value)\n",
    "\n",
    "tup1 = tuple(list1)\n",
    "\n",
    "print(\"Create tuple2:\")\n",
    "while True:\n",
    "    input_value = int(input())\n",
    "    if input_value == -9999:\n",
    "        break\n",
    "    list2.append(input_value)\n",
    "\n",
    "tup2 = tuple(list2)\n",
    "print('Combined tuple before sorting: {}'.format(tup1+tup2))\n",
    "print('Combined list after sorting: {}'.format(sorted(list1+list2)))"
   ]
  },
  {
   "cell_type": "markdown",
   "metadata": {},
   "source": [
    "#### TQC+ 程式語言Python 703 數組條件判斷\n",
    "1. 題目說明:\n",
    "請開啟PYD703.py檔案，依下列題意進行作答，輸入字串至數組並進行條件判斷，使輸出值符合題意要求。作答完成請另存新檔為PYA703.py再進行評分。\n",
    "\n",
    "2. 設計說明：\n",
    "請撰寫一程式，輸入一些字串至數組（至少輸入五個字串），以字串\"end\"為結束點（數組中不包含字串\"end\"）。接著輸出該數組，再分別顯示該數組的第一個元素到第三個元素和倒數三個元素。\n",
    "\n",
    "3. 輸入輸出：\n",
    "輸入說明\n",
    "至少輸入五個字串至數組，直至end結束輸入\n",
    "\n",
    "輸出說明\n",
    "數組\n",
    "該數組的前三個元素\n",
    "該數組最後三個元素"
   ]
  },
  {
   "cell_type": "code",
   "execution_count": 3,
   "metadata": {},
   "outputs": [
    {
     "name": "stdout",
     "output_type": "stream",
     "text": [
      "a\n",
      "b\n",
      "c\n",
      "d\n",
      "e\n",
      "end\n",
      "('a', 'b', 'c', 'd', 'e')\n",
      "('a', 'b', 'c')\n",
      "('c', 'd', 'e')\n"
     ]
    }
   ],
   "source": [
    "# 數組條件判斷\n",
    "list1 = []\n",
    "while len(list1) < 5:\n",
    "    while True:\n",
    "        num = str(input())\n",
    "        if num == 'end':\n",
    "            break\n",
    "        list1.append(num)\n",
    "\n",
    "tup1 = tuple(list1)\n",
    "print(tup1)\n",
    "print(tup1[:3])\n",
    "print(tup1[-3:])\n",
    "    "
   ]
  },
  {
   "cell_type": "markdown",
   "metadata": {},
   "source": [
    "#### TQC+ 程式語言Python 704 集合條件判斷\n",
    "1. 題目說明:\n",
    "請開啟PYD704.py檔案，依下列題意進行作答，將整數儲存至集合（set）中並進行條件判斷，使輸出值符合題意要求。作答完成請另存新檔為PYA704.py再進行評分。\n",
    "\n",
    "2. 設計說明：\n",
    "請撰寫一程式，輸入數個整數並儲存至集合，以輸入-9999為結束點（集合中不包含-9999），最後顯示該集合的長度（Length）、最大值（Max）、最小值（Min）、總和（Sum）。\n",
    "\n",
    "3. 輸入輸出：\n",
    "輸入說明\n",
    "輸入n個整數至集合，直至-9999結束輸入\n",
    "\n",
    "輸出說明\n",
    "集合的長度\n",
    "集合中的最大值\n",
    "集合中的最小值\n",
    "集合內的整數總和"
   ]
  },
  {
   "cell_type": "code",
   "execution_count": 4,
   "metadata": {},
   "outputs": [
    {
     "name": "stdout",
     "output_type": "stream",
     "text": [
      "1\n",
      "2\n",
      "3\n",
      "-9999\n",
      "Length: 3\n",
      "Max: 3\n",
      "Min: 1\n",
      "Sum: 6\n"
     ]
    }
   ],
   "source": [
    "# 集合條件判斷\n",
    "list1 = []\n",
    "while True:\n",
    "    num = int(input())\n",
    "    if num == -9999:\n",
    "        break\n",
    "    list1.append(num)\n",
    "\n",
    "set_result = set(list1)\n",
    "\n",
    "print('Length: {}'.format(len(set_result)))\n",
    "print('Max: {}'.format(max(set_result)))\n",
    "print('Min: {}'.format(min(set_result)))\n",
    "print('Sum: {}'.format(sum(set_result)))"
   ]
  },
  {
   "cell_type": "markdown",
   "metadata": {},
   "source": [
    "#### TQC+ 程式語言Python 705 子集合與超集合\n",
    "1. 題目說明:\n",
    "請開啟PYD705.py檔案，依下列題意進行作答，將整數各自儲存至三個集合中並進行條件判斷，使輸出值符合題意要求。作答完成請另存新檔為PYA705.py再進行評分。\n",
    "\n",
    "2. 設計說明：\n",
    "請撰寫一程式，依序輸入五個、三個、九個整數，並各自儲存到集合set1、set2、set3中。接著回答：set2是否為set1的子集合（subset）？set3是否為set1的超集合（superset）？\n",
    "\n",
    "3. 輸入輸出：\n",
    "輸入說明\n",
    "依序分別輸入五個、三個、九個整數\n",
    "\n",
    "輸出說明\n",
    "顯示回覆：\n",
    "set2是否為set1的子集合（subset）？\n",
    "set3是否為set1的超集合（superset）？"
   ]
  },
  {
   "cell_type": "code",
   "execution_count": 5,
   "metadata": {},
   "outputs": [
    {
     "name": "stdout",
     "output_type": "stream",
     "text": [
      "Input to set1:\n",
      "1\n",
      "2\n",
      "3\n",
      "4\n",
      "5\n",
      "Input to set2:\n",
      "1\n",
      "2\n",
      "3\n",
      "Input to set3:\n",
      "1\n",
      "2\n",
      "3\n",
      "4\n",
      "5\n",
      "6\n",
      "7\n",
      "8\n",
      "9\n",
      "set2 is subset of set1: True\n",
      "set3 is superset of set1: True\n"
     ]
    }
   ],
   "source": [
    "# 子集合與超集合\n",
    "list1,list2,list3 = list(),list(),list()\n",
    "\n",
    "print(\"Input to set1:\")\n",
    "\n",
    "for i in range(5):\n",
    "    num = int(input())\n",
    "    list1.append(num)\n",
    "set1 = set(list1)\n",
    "\n",
    "print(\"Input to set2:\")\n",
    "for i in range(3):\n",
    "    num = int(input())\n",
    "    list2.append(num)\n",
    "set2 = set(list2)\n",
    "\n",
    "print(\"Input to set3:\")\n",
    "for i in range(9):\n",
    "    num = int(input())\n",
    "    list3.append(num)\n",
    "set3 = set(list3)\n",
    "\n",
    "#注意:後面沒有空格\n",
    "print(\"set2 is subset of set1:\" ,set2.issubset(set1))\n",
    "print(\"set3 is superset of set1:\" , set3.issuperset(set1))"
   ]
  }
 ],
 "metadata": {
  "kernelspec": {
   "display_name": "Python 3",
   "language": "python",
   "name": "python3"
  },
  "language_info": {
   "codemirror_mode": {
    "name": "ipython",
    "version": 3
   },
   "file_extension": ".py",
   "mimetype": "text/x-python",
   "name": "python",
   "nbconvert_exporter": "python",
   "pygments_lexer": "ipython3",
   "version": "3.7.6"
  }
 },
 "nbformat": 4,
 "nbformat_minor": 4
}
