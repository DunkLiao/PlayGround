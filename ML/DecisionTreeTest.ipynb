{
 "cells": [
  {
   "cell_type": "code",
   "execution_count": 1,
   "metadata": {},
   "outputs": [
    {
     "name": "stdout",
     "output_type": "stream",
     "text": [
      "<class 'pandas.core.frame.DataFrame'>\n",
      "RangeIndex: 150 entries, 0 to 149\n",
      "Data columns (total 4 columns):\n",
      " #   Column             Non-Null Count  Dtype  \n",
      "---  ------             --------------  -----  \n",
      " 0   sepal length (cm)  150 non-null    float64\n",
      " 1   sepal width (cm)   150 non-null    float64\n",
      " 2   petal length (cm)  150 non-null    float64\n",
      " 3   petal width (cm)   150 non-null    float64\n",
      "dtypes: float64(4)\n",
      "memory usage: 4.8 KB\n"
     ]
    }
   ],
   "source": [
    "#  Import lib\n",
    "from sklearn.tree import DecisionTreeClassifier\n",
    "from sklearn.tree import export_graphviz\n",
    "from sklearn.datasets import load_iris\n",
    "import pydotplus\n",
    "import pandas as pd\n",
    "import numpy as np\n",
    "import random\n",
    "#  載入資料\n",
    "iris = load_iris()\n",
    "X = iris.data\n",
    "y = iris.target\n",
    "\n",
    "#  資料轉入pandas\n",
    "df = pd.DataFrame(data=X, columns=iris.feature_names)\n",
    "\n",
    "#  確認資料狀況\n",
    "df.head()\n",
    "\n",
    "#  檢查dataframe資訊\n",
    "df.info()\n",
    "\n",
    "#  訓練模型\n",
    "tree = DecisionTreeClassifier(criterion='entropy',\n",
    "                                splitter='best',\n",
    "                                random_state=150)\n",
    "tree.fit(X, y)\n",
    "\n",
    "#  產生樹狀圖\n",
    "dot_data = export_graphviz(tree, out_file=None, \n",
    "                         feature_names=iris.feature_names,  \n",
    "                         class_names=iris.target_names,  \n",
    "                         filled=True, rounded=True,  \n",
    "                         special_characters=True) \n",
    "graph = pydotplus.graph_from_dot_data(dot_data)\n",
    "#  產生png檔\n",
    "graph.write_png('sample_tree.png')\n",
    "\n",
    "#  將特徵權重排序之後寫入dict\n",
    "feature_importances_ = {}\n",
    "_feat_labels = iris.feature_names\n",
    "_importances = tree.feature_importances_\n",
    "\n",
    "# 取得特徵權重排序的索引值\n",
    "indices = np.argsort(_importances)[::-1]\n",
    "\n",
    "for f in range(X.shape[1]):\n",
    "    feature_importances_.update({_feat_labels[indices[f]]: _importances[indices[f]]})\n",
    "\n",
    "#  確認特徵權重\n",
    "feature_importances_\n",
    "\n",
    "#  寫入excel，手動試算一次\n",
    "writer = pd.ExcelWriter('output.xlsx')\n",
    "df.to_excel(writer,'Sheet1')\n",
    "writer.save()"
   ]
  }
 ],
 "metadata": {
  "kernelspec": {
   "display_name": "Python 3",
   "language": "python",
   "name": "python3"
  },
  "language_info": {
   "codemirror_mode": {
    "name": "ipython",
    "version": 3
   },
   "file_extension": ".py",
   "mimetype": "text/x-python",
   "name": "python",
   "nbconvert_exporter": "python",
   "pygments_lexer": "ipython3",
   "version": "3.7.6"
  }
 },
 "nbformat": 4,
 "nbformat_minor": 2
}
