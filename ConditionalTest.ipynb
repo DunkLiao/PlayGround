{
 "cells": [
  {
   "cell_type": "markdown",
   "metadata": {},
   "source": [
    "<img src=\"http://2.bp.blogspot.com/-H2m-BFydExw/Wkc9gJQE8GI/AAAAAAAAcZI/pJhLUIEj9zMe2fmVsQuK2UWFbrVagaongCK4BGAYYCw/s0/%25E6%2588%2590%25E5%258A%259F%25E9%2581%258E%25E7%25A8%258B.png\"\n",
    "style=\"width:100px;height:100px;float:left\"><br/><br/><br/><br/><br/>  \n",
    "### 專案名稱: python測試  \n",
    "### 功能描述: 條件控制測試\n",
    "### 版權所有: Dunk  \n",
    "### 程式撰寫: Dunk  \n",
    "### 參考網址: https://www.runoob.com/python3/python3-conditional-statements.html\n",
    "### 撰寫日期：2020/02/17\n",
    "### 改版日期:  \n",
    "### 改版備註:  "
   ]
  },
  {
   "cell_type": "code",
   "execution_count": 2,
   "metadata": {},
   "outputs": [
    {
     "name": "stdout",
     "output_type": "stream",
     "text": [
      "enter if\n"
     ]
    }
   ],
   "source": [
    "'''控制條件測試'''\n",
    "var1 = \"look\"\n",
    "if var1 == \"look\":\n",
    "    print('enter if')\n",
    "elif var1==\"22\":\n",
    "    print('enter elif')\n",
    "else:\n",
    "    print('enter else')"
   ]
  },
  {
   "cell_type": "code",
   "execution_count": 20,
   "metadata": {},
   "outputs": [
    {
     "name": "stdout",
     "output_type": "stream",
     "text": [
      "enter and\n",
      "Enter Exception AND\n",
      "<class 'TypeError'>\n",
      "enter or\n"
     ]
    }
   ],
   "source": [
    "'''加入邏輯判斷'''\n",
    "var1 = \"A\"\n",
    "var2 = \"B\"\n",
    "if var1 == \"A\" and var2 == \"B\":\n",
    "    print('enter and')\n",
    "try:\n",
    "    if var1 == \"A\" & var2 == \"B\":\n",
    "        print('enter boolean and')\n",
    "except Exception as e:\n",
    "    print('Enter Exception AND')\n",
    "    print(type(e))\n",
    "var1 = 3\n",
    "var2 = 4\n",
    "if var1 == 3 or var2 == 4:\n",
    "    print('enter or')\n",
    "try:    \n",
    "    if var1 == 3 | var2 == 4:\n",
    "        print('enter boolean or')    \n",
    "except Exception as e:\n",
    "    print('Enter Exception or')\n",
    "    print(type(e))\n"
   ]
  }
 ],
 "metadata": {
  "kernelspec": {
   "display_name": "Python 3",
   "language": "python",
   "name": "python3"
  },
  "language_info": {
   "codemirror_mode": {
    "name": "ipython",
    "version": 3
   },
   "file_extension": ".py",
   "mimetype": "text/x-python",
   "name": "python",
   "nbconvert_exporter": "python",
   "pygments_lexer": "ipython3",
   "version": "3.5.4"
  }
 },
 "nbformat": 4,
 "nbformat_minor": 2
}
