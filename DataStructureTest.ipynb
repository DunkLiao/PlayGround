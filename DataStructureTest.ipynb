{
 "cells": [
  {
   "cell_type": "markdown",
   "metadata": {},
   "source": [
    "<img src=\"http://2.bp.blogspot.com/-H2m-BFydExw/Wkc9gJQE8GI/AAAAAAAAcZI/pJhLUIEj9zMe2fmVsQuK2UWFbrVagaongCK4BGAYYCw/s0/%25E6%2588%2590%25E5%258A%259F%25E9%2581%258E%25E7%25A8%258B.png\"\n",
    "style=\"width:100px;height:100px;float:left\"><br/><br/><br/><br/><br/>  \n",
    "### 專案名稱: python測試  \n",
    "### 功能描述: 資料結構測試\n",
    "### 版權所有: Dunk  \n",
    "### 程式撰寫: Dunk  \n",
    "### 參考網址: https://www.runoob.com/python3/python3-data-structure.html\n",
    "### 撰寫日期：2020/02/18\n",
    "### 改版日期:  \n",
    "### 改版備註:  "
   ]
  },
  {
   "cell_type": "markdown",
   "metadata": {},
   "source": [
    "列表\n",
    "Python中列表是可变的，这是它区别于字符串和元组的最重要的特点，一句话概括即：列表可以修改，而字符串和元组不能。\n",
    "以下是 Python 中列表的方法：\n",
    "<table class=\"reference\">\n",
    "<tr>\n",
    "<th>方法</th>\n",
    "<th>描述</th>\n",
    "</tr>\n",
    "<tr>\n",
    "<td>list.append(x)\n",
    "</td>\n",
    "<td>把一个元素添加到列表的结尾，相当于 a[len(a):] = [x]。\n",
    "</td>\n",
    "</tr>\n",
    "\n",
    "<tr>\n",
    "<td>list.extend(L)\n",
    "</td>\n",
    "<td>通过添加指定列表的所有元素来扩充列表，相当于 a[len(a):] = L。 \n",
    "</td>\n",
    "</tr>\n",
    "\n",
    "<tr>\n",
    "<td>list.insert(i, x)\n",
    "</td>\n",
    "<td>在指定位置插入一个元素。第一个参数是准备插入到其前面的那个元素的索引，例如 a.insert(0, x) 会插入到整个列表之前，而 a.insert(len(a), x) 相当于 a.append(x) 。\n",
    "</td>\n",
    "</tr>\n",
    "<tr>\n",
    "<td>list.remove(x)\n",
    "</td>\n",
    "<td>删除列表中值为 x 的第一个元素。如果没有这样的元素，就会返回一个错误。\n",
    "</td>\n",
    "</tr>\n",
    "\n",
    "<tr>\n",
    "<td>list.pop([i])\n",
    "</td>\n",
    "<td>从列表的指定位置移除元素，并将其返回。如果没有指定索引，a.pop()返回最后一个元素。元素随即从列表中被移除。（方法中 i 两边的方括号表示这个参数是可选的，而不是要求你输入一对方括号，你会经常在 Python 库参考手册中遇到这样的标记。）\n",
    "</td>\n",
    "</tr>\n",
    "\n",
    "<tr>\n",
    "<td>list.clear()\n",
    "</td>\n",
    "<td>移除列表中的所有项，等于del a[:]。\n",
    "</td>\n",
    "</tr>\n",
    "\n",
    "<tr>\n",
    "<td>list.index(x)\n",
    "</td>\n",
    "<td>返回列表中第一个值为 x 的元素的索引。如果没有匹配的元素就会返回一个错误。\n",
    "</td>\n",
    "</tr>\n",
    "\n",
    "<tr>\n",
    "<td>list.count(x)\n",
    "</td>\n",
    "<td>返回 x 在列表中出现的次数。\n",
    "</td>\n",
    "</tr>\n",
    "\n",
    "<tr>\n",
    "<td>list.sort()\n",
    "</td>\n",
    "<td>对列表中的元素进行排序。\n",
    "</td>\n",
    "</tr>\n",
    "\n",
    "<tr>\n",
    "<td>list.reverse()\n",
    "</td>\n",
    "<td>倒排列表中的元素。\n",
    "</td>\n",
    "</tr>\n",
    "\n",
    "<tr>\n",
    "<td>list.copy()\n",
    "</td>\n",
    "<td>返回列表的浅复制，等于a[:]。\n",
    "</td>\n",
    "</tr>\n",
    "</table>"
   ]
  },
  {
   "cell_type": "code",
   "execution_count": 15,
   "metadata": {},
   "outputs": [
    {
     "name": "stdout",
     "output_type": "stream",
     "text": [
      "[1, 2, 3, 4, 5, 6, 7]\n",
      "[1, 2, 3, 4, 5, 6, 7, 99, 88, 77]\n",
      "[100, 1, 2, 3, 4, 5, 6, 7, 99, 88, 77]\n",
      "8\n",
      "[100, 1, 2, 3, 4, 5, 6, 7, 88, 77]\n",
      "[77, 88, 7, 6, 5, 4, 3, 2, 1, 100]\n",
      "[1, 2, 3, 4, 5, 6, 7, 77, 88, 100]\n",
      "[100, 88, 77, 7, 6, 5, 4, 3, 2, 1]\n",
      "[-1, 88, 77, 7, 6, 5, 4, 3, 2, 1]\n",
      "[100, 88, 77, 7, 6, 5, 4, 3, 2, 1]\n"
     ]
    }
   ],
   "source": [
    "'''測試list'''\n",
    "a = [1,2,3,4,5,6]\n",
    "a.append(7)\n",
    "print(a)\n",
    "a.extend([99,88,77])\n",
    "print(a)\n",
    "a.insert(0,100)\n",
    "print(a)\n",
    "print(a.index(99))\n",
    "a.remove(99)\n",
    "print(a)\n",
    "a.reverse()\n",
    "print(a)\n",
    "a.sort()\n",
    "print(a)\n",
    "a.reverse()\n",
    "print(a)\n",
    "#淺複製(不會修改到參考物件)\n",
    "b = a.copy()\n",
    "b[0] = -1\n",
    "print(b)\n",
    "print(a)"
   ]
  },
  {
   "cell_type": "code",
   "execution_count": 18,
   "metadata": {},
   "outputs": [
    {
     "name": "stdout",
     "output_type": "stream",
     "text": [
      "Eric\n",
      "John\n",
      "deque(['Michael', 'Terry', 'Graham'])\n"
     ]
    }
   ],
   "source": [
    "'''使用堆疊'''\n",
    "from collections import deque\n",
    "queue = deque([\"Eric\", \"John\", \"Michael\"])\n",
    "# Terry arrives\n",
    "queue.append(\"Terry\")\n",
    "# Graham arrives\n",
    "queue.append(\"Graham\")\n",
    "# The first to arrive now leaves\n",
    "print(queue.popleft())\n",
    "# The second to arrive now leaves\n",
    "print(queue.popleft())\n",
    "# Remaining queue in order of arrival\n",
    "print(queue)"
   ]
  },
  {
   "cell_type": "code",
   "execution_count": 28,
   "metadata": {},
   "outputs": [
    {
     "name": "stdout",
     "output_type": "stream",
     "text": [
      "[[0, 0], [1, 1], [2, 4], [3, 9], [4, 16], [5, 25], [6, 36], [7, 49], [8, 64], [9, 81]]\n",
      "[[1, 1], [3, 9], [5, 25], [7, 49], [9, 81]]\n",
      "[[0, 0], [2, 4], [4, 16], [6, 36], [8, 64]]\n",
      "[8, 6, -18, 16, 12, -36, 24, 18, -54]\n",
      "[6, 5, -7, 8, 7, -5, 10, 9, -3]\n",
      "[8, 12, -54]\n"
     ]
    }
   ],
   "source": [
    "# 列表推导式\n",
    "# 列表推导式提供了从序列创建列表的简单途径。通常应用程序将一些操作应用于某个序列的每个元素，用其获得的结果作为生成新列表的元素，\n",
    "# 或者根据确定的判定条件创建子序列。\n",
    "# 每个列表推导式都在 for 之后跟一个表达式，然后有零到多个 for 或 if 子句。返回结果是一个根据表达从其后的 for 和 if 上下文环境\n",
    "# 中生成出来的列表。如果希望表达式推导出一个元组，就必须使用括号。\n",
    "import numpy as np\n",
    "test_list = [ [x,x**2] for x in np.arange(10)]\n",
    "print(test_list)\n",
    "#加入條件\n",
    "test_list_odd = [x for x in test_list if x[0]%2==1]\n",
    "print(test_list_odd)\n",
    "test_list_even = [x for x in test_list if x[0]%2==0]\n",
    "print(test_list_even)\n",
    "\n",
    "#套用兩個\n",
    "vec1 = [2, 4, 6]\n",
    "vec2 = [4, 3, -9]\n",
    "print([x*y for x in vec1 for y in vec2])\n",
    "print([x+y for x in vec1 for y in vec2])\n",
    "print([vec1[i]*vec2[i] for i in range(len(vec1))])"
   ]
  },
  {
   "cell_type": "code",
   "execution_count": 12,
   "metadata": {},
   "outputs": [
    {
     "name": "stdout",
     "output_type": "stream",
     "text": [
      "[[6 3 7]\n",
      " [4 6 9]\n",
      " [2 6 7]]\n",
      "[6, 3, 7, 4, 6, 9, 2, 6, 7]\n",
      "[1, 66.25, 333, 333, 1234.5]\n",
      "[1, 66.25, 1234.5]\n",
      "[]\n"
     ]
    }
   ],
   "source": [
    "# 嵌套列表解析\n",
    "# Python的列表还可以嵌套。\n",
    "import numpy as np\n",
    "test_array = np.random.RandomState(42).randint(10,size=(3,3))\n",
    "print(test_array)\n",
    "#轉成一維\n",
    "print([row[i] for row in test_array for i in range(len(row))])\n",
    "#del\n",
    "a = [-1, 1, 66.25, 333, 333, 1234.5]\n",
    "del a[0]\n",
    "print(a)\n",
    "del a[2:4]\n",
    "print(a)\n",
    "del a[:]\n",
    "print(a)"
   ]
  },
  {
   "cell_type": "code",
   "execution_count": 13,
   "metadata": {},
   "outputs": [
    {
     "name": "stdout",
     "output_type": "stream",
     "text": [
      "12345\n",
      "(12345, 54321, 'hello!')\n",
      "((12345, 54321, 'hello!'), (1, 2, 3, 4, 5))\n"
     ]
    }
   ],
   "source": [
    "'''元组和序列'''\n",
    "t = 12345, 54321, 'hello!'\n",
    "print(t[0])\n",
    "print(t)\n",
    "# Tuples may be nested:\n",
    "u = t, (1, 2, 3, 4, 5)\n",
    "print(u)"
   ]
  },
  {
   "cell_type": "code",
   "execution_count": 19,
   "metadata": {},
   "outputs": [
    {
     "name": "stdout",
     "output_type": "stream",
     "text": [
      "{'c', 'b', 'r', 'd', 'a'}\n",
      "{'c', 'z', 'm', 'l', 'a'}\n",
      "{'b', 'r', 'd'}\n",
      "{'r', 'z', 'd', 'c', 'm', 'l', 'b', 'a'}\n",
      "{'c', 'a'}\n",
      "{'r', 'z', 'd', 'm', 'l', 'b'}\n"
     ]
    }
   ],
   "source": [
    "'''集合'''\n",
    "# 以下演示了两个集合的操作\n",
    "\n",
    "a = set('abracadabra')\n",
    "b = set('alacazam')\n",
    "#a中唯一的字母\n",
    "print(a)\n",
    "#b中唯一的字母\n",
    "print(b)\n",
    "# 在 a 中的字母，但不在 b 中\n",
    "print(a - b)\n",
    "# 在 a 或 b 中的字母\n",
    "print(a | b)\n",
    "# 在 a 和 b 中都有的字母\n",
    "print(a & b)\n",
    "# 在 a 或 b 中的字母，但不同时在 a 和 b 中\n",
    "print(a ^ b)"
   ]
  },
  {
   "cell_type": "code",
   "execution_count": 28,
   "metadata": {},
   "outputs": [
    {
     "name": "stdout",
     "output_type": "stream",
     "text": [
      "dict_keys(['jack', 'sape'])\n",
      "dict_values([4098, 4139])\n",
      "dict_items([('jack', 4098), ('sape', 4139)])\n",
      "key:jack\tvalue:4098\n",
      "key:sape\tvalue:4139\n",
      "{'jack': 4098, 'guido': 4127, 'sape': 4139}\n",
      "{'jack': 4098, 'guido': 4127, 'sape': 4139}\n"
     ]
    }
   ],
   "source": [
    "'''字典'''\n",
    "tel = {'jack': 4098, 'sape': 4139}\n",
    "print(tel.keys())\n",
    "print(tel.values())\n",
    "print(tel.items())\n",
    "for k,v in tel.items():\n",
    "    print('key:{0}\\tvalue:{1}'.format(k,v))\n",
    "#直接建構\n",
    "print(dict([('sape', 4139), ('guido', 4127), ('jack', 4098)]))\n",
    "print(dict(sape=4139, guido=4127, jack=4098))"
   ]
  },
  {
   "cell_type": "code",
   "execution_count": 33,
   "metadata": {},
   "outputs": [
    {
     "name": "stdout",
     "output_type": "stream",
     "text": [
      "gallahad the pure\n",
      "robin the brave\n",
      "What is your name?  It is lancelot. and index is 3\n",
      "What is your quest?  It is the holy grail. and index is 4\n",
      "What is your favorite color?  It is blue. and index is 6\n",
      "9\n",
      "7\n",
      "5\n",
      "3\n",
      "1\n",
      "apple\n",
      "banana\n",
      "orange\n",
      "pear\n"
     ]
    }
   ],
   "source": [
    "'''遍立'''\n",
    "knights = {'gallahad': 'the pure', 'robin': 'the brave'}\n",
    "for k, v in knights.items():\n",
    "    print(k, v)\n",
    "#同时遍历两个或更多的序列，可以使用 zip() 组合：\n",
    "questions = ['name', 'quest', 'favorite color']\n",
    "answers = ['lancelot', 'the holy grail', 'blue']\n",
    "reindex = [3,4,6]\n",
    "for q, a,i in zip(questions, answers,reindex):\n",
    "    print('What is your {0}?  It is {1}. and index is {2}'.format(q, a, i))\n",
    "    \n",
    "# 要反向遍历一个序列，首先指定这个序列，然后调用 reversed() 函数：    \n",
    "for i in reversed(range(1, 10, 2)):\n",
    "    print(i)\n",
    "\n",
    "#要按顺序遍历一个序列，使用 sorted() 函数返回一个已排序的序列，并不修改原值：    \n",
    "basket = ['apple', 'orange', 'apple', 'pear', 'orange', 'banana']\n",
    "for f in sorted(set(basket)):\n",
    "    print(f)    "
   ]
  }
 ],
 "metadata": {
  "kernelspec": {
   "display_name": "Python 3",
   "language": "python",
   "name": "python3"
  },
  "language_info": {
   "codemirror_mode": {
    "name": "ipython",
    "version": 3
   },
   "file_extension": ".py",
   "mimetype": "text/x-python",
   "name": "python",
   "nbconvert_exporter": "python",
   "pygments_lexer": "ipython3",
   "version": "3.5.4"
  }
 },
 "nbformat": 4,
 "nbformat_minor": 2
}
