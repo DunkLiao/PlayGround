{
 "cells": [
  {
   "cell_type": "markdown",
   "metadata": {},
   "source": [
    "<img src=\"http://2.bp.blogspot.com/-H2m-BFydExw/Wkc9gJQE8GI/AAAAAAAAcZI/pJhLUIEj9zMe2fmVsQuK2UWFbrVagaongCK4BGAYYCw/s0/%25E6%2588%2590%25E5%258A%259F%25E9%2581%258E%25E7%25A8%258B.png\"\n",
    "style=\"width:100px;height:100px;float:left\"><br/><br/><br/><br/><br/>  \n",
    "### 專案名稱: python測試  \n",
    "### 功能描述: 註解測試\n",
    "### 版權所有: Dunk  \n",
    "### 程式撰寫: Dunk  \n",
    "### 參考網址: https://www.runoob.com/python3/python3-comment.html\n",
    "### 撰寫日期：2020/02/17\n",
    "### 改版日期:  \n",
    "### 改版備註:  "
   ]
  },
  {
   "cell_type": "code",
   "execution_count": null,
   "metadata": {},
   "outputs": [],
   "source": [
    "'''單行註解'''\n",
    "#這是第一行\n",
    "#這是第二行\n",
    "'''ctrl+/ for jupyter notebook 多行註解'''"
   ]
  },
  {
   "cell_type": "code",
   "execution_count": 3,
   "metadata": {},
   "outputs": [
    {
     "name": "stdout",
     "output_type": "stream",
     "text": [
      "hello world\n",
      "hello world2\n"
     ]
    }
   ],
   "source": [
    "'''多行註解'''\n",
    "'''\n",
    "我是註解\n",
    "你好\n",
    "這也是註解\n",
    "'''\n",
    "print('hello world')\n",
    "\"\"\"\n",
    "我是註解\n",
    "你好\n",
    "這也是註解\n",
    "\"\"\"\n",
    "print('hello world2')"
   ]
  },
  {
   "cell_type": "code",
   "execution_count": 1,
   "metadata": {},
   "outputs": [
    {
     "name": "stdout",
     "output_type": "stream",
     "text": [
      "这是文档字符串\n"
     ]
    }
   ],
   "source": [
    "'''輸出註解'''\n",
    "def a():\n",
    "    '''这是文档字符串'''\n",
    "    pass\n",
    "print(a.__doc__)"
   ]
  },
  {
   "cell_type": "markdown",
   "metadata": {},
   "source": [
    "# 下為範例"
   ]
  },
  {
   "cell_type": "code",
   "execution_count": 5,
   "metadata": {},
   "outputs": [
    {
     "name": "stdout",
     "output_type": "stream",
     "text": [
      "input your folder\n",
      "\n",
      "Creating play_ground_1.zip...\n",
      "Adding files in D:\\software\\WinPython\\notebooks\\play_ground\n",
      "Adding files in D:\\software\\WinPython\\notebooks\\play_ground\\.ipynb_checkpoints\n",
      "Done.\n"
     ]
    }
   ],
   "source": [
    "import zipfile\n",
    "import os\n",
    "\n",
    "def backup_folder_to_zip(folder):\n",
    "    \"\"\"將資料夾壓縮後並依序號命名\"\"\"\n",
    "    # 取得絕對路徑\n",
    "    folder = os.path.abspath(folder)\n",
    "    # 檢察壓縮檔名是否已被啟用\n",
    "    number = 1\n",
    "    while True:\n",
    "        zipfile_name = os.path.basename(folder)+'_'+str(number)+'.zip'\n",
    "        if not os.path.exists(zipfile_name):\n",
    "            break\n",
    "        number = number + 1\n",
    "\n",
    "    #建立壓縮檔\n",
    "    print('Creating %s...' % (zipfile_name))\n",
    "    backup_zip = zipfile.ZipFile(zipfile_name, 'w')\n",
    "\n",
    "    #把資料夾下檔案一一加入\n",
    "    for foldername, subfolders, filenames in os.walk(folder):\n",
    "        #增加資料夾\n",
    "        print('Adding files in %s' % (foldername))\n",
    "        backup_zip.write(foldername)\n",
    "        #增加檔案\n",
    "        for filename in filenames:\n",
    "            new_base = os.path.basename(folder)+'_'\n",
    "            if filename.startswith(new_base) and filename.endswith('.zip'):\n",
    "                continue\n",
    "            backup_zip.write(os.path.join(foldername, filename))\n",
    "    backup_zip.close()\n",
    "    print('Done.')\n",
    "\n",
    "def main():\n",
    "    \"\"\"程式進入點\"\"\"\n",
    "    print('input your folder')\n",
    "    folder = input()\n",
    "    backup_folder_to_zip(folder)\n",
    "\n",
    "main()"
   ]
  }
 ],
 "metadata": {
  "kernelspec": {
   "display_name": "Python 3",
   "language": "python",
   "name": "python3"
  },
  "language_info": {
   "codemirror_mode": {
    "name": "ipython",
    "version": 3
   },
   "file_extension": ".py",
   "mimetype": "text/x-python",
   "name": "python",
   "nbconvert_exporter": "python",
   "pygments_lexer": "ipython3",
   "version": "3.5.4"
  }
 },
 "nbformat": 4,
 "nbformat_minor": 2
}
